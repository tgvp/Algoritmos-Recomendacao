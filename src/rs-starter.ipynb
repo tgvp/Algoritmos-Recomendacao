{
 "cells": [
  {
   "cell_type": "markdown",
   "metadata": {},
   "source": [
    "# EDA"
   ]
  },
  {
   "cell_type": "code",
   "execution_count": 482,
   "metadata": {},
   "outputs": [],
   "source": [
    "import pandas as pd\n",
    "import numpy as np\n",
    "\n",
    "import matplotlib.pyplot as plt\n",
    "import plotly.express as px\n",
    "import seaborn as sns\n",
    "\n",
    "# pandas show all columns\n",
    "pd.set_option('display.max_columns', None)\n",
    "\n",
    "from scipy.spatial.distance import pdist, squareform"
   ]
  },
  {
   "cell_type": "code",
   "execution_count": 483,
   "metadata": {},
   "outputs": [
    {
     "data": {
      "text/html": [
       "<div>\n",
       "<style scoped>\n",
       "    .dataframe tbody tr th:only-of-type {\n",
       "        vertical-align: middle;\n",
       "    }\n",
       "\n",
       "    .dataframe tbody tr th {\n",
       "        vertical-align: top;\n",
       "    }\n",
       "\n",
       "    .dataframe thead th {\n",
       "        text-align: right;\n",
       "    }\n",
       "</style>\n",
       "<table border=\"1\" class=\"dataframe\">\n",
       "  <thead>\n",
       "    <tr style=\"text-align: right;\">\n",
       "      <th></th>\n",
       "      <th>User_ID</th>\n",
       "      <th>Item_1</th>\n",
       "      <th>Item_2</th>\n",
       "      <th>Item_3</th>\n",
       "      <th>Item_4</th>\n",
       "      <th>Item_5</th>\n",
       "      <th>Item_6</th>\n",
       "      <th>Item_7</th>\n",
       "      <th>Item_8</th>\n",
       "      <th>Item_9</th>\n",
       "      <th>Item_10</th>\n",
       "    </tr>\n",
       "  </thead>\n",
       "  <tbody>\n",
       "    <tr>\n",
       "      <th>0</th>\n",
       "      <td>User_1</td>\n",
       "      <td>9.0</td>\n",
       "      <td>10.0</td>\n",
       "      <td>9.0</td>\n",
       "      <td>1.0</td>\n",
       "      <td>0.0</td>\n",
       "      <td>0.0</td>\n",
       "      <td>0.0</td>\n",
       "      <td>1.0</td>\n",
       "      <td>0.0</td>\n",
       "      <td>0.0</td>\n",
       "    </tr>\n",
       "    <tr>\n",
       "      <th>1</th>\n",
       "      <td>User_2</td>\n",
       "      <td>8.0</td>\n",
       "      <td>8.0</td>\n",
       "      <td>9.0</td>\n",
       "      <td>0.0</td>\n",
       "      <td>0.0</td>\n",
       "      <td>0.0</td>\n",
       "      <td>0.0</td>\n",
       "      <td>0.0</td>\n",
       "      <td>1.0</td>\n",
       "      <td>1.0</td>\n",
       "    </tr>\n",
       "    <tr>\n",
       "      <th>2</th>\n",
       "      <td>User_3</td>\n",
       "      <td>8.0</td>\n",
       "      <td>10.0</td>\n",
       "      <td>8.0</td>\n",
       "      <td>1.0</td>\n",
       "      <td>0.0</td>\n",
       "      <td>0.0</td>\n",
       "      <td>0.0</td>\n",
       "      <td>1.0</td>\n",
       "      <td>0.0</td>\n",
       "      <td>0.0</td>\n",
       "    </tr>\n",
       "    <tr>\n",
       "      <th>3</th>\n",
       "      <td>User_4</td>\n",
       "      <td>10.0</td>\n",
       "      <td>8.0</td>\n",
       "      <td>10.0</td>\n",
       "      <td>1.0</td>\n",
       "      <td>0.0</td>\n",
       "      <td>0.0</td>\n",
       "      <td>0.0</td>\n",
       "      <td>0.0</td>\n",
       "      <td>0.0</td>\n",
       "      <td>0.0</td>\n",
       "    </tr>\n",
       "    <tr>\n",
       "      <th>4</th>\n",
       "      <td>User_5</td>\n",
       "      <td>8.0</td>\n",
       "      <td>9.0</td>\n",
       "      <td>8.0</td>\n",
       "      <td>0.0</td>\n",
       "      <td>1.0</td>\n",
       "      <td>0.0</td>\n",
       "      <td>0.0</td>\n",
       "      <td>1.0</td>\n",
       "      <td>1.0</td>\n",
       "      <td>0.0</td>\n",
       "    </tr>\n",
       "  </tbody>\n",
       "</table>\n",
       "</div>"
      ],
      "text/plain": [
       "  User_ID  Item_1  Item_2  Item_3  Item_4  Item_5  Item_6  Item_7  Item_8  \\\n",
       "0  User_1     9.0    10.0     9.0     1.0     0.0     0.0     0.0     1.0   \n",
       "1  User_2     8.0     8.0     9.0     0.0     0.0     0.0     0.0     0.0   \n",
       "2  User_3     8.0    10.0     8.0     1.0     0.0     0.0     0.0     1.0   \n",
       "3  User_4    10.0     8.0    10.0     1.0     0.0     0.0     0.0     0.0   \n",
       "4  User_5     8.0     9.0     8.0     0.0     1.0     0.0     0.0     1.0   \n",
       "\n",
       "   Item_9  Item_10  \n",
       "0     0.0      0.0  \n",
       "1     1.0      1.0  \n",
       "2     0.0      0.0  \n",
       "3     0.0      0.0  \n",
       "4     1.0      0.0  "
      ]
     },
     "execution_count": 483,
     "metadata": {},
     "output_type": "execute_result"
    }
   ],
   "source": [
    "df = pd.read_csv('../raw/ratings_matrix.csv')\n",
    "df.head()"
   ]
  },
  {
   "cell_type": "code",
   "execution_count": 484,
   "metadata": {},
   "outputs": [
    {
     "name": "stdout",
     "output_type": "stream",
     "text": [
      "<class 'pandas.core.frame.DataFrame'>\n",
      "RangeIndex: 20 entries, 0 to 19\n",
      "Data columns (total 11 columns):\n",
      " #   Column   Non-Null Count  Dtype  \n",
      "---  ------   --------------  -----  \n",
      " 0   User_ID  20 non-null     object \n",
      " 1   Item_1   20 non-null     float64\n",
      " 2   Item_2   20 non-null     float64\n",
      " 3   Item_3   20 non-null     float64\n",
      " 4   Item_4   20 non-null     float64\n",
      " 5   Item_5   20 non-null     float64\n",
      " 6   Item_6   20 non-null     float64\n",
      " 7   Item_7   20 non-null     float64\n",
      " 8   Item_8   20 non-null     float64\n",
      " 9   Item_9   20 non-null     float64\n",
      " 10  Item_10  20 non-null     float64\n",
      "dtypes: float64(10), object(1)\n",
      "memory usage: 1.8+ KB\n"
     ]
    }
   ],
   "source": [
    "df.info()"
   ]
  },
  {
   "cell_type": "code",
   "execution_count": 485,
   "metadata": {},
   "outputs": [
    {
     "data": {
      "text/html": [
       "<div>\n",
       "<style scoped>\n",
       "    .dataframe tbody tr th:only-of-type {\n",
       "        vertical-align: middle;\n",
       "    }\n",
       "\n",
       "    .dataframe tbody tr th {\n",
       "        vertical-align: top;\n",
       "    }\n",
       "\n",
       "    .dataframe thead th {\n",
       "        text-align: right;\n",
       "    }\n",
       "</style>\n",
       "<table border=\"1\" class=\"dataframe\">\n",
       "  <thead>\n",
       "    <tr style=\"text-align: right;\">\n",
       "      <th></th>\n",
       "      <th>Item_1</th>\n",
       "      <th>Item_2</th>\n",
       "      <th>Item_3</th>\n",
       "      <th>Item_4</th>\n",
       "      <th>Item_5</th>\n",
       "      <th>Item_6</th>\n",
       "      <th>Item_7</th>\n",
       "      <th>Item_8</th>\n",
       "      <th>Item_9</th>\n",
       "      <th>Item_10</th>\n",
       "    </tr>\n",
       "  </thead>\n",
       "  <tbody>\n",
       "    <tr>\n",
       "      <th>count</th>\n",
       "      <td>20.000000</td>\n",
       "      <td>20.000000</td>\n",
       "      <td>20.000000</td>\n",
       "      <td>20.000000</td>\n",
       "      <td>20.000000</td>\n",
       "      <td>20.000000</td>\n",
       "      <td>20.000000</td>\n",
       "      <td>20.000000</td>\n",
       "      <td>20.000000</td>\n",
       "      <td>20.000000</td>\n",
       "    </tr>\n",
       "    <tr>\n",
       "      <th>mean</th>\n",
       "      <td>2.350000</td>\n",
       "      <td>2.550000</td>\n",
       "      <td>2.450000</td>\n",
       "      <td>4.700000</td>\n",
       "      <td>4.500000</td>\n",
       "      <td>4.550000</td>\n",
       "      <td>2.300000</td>\n",
       "      <td>2.700000</td>\n",
       "      <td>2.350000</td>\n",
       "      <td>0.550000</td>\n",
       "    </tr>\n",
       "    <tr>\n",
       "      <th>std</th>\n",
       "      <td>3.745524</td>\n",
       "      <td>3.872644</td>\n",
       "      <td>3.804084</td>\n",
       "      <td>4.378176</td>\n",
       "      <td>4.346808</td>\n",
       "      <td>4.524495</td>\n",
       "      <td>3.643307</td>\n",
       "      <td>4.117996</td>\n",
       "      <td>3.631369</td>\n",
       "      <td>0.510418</td>\n",
       "    </tr>\n",
       "    <tr>\n",
       "      <th>min</th>\n",
       "      <td>0.000000</td>\n",
       "      <td>0.000000</td>\n",
       "      <td>0.000000</td>\n",
       "      <td>0.000000</td>\n",
       "      <td>0.000000</td>\n",
       "      <td>0.000000</td>\n",
       "      <td>0.000000</td>\n",
       "      <td>0.000000</td>\n",
       "      <td>0.000000</td>\n",
       "      <td>0.000000</td>\n",
       "    </tr>\n",
       "    <tr>\n",
       "      <th>25%</th>\n",
       "      <td>0.000000</td>\n",
       "      <td>0.000000</td>\n",
       "      <td>0.000000</td>\n",
       "      <td>0.750000</td>\n",
       "      <td>0.000000</td>\n",
       "      <td>0.000000</td>\n",
       "      <td>0.000000</td>\n",
       "      <td>0.000000</td>\n",
       "      <td>0.000000</td>\n",
       "      <td>0.000000</td>\n",
       "    </tr>\n",
       "    <tr>\n",
       "      <th>50%</th>\n",
       "      <td>0.000000</td>\n",
       "      <td>1.000000</td>\n",
       "      <td>0.500000</td>\n",
       "      <td>4.500000</td>\n",
       "      <td>4.500000</td>\n",
       "      <td>4.500000</td>\n",
       "      <td>0.000000</td>\n",
       "      <td>1.000000</td>\n",
       "      <td>0.500000</td>\n",
       "      <td>1.000000</td>\n",
       "    </tr>\n",
       "    <tr>\n",
       "      <th>75%</th>\n",
       "      <td>2.750000</td>\n",
       "      <td>2.750000</td>\n",
       "      <td>2.750000</td>\n",
       "      <td>8.250000</td>\n",
       "      <td>9.000000</td>\n",
       "      <td>8.250000</td>\n",
       "      <td>2.750000</td>\n",
       "      <td>3.000000</td>\n",
       "      <td>2.750000</td>\n",
       "      <td>1.000000</td>\n",
       "    </tr>\n",
       "    <tr>\n",
       "      <th>max</th>\n",
       "      <td>10.000000</td>\n",
       "      <td>10.000000</td>\n",
       "      <td>10.000000</td>\n",
       "      <td>10.000000</td>\n",
       "      <td>10.000000</td>\n",
       "      <td>10.000000</td>\n",
       "      <td>9.000000</td>\n",
       "      <td>10.000000</td>\n",
       "      <td>10.000000</td>\n",
       "      <td>1.000000</td>\n",
       "    </tr>\n",
       "  </tbody>\n",
       "</table>\n",
       "</div>"
      ],
      "text/plain": [
       "          Item_1     Item_2     Item_3     Item_4     Item_5     Item_6  \\\n",
       "count  20.000000  20.000000  20.000000  20.000000  20.000000  20.000000   \n",
       "mean    2.350000   2.550000   2.450000   4.700000   4.500000   4.550000   \n",
       "std     3.745524   3.872644   3.804084   4.378176   4.346808   4.524495   \n",
       "min     0.000000   0.000000   0.000000   0.000000   0.000000   0.000000   \n",
       "25%     0.000000   0.000000   0.000000   0.750000   0.000000   0.000000   \n",
       "50%     0.000000   1.000000   0.500000   4.500000   4.500000   4.500000   \n",
       "75%     2.750000   2.750000   2.750000   8.250000   9.000000   8.250000   \n",
       "max    10.000000  10.000000  10.000000  10.000000  10.000000  10.000000   \n",
       "\n",
       "          Item_7     Item_8     Item_9    Item_10  \n",
       "count  20.000000  20.000000  20.000000  20.000000  \n",
       "mean    2.300000   2.700000   2.350000   0.550000  \n",
       "std     3.643307   4.117996   3.631369   0.510418  \n",
       "min     0.000000   0.000000   0.000000   0.000000  \n",
       "25%     0.000000   0.000000   0.000000   0.000000  \n",
       "50%     0.000000   1.000000   0.500000   1.000000  \n",
       "75%     2.750000   3.000000   2.750000   1.000000  \n",
       "max     9.000000  10.000000  10.000000   1.000000  "
      ]
     },
     "execution_count": 485,
     "metadata": {},
     "output_type": "execute_result"
    }
   ],
   "source": [
    "df.describe()"
   ]
  },
  {
   "cell_type": "code",
   "execution_count": 486,
   "metadata": {},
   "outputs": [
    {
     "data": {
      "text/plain": [
       "array([['User_1', 9.0, 10.0, 9.0, 1.0, 0.0, 0.0, 0.0, 1.0, 0.0, 0.0],\n",
       "       ['User_2', 8.0, 8.0, 9.0, 0.0, 0.0, 0.0, 0.0, 0.0, 1.0, 1.0],\n",
       "       ['User_3', 8.0, 10.0, 8.0, 1.0, 0.0, 0.0, 0.0, 1.0, 0.0, 0.0],\n",
       "       ['User_4', 10.0, 8.0, 10.0, 1.0, 0.0, 0.0, 0.0, 0.0, 0.0, 0.0],\n",
       "       ['User_5', 8.0, 9.0, 8.0, 0.0, 1.0, 0.0, 0.0, 1.0, 1.0, 0.0],\n",
       "       ['User_6', 0.0, 0.0, 0.0, 8.0, 8.0, 8.0, 0.0, 1.0, 0.0, 1.0],\n",
       "       ['User_7', 1.0, 1.0, 0.0, 9.0, 9.0, 8.0, 1.0, 1.0, 0.0, 0.0],\n",
       "       ['User_8', 0.0, 0.0, 0.0, 8.0, 8.0, 8.0, 1.0, 1.0, 1.0, 1.0],\n",
       "       ['User_9', 0.0, 1.0, 1.0, 10.0, 8.0, 10.0, 1.0, 0.0, 1.0, 1.0],\n",
       "       ['User_10', 0.0, 0.0, 1.0, 10.0, 9.0, 9.0, 0.0, 0.0, 1.0, 1.0],\n",
       "       ['User_11', 0.0, 0.0, 0.0, 10.0, 8.0, 10.0, 0.0, 0.0, 0.0, 1.0],\n",
       "       ['User_12', 0.0, 1.0, 0.0, 8.0, 9.0, 10.0, 1.0, 0.0, 0.0, 0.0],\n",
       "       ['User_13', 0.0, 0.0, 1.0, 8.0, 9.0, 8.0, 0.0, 0.0, 0.0, 0.0],\n",
       "       ['User_14', 0.0, 0.0, 0.0, 8.0, 9.0, 10.0, 0.0, 0.0, 0.0, 1.0],\n",
       "       ['User_15', 1.0, 0.0, 0.0, 10.0, 10.0, 8.0, 0.0, 0.0, 0.0, 0.0],\n",
       "       ['User_16', 0.0, 1.0, 0.0, 1.0, 0.0, 1.0, 9.0, 10.0, 10.0, 1.0],\n",
       "       ['User_17', 1.0, 0.0, 1.0, 0.0, 1.0, 0.0, 8.0, 10.0, 8.0, 1.0],\n",
       "       ['User_18', 0.0, 0.0, 0.0, 1.0, 0.0, 0.0, 8.0, 9.0, 8.0, 1.0],\n",
       "       ['User_19', 0.0, 1.0, 1.0, 0.0, 0.0, 1.0, 8.0, 9.0, 8.0, 0.0],\n",
       "       ['User_20', 1.0, 1.0, 0.0, 0.0, 1.0, 0.0, 9.0, 10.0, 8.0, 1.0]],\n",
       "      dtype=object)"
      ]
     },
     "execution_count": 486,
     "metadata": {},
     "output_type": "execute_result"
    }
   ],
   "source": [
    "df.values"
   ]
  },
  {
   "cell_type": "markdown",
   "metadata": {},
   "source": [
    "# Preparing the data\n",
    "\n",
    "1. Use Pandas do to load the CSV file ratings_matrix.csv\n",
    "2. Work out how to get the numpy matrix that contains all the values without column headers and row indexes\n",
    "3. Notice this matrix is an *explicit* user x item matrix: \n",
    "    - 0: no rating\n",
    "    - 1: bad\n",
    "    - 10: excelent\n",
    "4. Make a copy of the matrix that represents the *implicit* data in the original matrix. That is, all non-zero values become one, and zeros stay unchanged.\n",
    "5. Visualise the implicit and explicit matrices using matplotlib\n",
    "6. Can you formulate any preliminary hypoteses about the relationships between groups of users and groups of items?"
   ]
  },
  {
   "cell_type": "code",
   "execution_count": 487,
   "metadata": {},
   "outputs": [],
   "source": [
    "explicit_matrix = df.copy()"
   ]
  },
  {
   "cell_type": "code",
   "execution_count": 488,
   "metadata": {},
   "outputs": [
    {
     "data": {
      "text/plain": [
       "Index(['Item_1', 'Item_2', 'Item_3', 'Item_4', 'Item_5', 'Item_6', 'Item_7',\n",
       "       'Item_8', 'Item_9', 'Item_10'],\n",
       "      dtype='object')"
      ]
     },
     "execution_count": 488,
     "metadata": {},
     "output_type": "execute_result"
    }
   ],
   "source": [
    "df.columns[1:]"
   ]
  },
  {
   "cell_type": "code",
   "execution_count": 489,
   "metadata": {},
   "outputs": [
    {
     "data": {
      "text/html": [
       "<div>\n",
       "<style scoped>\n",
       "    .dataframe tbody tr th:only-of-type {\n",
       "        vertical-align: middle;\n",
       "    }\n",
       "\n",
       "    .dataframe tbody tr th {\n",
       "        vertical-align: top;\n",
       "    }\n",
       "\n",
       "    .dataframe thead th {\n",
       "        text-align: right;\n",
       "    }\n",
       "</style>\n",
       "<table border=\"1\" class=\"dataframe\">\n",
       "  <thead>\n",
       "    <tr style=\"text-align: right;\">\n",
       "      <th></th>\n",
       "      <th>User_ID</th>\n",
       "      <th>Item_1</th>\n",
       "      <th>Item_2</th>\n",
       "      <th>Item_3</th>\n",
       "      <th>Item_4</th>\n",
       "      <th>Item_5</th>\n",
       "      <th>Item_6</th>\n",
       "      <th>Item_7</th>\n",
       "      <th>Item_8</th>\n",
       "      <th>Item_9</th>\n",
       "      <th>Item_10</th>\n",
       "    </tr>\n",
       "  </thead>\n",
       "  <tbody>\n",
       "    <tr>\n",
       "      <th>0</th>\n",
       "      <td>User_1</td>\n",
       "      <td>1</td>\n",
       "      <td>1</td>\n",
       "      <td>1</td>\n",
       "      <td>1</td>\n",
       "      <td>0</td>\n",
       "      <td>0</td>\n",
       "      <td>0</td>\n",
       "      <td>1</td>\n",
       "      <td>0</td>\n",
       "      <td>0</td>\n",
       "    </tr>\n",
       "    <tr>\n",
       "      <th>1</th>\n",
       "      <td>User_2</td>\n",
       "      <td>1</td>\n",
       "      <td>1</td>\n",
       "      <td>1</td>\n",
       "      <td>0</td>\n",
       "      <td>0</td>\n",
       "      <td>0</td>\n",
       "      <td>0</td>\n",
       "      <td>0</td>\n",
       "      <td>1</td>\n",
       "      <td>1</td>\n",
       "    </tr>\n",
       "    <tr>\n",
       "      <th>2</th>\n",
       "      <td>User_3</td>\n",
       "      <td>1</td>\n",
       "      <td>1</td>\n",
       "      <td>1</td>\n",
       "      <td>1</td>\n",
       "      <td>0</td>\n",
       "      <td>0</td>\n",
       "      <td>0</td>\n",
       "      <td>1</td>\n",
       "      <td>0</td>\n",
       "      <td>0</td>\n",
       "    </tr>\n",
       "    <tr>\n",
       "      <th>3</th>\n",
       "      <td>User_4</td>\n",
       "      <td>1</td>\n",
       "      <td>1</td>\n",
       "      <td>1</td>\n",
       "      <td>1</td>\n",
       "      <td>0</td>\n",
       "      <td>0</td>\n",
       "      <td>0</td>\n",
       "      <td>0</td>\n",
       "      <td>0</td>\n",
       "      <td>0</td>\n",
       "    </tr>\n",
       "    <tr>\n",
       "      <th>4</th>\n",
       "      <td>User_5</td>\n",
       "      <td>1</td>\n",
       "      <td>1</td>\n",
       "      <td>1</td>\n",
       "      <td>0</td>\n",
       "      <td>1</td>\n",
       "      <td>0</td>\n",
       "      <td>0</td>\n",
       "      <td>1</td>\n",
       "      <td>1</td>\n",
       "      <td>0</td>\n",
       "    </tr>\n",
       "    <tr>\n",
       "      <th>5</th>\n",
       "      <td>User_6</td>\n",
       "      <td>0</td>\n",
       "      <td>0</td>\n",
       "      <td>0</td>\n",
       "      <td>1</td>\n",
       "      <td>1</td>\n",
       "      <td>1</td>\n",
       "      <td>0</td>\n",
       "      <td>1</td>\n",
       "      <td>0</td>\n",
       "      <td>1</td>\n",
       "    </tr>\n",
       "    <tr>\n",
       "      <th>6</th>\n",
       "      <td>User_7</td>\n",
       "      <td>1</td>\n",
       "      <td>1</td>\n",
       "      <td>0</td>\n",
       "      <td>1</td>\n",
       "      <td>1</td>\n",
       "      <td>1</td>\n",
       "      <td>1</td>\n",
       "      <td>1</td>\n",
       "      <td>0</td>\n",
       "      <td>0</td>\n",
       "    </tr>\n",
       "    <tr>\n",
       "      <th>7</th>\n",
       "      <td>User_8</td>\n",
       "      <td>0</td>\n",
       "      <td>0</td>\n",
       "      <td>0</td>\n",
       "      <td>1</td>\n",
       "      <td>1</td>\n",
       "      <td>1</td>\n",
       "      <td>1</td>\n",
       "      <td>1</td>\n",
       "      <td>1</td>\n",
       "      <td>1</td>\n",
       "    </tr>\n",
       "    <tr>\n",
       "      <th>8</th>\n",
       "      <td>User_9</td>\n",
       "      <td>0</td>\n",
       "      <td>1</td>\n",
       "      <td>1</td>\n",
       "      <td>1</td>\n",
       "      <td>1</td>\n",
       "      <td>1</td>\n",
       "      <td>1</td>\n",
       "      <td>0</td>\n",
       "      <td>1</td>\n",
       "      <td>1</td>\n",
       "    </tr>\n",
       "    <tr>\n",
       "      <th>9</th>\n",
       "      <td>User_10</td>\n",
       "      <td>0</td>\n",
       "      <td>0</td>\n",
       "      <td>1</td>\n",
       "      <td>1</td>\n",
       "      <td>1</td>\n",
       "      <td>1</td>\n",
       "      <td>0</td>\n",
       "      <td>0</td>\n",
       "      <td>1</td>\n",
       "      <td>1</td>\n",
       "    </tr>\n",
       "    <tr>\n",
       "      <th>10</th>\n",
       "      <td>User_11</td>\n",
       "      <td>0</td>\n",
       "      <td>0</td>\n",
       "      <td>0</td>\n",
       "      <td>1</td>\n",
       "      <td>1</td>\n",
       "      <td>1</td>\n",
       "      <td>0</td>\n",
       "      <td>0</td>\n",
       "      <td>0</td>\n",
       "      <td>1</td>\n",
       "    </tr>\n",
       "    <tr>\n",
       "      <th>11</th>\n",
       "      <td>User_12</td>\n",
       "      <td>0</td>\n",
       "      <td>1</td>\n",
       "      <td>0</td>\n",
       "      <td>1</td>\n",
       "      <td>1</td>\n",
       "      <td>1</td>\n",
       "      <td>1</td>\n",
       "      <td>0</td>\n",
       "      <td>0</td>\n",
       "      <td>0</td>\n",
       "    </tr>\n",
       "    <tr>\n",
       "      <th>12</th>\n",
       "      <td>User_13</td>\n",
       "      <td>0</td>\n",
       "      <td>0</td>\n",
       "      <td>1</td>\n",
       "      <td>1</td>\n",
       "      <td>1</td>\n",
       "      <td>1</td>\n",
       "      <td>0</td>\n",
       "      <td>0</td>\n",
       "      <td>0</td>\n",
       "      <td>0</td>\n",
       "    </tr>\n",
       "    <tr>\n",
       "      <th>13</th>\n",
       "      <td>User_14</td>\n",
       "      <td>0</td>\n",
       "      <td>0</td>\n",
       "      <td>0</td>\n",
       "      <td>1</td>\n",
       "      <td>1</td>\n",
       "      <td>1</td>\n",
       "      <td>0</td>\n",
       "      <td>0</td>\n",
       "      <td>0</td>\n",
       "      <td>1</td>\n",
       "    </tr>\n",
       "    <tr>\n",
       "      <th>14</th>\n",
       "      <td>User_15</td>\n",
       "      <td>1</td>\n",
       "      <td>0</td>\n",
       "      <td>0</td>\n",
       "      <td>1</td>\n",
       "      <td>1</td>\n",
       "      <td>1</td>\n",
       "      <td>0</td>\n",
       "      <td>0</td>\n",
       "      <td>0</td>\n",
       "      <td>0</td>\n",
       "    </tr>\n",
       "    <tr>\n",
       "      <th>15</th>\n",
       "      <td>User_16</td>\n",
       "      <td>0</td>\n",
       "      <td>1</td>\n",
       "      <td>0</td>\n",
       "      <td>1</td>\n",
       "      <td>0</td>\n",
       "      <td>1</td>\n",
       "      <td>1</td>\n",
       "      <td>1</td>\n",
       "      <td>1</td>\n",
       "      <td>1</td>\n",
       "    </tr>\n",
       "    <tr>\n",
       "      <th>16</th>\n",
       "      <td>User_17</td>\n",
       "      <td>1</td>\n",
       "      <td>0</td>\n",
       "      <td>1</td>\n",
       "      <td>0</td>\n",
       "      <td>1</td>\n",
       "      <td>0</td>\n",
       "      <td>1</td>\n",
       "      <td>1</td>\n",
       "      <td>1</td>\n",
       "      <td>1</td>\n",
       "    </tr>\n",
       "    <tr>\n",
       "      <th>17</th>\n",
       "      <td>User_18</td>\n",
       "      <td>0</td>\n",
       "      <td>0</td>\n",
       "      <td>0</td>\n",
       "      <td>1</td>\n",
       "      <td>0</td>\n",
       "      <td>0</td>\n",
       "      <td>1</td>\n",
       "      <td>1</td>\n",
       "      <td>1</td>\n",
       "      <td>1</td>\n",
       "    </tr>\n",
       "    <tr>\n",
       "      <th>18</th>\n",
       "      <td>User_19</td>\n",
       "      <td>0</td>\n",
       "      <td>1</td>\n",
       "      <td>1</td>\n",
       "      <td>0</td>\n",
       "      <td>0</td>\n",
       "      <td>1</td>\n",
       "      <td>1</td>\n",
       "      <td>1</td>\n",
       "      <td>1</td>\n",
       "      <td>0</td>\n",
       "    </tr>\n",
       "    <tr>\n",
       "      <th>19</th>\n",
       "      <td>User_20</td>\n",
       "      <td>1</td>\n",
       "      <td>1</td>\n",
       "      <td>0</td>\n",
       "      <td>0</td>\n",
       "      <td>1</td>\n",
       "      <td>0</td>\n",
       "      <td>1</td>\n",
       "      <td>1</td>\n",
       "      <td>1</td>\n",
       "      <td>1</td>\n",
       "    </tr>\n",
       "  </tbody>\n",
       "</table>\n",
       "</div>"
      ],
      "text/plain": [
       "    User_ID  Item_1  Item_2  Item_3  Item_4  Item_5  Item_6  Item_7  Item_8  \\\n",
       "0    User_1       1       1       1       1       0       0       0       1   \n",
       "1    User_2       1       1       1       0       0       0       0       0   \n",
       "2    User_3       1       1       1       1       0       0       0       1   \n",
       "3    User_4       1       1       1       1       0       0       0       0   \n",
       "4    User_5       1       1       1       0       1       0       0       1   \n",
       "5    User_6       0       0       0       1       1       1       0       1   \n",
       "6    User_7       1       1       0       1       1       1       1       1   \n",
       "7    User_8       0       0       0       1       1       1       1       1   \n",
       "8    User_9       0       1       1       1       1       1       1       0   \n",
       "9   User_10       0       0       1       1       1       1       0       0   \n",
       "10  User_11       0       0       0       1       1       1       0       0   \n",
       "11  User_12       0       1       0       1       1       1       1       0   \n",
       "12  User_13       0       0       1       1       1       1       0       0   \n",
       "13  User_14       0       0       0       1       1       1       0       0   \n",
       "14  User_15       1       0       0       1       1       1       0       0   \n",
       "15  User_16       0       1       0       1       0       1       1       1   \n",
       "16  User_17       1       0       1       0       1       0       1       1   \n",
       "17  User_18       0       0       0       1       0       0       1       1   \n",
       "18  User_19       0       1       1       0       0       1       1       1   \n",
       "19  User_20       1       1       0       0       1       0       1       1   \n",
       "\n",
       "    Item_9  Item_10  \n",
       "0        0        0  \n",
       "1        1        1  \n",
       "2        0        0  \n",
       "3        0        0  \n",
       "4        1        0  \n",
       "5        0        1  \n",
       "6        0        0  \n",
       "7        1        1  \n",
       "8        1        1  \n",
       "9        1        1  \n",
       "10       0        1  \n",
       "11       0        0  \n",
       "12       0        0  \n",
       "13       0        1  \n",
       "14       0        0  \n",
       "15       1        1  \n",
       "16       1        1  \n",
       "17       1        1  \n",
       "18       1        0  \n",
       "19       1        1  "
      ]
     },
     "execution_count": 489,
     "metadata": {},
     "output_type": "execute_result"
    }
   ],
   "source": [
    "df[df.columns[1:]] = np.where(df[df.columns[1:]] > 0, 1, 0)\n",
    "df"
   ]
  },
  {
   "cell_type": "code",
   "execution_count": 490,
   "metadata": {},
   "outputs": [
    {
     "data": {
      "text/html": [
       "<div>\n",
       "<style scoped>\n",
       "    .dataframe tbody tr th:only-of-type {\n",
       "        vertical-align: middle;\n",
       "    }\n",
       "\n",
       "    .dataframe tbody tr th {\n",
       "        vertical-align: top;\n",
       "    }\n",
       "\n",
       "    .dataframe thead th {\n",
       "        text-align: right;\n",
       "    }\n",
       "</style>\n",
       "<table border=\"1\" class=\"dataframe\">\n",
       "  <thead>\n",
       "    <tr style=\"text-align: right;\">\n",
       "      <th></th>\n",
       "      <th>Item_1</th>\n",
       "      <th>Item_2</th>\n",
       "      <th>Item_3</th>\n",
       "      <th>Item_4</th>\n",
       "      <th>Item_5</th>\n",
       "      <th>Item_6</th>\n",
       "      <th>Item_7</th>\n",
       "      <th>Item_8</th>\n",
       "      <th>Item_9</th>\n",
       "      <th>Item_10</th>\n",
       "    </tr>\n",
       "  </thead>\n",
       "  <tbody>\n",
       "    <tr>\n",
       "      <th>count</th>\n",
       "      <td>20.000000</td>\n",
       "      <td>20.000000</td>\n",
       "      <td>20.000000</td>\n",
       "      <td>20.000000</td>\n",
       "      <td>20.00000</td>\n",
       "      <td>20.000000</td>\n",
       "      <td>20.000000</td>\n",
       "      <td>20.000000</td>\n",
       "      <td>20.000000</td>\n",
       "      <td>20.000000</td>\n",
       "    </tr>\n",
       "    <tr>\n",
       "      <th>mean</th>\n",
       "      <td>0.450000</td>\n",
       "      <td>0.550000</td>\n",
       "      <td>0.500000</td>\n",
       "      <td>0.750000</td>\n",
       "      <td>0.65000</td>\n",
       "      <td>0.600000</td>\n",
       "      <td>0.450000</td>\n",
       "      <td>0.550000</td>\n",
       "      <td>0.500000</td>\n",
       "      <td>0.550000</td>\n",
       "    </tr>\n",
       "    <tr>\n",
       "      <th>std</th>\n",
       "      <td>0.510418</td>\n",
       "      <td>0.510418</td>\n",
       "      <td>0.512989</td>\n",
       "      <td>0.444262</td>\n",
       "      <td>0.48936</td>\n",
       "      <td>0.502625</td>\n",
       "      <td>0.510418</td>\n",
       "      <td>0.510418</td>\n",
       "      <td>0.512989</td>\n",
       "      <td>0.510418</td>\n",
       "    </tr>\n",
       "    <tr>\n",
       "      <th>min</th>\n",
       "      <td>0.000000</td>\n",
       "      <td>0.000000</td>\n",
       "      <td>0.000000</td>\n",
       "      <td>0.000000</td>\n",
       "      <td>0.00000</td>\n",
       "      <td>0.000000</td>\n",
       "      <td>0.000000</td>\n",
       "      <td>0.000000</td>\n",
       "      <td>0.000000</td>\n",
       "      <td>0.000000</td>\n",
       "    </tr>\n",
       "    <tr>\n",
       "      <th>25%</th>\n",
       "      <td>0.000000</td>\n",
       "      <td>0.000000</td>\n",
       "      <td>0.000000</td>\n",
       "      <td>0.750000</td>\n",
       "      <td>0.00000</td>\n",
       "      <td>0.000000</td>\n",
       "      <td>0.000000</td>\n",
       "      <td>0.000000</td>\n",
       "      <td>0.000000</td>\n",
       "      <td>0.000000</td>\n",
       "    </tr>\n",
       "    <tr>\n",
       "      <th>50%</th>\n",
       "      <td>0.000000</td>\n",
       "      <td>1.000000</td>\n",
       "      <td>0.500000</td>\n",
       "      <td>1.000000</td>\n",
       "      <td>1.00000</td>\n",
       "      <td>1.000000</td>\n",
       "      <td>0.000000</td>\n",
       "      <td>1.000000</td>\n",
       "      <td>0.500000</td>\n",
       "      <td>1.000000</td>\n",
       "    </tr>\n",
       "    <tr>\n",
       "      <th>75%</th>\n",
       "      <td>1.000000</td>\n",
       "      <td>1.000000</td>\n",
       "      <td>1.000000</td>\n",
       "      <td>1.000000</td>\n",
       "      <td>1.00000</td>\n",
       "      <td>1.000000</td>\n",
       "      <td>1.000000</td>\n",
       "      <td>1.000000</td>\n",
       "      <td>1.000000</td>\n",
       "      <td>1.000000</td>\n",
       "    </tr>\n",
       "    <tr>\n",
       "      <th>max</th>\n",
       "      <td>1.000000</td>\n",
       "      <td>1.000000</td>\n",
       "      <td>1.000000</td>\n",
       "      <td>1.000000</td>\n",
       "      <td>1.00000</td>\n",
       "      <td>1.000000</td>\n",
       "      <td>1.000000</td>\n",
       "      <td>1.000000</td>\n",
       "      <td>1.000000</td>\n",
       "      <td>1.000000</td>\n",
       "    </tr>\n",
       "  </tbody>\n",
       "</table>\n",
       "</div>"
      ],
      "text/plain": [
       "          Item_1     Item_2     Item_3     Item_4    Item_5     Item_6  \\\n",
       "count  20.000000  20.000000  20.000000  20.000000  20.00000  20.000000   \n",
       "mean    0.450000   0.550000   0.500000   0.750000   0.65000   0.600000   \n",
       "std     0.510418   0.510418   0.512989   0.444262   0.48936   0.502625   \n",
       "min     0.000000   0.000000   0.000000   0.000000   0.00000   0.000000   \n",
       "25%     0.000000   0.000000   0.000000   0.750000   0.00000   0.000000   \n",
       "50%     0.000000   1.000000   0.500000   1.000000   1.00000   1.000000   \n",
       "75%     1.000000   1.000000   1.000000   1.000000   1.00000   1.000000   \n",
       "max     1.000000   1.000000   1.000000   1.000000   1.00000   1.000000   \n",
       "\n",
       "          Item_7     Item_8     Item_9    Item_10  \n",
       "count  20.000000  20.000000  20.000000  20.000000  \n",
       "mean    0.450000   0.550000   0.500000   0.550000  \n",
       "std     0.510418   0.510418   0.512989   0.510418  \n",
       "min     0.000000   0.000000   0.000000   0.000000  \n",
       "25%     0.000000   0.000000   0.000000   0.000000  \n",
       "50%     0.000000   1.000000   0.500000   1.000000  \n",
       "75%     1.000000   1.000000   1.000000   1.000000  \n",
       "max     1.000000   1.000000   1.000000   1.000000  "
      ]
     },
     "execution_count": 490,
     "metadata": {},
     "output_type": "execute_result"
    }
   ],
   "source": [
    "df.describe()"
   ]
  },
  {
   "cell_type": "markdown",
   "metadata": {},
   "source": [
    "- ``Item 4`` is better rated than the rest\n",
    "- ``Item 3`` and ``Item 9`` receive more ratings than the rest\n",
    "- ``Item 1`` and ``Item 7`` receive less ratings than the rest but their ratings are relatively balanced."
   ]
  },
  {
   "cell_type": "markdown",
   "metadata": {},
   "source": [
    "### Density to find out how sparse the data is"
   ]
  },
  {
   "cell_type": "code",
   "execution_count": 491,
   "metadata": {},
   "outputs": [
    {
     "name": "stdout",
     "output_type": "stream",
     "text": [
      "Sparsity: 44.50%\n"
     ]
    }
   ],
   "source": [
    "matrix = df[df.columns[1:]].values\n",
    "\n",
    "sparsity = (1 - (np.count_nonzero(matrix) / matrix.size)) * 100\n",
    "\n",
    "print(f\"Sparsity: {sparsity:.2f}%\")"
   ]
  },
  {
   "cell_type": "markdown",
   "metadata": {},
   "source": [
    "### Class Distribution\n",
    "- Will help understanding the distribution of the ratings"
   ]
  },
  {
   "cell_type": "code",
   "execution_count": 492,
   "metadata": {},
   "outputs": [
    {
     "data": {
      "text/html": [
       "<div>\n",
       "<style scoped>\n",
       "    .dataframe tbody tr th:only-of-type {\n",
       "        vertical-align: middle;\n",
       "    }\n",
       "\n",
       "    .dataframe tbody tr th {\n",
       "        vertical-align: top;\n",
       "    }\n",
       "\n",
       "    .dataframe thead th {\n",
       "        text-align: right;\n",
       "    }\n",
       "</style>\n",
       "<table border=\"1\" class=\"dataframe\">\n",
       "  <thead>\n",
       "    <tr style=\"text-align: right;\">\n",
       "      <th></th>\n",
       "      <th>Item_1</th>\n",
       "      <th>Item_2</th>\n",
       "      <th>Item_3</th>\n",
       "      <th>Item_4</th>\n",
       "      <th>Item_5</th>\n",
       "      <th>Item_6</th>\n",
       "      <th>Item_7</th>\n",
       "      <th>Item_8</th>\n",
       "      <th>Item_9</th>\n",
       "      <th>Item_10</th>\n",
       "    </tr>\n",
       "  </thead>\n",
       "  <tbody>\n",
       "    <tr>\n",
       "      <th>0</th>\n",
       "      <td>11</td>\n",
       "      <td>9</td>\n",
       "      <td>10</td>\n",
       "      <td>5</td>\n",
       "      <td>7</td>\n",
       "      <td>8</td>\n",
       "      <td>11</td>\n",
       "      <td>9</td>\n",
       "      <td>10</td>\n",
       "      <td>9</td>\n",
       "    </tr>\n",
       "    <tr>\n",
       "      <th>1</th>\n",
       "      <td>9</td>\n",
       "      <td>11</td>\n",
       "      <td>10</td>\n",
       "      <td>15</td>\n",
       "      <td>13</td>\n",
       "      <td>12</td>\n",
       "      <td>9</td>\n",
       "      <td>11</td>\n",
       "      <td>10</td>\n",
       "      <td>11</td>\n",
       "    </tr>\n",
       "  </tbody>\n",
       "</table>\n",
       "</div>"
      ],
      "text/plain": [
       "   Item_1  Item_2  Item_3  Item_4  Item_5  Item_6  Item_7  Item_8  Item_9  \\\n",
       "0      11       9      10       5       7       8      11       9      10   \n",
       "1       9      11      10      15      13      12       9      11      10   \n",
       "\n",
       "   Item_10  \n",
       "0        9  \n",
       "1       11  "
      ]
     },
     "execution_count": 492,
     "metadata": {},
     "output_type": "execute_result"
    }
   ],
   "source": [
    "class_distribution = df.iloc[:, 1:].apply(pd.Series.value_counts)\n",
    "class_distribution"
   ]
  },
  {
   "cell_type": "code",
   "execution_count": 493,
   "metadata": {},
   "outputs": [
    {
     "data": {
      "image/png": "[encoded data removed]",
      "text/plain": [
       "<Figure size 640x480 with 1 Axes>"
      ]
     },
     "metadata": {},
     "output_type": "display_data"
    }
   ],
   "source": [
    "ax = class_distribution.T.plot(kind='barh', stacked=True)\n",
    "ax.set_ylabel('Features')\n",
    "ax.set_xlabel('Count')\n",
    "ax.set_title('Class Distribution for Rated and Non-Rated Items')\n",
    "plt.legend(title='Class', labels=['Non-Rated (0)', 'Rated (1)'])\n",
    "plt.show()"
   ]
  },
  {
   "cell_type": "code",
   "execution_count": 494,
   "metadata": {},
   "outputs": [
    {
     "data": {
      "application/vnd.plotly.v1+json": {
       "config": {
        "plotlyServerURL": "https://plot.ly"
       },
       "data": [
        {
         "alignmentgroup": "True",
         "hovertemplate": "variable=Item_1<br>Class (0 or 1)=%{x}<br>Count=%{y}<extra></extra>",
         "legendgroup": "Item_1",
         "marker": {
          "color": "#636efa",
          "pattern": {
           "shape": ""
          }
         },
         "name": "Item_1",
         "offsetgroup": "Item_1",
         "orientation": "v",
         "showlegend": true,
         "textposition": "auto",
         "type": "bar",
         "x": [
          0,
          1
         ],
         "xaxis": "x",
         "y": [
          11,
          9
         ],
         "yaxis": "y"
        },
        {
         "alignmentgroup": "True",
         "hovertemplate": "variable=Item_2<br>Class (0 or 1)=%{x}<br>Count=%{y}<extra></extra>",
         "legendgroup": "Item_2",
         "marker": {
          "color": "#EF553B",
          "pattern": {
           "shape": ""
          }
         },
         "name": "Item_2",
         "offsetgroup": "Item_2",
         "orientation": "v",
         "showlegend": true,
         "textposition": "auto",
         "type": "bar",
         "x": [
          0,
          1
         ],
         "xaxis": "x",
         "y": [
          9,
          11
         ],
         "yaxis": "y"
        },
        {
         "alignmentgroup": "True",
         "hovertemplate": "variable=Item_3<br>Class (0 or 1)=%{x}<br>Count=%{y}<extra></extra>",
         "legendgroup": "Item_3",
         "marker": {
          "color": "#00cc96",
          "pattern": {
           "shape": ""
          }
         },
         "name": "Item_3",
         "offsetgroup": "Item_3",
         "orientation": "v",
         "showlegend": true,
         "textposition": "auto",
         "type": "bar",
         "x": [
          0,
          1
         ],
         "xaxis": "x",
         "y": [
          10,
          10
         ],
         "yaxis": "y"
        },
        {
         "alignmentgroup": "True",
         "hovertemplate": "variable=Item_4<br>Class (0 or 1)=%{x}<br>Count=%{y}<extra></extra>",
         "legendgroup": "Item_4",
         "marker": {
          "color": "#ab63fa",
          "pattern": {
           "shape": ""
          }
         },
         "name": "Item_4",
         "offsetgroup": "Item_4",
         "orientation": "v",
         "showlegend": true,
         "textposition": "auto",
         "type": "bar",
         "x": [
          0,
          1
         ],
         "xaxis": "x",
         "y": [
          5,
          15
         ],
         "yaxis": "y"
        },
        {
         "alignmentgroup": "True",
         "hovertemplate": "variable=Item_5<br>Class (0 or 1)=%{x}<br>Count=%{y}<extra></extra>",
         "legendgroup": "Item_5",
         "marker": {
          "color": "#FFA15A",
          "pattern": {
           "shape": ""
          }
         },
         "name": "Item_5",
         "offsetgroup": "Item_5",
         "orientation": "v",
         "showlegend": true,
         "textposition": "auto",
         "type": "bar",
         "x": [
          0,
          1
         ],
         "xaxis": "x",
         "y": [
          7,
          13
         ],
         "yaxis": "y"
        },
        {
         "alignmentgroup": "True",
         "hovertemplate": "variable=Item_6<br>Class (0 or 1)=%{x}<br>Count=%{y}<extra></extra>",
         "legendgroup": "Item_6",
         "marker": {
          "color": "#19d3f3",
          "pattern": {
           "shape": ""
          }
         },
         "name": "Item_6",
         "offsetgroup": "Item_6",
         "orientation": "v",
         "showlegend": true,
         "textposition": "auto",
         "type": "bar",
         "x": [
          0,
          1
         ],
         "xaxis": "x",
         "y": [
          8,
          12
         ],
         "yaxis": "y"
        },
        {
         "alignmentgroup": "True",
         "hovertemplate": "variable=Item_7<br>Class (0 or 1)=%{x}<br>Count=%{y}<extra></extra>",
         "legendgroup": "Item_7",
         "marker": {
          "color": "#FF6692",
          "pattern": {
           "shape": ""
          }
         },
         "name": "Item_7",
         "offsetgroup": "Item_7",
         "orientation": "v",
         "showlegend": true,
         "textposition": "auto",
         "type": "bar",
         "x": [
          0,
          1
         ],
         "xaxis": "x",
         "y": [
          11,
          9
         ],
         "yaxis": "y"
        },
        {
         "alignmentgroup": "True",
         "hovertemplate": "variable=Item_8<br>Class (0 or 1)=%{x}<br>Count=%{y}<extra></extra>",
         "legendgroup": "Item_8",
         "marker": {
          "color": "#B6E880",
          "pattern": {
           "shape": ""
          }
         },
         "name": "Item_8",
         "offsetgroup": "Item_8",
         "orientation": "v",
         "showlegend": true,
         "textposition": "auto",
         "type": "bar",
         "x": [
          0,
          1
         ],
         "xaxis": "x",
         "y": [
          9,
          11
         ],
         "yaxis": "y"
        },
        {
         "alignmentgroup": "True",
         "hovertemplate": "variable=Item_9<br>Class (0 or 1)=%{x}<br>Count=%{y}<extra></extra>",
         "legendgroup": "Item_9",
         "marker": {
          "color": "#FF97FF",
          "pattern": {
           "shape": ""
          }
         },
         "name": "Item_9",
         "offsetgroup": "Item_9",
         "orientation": "v",
         "showlegend": true,
         "textposition": "auto",
         "type": "bar",
         "x": [
          0,
          1
         ],
         "xaxis": "x",
         "y": [
          10,
          10
         ],
         "yaxis": "y"
        },
        {
         "alignmentgroup": "True",
         "hovertemplate": "variable=Item_10<br>Class (0 or 1)=%{x}<br>Count=%{y}<extra></extra>",
         "legendgroup": "Item_10",
         "marker": {
          "color": "#FECB52",
          "pattern": {
           "shape": ""
          }
         },
         "name": "Item_10",
         "offsetgroup": "Item_10",
         "orientation": "v",
         "showlegend": true,
         "textposition": "auto",
         "type": "bar",
         "x": [
          0,
          1
         ],
         "xaxis": "x",
         "y": [
          9,
          11
         ],
         "yaxis": "y"
        }
       ],
       "layout": {
        "barmode": "relative",
        "legend": {
         "title": {
          "text": "Items"
         },
         "tracegroupgap": 0
        },
        "template": {
         "data": {
          "bar": [
           {
            "error_x": {
             "color": "#2a3f5f"
            },
            "error_y": {
             "color": "#2a3f5f"
            },
            "marker": {
             "line": {
              "color": "#E5ECF6",
              "width": 0.5
             },
             "pattern": {
              "fillmode": "overlay",
              "size": 10,
              "solidity": 0.2
             }
            },
            "type": "bar"
           }
          ],
          "barpolar": [
           {
            "marker": {
             "line": {
              "color": "#E5ECF6",
              "width": 0.5
             },
             "pattern": {
              "fillmode": "overlay",
              "size": 10,
              "solidity": 0.2
             }
            },
            "type": "barpolar"
           }
          ],
          "carpet": [
           {
            "aaxis": {
             "endlinecolor": "#2a3f5f",
             "gridcolor": "white",
             "linecolor": "white",
             "minorgridcolor": "white",
             "startlinecolor": "#2a3f5f"
            },
            "baxis": {
             "endlinecolor": "#2a3f5f",
             "gridcolor": "white",
             "linecolor": "white",
             "minorgridcolor": "white",
             "startlinecolor": "#2a3f5f"
            },
            "type": "carpet"
           }
          ],
          "choropleth": [
           {
            "colorbar": {
             "outlinewidth": 0,
             "ticks": ""
            },
            "type": "choropleth"
           }
          ],
          "contour": [
           {
            "colorbar": {
             "outlinewidth": 0,
             "ticks": ""
            },
            "colorscale": [
             [
              0,
              "#0d0887"
             ],
             [
              0.1111111111111111,
              "#46039f"
             ],
             [
              0.2222222222222222,
              "#7201a8"
             ],
             [
              0.3333333333333333,
              "#9c179e"
             ],
             [
              0.4444444444444444,
              "#bd3786"
             ],
             [
              0.5555555555555556,
              "#d8576b"
             ],
             [
              0.6666666666666666,
              "#ed7953"
             ],
             [
              0.7777777777777778,
              "#fb9f3a"
             ],
             [
              0.8888888888888888,
              "#fdca26"
             ],
             [
              1,
              "#f0f921"
             ]
            ],
            "type": "contour"
           }
          ],
          "contourcarpet": [
           {
            "colorbar": {
             "outlinewidth": 0,
             "ticks": ""
            },
            "type": "contourcarpet"
           }
          ],
          "heatmap": [
           {
            "colorbar": {
             "outlinewidth": 0,
             "ticks": ""
            },
            "colorscale": [
             [
              0,
              "#0d0887"
             ],
             [
              0.1111111111111111,
              "#46039f"
             ],
             [
              0.2222222222222222,
              "#7201a8"
             ],
             [
              0.3333333333333333,
              "#9c179e"
             ],
             [
              0.4444444444444444,
              "#bd3786"
             ],
             [
              0.5555555555555556,
              "#d8576b"
             ],
             [
              0.6666666666666666,
              "#ed7953"
             ],
             [
              0.7777777777777778,
              "#fb9f3a"
             ],
             [
              0.8888888888888888,
              "#fdca26"
             ],
             [
              1,
              "#f0f921"
             ]
            ],
            "type": "heatmap"
           }
          ],
          "heatmapgl": [
           {
            "colorbar": {
             "outlinewidth": 0,
             "ticks": ""
            },
            "colorscale": [
             [
              0,
              "#0d0887"
             ],
             [
              0.1111111111111111,
              "#46039f"
             ],
             [
              0.2222222222222222,
              "#7201a8"
             ],
             [
              0.3333333333333333,
              "#9c179e"
             ],
             [
              0.4444444444444444,
              "#bd3786"
             ],
             [
              0.5555555555555556,
              "#d8576b"
             ],
             [
              0.6666666666666666,
              "#ed7953"
             ],
             [
              0.7777777777777778,
              "#fb9f3a"
             ],
             [
              0.8888888888888888,
              "#fdca26"
             ],
             [
              1,
              "#f0f921"
             ]
            ],
            "type": "heatmapgl"
           }
          ],
          "histogram": [
           {
            "marker": {
             "pattern": {
              "fillmode": "overlay",
              "size": 10,
              "solidity": 0.2
             }
            },
            "type": "histogram"
           }
          ],
          "histogram2d": [
           {
            "colorbar": {
             "outlinewidth": 0,
             "ticks": ""
            },
            "colorscale": [
             [
              0,
              "#0d0887"
             ],
             [
              0.1111111111111111,
              "#46039f"
             ],
             [
              0.2222222222222222,
              "#7201a8"
             ],
             [
              0.3333333333333333,
              "#9c179e"
             ],
             [
              0.4444444444444444,
              "#bd3786"
             ],
             [
              0.5555555555555556,
              "#d8576b"
             ],
             [
              0.6666666666666666,
              "#ed7953"
             ],
             [
              0.7777777777777778,
              "#fb9f3a"
             ],
             [
              0.8888888888888888,
              "#fdca26"
             ],
             [
              1,
              "#f0f921"
             ]
            ],
            "type": "histogram2d"
           }
          ],
          "histogram2dcontour": [
           {
            "colorbar": {
             "outlinewidth": 0,
             "ticks": ""
            },
            "colorscale": [
             [
              0,
              "#0d0887"
             ],
             [
              0.1111111111111111,
              "#46039f"
             ],
             [
              0.2222222222222222,
              "#7201a8"
             ],
             [
              0.3333333333333333,
              "#9c179e"
             ],
             [
              0.4444444444444444,
              "#bd3786"
             ],
             [
              0.5555555555555556,
              "#d8576b"
             ],
             [
              0.6666666666666666,
              "#ed7953"
             ],
             [
              0.7777777777777778,
              "#fb9f3a"
             ],
             [
              0.8888888888888888,
              "#fdca26"
             ],
             [
              1,
              "#f0f921"
             ]
            ],
            "type": "histogram2dcontour"
           }
          ],
          "mesh3d": [
           {
            "colorbar": {
             "outlinewidth": 0,
             "ticks": ""
            },
            "type": "mesh3d"
           }
          ],
          "parcoords": [
           {
            "line": {
             "colorbar": {
              "outlinewidth": 0,
              "ticks": ""
             }
            },
            "type": "parcoords"
           }
          ],
          "pie": [
           {
            "automargin": true,
            "type": "pie"
           }
          ],
          "scatter": [
           {
            "fillpattern": {
             "fillmode": "overlay",
             "size": 10,
             "solidity": 0.2
            },
            "type": "scatter"
           }
          ],
          "scatter3d": [
           {
            "line": {
             "colorbar": {
              "outlinewidth": 0,
              "ticks": ""
             }
            },
            "marker": {
             "colorbar": {
              "outlinewidth": 0,
              "ticks": ""
             }
            },
            "type": "scatter3d"
           }
          ],
          "scattercarpet": [
           {
            "marker": {
             "colorbar": {
              "outlinewidth": 0,
              "ticks": ""
             }
            },
            "type": "scattercarpet"
           }
          ],
          "scattergeo": [
           {
            "marker": {
             "colorbar": {
              "outlinewidth": 0,
              "ticks": ""
             }
            },
            "type": "scattergeo"
           }
          ],
          "scattergl": [
           {
            "marker": {
             "colorbar": {
              "outlinewidth": 0,
              "ticks": ""
             }
            },
            "type": "scattergl"
           }
          ],
          "scattermapbox": [
           {
            "marker": {
             "colorbar": {
              "outlinewidth": 0,
              "ticks": ""
             }
            },
            "type": "scattermapbox"
           }
          ],
          "scatterpolar": [
           {
            "marker": {
             "colorbar": {
              "outlinewidth": 0,
              "ticks": ""
             }
            },
            "type": "scatterpolar"
           }
          ],
          "scatterpolargl": [
           {
            "marker": {
             "colorbar": {
              "outlinewidth": 0,
              "ticks": ""
             }
            },
            "type": "scatterpolargl"
           }
          ],
          "scatterternary": [
           {
            "marker": {
             "colorbar": {
              "outlinewidth": 0,
              "ticks": ""
             }
            },
            "type": "scatterternary"
           }
          ],
          "surface": [
           {
            "colorbar": {
             "outlinewidth": 0,
             "ticks": ""
            },
            "colorscale": [
             [
              0,
              "#0d0887"
             ],
             [
              0.1111111111111111,
              "#46039f"
             ],
             [
              0.2222222222222222,
              "#7201a8"
             ],
             [
              0.3333333333333333,
              "#9c179e"
             ],
             [
              0.4444444444444444,
              "#bd3786"
             ],
             [
              0.5555555555555556,
              "#d8576b"
             ],
             [
              0.6666666666666666,
              "#ed7953"
             ],
             [
              0.7777777777777778,
              "#fb9f3a"
             ],
             [
              0.8888888888888888,
              "#fdca26"
             ],
             [
              1,
              "#f0f921"
             ]
            ],
            "type": "surface"
           }
          ],
          "table": [
           {
            "cells": {
             "fill": {
              "color": "#EBF0F8"
             },
             "line": {
              "color": "white"
             }
            },
            "header": {
             "fill": {
              "color": "#C8D4E3"
             },
             "line": {
              "color": "white"
             }
            },
            "type": "table"
           }
          ]
         },
         "layout": {
          "annotationdefaults": {
           "arrowcolor": "#2a3f5f",
           "arrowhead": 0,
           "arrowwidth": 1
          },
          "autotypenumbers": "strict",
          "coloraxis": {
           "colorbar": {
            "outlinewidth": 0,
            "ticks": ""
           }
          },
          "colorscale": {
           "diverging": [
            [
             0,
             "#8e0152"
            ],
            [
             0.1,
             "#c51b7d"
            ],
            [
             0.2,
             "#de77ae"
            ],
            [
             0.3,
             "#f1b6da"
            ],
            [
             0.4,
             "#fde0ef"
            ],
            [
             0.5,
             "#f7f7f7"
            ],
            [
             0.6,
             "#e6f5d0"
            ],
            [
             0.7,
             "#b8e186"
            ],
            [
             0.8,
             "#7fbc41"
            ],
            [
             0.9,
             "#4d9221"
            ],
            [
             1,
             "#276419"
            ]
           ],
           "sequential": [
            [
             0,
             "#0d0887"
            ],
            [
             0.1111111111111111,
             "#46039f"
            ],
            [
             0.2222222222222222,
             "#7201a8"
            ],
            [
             0.3333333333333333,
             "#9c179e"
            ],
            [
             0.4444444444444444,
             "#bd3786"
            ],
            [
             0.5555555555555556,
             "#d8576b"
            ],
            [
             0.6666666666666666,
             "#ed7953"
            ],
            [
             0.7777777777777778,
             "#fb9f3a"
            ],
            [
             0.8888888888888888,
             "#fdca26"
            ],
            [
             1,
             "#f0f921"
            ]
           ],
           "sequentialminus": [
            [
             0,
             "#0d0887"
            ],
            [
             0.1111111111111111,
             "#46039f"
            ],
            [
             0.2222222222222222,
             "#7201a8"
            ],
            [
             0.3333333333333333,
             "#9c179e"
            ],
            [
             0.4444444444444444,
             "#bd3786"
            ],
            [
             0.5555555555555556,
             "#d8576b"
            ],
            [
             0.6666666666666666,
             "#ed7953"
            ],
            [
             0.7777777777777778,
             "#fb9f3a"
            ],
            [
             0.8888888888888888,
             "#fdca26"
            ],
            [
             1,
             "#f0f921"
            ]
           ]
          },
          "colorway": [
           "#636efa",
           "#EF553B",
           "#00cc96",
           "#ab63fa",
           "#FFA15A",
           "#19d3f3",
           "#FF6692",
           "#B6E880",
           "#FF97FF",
           "#FECB52"
          ],
          "font": {
           "color": "#2a3f5f"
          },
          "geo": {
           "bgcolor": "white",
           "lakecolor": "white",
           "landcolor": "#E5ECF6",
           "showlakes": true,
           "showland": true,
           "subunitcolor": "white"
          },
          "hoverlabel": {
           "align": "left"
          },
          "hovermode": "closest",
          "mapbox": {
           "style": "light"
          },
          "paper_bgcolor": "white",
          "plot_bgcolor": "#E5ECF6",
          "polar": {
           "angularaxis": {
            "gridcolor": "white",
            "linecolor": "white",
            "ticks": ""
           },
           "bgcolor": "#E5ECF6",
           "radialaxis": {
            "gridcolor": "white",
            "linecolor": "white",
            "ticks": ""
           }
          },
          "scene": {
           "xaxis": {
            "backgroundcolor": "#E5ECF6",
            "gridcolor": "white",
            "gridwidth": 2,
            "linecolor": "white",
            "showbackground": true,
            "ticks": "",
            "zerolinecolor": "white"
           },
           "yaxis": {
            "backgroundcolor": "#E5ECF6",
            "gridcolor": "white",
            "gridwidth": 2,
            "linecolor": "white",
            "showbackground": true,
            "ticks": "",
            "zerolinecolor": "white"
           },
           "zaxis": {
            "backgroundcolor": "#E5ECF6",
            "gridcolor": "white",
            "gridwidth": 2,
            "linecolor": "white",
            "showbackground": true,
            "ticks": "",
            "zerolinecolor": "white"
           }
          },
          "shapedefaults": {
           "line": {
            "color": "#2a3f5f"
           }
          },
          "ternary": {
           "aaxis": {
            "gridcolor": "white",
            "linecolor": "white",
            "ticks": ""
           },
           "baxis": {
            "gridcolor": "white",
            "linecolor": "white",
            "ticks": ""
           },
           "bgcolor": "#E5ECF6",
           "caxis": {
            "gridcolor": "white",
            "linecolor": "white",
            "ticks": ""
           }
          },
          "title": {
           "x": 0.05
          },
          "xaxis": {
           "automargin": true,
           "gridcolor": "white",
           "linecolor": "white",
           "ticks": "",
           "title": {
            "standoff": 15
           },
           "zerolinecolor": "white",
           "zerolinewidth": 2
          },
          "yaxis": {
           "automargin": true,
           "gridcolor": "white",
           "linecolor": "white",
           "ticks": "",
           "title": {
            "standoff": 15
           },
           "zerolinecolor": "white",
           "zerolinewidth": 2
          }
         }
        },
        "title": {
         "text": "Class Distribution for Rated and Non-Rated Items",
         "x": 0.5
        },
        "xaxis": {
         "anchor": "y",
         "domain": [
          0,
          1
         ],
         "tickvals": [
          0,
          1
         ],
         "title": {
          "text": "Class (0 or 1)"
         }
        },
        "yaxis": {
         "anchor": "x",
         "domain": [
          0,
          1
         ],
         "title": {
          "text": "Count"
         }
        }
       }
      }
     },
     "metadata": {},
     "output_type": "display_data"
    }
   ],
   "source": [
    "fig = px.bar(class_distribution, x=class_distribution.index, y=df.columns[1:], \n",
    "             labels={'index': 'Class (0 or 1)', 'value': 'Count'},\n",
    "             title='Class Distribution for Rated and Non-Rated Items')\n",
    "fig.update_layout(title_x=0.5, legend_title_text='Items')\n",
    "fig.update_xaxes(tickvals=[0, 1])\n",
    "fig.show()"
   ]
  },
  {
   "cell_type": "markdown",
   "metadata": {},
   "source": [
    "# Analytic computations: towards collaborative filtering\n",
    "\n",
    "The cosine similarity between two vectots $\\mathbf{v}_1$ and $\\mathbf{v}_2$ is given by the formula\n",
    "\n",
    "$$\n",
    "cos(v1,v2) = \\frac{\\mathbf{v}_1 \\cdot \\mathbf{v}_2}{\\|\\mathbf{v}_1\\| \\|\\mathbf{v}_2\\|}\n",
    "$$\n",
    "\n",
    "Where the dot product is given by\n",
    "\n",
    "$$\n",
    "\\mathbf{v}_1 \\cdot \\mathbf{v}_2 = \\sum_{i=1}^{n} v_{1i} v_{2i}\n",
    "$$\n",
    "\n",
    "and the L2 norm \n",
    "\n",
    "$$\n",
    "\\| \\mathbf{v} \\| = \\sqrt{\\sum_{i=1}^{n} v_i^2}\n",
    "$$\n",
    "\n",
    "1. Write a Python function that computes the cosine similarity between two vectors from scratch.\n",
    "2. Explore the cosine similarity between various pairs of users, and analyse the answers\n",
    "3. Explore the use of `scipy.spatial.distance.pdist` to get a similarity matrix of all pairs of users in the implicit matrix first, then on the explicit ratings. Analyse and discuss your results"
   ]
  },
  {
   "cell_type": "code",
   "execution_count": 495,
   "metadata": {},
   "outputs": [
    {
     "name": "stdout",
     "output_type": "stream",
     "text": [
      "User_1 User_2 -> 0.5999999999999999\n",
      "User_1 User_3 -> 0.9999999999999998\n",
      "User_1 User_4 -> 0.8944271909999159\n",
      "User_1 User_5 -> 0.7302967433402214\n",
      "User_1 User_6 -> 0.3999999999999999\n",
      "User_1 User_7 -> 0.6761234037828131\n",
      "User_1 User_8 -> 0.33806170189140655\n",
      "User_1 User_9 -> 0.4743416490252569\n",
      "User_1 User_10 -> 0.3651483716701107\n",
      "User_1 User_11 -> 0.22360679774997896\n",
      "User_1 User_12 -> 0.3999999999999999\n",
      "User_1 User_13 -> 0.4472135954999579\n",
      "User_1 User_14 -> 0.22360679774997896\n",
      "User_1 User_15 -> 0.4472135954999579\n",
      "User_1 User_16 -> 0.5070925528371099\n",
      "User_1 User_17 -> 0.5070925528371099\n",
      "User_1 User_18 -> 0.3999999999999999\n",
      "User_1 User_19 -> 0.5477225575051661\n",
      "User_1 User_20 -> 0.5070925528371099\n",
      "User_2 User_3 -> 0.5999999999999999\n",
      "User_2 User_4 -> 0.6708203932499369\n",
      "User_2 User_5 -> 0.7302967433402214\n",
      "User_2 User_6 -> 0.19999999999999996\n",
      "User_2 User_7 -> 0.33806170189140655\n",
      "User_2 User_8 -> 0.33806170189140655\n",
      "User_2 User_9 -> 0.6324555320336759\n",
      "User_2 User_10 -> 0.5477225575051661\n",
      "User_2 User_11 -> 0.22360679774997896\n",
      "User_2 User_12 -> 0.19999999999999996\n",
      "User_2 User_13 -> 0.22360679774997896\n",
      "User_2 User_14 -> 0.22360679774997896\n",
      "User_2 User_15 -> 0.22360679774997896\n",
      "User_2 User_16 -> 0.5070925528371099\n",
      "User_2 User_17 -> 0.6761234037828131\n",
      "User_2 User_18 -> 0.3999999999999999\n",
      "User_2 User_19 -> 0.5477225575051661\n",
      "User_2 User_20 -> 0.6761234037828131\n",
      "User_3 User_4 -> 0.8944271909999159\n",
      "User_3 User_5 -> 0.7302967433402214\n",
      "User_3 User_6 -> 0.3999999999999999\n",
      "User_3 User_7 -> 0.6761234037828131\n",
      "User_3 User_8 -> 0.33806170189140655\n",
      "User_3 User_9 -> 0.4743416490252569\n",
      "User_3 User_10 -> 0.3651483716701107\n",
      "User_3 User_11 -> 0.22360679774997896\n",
      "User_3 User_12 -> 0.3999999999999999\n",
      "User_3 User_13 -> 0.4472135954999579\n",
      "User_3 User_14 -> 0.22360679774997896\n",
      "User_3 User_15 -> 0.4472135954999579\n",
      "User_3 User_16 -> 0.5070925528371099\n",
      "User_3 User_17 -> 0.5070925528371099\n",
      "User_3 User_18 -> 0.3999999999999999\n",
      "User_3 User_19 -> 0.5477225575051661\n",
      "User_3 User_20 -> 0.5070925528371099\n",
      "User_4 User_5 -> 0.6123724356957946\n",
      "User_4 User_6 -> 0.22360679774997896\n",
      "User_4 User_7 -> 0.5669467095138409\n",
      "User_4 User_8 -> 0.1889822365046136\n",
      "User_4 User_9 -> 0.5303300858899106\n",
      "User_4 User_10 -> 0.4082482904638631\n",
      "User_4 User_11 -> 0.25\n",
      "User_4 User_12 -> 0.4472135954999579\n",
      "User_4 User_13 -> 0.5\n",
      "User_4 User_14 -> 0.25\n",
      "User_4 User_15 -> 0.5\n",
      "User_4 User_16 -> 0.3779644730092272\n",
      "User_4 User_17 -> 0.3779644730092272\n",
      "User_4 User_18 -> 0.22360679774997896\n",
      "User_4 User_19 -> 0.4082482904638631\n",
      "User_4 User_20 -> 0.3779644730092272\n",
      "User_5 User_6 -> 0.3651483716701107\n",
      "User_5 User_7 -> 0.6172133998483676\n",
      "User_5 User_8 -> 0.4629100498862757\n",
      "User_5 User_9 -> 0.5773502691896258\n",
      "User_5 User_10 -> 0.5000000000000001\n",
      "User_5 User_11 -> 0.20412414523193154\n",
      "User_5 User_12 -> 0.3651483716701107\n",
      "User_5 User_13 -> 0.4082482904638631\n",
      "User_5 User_14 -> 0.20412414523193154\n",
      "User_5 User_15 -> 0.4082482904638631\n",
      "User_5 User_16 -> 0.4629100498862757\n",
      "User_5 User_17 -> 0.7715167498104595\n",
      "User_5 User_18 -> 0.3651483716701107\n",
      "User_5 User_19 -> 0.6666666666666667\n",
      "User_5 User_20 -> 0.7715167498104595\n",
      "User_6 User_7 -> 0.6761234037828131\n",
      "User_6 User_8 -> 0.8451542547285165\n",
      "User_6 User_9 -> 0.6324555320336759\n",
      "User_6 User_10 -> 0.7302967433402214\n",
      "User_6 User_11 -> 0.8944271909999159\n",
      "User_6 User_12 -> 0.5999999999999999\n",
      "User_6 User_13 -> 0.6708203932499369\n",
      "User_6 User_14 -> 0.8944271909999159\n",
      "User_6 User_15 -> 0.6708203932499369\n",
      "User_6 User_16 -> 0.6761234037828131\n",
      "User_6 User_17 -> 0.5070925528371099\n",
      "User_6 User_18 -> 0.5999999999999999\n",
      "User_6 User_19 -> 0.3651483716701107\n",
      "User_6 User_20 -> 0.5070925528371099\n",
      "User_7 User_8 -> 0.7142857142857142\n",
      "User_7 User_9 -> 0.6681531047810609\n",
      "User_7 User_10 -> 0.4629100498862757\n",
      "User_7 User_11 -> 0.5669467095138409\n",
      "User_7 User_12 -> 0.8451542547285165\n",
      "User_7 User_13 -> 0.5669467095138409\n",
      "User_7 User_14 -> 0.5669467095138409\n",
      "User_7 User_15 -> 0.7559289460184544\n",
      "User_7 User_16 -> 0.7142857142857142\n",
      "User_7 User_17 -> 0.5714285714285714\n",
      "User_7 User_18 -> 0.5070925528371099\n",
      "User_7 User_19 -> 0.6172133998483676\n",
      "User_7 User_20 -> 0.7142857142857142\n",
      "User_8 User_9 -> 0.8017837257372731\n",
      "User_8 User_10 -> 0.7715167498104595\n",
      "User_8 User_11 -> 0.7559289460184544\n",
      "User_8 User_12 -> 0.6761234037828131\n",
      "User_8 User_13 -> 0.5669467095138409\n",
      "User_8 User_14 -> 0.7559289460184544\n",
      "User_8 User_15 -> 0.5669467095138409\n",
      "User_8 User_16 -> 0.857142857142857\n",
      "User_8 User_17 -> 0.7142857142857142\n",
      "User_8 User_18 -> 0.8451542547285165\n",
      "User_8 User_19 -> 0.6172133998483676\n",
      "User_8 User_20 -> 0.7142857142857142\n",
      "User_9 User_10 -> 0.8660254037844387\n",
      "User_9 User_11 -> 0.7071067811865475\n",
      "User_9 User_12 -> 0.7905694150420948\n",
      "User_9 User_13 -> 0.7071067811865475\n",
      "User_9 User_14 -> 0.7071067811865475\n",
      "User_9 User_15 -> 0.5303300858899106\n",
      "User_9 User_16 -> 0.8017837257372731\n",
      "User_9 User_17 -> 0.6681531047810609\n",
      "User_9 User_18 -> 0.6324555320336759\n",
      "User_9 User_19 -> 0.7216878364870323\n",
      "User_9 User_20 -> 0.6681531047810609\n",
      "User_10 User_11 -> 0.8164965809277261\n",
      "User_10 User_12 -> 0.5477225575051661\n",
      "User_10 User_13 -> 0.8164965809277261\n",
      "User_10 User_14 -> 0.8164965809277261\n",
      "User_10 User_15 -> 0.6123724356957946\n",
      "User_10 User_16 -> 0.6172133998483676\n",
      "User_10 User_17 -> 0.6172133998483676\n",
      "User_10 User_18 -> 0.5477225575051661\n",
      "User_10 User_19 -> 0.5000000000000001\n",
      "User_10 User_20 -> 0.4629100498862757\n",
      "User_11 User_12 -> 0.6708203932499369\n",
      "User_11 User_13 -> 0.75\n",
      "User_11 User_14 -> 1.0\n",
      "User_11 User_15 -> 0.75\n",
      "User_11 User_16 -> 0.5669467095138409\n",
      "User_11 User_17 -> 0.3779644730092272\n",
      "User_11 User_18 -> 0.4472135954999579\n",
      "User_11 User_19 -> 0.20412414523193154\n",
      "User_11 User_20 -> 0.3779644730092272\n",
      "User_12 User_13 -> 0.6708203932499369\n",
      "User_12 User_14 -> 0.6708203932499369\n",
      "User_12 User_15 -> 0.6708203932499369\n",
      "User_12 User_16 -> 0.6761234037828131\n",
      "User_12 User_17 -> 0.33806170189140655\n",
      "User_12 User_18 -> 0.3999999999999999\n",
      "User_12 User_19 -> 0.5477225575051661\n",
      "User_12 User_20 -> 0.5070925528371099\n",
      "User_13 User_14 -> 0.75\n",
      "User_13 User_15 -> 0.75\n",
      "User_13 User_16 -> 0.3779644730092272\n",
      "User_13 User_17 -> 0.3779644730092272\n",
      "User_13 User_18 -> 0.22360679774997896\n",
      "User_13 User_19 -> 0.4082482904638631\n",
      "User_13 User_20 -> 0.1889822365046136\n",
      "User_14 User_15 -> 0.75\n",
      "User_14 User_16 -> 0.5669467095138409\n",
      "User_14 User_17 -> 0.3779644730092272\n",
      "User_14 User_18 -> 0.4472135954999579\n",
      "User_14 User_19 -> 0.20412414523193154\n",
      "User_14 User_20 -> 0.3779644730092272\n",
      "User_15 User_16 -> 0.3779644730092272\n",
      "User_15 User_17 -> 0.3779644730092272\n",
      "User_15 User_18 -> 0.22360679774997896\n",
      "User_15 User_19 -> 0.20412414523193154\n",
      "User_15 User_20 -> 0.3779644730092272\n",
      "User_16 User_17 -> 0.5714285714285714\n",
      "User_16 User_18 -> 0.8451542547285165\n",
      "User_16 User_19 -> 0.7715167498104595\n",
      "User_16 User_20 -> 0.7142857142857142\n",
      "User_17 User_18 -> 0.6761234037828131\n",
      "User_17 User_19 -> 0.6172133998483676\n",
      "User_17 User_20 -> 0.857142857142857\n",
      "User_18 User_19 -> 0.5477225575051661\n",
      "User_18 User_20 -> 0.6761234037828131\n",
      "User_19 User_20 -> 0.6172133998483676\n"
     ]
    }
   ],
   "source": [
    "def cosine_similarity(v1, v2):\n",
    "    return np.dot(v1, v2) / (np.sqrt(np.dot(v1, v1)) * np.sqrt(np.dot(v2, v2)))\n",
    "\n",
    "results = []\n",
    "\n",
    "for i in range(0, 20):\n",
    "    for j in range(i+1, 20): # only upper triangle 20*19/2 == 190\n",
    "        #df_results = df_results.append({'user1': df.values[i,0:1], 'user2': df.values[j,0:1], 'similarity': cosine_similarity(df.values[i,1:], df.values[j,1:])}, ignore_index=True)\n",
    "        similarity = cosine_similarity(df.values[i,1:], df.values[j,1:])\n",
    "        results.append((df.values[i,0], df.values[j,0], similarity))\n",
    "        print(f'{df.values[i,0]} {df.values[j,0]} -> {similarity}')"
   ]
  },
  {
   "cell_type": "markdown",
   "metadata": {},
   "source": [
    "**Testing parallelism**"
   ]
  },
  {
   "cell_type": "markdown",
   "metadata": {},
   "source": [
    "```python\t\n",
    "from multiprocessing import Pool\n",
    "\n",
    "def calculate_similarity(user_pair):\n",
    "    i, j = user_pair\n",
    "    similarity = cosine_similarity(df.values[i, 1:], df.values[j, 1:])\n",
    "    return (df.values[i, 0], df.values[j, 0], similarity)\n",
    "\n",
    "# defining user pairs\n",
    "user_pairs = [(i, j) for i in range(20) for j in range(i+1, 20)]\n",
    "\n",
    "# parallelism using a Pool of worker processes\n",
    "with Pool(processes=4) as pool:\n",
    "    results = pool.map(calculate_similarity, user_pairs)\n",
    "\n",
    "for result in results:\n",
    "    print(f'{result[0]} {result[1]} -> {result[2]}')\n",
    "```"
   ]
  },
  {
   "cell_type": "markdown",
   "metadata": {},
   "source": [
    "**Without** ``numpy``"
   ]
  },
  {
   "cell_type": "code",
   "execution_count": 496,
   "metadata": {},
   "outputs": [],
   "source": [
    "import math\n",
    "\n",
    "def cosine_similarity_scratch(v1, v2):\n",
    "    \n",
    "    dot_product = sum(x * y for x, y in zip(v1, v2))\n",
    "    \n",
    "    module_v1 = math.sqrt(sum(x**2 for x in v1))\n",
    "    module_v2 = math.sqrt(sum(x**2 for x in v2))\n",
    "    \n",
    "    # zero division\n",
    "    if module_v1 == 0 or module_v2 == 0:\n",
    "        return 0\n",
    "    \n",
    "    return dot_product / (module_v1 * module_v2)"
   ]
  },
  {
   "cell_type": "code",
   "execution_count": 497,
   "metadata": {},
   "outputs": [
    {
     "data": {
      "text/html": [
       "<div>\n",
       "<style scoped>\n",
       "    .dataframe tbody tr th:only-of-type {\n",
       "        vertical-align: middle;\n",
       "    }\n",
       "\n",
       "    .dataframe tbody tr th {\n",
       "        vertical-align: top;\n",
       "    }\n",
       "\n",
       "    .dataframe thead th {\n",
       "        text-align: right;\n",
       "    }\n",
       "</style>\n",
       "<table border=\"1\" class=\"dataframe\">\n",
       "  <thead>\n",
       "    <tr style=\"text-align: right;\">\n",
       "      <th></th>\n",
       "      <th>user_1</th>\n",
       "      <th>user_2</th>\n",
       "      <th>similarity</th>\n",
       "    </tr>\n",
       "  </thead>\n",
       "  <tbody>\n",
       "    <tr>\n",
       "      <th>0</th>\n",
       "      <td>User_1</td>\n",
       "      <td>User_2</td>\n",
       "      <td>0.600000</td>\n",
       "    </tr>\n",
       "    <tr>\n",
       "      <th>1</th>\n",
       "      <td>User_1</td>\n",
       "      <td>User_3</td>\n",
       "      <td>1.000000</td>\n",
       "    </tr>\n",
       "    <tr>\n",
       "      <th>2</th>\n",
       "      <td>User_1</td>\n",
       "      <td>User_4</td>\n",
       "      <td>0.894427</td>\n",
       "    </tr>\n",
       "    <tr>\n",
       "      <th>3</th>\n",
       "      <td>User_1</td>\n",
       "      <td>User_5</td>\n",
       "      <td>0.730297</td>\n",
       "    </tr>\n",
       "    <tr>\n",
       "      <th>4</th>\n",
       "      <td>User_1</td>\n",
       "      <td>User_6</td>\n",
       "      <td>0.400000</td>\n",
       "    </tr>\n",
       "  </tbody>\n",
       "</table>\n",
       "</div>"
      ],
      "text/plain": [
       "   user_1  user_2  similarity\n",
       "0  User_1  User_2    0.600000\n",
       "1  User_1  User_3    1.000000\n",
       "2  User_1  User_4    0.894427\n",
       "3  User_1  User_5    0.730297\n",
       "4  User_1  User_6    0.400000"
      ]
     },
     "execution_count": 497,
     "metadata": {},
     "output_type": "execute_result"
    }
   ],
   "source": [
    "df_results = pd.DataFrame(results, columns=['user_1', 'user_2', 'similarity'])\n",
    "df_results.head()"
   ]
  },
  {
   "cell_type": "code",
   "execution_count": 498,
   "metadata": {},
   "outputs": [
    {
     "name": "stdout",
     "output_type": "stream",
     "text": [
      "<class 'pandas.core.frame.DataFrame'>\n",
      "RangeIndex: 190 entries, 0 to 189\n",
      "Data columns (total 3 columns):\n",
      " #   Column      Non-Null Count  Dtype  \n",
      "---  ------      --------------  -----  \n",
      " 0   user_1      190 non-null    object \n",
      " 1   user_2      190 non-null    object \n",
      " 2   similarity  190 non-null    float64\n",
      "dtypes: float64(1), object(2)\n",
      "memory usage: 4.6+ KB\n"
     ]
    }
   ],
   "source": [
    "df_results.info()"
   ]
  },
  {
   "cell_type": "markdown",
   "metadata": {},
   "source": [
    "### Top most similar users\n",
    "- The pairs (``User_11``, ``User_14``) and (``User_1``, ``User_3``) are the most similar users with a similarity of ``1``.\n"
   ]
  },
  {
   "cell_type": "code",
   "execution_count": 499,
   "metadata": {},
   "outputs": [
    {
     "data": {
      "text/html": [
       "<div>\n",
       "<style scoped>\n",
       "    .dataframe tbody tr th:only-of-type {\n",
       "        vertical-align: middle;\n",
       "    }\n",
       "\n",
       "    .dataframe tbody tr th {\n",
       "        vertical-align: top;\n",
       "    }\n",
       "\n",
       "    .dataframe thead th {\n",
       "        text-align: right;\n",
       "    }\n",
       "</style>\n",
       "<table border=\"1\" class=\"dataframe\">\n",
       "  <thead>\n",
       "    <tr style=\"text-align: right;\">\n",
       "      <th></th>\n",
       "      <th>user_1</th>\n",
       "      <th>user_2</th>\n",
       "      <th>similarity</th>\n",
       "    </tr>\n",
       "  </thead>\n",
       "  <tbody>\n",
       "    <tr>\n",
       "      <th>147</th>\n",
       "      <td>User_11</td>\n",
       "      <td>User_14</td>\n",
       "      <td>1.000000</td>\n",
       "    </tr>\n",
       "    <tr>\n",
       "      <th>1</th>\n",
       "      <td>User_1</td>\n",
       "      <td>User_3</td>\n",
       "      <td>1.000000</td>\n",
       "    </tr>\n",
       "    <tr>\n",
       "      <th>37</th>\n",
       "      <td>User_3</td>\n",
       "      <td>User_4</td>\n",
       "      <td>0.894427</td>\n",
       "    </tr>\n",
       "    <tr>\n",
       "      <th>92</th>\n",
       "      <td>User_6</td>\n",
       "      <td>User_14</td>\n",
       "      <td>0.894427</td>\n",
       "    </tr>\n",
       "    <tr>\n",
       "      <th>2</th>\n",
       "      <td>User_1</td>\n",
       "      <td>User_4</td>\n",
       "      <td>0.894427</td>\n",
       "    </tr>\n",
       "    <tr>\n",
       "      <th>89</th>\n",
       "      <td>User_6</td>\n",
       "      <td>User_11</td>\n",
       "      <td>0.894427</td>\n",
       "    </tr>\n",
       "    <tr>\n",
       "      <th>124</th>\n",
       "      <td>User_9</td>\n",
       "      <td>User_10</td>\n",
       "      <td>0.866025</td>\n",
       "    </tr>\n",
       "    <tr>\n",
       "      <th>186</th>\n",
       "      <td>User_17</td>\n",
       "      <td>User_20</td>\n",
       "      <td>0.857143</td>\n",
       "    </tr>\n",
       "    <tr>\n",
       "      <th>119</th>\n",
       "      <td>User_8</td>\n",
       "      <td>User_16</td>\n",
       "      <td>0.857143</td>\n",
       "    </tr>\n",
       "    <tr>\n",
       "      <th>181</th>\n",
       "      <td>User_16</td>\n",
       "      <td>User_18</td>\n",
       "      <td>0.845154</td>\n",
       "    </tr>\n",
       "  </tbody>\n",
       "</table>\n",
       "</div>"
      ],
      "text/plain": [
       "      user_1   user_2  similarity\n",
       "147  User_11  User_14    1.000000\n",
       "1     User_1   User_3    1.000000\n",
       "37    User_3   User_4    0.894427\n",
       "92    User_6  User_14    0.894427\n",
       "2     User_1   User_4    0.894427\n",
       "89    User_6  User_11    0.894427\n",
       "124   User_9  User_10    0.866025\n",
       "186  User_17  User_20    0.857143\n",
       "119   User_8  User_16    0.857143\n",
       "181  User_16  User_18    0.845154"
      ]
     },
     "execution_count": 499,
     "metadata": {},
     "output_type": "execute_result"
    }
   ],
   "source": [
    "# ignore df_results where user_1 == user_2\n",
    "df_results = df_results[df_results['user_1'] != df_results['user_2']]\n",
    "df_results.sort_values(by='similarity', ascending=False).head(10)"
   ]
  },
  {
   "cell_type": "code",
   "execution_count": 500,
   "metadata": {},
   "outputs": [
    {
     "name": "stdout",
     "output_type": "stream",
     "text": [
      "<class 'pandas.core.frame.DataFrame'>\n",
      "Int64Index: 190 entries, 0 to 189\n",
      "Data columns (total 3 columns):\n",
      " #   Column      Non-Null Count  Dtype  \n",
      "---  ------      --------------  -----  \n",
      " 0   user_1      190 non-null    object \n",
      " 1   user_2      190 non-null    object \n",
      " 2   similarity  190 non-null    float64\n",
      "dtypes: float64(1), object(2)\n",
      "memory usage: 5.9+ KB\n"
     ]
    }
   ],
   "source": [
    "df_results.info()"
   ]
  },
  {
   "cell_type": "code",
   "execution_count": 501,
   "metadata": {},
   "outputs": [
    {
     "data": {
      "image/png": "[encoded data removed]",
      "text/plain": [
       "<Figure size 640x480 with 1 Axes>"
      ]
     },
     "metadata": {},
     "output_type": "display_data"
    }
   ],
   "source": [
    "sns.histplot(df_results.values, bins=20)\n",
    "plt.xlabel('Cosine Similarity')\n",
    "plt.yticks(range(0, 20, 5))\n",
    "plt.grid(axis='y')\n",
    "plt.legend(['Cosine Similarity'])\n",
    "plt.show()"
   ]
  },
  {
   "cell_type": "markdown",
   "metadata": {},
   "source": [
    "### Least Similar Users\n",
    "- The pairs (``User_4``, ``User_8``) and (``User_13``, ``User_20``) are the least similar users with a similarity of ``0.188982``.\n"
   ]
  },
  {
   "cell_type": "code",
   "execution_count": 502,
   "metadata": {},
   "outputs": [
    {
     "data": {
      "text/html": [
       "<div>\n",
       "<style scoped>\n",
       "    .dataframe tbody tr th:only-of-type {\n",
       "        vertical-align: middle;\n",
       "    }\n",
       "\n",
       "    .dataframe tbody tr th {\n",
       "        vertical-align: top;\n",
       "    }\n",
       "\n",
       "    .dataframe thead th {\n",
       "        text-align: right;\n",
       "    }\n",
       "</style>\n",
       "<table border=\"1\" class=\"dataframe\">\n",
       "  <thead>\n",
       "    <tr style=\"text-align: right;\">\n",
       "      <th></th>\n",
       "      <th>user_1</th>\n",
       "      <th>user_2</th>\n",
       "      <th>similarity</th>\n",
       "    </tr>\n",
       "  </thead>\n",
       "  <tbody>\n",
       "    <tr>\n",
       "      <th>57</th>\n",
       "      <td>User_4</td>\n",
       "      <td>User_8</td>\n",
       "      <td>0.188982</td>\n",
       "    </tr>\n",
       "    <tr>\n",
       "      <th>168</th>\n",
       "      <td>User_13</td>\n",
       "      <td>User_20</td>\n",
       "      <td>0.188982</td>\n",
       "    </tr>\n",
       "    <tr>\n",
       "      <th>22</th>\n",
       "      <td>User_2</td>\n",
       "      <td>User_6</td>\n",
       "      <td>0.200000</td>\n",
       "    </tr>\n",
       "    <tr>\n",
       "      <th>28</th>\n",
       "      <td>User_2</td>\n",
       "      <td>User_12</td>\n",
       "      <td>0.200000</td>\n",
       "    </tr>\n",
       "    <tr>\n",
       "      <th>173</th>\n",
       "      <td>User_14</td>\n",
       "      <td>User_19</td>\n",
       "      <td>0.204124</td>\n",
       "    </tr>\n",
       "    <tr>\n",
       "      <th>78</th>\n",
       "      <td>User_5</td>\n",
       "      <td>User_14</td>\n",
       "      <td>0.204124</td>\n",
       "    </tr>\n",
       "    <tr>\n",
       "      <th>75</th>\n",
       "      <td>User_5</td>\n",
       "      <td>User_11</td>\n",
       "      <td>0.204124</td>\n",
       "    </tr>\n",
       "    <tr>\n",
       "      <th>178</th>\n",
       "      <td>User_15</td>\n",
       "      <td>User_19</td>\n",
       "      <td>0.204124</td>\n",
       "    </tr>\n",
       "    <tr>\n",
       "      <th>152</th>\n",
       "      <td>User_11</td>\n",
       "      <td>User_19</td>\n",
       "      <td>0.204124</td>\n",
       "    </tr>\n",
       "    <tr>\n",
       "      <th>31</th>\n",
       "      <td>User_2</td>\n",
       "      <td>User_15</td>\n",
       "      <td>0.223607</td>\n",
       "    </tr>\n",
       "  </tbody>\n",
       "</table>\n",
       "</div>"
      ],
      "text/plain": [
       "      user_1   user_2  similarity\n",
       "57    User_4   User_8    0.188982\n",
       "168  User_13  User_20    0.188982\n",
       "22    User_2   User_6    0.200000\n",
       "28    User_2  User_12    0.200000\n",
       "173  User_14  User_19    0.204124\n",
       "78    User_5  User_14    0.204124\n",
       "75    User_5  User_11    0.204124\n",
       "178  User_15  User_19    0.204124\n",
       "152  User_11  User_19    0.204124\n",
       "31    User_2  User_15    0.223607"
      ]
     },
     "execution_count": 502,
     "metadata": {},
     "output_type": "execute_result"
    }
   ],
   "source": [
    "df_results.sort_values(by='similarity', ascending=True).head(10)"
   ]
  },
  {
   "cell_type": "code",
   "execution_count": 503,
   "metadata": {},
   "outputs": [
    {
     "data": {
      "text/html": [
       "<div>\n",
       "<style scoped>\n",
       "    .dataframe tbody tr th:only-of-type {\n",
       "        vertical-align: middle;\n",
       "    }\n",
       "\n",
       "    .dataframe tbody tr th {\n",
       "        vertical-align: top;\n",
       "    }\n",
       "\n",
       "    .dataframe thead th {\n",
       "        text-align: right;\n",
       "    }\n",
       "</style>\n",
       "<table border=\"1\" class=\"dataframe\">\n",
       "  <thead>\n",
       "    <tr style=\"text-align: right;\">\n",
       "      <th>user_2</th>\n",
       "      <th>User_2</th>\n",
       "      <th>User_3</th>\n",
       "      <th>User_4</th>\n",
       "      <th>User_5</th>\n",
       "      <th>User_6</th>\n",
       "      <th>User_7</th>\n",
       "      <th>User_8</th>\n",
       "      <th>User_9</th>\n",
       "      <th>User_10</th>\n",
       "      <th>User_11</th>\n",
       "      <th>User_12</th>\n",
       "      <th>User_13</th>\n",
       "      <th>User_14</th>\n",
       "      <th>User_15</th>\n",
       "      <th>User_16</th>\n",
       "      <th>User_17</th>\n",
       "      <th>User_18</th>\n",
       "      <th>User_19</th>\n",
       "      <th>User_20</th>\n",
       "    </tr>\n",
       "    <tr>\n",
       "      <th>user_1</th>\n",
       "      <th></th>\n",
       "      <th></th>\n",
       "      <th></th>\n",
       "      <th></th>\n",
       "      <th></th>\n",
       "      <th></th>\n",
       "      <th></th>\n",
       "      <th></th>\n",
       "      <th></th>\n",
       "      <th></th>\n",
       "      <th></th>\n",
       "      <th></th>\n",
       "      <th></th>\n",
       "      <th></th>\n",
       "      <th></th>\n",
       "      <th></th>\n",
       "      <th></th>\n",
       "      <th></th>\n",
       "      <th></th>\n",
       "    </tr>\n",
       "  </thead>\n",
       "  <tbody>\n",
       "    <tr>\n",
       "      <th>User_1</th>\n",
       "      <td>0.6</td>\n",
       "      <td>1.0</td>\n",
       "      <td>0.894427</td>\n",
       "      <td>0.730297</td>\n",
       "      <td>0.400000</td>\n",
       "      <td>0.676123</td>\n",
       "      <td>0.338062</td>\n",
       "      <td>0.474342</td>\n",
       "      <td>0.365148</td>\n",
       "      <td>0.223607</td>\n",
       "      <td>0.400000</td>\n",
       "      <td>0.447214</td>\n",
       "      <td>0.223607</td>\n",
       "      <td>0.447214</td>\n",
       "      <td>0.507093</td>\n",
       "      <td>0.507093</td>\n",
       "      <td>0.400000</td>\n",
       "      <td>0.547723</td>\n",
       "      <td>0.507093</td>\n",
       "    </tr>\n",
       "    <tr>\n",
       "      <th>User_2</th>\n",
       "      <td>NaN</td>\n",
       "      <td>0.6</td>\n",
       "      <td>0.670820</td>\n",
       "      <td>0.730297</td>\n",
       "      <td>0.200000</td>\n",
       "      <td>0.338062</td>\n",
       "      <td>0.338062</td>\n",
       "      <td>0.632456</td>\n",
       "      <td>0.547723</td>\n",
       "      <td>0.223607</td>\n",
       "      <td>0.200000</td>\n",
       "      <td>0.223607</td>\n",
       "      <td>0.223607</td>\n",
       "      <td>0.223607</td>\n",
       "      <td>0.507093</td>\n",
       "      <td>0.676123</td>\n",
       "      <td>0.400000</td>\n",
       "      <td>0.547723</td>\n",
       "      <td>0.676123</td>\n",
       "    </tr>\n",
       "    <tr>\n",
       "      <th>User_3</th>\n",
       "      <td>NaN</td>\n",
       "      <td>NaN</td>\n",
       "      <td>0.894427</td>\n",
       "      <td>0.730297</td>\n",
       "      <td>0.400000</td>\n",
       "      <td>0.676123</td>\n",
       "      <td>0.338062</td>\n",
       "      <td>0.474342</td>\n",
       "      <td>0.365148</td>\n",
       "      <td>0.223607</td>\n",
       "      <td>0.400000</td>\n",
       "      <td>0.447214</td>\n",
       "      <td>0.223607</td>\n",
       "      <td>0.447214</td>\n",
       "      <td>0.507093</td>\n",
       "      <td>0.507093</td>\n",
       "      <td>0.400000</td>\n",
       "      <td>0.547723</td>\n",
       "      <td>0.507093</td>\n",
       "    </tr>\n",
       "    <tr>\n",
       "      <th>User_4</th>\n",
       "      <td>NaN</td>\n",
       "      <td>NaN</td>\n",
       "      <td>NaN</td>\n",
       "      <td>0.612372</td>\n",
       "      <td>0.223607</td>\n",
       "      <td>0.566947</td>\n",
       "      <td>0.188982</td>\n",
       "      <td>0.530330</td>\n",
       "      <td>0.408248</td>\n",
       "      <td>0.250000</td>\n",
       "      <td>0.447214</td>\n",
       "      <td>0.500000</td>\n",
       "      <td>0.250000</td>\n",
       "      <td>0.500000</td>\n",
       "      <td>0.377964</td>\n",
       "      <td>0.377964</td>\n",
       "      <td>0.223607</td>\n",
       "      <td>0.408248</td>\n",
       "      <td>0.377964</td>\n",
       "    </tr>\n",
       "    <tr>\n",
       "      <th>User_5</th>\n",
       "      <td>NaN</td>\n",
       "      <td>NaN</td>\n",
       "      <td>NaN</td>\n",
       "      <td>NaN</td>\n",
       "      <td>0.365148</td>\n",
       "      <td>0.617213</td>\n",
       "      <td>0.462910</td>\n",
       "      <td>0.577350</td>\n",
       "      <td>0.500000</td>\n",
       "      <td>0.204124</td>\n",
       "      <td>0.365148</td>\n",
       "      <td>0.408248</td>\n",
       "      <td>0.204124</td>\n",
       "      <td>0.408248</td>\n",
       "      <td>0.462910</td>\n",
       "      <td>0.771517</td>\n",
       "      <td>0.365148</td>\n",
       "      <td>0.666667</td>\n",
       "      <td>0.771517</td>\n",
       "    </tr>\n",
       "    <tr>\n",
       "      <th>User_6</th>\n",
       "      <td>NaN</td>\n",
       "      <td>NaN</td>\n",
       "      <td>NaN</td>\n",
       "      <td>NaN</td>\n",
       "      <td>NaN</td>\n",
       "      <td>0.676123</td>\n",
       "      <td>0.845154</td>\n",
       "      <td>0.632456</td>\n",
       "      <td>0.730297</td>\n",
       "      <td>0.894427</td>\n",
       "      <td>0.600000</td>\n",
       "      <td>0.670820</td>\n",
       "      <td>0.894427</td>\n",
       "      <td>0.670820</td>\n",
       "      <td>0.676123</td>\n",
       "      <td>0.507093</td>\n",
       "      <td>0.600000</td>\n",
       "      <td>0.365148</td>\n",
       "      <td>0.507093</td>\n",
       "    </tr>\n",
       "    <tr>\n",
       "      <th>User_7</th>\n",
       "      <td>NaN</td>\n",
       "      <td>NaN</td>\n",
       "      <td>NaN</td>\n",
       "      <td>NaN</td>\n",
       "      <td>NaN</td>\n",
       "      <td>NaN</td>\n",
       "      <td>0.714286</td>\n",
       "      <td>0.668153</td>\n",
       "      <td>0.462910</td>\n",
       "      <td>0.566947</td>\n",
       "      <td>0.845154</td>\n",
       "      <td>0.566947</td>\n",
       "      <td>0.566947</td>\n",
       "      <td>0.755929</td>\n",
       "      <td>0.714286</td>\n",
       "      <td>0.571429</td>\n",
       "      <td>0.507093</td>\n",
       "      <td>0.617213</td>\n",
       "      <td>0.714286</td>\n",
       "    </tr>\n",
       "    <tr>\n",
       "      <th>User_8</th>\n",
       "      <td>NaN</td>\n",
       "      <td>NaN</td>\n",
       "      <td>NaN</td>\n",
       "      <td>NaN</td>\n",
       "      <td>NaN</td>\n",
       "      <td>NaN</td>\n",
       "      <td>NaN</td>\n",
       "      <td>0.801784</td>\n",
       "      <td>0.771517</td>\n",
       "      <td>0.755929</td>\n",
       "      <td>0.676123</td>\n",
       "      <td>0.566947</td>\n",
       "      <td>0.755929</td>\n",
       "      <td>0.566947</td>\n",
       "      <td>0.857143</td>\n",
       "      <td>0.714286</td>\n",
       "      <td>0.845154</td>\n",
       "      <td>0.617213</td>\n",
       "      <td>0.714286</td>\n",
       "    </tr>\n",
       "    <tr>\n",
       "      <th>User_9</th>\n",
       "      <td>NaN</td>\n",
       "      <td>NaN</td>\n",
       "      <td>NaN</td>\n",
       "      <td>NaN</td>\n",
       "      <td>NaN</td>\n",
       "      <td>NaN</td>\n",
       "      <td>NaN</td>\n",
       "      <td>NaN</td>\n",
       "      <td>0.866025</td>\n",
       "      <td>0.707107</td>\n",
       "      <td>0.790569</td>\n",
       "      <td>0.707107</td>\n",
       "      <td>0.707107</td>\n",
       "      <td>0.530330</td>\n",
       "      <td>0.801784</td>\n",
       "      <td>0.668153</td>\n",
       "      <td>0.632456</td>\n",
       "      <td>0.721688</td>\n",
       "      <td>0.668153</td>\n",
       "    </tr>\n",
       "    <tr>\n",
       "      <th>User_10</th>\n",
       "      <td>NaN</td>\n",
       "      <td>NaN</td>\n",
       "      <td>NaN</td>\n",
       "      <td>NaN</td>\n",
       "      <td>NaN</td>\n",
       "      <td>NaN</td>\n",
       "      <td>NaN</td>\n",
       "      <td>NaN</td>\n",
       "      <td>NaN</td>\n",
       "      <td>0.816497</td>\n",
       "      <td>0.547723</td>\n",
       "      <td>0.816497</td>\n",
       "      <td>0.816497</td>\n",
       "      <td>0.612372</td>\n",
       "      <td>0.617213</td>\n",
       "      <td>0.617213</td>\n",
       "      <td>0.547723</td>\n",
       "      <td>0.500000</td>\n",
       "      <td>0.462910</td>\n",
       "    </tr>\n",
       "    <tr>\n",
       "      <th>User_11</th>\n",
       "      <td>NaN</td>\n",
       "      <td>NaN</td>\n",
       "      <td>NaN</td>\n",
       "      <td>NaN</td>\n",
       "      <td>NaN</td>\n",
       "      <td>NaN</td>\n",
       "      <td>NaN</td>\n",
       "      <td>NaN</td>\n",
       "      <td>NaN</td>\n",
       "      <td>NaN</td>\n",
       "      <td>0.670820</td>\n",
       "      <td>0.750000</td>\n",
       "      <td>1.000000</td>\n",
       "      <td>0.750000</td>\n",
       "      <td>0.566947</td>\n",
       "      <td>0.377964</td>\n",
       "      <td>0.447214</td>\n",
       "      <td>0.204124</td>\n",
       "      <td>0.377964</td>\n",
       "    </tr>\n",
       "    <tr>\n",
       "      <th>User_12</th>\n",
       "      <td>NaN</td>\n",
       "      <td>NaN</td>\n",
       "      <td>NaN</td>\n",
       "      <td>NaN</td>\n",
       "      <td>NaN</td>\n",
       "      <td>NaN</td>\n",
       "      <td>NaN</td>\n",
       "      <td>NaN</td>\n",
       "      <td>NaN</td>\n",
       "      <td>NaN</td>\n",
       "      <td>NaN</td>\n",
       "      <td>0.670820</td>\n",
       "      <td>0.670820</td>\n",
       "      <td>0.670820</td>\n",
       "      <td>0.676123</td>\n",
       "      <td>0.338062</td>\n",
       "      <td>0.400000</td>\n",
       "      <td>0.547723</td>\n",
       "      <td>0.507093</td>\n",
       "    </tr>\n",
       "    <tr>\n",
       "      <th>User_13</th>\n",
       "      <td>NaN</td>\n",
       "      <td>NaN</td>\n",
       "      <td>NaN</td>\n",
       "      <td>NaN</td>\n",
       "      <td>NaN</td>\n",
       "      <td>NaN</td>\n",
       "      <td>NaN</td>\n",
       "      <td>NaN</td>\n",
       "      <td>NaN</td>\n",
       "      <td>NaN</td>\n",
       "      <td>NaN</td>\n",
       "      <td>NaN</td>\n",
       "      <td>0.750000</td>\n",
       "      <td>0.750000</td>\n",
       "      <td>0.377964</td>\n",
       "      <td>0.377964</td>\n",
       "      <td>0.223607</td>\n",
       "      <td>0.408248</td>\n",
       "      <td>0.188982</td>\n",
       "    </tr>\n",
       "    <tr>\n",
       "      <th>User_14</th>\n",
       "      <td>NaN</td>\n",
       "      <td>NaN</td>\n",
       "      <td>NaN</td>\n",
       "      <td>NaN</td>\n",
       "      <td>NaN</td>\n",
       "      <td>NaN</td>\n",
       "      <td>NaN</td>\n",
       "      <td>NaN</td>\n",
       "      <td>NaN</td>\n",
       "      <td>NaN</td>\n",
       "      <td>NaN</td>\n",
       "      <td>NaN</td>\n",
       "      <td>NaN</td>\n",
       "      <td>0.750000</td>\n",
       "      <td>0.566947</td>\n",
       "      <td>0.377964</td>\n",
       "      <td>0.447214</td>\n",
       "      <td>0.204124</td>\n",
       "      <td>0.377964</td>\n",
       "    </tr>\n",
       "    <tr>\n",
       "      <th>User_15</th>\n",
       "      <td>NaN</td>\n",
       "      <td>NaN</td>\n",
       "      <td>NaN</td>\n",
       "      <td>NaN</td>\n",
       "      <td>NaN</td>\n",
       "      <td>NaN</td>\n",
       "      <td>NaN</td>\n",
       "      <td>NaN</td>\n",
       "      <td>NaN</td>\n",
       "      <td>NaN</td>\n",
       "      <td>NaN</td>\n",
       "      <td>NaN</td>\n",
       "      <td>NaN</td>\n",
       "      <td>NaN</td>\n",
       "      <td>0.377964</td>\n",
       "      <td>0.377964</td>\n",
       "      <td>0.223607</td>\n",
       "      <td>0.204124</td>\n",
       "      <td>0.377964</td>\n",
       "    </tr>\n",
       "    <tr>\n",
       "      <th>User_16</th>\n",
       "      <td>NaN</td>\n",
       "      <td>NaN</td>\n",
       "      <td>NaN</td>\n",
       "      <td>NaN</td>\n",
       "      <td>NaN</td>\n",
       "      <td>NaN</td>\n",
       "      <td>NaN</td>\n",
       "      <td>NaN</td>\n",
       "      <td>NaN</td>\n",
       "      <td>NaN</td>\n",
       "      <td>NaN</td>\n",
       "      <td>NaN</td>\n",
       "      <td>NaN</td>\n",
       "      <td>NaN</td>\n",
       "      <td>NaN</td>\n",
       "      <td>0.571429</td>\n",
       "      <td>0.845154</td>\n",
       "      <td>0.771517</td>\n",
       "      <td>0.714286</td>\n",
       "    </tr>\n",
       "    <tr>\n",
       "      <th>User_17</th>\n",
       "      <td>NaN</td>\n",
       "      <td>NaN</td>\n",
       "      <td>NaN</td>\n",
       "      <td>NaN</td>\n",
       "      <td>NaN</td>\n",
       "      <td>NaN</td>\n",
       "      <td>NaN</td>\n",
       "      <td>NaN</td>\n",
       "      <td>NaN</td>\n",
       "      <td>NaN</td>\n",
       "      <td>NaN</td>\n",
       "      <td>NaN</td>\n",
       "      <td>NaN</td>\n",
       "      <td>NaN</td>\n",
       "      <td>NaN</td>\n",
       "      <td>NaN</td>\n",
       "      <td>0.676123</td>\n",
       "      <td>0.617213</td>\n",
       "      <td>0.857143</td>\n",
       "    </tr>\n",
       "    <tr>\n",
       "      <th>User_18</th>\n",
       "      <td>NaN</td>\n",
       "      <td>NaN</td>\n",
       "      <td>NaN</td>\n",
       "      <td>NaN</td>\n",
       "      <td>NaN</td>\n",
       "      <td>NaN</td>\n",
       "      <td>NaN</td>\n",
       "      <td>NaN</td>\n",
       "      <td>NaN</td>\n",
       "      <td>NaN</td>\n",
       "      <td>NaN</td>\n",
       "      <td>NaN</td>\n",
       "      <td>NaN</td>\n",
       "      <td>NaN</td>\n",
       "      <td>NaN</td>\n",
       "      <td>NaN</td>\n",
       "      <td>NaN</td>\n",
       "      <td>0.547723</td>\n",
       "      <td>0.676123</td>\n",
       "    </tr>\n",
       "    <tr>\n",
       "      <th>User_19</th>\n",
       "      <td>NaN</td>\n",
       "      <td>NaN</td>\n",
       "      <td>NaN</td>\n",
       "      <td>NaN</td>\n",
       "      <td>NaN</td>\n",
       "      <td>NaN</td>\n",
       "      <td>NaN</td>\n",
       "      <td>NaN</td>\n",
       "      <td>NaN</td>\n",
       "      <td>NaN</td>\n",
       "      <td>NaN</td>\n",
       "      <td>NaN</td>\n",
       "      <td>NaN</td>\n",
       "      <td>NaN</td>\n",
       "      <td>NaN</td>\n",
       "      <td>NaN</td>\n",
       "      <td>NaN</td>\n",
       "      <td>NaN</td>\n",
       "      <td>0.617213</td>\n",
       "    </tr>\n",
       "  </tbody>\n",
       "</table>\n",
       "</div>"
      ],
      "text/plain": [
       "user_2   User_2  User_3    User_4    User_5    User_6    User_7    User_8  \\\n",
       "user_1                                                                      \n",
       "User_1      0.6     1.0  0.894427  0.730297  0.400000  0.676123  0.338062   \n",
       "User_2      NaN     0.6  0.670820  0.730297  0.200000  0.338062  0.338062   \n",
       "User_3      NaN     NaN  0.894427  0.730297  0.400000  0.676123  0.338062   \n",
       "User_4      NaN     NaN       NaN  0.612372  0.223607  0.566947  0.188982   \n",
       "User_5      NaN     NaN       NaN       NaN  0.365148  0.617213  0.462910   \n",
       "User_6      NaN     NaN       NaN       NaN       NaN  0.676123  0.845154   \n",
       "User_7      NaN     NaN       NaN       NaN       NaN       NaN  0.714286   \n",
       "User_8      NaN     NaN       NaN       NaN       NaN       NaN       NaN   \n",
       "User_9      NaN     NaN       NaN       NaN       NaN       NaN       NaN   \n",
       "User_10     NaN     NaN       NaN       NaN       NaN       NaN       NaN   \n",
       "User_11     NaN     NaN       NaN       NaN       NaN       NaN       NaN   \n",
       "User_12     NaN     NaN       NaN       NaN       NaN       NaN       NaN   \n",
       "User_13     NaN     NaN       NaN       NaN       NaN       NaN       NaN   \n",
       "User_14     NaN     NaN       NaN       NaN       NaN       NaN       NaN   \n",
       "User_15     NaN     NaN       NaN       NaN       NaN       NaN       NaN   \n",
       "User_16     NaN     NaN       NaN       NaN       NaN       NaN       NaN   \n",
       "User_17     NaN     NaN       NaN       NaN       NaN       NaN       NaN   \n",
       "User_18     NaN     NaN       NaN       NaN       NaN       NaN       NaN   \n",
       "User_19     NaN     NaN       NaN       NaN       NaN       NaN       NaN   \n",
       "\n",
       "user_2     User_9   User_10   User_11   User_12   User_13   User_14   User_15  \\\n",
       "user_1                                                                          \n",
       "User_1   0.474342  0.365148  0.223607  0.400000  0.447214  0.223607  0.447214   \n",
       "User_2   0.632456  0.547723  0.223607  0.200000  0.223607  0.223607  0.223607   \n",
       "User_3   0.474342  0.365148  0.223607  0.400000  0.447214  0.223607  0.447214   \n",
       "User_4   0.530330  0.408248  0.250000  0.447214  0.500000  0.250000  0.500000   \n",
       "User_5   0.577350  0.500000  0.204124  0.365148  0.408248  0.204124  0.408248   \n",
       "User_6   0.632456  0.730297  0.894427  0.600000  0.670820  0.894427  0.670820   \n",
       "User_7   0.668153  0.462910  0.566947  0.845154  0.566947  0.566947  0.755929   \n",
       "User_8   0.801784  0.771517  0.755929  0.676123  0.566947  0.755929  0.566947   \n",
       "User_9        NaN  0.866025  0.707107  0.790569  0.707107  0.707107  0.530330   \n",
       "User_10       NaN       NaN  0.816497  0.547723  0.816497  0.816497  0.612372   \n",
       "User_11       NaN       NaN       NaN  0.670820  0.750000  1.000000  0.750000   \n",
       "User_12       NaN       NaN       NaN       NaN  0.670820  0.670820  0.670820   \n",
       "User_13       NaN       NaN       NaN       NaN       NaN  0.750000  0.750000   \n",
       "User_14       NaN       NaN       NaN       NaN       NaN       NaN  0.750000   \n",
       "User_15       NaN       NaN       NaN       NaN       NaN       NaN       NaN   \n",
       "User_16       NaN       NaN       NaN       NaN       NaN       NaN       NaN   \n",
       "User_17       NaN       NaN       NaN       NaN       NaN       NaN       NaN   \n",
       "User_18       NaN       NaN       NaN       NaN       NaN       NaN       NaN   \n",
       "User_19       NaN       NaN       NaN       NaN       NaN       NaN       NaN   \n",
       "\n",
       "user_2    User_16   User_17   User_18   User_19   User_20  \n",
       "user_1                                                     \n",
       "User_1   0.507093  0.507093  0.400000  0.547723  0.507093  \n",
       "User_2   0.507093  0.676123  0.400000  0.547723  0.676123  \n",
       "User_3   0.507093  0.507093  0.400000  0.547723  0.507093  \n",
       "User_4   0.377964  0.377964  0.223607  0.408248  0.377964  \n",
       "User_5   0.462910  0.771517  0.365148  0.666667  0.771517  \n",
       "User_6   0.676123  0.507093  0.600000  0.365148  0.507093  \n",
       "User_7   0.714286  0.571429  0.507093  0.617213  0.714286  \n",
       "User_8   0.857143  0.714286  0.845154  0.617213  0.714286  \n",
       "User_9   0.801784  0.668153  0.632456  0.721688  0.668153  \n",
       "User_10  0.617213  0.617213  0.547723  0.500000  0.462910  \n",
       "User_11  0.566947  0.377964  0.447214  0.204124  0.377964  \n",
       "User_12  0.676123  0.338062  0.400000  0.547723  0.507093  \n",
       "User_13  0.377964  0.377964  0.223607  0.408248  0.188982  \n",
       "User_14  0.566947  0.377964  0.447214  0.204124  0.377964  \n",
       "User_15  0.377964  0.377964  0.223607  0.204124  0.377964  \n",
       "User_16       NaN  0.571429  0.845154  0.771517  0.714286  \n",
       "User_17       NaN       NaN  0.676123  0.617213  0.857143  \n",
       "User_18       NaN       NaN       NaN  0.547723  0.676123  \n",
       "User_19       NaN       NaN       NaN       NaN  0.617213  "
      ]
     },
     "execution_count": 503,
     "metadata": {},
     "output_type": "execute_result"
    }
   ],
   "source": [
    "df_results_pivot = df_results.pivot(index='user_1', columns='user_2', values='similarity')\n",
    "# sorting df by user_id\n",
    "df_results_pivot.sort_index(axis=0, key=lambda x: x.str[5:].astype(int), inplace=True)\n",
    "df_results_pivot.sort_index(axis=1, key=lambda x: x.str[5:].astype(int), inplace=True)\n",
    "df_results_pivot"
   ]
  },
  {
   "cell_type": "code",
   "execution_count": 504,
   "metadata": {},
   "outputs": [
    {
     "data": {
      "application/vnd.plotly.v1+json": {
       "config": {
        "plotlyServerURL": "https://plot.ly"
       },
       "data": [
        {
         "coloraxis": "coloraxis",
         "hovertemplate": "user_2: %{x}<br>user_1: %{y}<br>color: %{z}<extra></extra>",
         "name": "0",
         "type": "heatmap",
         "x": [
          "User_2",
          "User_3",
          "User_4",
          "User_5",
          "User_6",
          "User_7",
          "User_8",
          "User_9",
          "User_10",
          "User_11",
          "User_12",
          "User_13",
          "User_14",
          "User_15",
          "User_16",
          "User_17",
          "User_18",
          "User_19",
          "User_20"
         ],
         "xaxis": "x",
         "y": [
          "User_1",
          "User_2",
          "User_3",
          "User_4",
          "User_5",
          "User_6",
          "User_7",
          "User_8",
          "User_9",
          "User_10",
          "User_11",
          "User_12",
          "User_13",
          "User_14",
          "User_15",
          "User_16",
          "User_17",
          "User_18",
          "User_19"
         ],
         "yaxis": "y",
         "z": [
          [
           0.5999999999999999,
           0.9999999999999998,
           0.8944271909999159,
           0.7302967433402214,
           0.3999999999999999,
           0.6761234037828131,
           0.33806170189140655,
           0.4743416490252569,
           0.3651483716701107,
           0.22360679774997896,
           0.3999999999999999,
           0.4472135954999579,
           0.22360679774997896,
           0.4472135954999579,
           0.5070925528371099,
           0.5070925528371099,
           0.3999999999999999,
           0.5477225575051661,
           0.5070925528371099
          ],
          [
           null,
           0.5999999999999999,
           0.6708203932499369,
           0.7302967433402214,
           0.19999999999999996,
           0.33806170189140655,
           0.33806170189140655,
           0.6324555320336759,
           0.5477225575051661,
           0.22360679774997896,
           0.19999999999999996,
           0.22360679774997896,
           0.22360679774997896,
           0.22360679774997896,
           0.5070925528371099,
           0.6761234037828131,
           0.3999999999999999,
           0.5477225575051661,
           0.6761234037828131
          ],
          [
           null,
           null,
           0.8944271909999159,
           0.7302967433402214,
           0.3999999999999999,
           0.6761234037828131,
           0.33806170189140655,
           0.4743416490252569,
           0.3651483716701107,
           0.22360679774997896,
           0.3999999999999999,
           0.4472135954999579,
           0.22360679774997896,
           0.4472135954999579,
           0.5070925528371099,
           0.5070925528371099,
           0.3999999999999999,
           0.5477225575051661,
           0.5070925528371099
          ],
          [
           null,
           null,
           null,
           0.6123724356957946,
           0.22360679774997896,
           0.5669467095138409,
           0.1889822365046136,
           0.5303300858899106,
           0.4082482904638631,
           0.25,
           0.4472135954999579,
           0.5,
           0.25,
           0.5,
           0.3779644730092272,
           0.3779644730092272,
           0.22360679774997896,
           0.4082482904638631,
           0.3779644730092272
          ],
          [
           null,
           null,
           null,
           null,
           0.3651483716701107,
           0.6172133998483676,
           0.4629100498862757,
           0.5773502691896258,
           0.5000000000000001,
           0.20412414523193154,
           0.3651483716701107,
           0.4082482904638631,
           0.20412414523193154,
           0.4082482904638631,
           0.4629100498862757,
           0.7715167498104595,
           0.3651483716701107,
           0.6666666666666667,
           0.7715167498104595
          ],
          [
           null,
           null,
           null,
           null,
           null,
           0.6761234037828131,
           0.8451542547285165,
           0.6324555320336759,
           0.7302967433402214,
           0.8944271909999159,
           0.5999999999999999,
           0.6708203932499369,
           0.8944271909999159,
           0.6708203932499369,
           0.6761234037828131,
           0.5070925528371099,
           0.5999999999999999,
           0.3651483716701107,
           0.5070925528371099
          ],
          [
           null,
           null,
           null,
           null,
           null,
           null,
           0.7142857142857142,
           0.6681531047810609,
           0.4629100498862757,
           0.5669467095138409,
           0.8451542547285165,
           0.5669467095138409,
           0.5669467095138409,
           0.7559289460184544,
           0.7142857142857142,
           0.5714285714285714,
           0.5070925528371099,
           0.6172133998483676,
           0.7142857142857142
          ],
          [
           null,
           null,
           null,
           null,
           null,
           null,
           null,
           0.8017837257372731,
           0.7715167498104595,
           0.7559289460184544,
           0.6761234037828131,
           0.5669467095138409,
           0.7559289460184544,
           0.5669467095138409,
           0.857142857142857,
           0.7142857142857142,
           0.8451542547285165,
           0.6172133998483676,
           0.7142857142857142
          ],
          [
           null,
           null,
           null,
           null,
           null,
           null,
           null,
           null,
           0.8660254037844387,
           0.7071067811865475,
           0.7905694150420948,
           0.7071067811865475,
           0.7071067811865475,
           0.5303300858899106,
           0.8017837257372731,
           0.6681531047810609,
           0.6324555320336759,
           0.7216878364870323,
           0.6681531047810609
          ],
          [
           null,
           null,
           null,
           null,
           null,
           null,
           null,
           null,
           null,
           0.8164965809277261,
           0.5477225575051661,
           0.8164965809277261,
           0.8164965809277261,
           0.6123724356957946,
           0.6172133998483676,
           0.6172133998483676,
           0.5477225575051661,
           0.5000000000000001,
           0.4629100498862757
          ],
          [
           null,
           null,
           null,
           null,
           null,
           null,
           null,
           null,
           null,
           null,
           0.6708203932499369,
           0.75,
           1,
           0.75,
           0.5669467095138409,
           0.3779644730092272,
           0.4472135954999579,
           0.20412414523193154,
           0.3779644730092272
          ],
          [
           null,
           null,
           null,
           null,
           null,
           null,
           null,
           null,
           null,
           null,
           null,
           0.6708203932499369,
           0.6708203932499369,
           0.6708203932499369,
           0.6761234037828131,
           0.33806170189140655,
           0.3999999999999999,
           0.5477225575051661,
           0.5070925528371099
          ],
          [
           null,
           null,
           null,
           null,
           null,
           null,
           null,
           null,
           null,
           null,
           null,
           null,
           0.75,
           0.75,
           0.3779644730092272,
           0.3779644730092272,
           0.22360679774997896,
           0.4082482904638631,
           0.1889822365046136
          ],
          [
           null,
           null,
           null,
           null,
           null,
           null,
           null,
           null,
           null,
           null,
           null,
           null,
           null,
           0.75,
           0.5669467095138409,
           0.3779644730092272,
           0.4472135954999579,
           0.20412414523193154,
           0.3779644730092272
          ],
          [
           null,
           null,
           null,
           null,
           null,
           null,
           null,
           null,
           null,
           null,
           null,
           null,
           null,
           null,
           0.3779644730092272,
           0.3779644730092272,
           0.22360679774997896,
           0.20412414523193154,
           0.3779644730092272
          ],
          [
           null,
           null,
           null,
           null,
           null,
           null,
           null,
           null,
           null,
           null,
           null,
           null,
           null,
           null,
           null,
           0.5714285714285714,
           0.8451542547285165,
           0.7715167498104595,
           0.7142857142857142
          ],
          [
           null,
           null,
           null,
           null,
           null,
           null,
           null,
           null,
           null,
           null,
           null,
           null,
           null,
           null,
           null,
           null,
           0.6761234037828131,
           0.6172133998483676,
           0.857142857142857
          ],
          [
           null,
           null,
           null,
           null,
           null,
           null,
           null,
           null,
           null,
           null,
           null,
           null,
           null,
           null,
           null,
           null,
           null,
           0.5477225575051661,
           0.6761234037828131
          ],
          [
           null,
           null,
           null,
           null,
           null,
           null,
           null,
           null,
           null,
           null,
           null,
           null,
           null,
           null,
           null,
           null,
           null,
           null,
           0.6172133998483676
          ]
         ]
        }
       ],
       "layout": {
        "coloraxis": {
         "colorscale": [
          [
           0,
           "#0d0887"
          ],
          [
           0.1111111111111111,
           "#46039f"
          ],
          [
           0.2222222222222222,
           "#7201a8"
          ],
          [
           0.3333333333333333,
           "#9c179e"
          ],
          [
           0.4444444444444444,
           "#bd3786"
          ],
          [
           0.5555555555555556,
           "#d8576b"
          ],
          [
           0.6666666666666666,
           "#ed7953"
          ],
          [
           0.7777777777777778,
           "#fb9f3a"
          ],
          [
           0.8888888888888888,
           "#fdca26"
          ],
          [
           1,
           "#f0f921"
          ]
         ]
        },
        "margin": {
         "t": 60
        },
        "template": {
         "data": {
          "bar": [
           {
            "error_x": {
             "color": "#2a3f5f"
            },
            "error_y": {
             "color": "#2a3f5f"
            },
            "marker": {
             "line": {
              "color": "#E5ECF6",
              "width": 0.5
             },
             "pattern": {
              "fillmode": "overlay",
              "size": 10,
              "solidity": 0.2
             }
            },
            "type": "bar"
           }
          ],
          "barpolar": [
           {
            "marker": {
             "line": {
              "color": "#E5ECF6",
              "width": 0.5
             },
             "pattern": {
              "fillmode": "overlay",
              "size": 10,
              "solidity": 0.2
             }
            },
            "type": "barpolar"
           }
          ],
          "carpet": [
           {
            "aaxis": {
             "endlinecolor": "#2a3f5f",
             "gridcolor": "white",
             "linecolor": "white",
             "minorgridcolor": "white",
             "startlinecolor": "#2a3f5f"
            },
            "baxis": {
             "endlinecolor": "#2a3f5f",
             "gridcolor": "white",
             "linecolor": "white",
             "minorgridcolor": "white",
             "startlinecolor": "#2a3f5f"
            },
            "type": "carpet"
           }
          ],
          "choropleth": [
           {
            "colorbar": {
             "outlinewidth": 0,
             "ticks": ""
            },
            "type": "choropleth"
           }
          ],
          "contour": [
           {
            "colorbar": {
             "outlinewidth": 0,
             "ticks": ""
            },
            "colorscale": [
             [
              0,
              "#0d0887"
             ],
             [
              0.1111111111111111,
              "#46039f"
             ],
             [
              0.2222222222222222,
              "#7201a8"
             ],
             [
              0.3333333333333333,
              "#9c179e"
             ],
             [
              0.4444444444444444,
              "#bd3786"
             ],
             [
              0.5555555555555556,
              "#d8576b"
             ],
             [
              0.6666666666666666,
              "#ed7953"
             ],
             [
              0.7777777777777778,
              "#fb9f3a"
             ],
             [
              0.8888888888888888,
              "#fdca26"
             ],
             [
              1,
              "#f0f921"
             ]
            ],
            "type": "contour"
           }
          ],
          "contourcarpet": [
           {
            "colorbar": {
             "outlinewidth": 0,
             "ticks": ""
            },
            "type": "contourcarpet"
           }
          ],
          "heatmap": [
           {
            "colorbar": {
             "outlinewidth": 0,
             "ticks": ""
            },
            "colorscale": [
             [
              0,
              "#0d0887"
             ],
             [
              0.1111111111111111,
              "#46039f"
             ],
             [
              0.2222222222222222,
              "#7201a8"
             ],
             [
              0.3333333333333333,
              "#9c179e"
             ],
             [
              0.4444444444444444,
              "#bd3786"
             ],
             [
              0.5555555555555556,
              "#d8576b"
             ],
             [
              0.6666666666666666,
              "#ed7953"
             ],
             [
              0.7777777777777778,
              "#fb9f3a"
             ],
             [
              0.8888888888888888,
              "#fdca26"
             ],
             [
              1,
              "#f0f921"
             ]
            ],
            "type": "heatmap"
           }
          ],
          "heatmapgl": [
           {
            "colorbar": {
             "outlinewidth": 0,
             "ticks": ""
            },
            "colorscale": [
             [
              0,
              "#0d0887"
             ],
             [
              0.1111111111111111,
              "#46039f"
             ],
             [
              0.2222222222222222,
              "#7201a8"
             ],
             [
              0.3333333333333333,
              "#9c179e"
             ],
             [
              0.4444444444444444,
              "#bd3786"
             ],
             [
              0.5555555555555556,
              "#d8576b"
             ],
             [
              0.6666666666666666,
              "#ed7953"
             ],
             [
              0.7777777777777778,
              "#fb9f3a"
             ],
             [
              0.8888888888888888,
              "#fdca26"
             ],
             [
              1,
              "#f0f921"
             ]
            ],
            "type": "heatmapgl"
           }
          ],
          "histogram": [
           {
            "marker": {
             "pattern": {
              "fillmode": "overlay",
              "size": 10,
              "solidity": 0.2
             }
            },
            "type": "histogram"
           }
          ],
          "histogram2d": [
           {
            "colorbar": {
             "outlinewidth": 0,
             "ticks": ""
            },
            "colorscale": [
             [
              0,
              "#0d0887"
             ],
             [
              0.1111111111111111,
              "#46039f"
             ],
             [
              0.2222222222222222,
              "#7201a8"
             ],
             [
              0.3333333333333333,
              "#9c179e"
             ],
             [
              0.4444444444444444,
              "#bd3786"
             ],
             [
              0.5555555555555556,
              "#d8576b"
             ],
             [
              0.6666666666666666,
              "#ed7953"
             ],
             [
              0.7777777777777778,
              "#fb9f3a"
             ],
             [
              0.8888888888888888,
              "#fdca26"
             ],
             [
              1,
              "#f0f921"
             ]
            ],
            "type": "histogram2d"
           }
          ],
          "histogram2dcontour": [
           {
            "colorbar": {
             "outlinewidth": 0,
             "ticks": ""
            },
            "colorscale": [
             [
              0,
              "#0d0887"
             ],
             [
              0.1111111111111111,
              "#46039f"
             ],
             [
              0.2222222222222222,
              "#7201a8"
             ],
             [
              0.3333333333333333,
              "#9c179e"
             ],
             [
              0.4444444444444444,
              "#bd3786"
             ],
             [
              0.5555555555555556,
              "#d8576b"
             ],
             [
              0.6666666666666666,
              "#ed7953"
             ],
             [
              0.7777777777777778,
              "#fb9f3a"
             ],
             [
              0.8888888888888888,
              "#fdca26"
             ],
             [
              1,
              "#f0f921"
             ]
            ],
            "type": "histogram2dcontour"
           }
          ],
          "mesh3d": [
           {
            "colorbar": {
             "outlinewidth": 0,
             "ticks": ""
            },
            "type": "mesh3d"
           }
          ],
          "parcoords": [
           {
            "line": {
             "colorbar": {
              "outlinewidth": 0,
              "ticks": ""
             }
            },
            "type": "parcoords"
           }
          ],
          "pie": [
           {
            "automargin": true,
            "type": "pie"
           }
          ],
          "scatter": [
           {
            "fillpattern": {
             "fillmode": "overlay",
             "size": 10,
             "solidity": 0.2
            },
            "type": "scatter"
           }
          ],
          "scatter3d": [
           {
            "line": {
             "colorbar": {
              "outlinewidth": 0,
              "ticks": ""
             }
            },
            "marker": {
             "colorbar": {
              "outlinewidth": 0,
              "ticks": ""
             }
            },
            "type": "scatter3d"
           }
          ],
          "scattercarpet": [
           {
            "marker": {
             "colorbar": {
              "outlinewidth": 0,
              "ticks": ""
             }
            },
            "type": "scattercarpet"
           }
          ],
          "scattergeo": [
           {
            "marker": {
             "colorbar": {
              "outlinewidth": 0,
              "ticks": ""
             }
            },
            "type": "scattergeo"
           }
          ],
          "scattergl": [
           {
            "marker": {
             "colorbar": {
              "outlinewidth": 0,
              "ticks": ""
             }
            },
            "type": "scattergl"
           }
          ],
          "scattermapbox": [
           {
            "marker": {
             "colorbar": {
              "outlinewidth": 0,
              "ticks": ""
             }
            },
            "type": "scattermapbox"
           }
          ],
          "scatterpolar": [
           {
            "marker": {
             "colorbar": {
              "outlinewidth": 0,
              "ticks": ""
             }
            },
            "type": "scatterpolar"
           }
          ],
          "scatterpolargl": [
           {
            "marker": {
             "colorbar": {
              "outlinewidth": 0,
              "ticks": ""
             }
            },
            "type": "scatterpolargl"
           }
          ],
          "scatterternary": [
           {
            "marker": {
             "colorbar": {
              "outlinewidth": 0,
              "ticks": ""
             }
            },
            "type": "scatterternary"
           }
          ],
          "surface": [
           {
            "colorbar": {
             "outlinewidth": 0,
             "ticks": ""
            },
            "colorscale": [
             [
              0,
              "#0d0887"
             ],
             [
              0.1111111111111111,
              "#46039f"
             ],
             [
              0.2222222222222222,
              "#7201a8"
             ],
             [
              0.3333333333333333,
              "#9c179e"
             ],
             [
              0.4444444444444444,
              "#bd3786"
             ],
             [
              0.5555555555555556,
              "#d8576b"
             ],
             [
              0.6666666666666666,
              "#ed7953"
             ],
             [
              0.7777777777777778,
              "#fb9f3a"
             ],
             [
              0.8888888888888888,
              "#fdca26"
             ],
             [
              1,
              "#f0f921"
             ]
            ],
            "type": "surface"
           }
          ],
          "table": [
           {
            "cells": {
             "fill": {
              "color": "#EBF0F8"
             },
             "line": {
              "color": "white"
             }
            },
            "header": {
             "fill": {
              "color": "#C8D4E3"
             },
             "line": {
              "color": "white"
             }
            },
            "type": "table"
           }
          ]
         },
         "layout": {
          "annotationdefaults": {
           "arrowcolor": "#2a3f5f",
           "arrowhead": 0,
           "arrowwidth": 1
          },
          "autotypenumbers": "strict",
          "coloraxis": {
           "colorbar": {
            "outlinewidth": 0,
            "ticks": ""
           }
          },
          "colorscale": {
           "diverging": [
            [
             0,
             "#8e0152"
            ],
            [
             0.1,
             "#c51b7d"
            ],
            [
             0.2,
             "#de77ae"
            ],
            [
             0.3,
             "#f1b6da"
            ],
            [
             0.4,
             "#fde0ef"
            ],
            [
             0.5,
             "#f7f7f7"
            ],
            [
             0.6,
             "#e6f5d0"
            ],
            [
             0.7,
             "#b8e186"
            ],
            [
             0.8,
             "#7fbc41"
            ],
            [
             0.9,
             "#4d9221"
            ],
            [
             1,
             "#276419"
            ]
           ],
           "sequential": [
            [
             0,
             "#0d0887"
            ],
            [
             0.1111111111111111,
             "#46039f"
            ],
            [
             0.2222222222222222,
             "#7201a8"
            ],
            [
             0.3333333333333333,
             "#9c179e"
            ],
            [
             0.4444444444444444,
             "#bd3786"
            ],
            [
             0.5555555555555556,
             "#d8576b"
            ],
            [
             0.6666666666666666,
             "#ed7953"
            ],
            [
             0.7777777777777778,
             "#fb9f3a"
            ],
            [
             0.8888888888888888,
             "#fdca26"
            ],
            [
             1,
             "#f0f921"
            ]
           ],
           "sequentialminus": [
            [
             0,
             "#0d0887"
            ],
            [
             0.1111111111111111,
             "#46039f"
            ],
            [
             0.2222222222222222,
             "#7201a8"
            ],
            [
             0.3333333333333333,
             "#9c179e"
            ],
            [
             0.4444444444444444,
             "#bd3786"
            ],
            [
             0.5555555555555556,
             "#d8576b"
            ],
            [
             0.6666666666666666,
             "#ed7953"
            ],
            [
             0.7777777777777778,
             "#fb9f3a"
            ],
            [
             0.8888888888888888,
             "#fdca26"
            ],
            [
             1,
             "#f0f921"
            ]
           ]
          },
          "colorway": [
           "#636efa",
           "#EF553B",
           "#00cc96",
           "#ab63fa",
           "#FFA15A",
           "#19d3f3",
           "#FF6692",
           "#B6E880",
           "#FF97FF",
           "#FECB52"
          ],
          "font": {
           "color": "#2a3f5f"
          },
          "geo": {
           "bgcolor": "white",
           "lakecolor": "white",
           "landcolor": "#E5ECF6",
           "showlakes": true,
           "showland": true,
           "subunitcolor": "white"
          },
          "hoverlabel": {
           "align": "left"
          },
          "hovermode": "closest",
          "mapbox": {
           "style": "light"
          },
          "paper_bgcolor": "white",
          "plot_bgcolor": "#E5ECF6",
          "polar": {
           "angularaxis": {
            "gridcolor": "white",
            "linecolor": "white",
            "ticks": ""
           },
           "bgcolor": "#E5ECF6",
           "radialaxis": {
            "gridcolor": "white",
            "linecolor": "white",
            "ticks": ""
           }
          },
          "scene": {
           "xaxis": {
            "backgroundcolor": "#E5ECF6",
            "gridcolor": "white",
            "gridwidth": 2,
            "linecolor": "white",
            "showbackground": true,
            "ticks": "",
            "zerolinecolor": "white"
           },
           "yaxis": {
            "backgroundcolor": "#E5ECF6",
            "gridcolor": "white",
            "gridwidth": 2,
            "linecolor": "white",
            "showbackground": true,
            "ticks": "",
            "zerolinecolor": "white"
           },
           "zaxis": {
            "backgroundcolor": "#E5ECF6",
            "gridcolor": "white",
            "gridwidth": 2,
            "linecolor": "white",
            "showbackground": true,
            "ticks": "",
            "zerolinecolor": "white"
           }
          },
          "shapedefaults": {
           "line": {
            "color": "#2a3f5f"
           }
          },
          "ternary": {
           "aaxis": {
            "gridcolor": "white",
            "linecolor": "white",
            "ticks": ""
           },
           "baxis": {
            "gridcolor": "white",
            "linecolor": "white",
            "ticks": ""
           },
           "bgcolor": "#E5ECF6",
           "caxis": {
            "gridcolor": "white",
            "linecolor": "white",
            "ticks": ""
           }
          },
          "title": {
           "x": 0.05
          },
          "xaxis": {
           "automargin": true,
           "gridcolor": "white",
           "linecolor": "white",
           "ticks": "",
           "title": {
            "standoff": 15
           },
           "zerolinecolor": "white",
           "zerolinewidth": 2
          },
          "yaxis": {
           "automargin": true,
           "gridcolor": "white",
           "linecolor": "white",
           "ticks": "",
           "title": {
            "standoff": 15
           },
           "zerolinecolor": "white",
           "zerolinewidth": 2
          }
         }
        },
        "xaxis": {
         "anchor": "y",
         "constrain": "domain",
         "domain": [
          0,
          1
         ],
         "scaleanchor": "y",
         "title": {
          "text": "user_2"
         }
        },
        "yaxis": {
         "anchor": "x",
         "autorange": "reversed",
         "constrain": "domain",
         "domain": [
          0,
          1
         ],
         "title": {
          "text": "user_1"
         }
        }
       }
      }
     },
     "metadata": {},
     "output_type": "display_data"
    }
   ],
   "source": [
    "fig = px.imshow(df_results_pivot)\n",
    "fig.show()"
   ]
  },
  {
   "cell_type": "markdown",
   "metadata": {},
   "source": [
    "Using ``squareform`` to get the full matrix"
   ]
  },
  {
   "cell_type": "code",
   "execution_count": 505,
   "metadata": {},
   "outputs": [
    {
     "data": {
      "image/png": "[encoded data removed]",
      "text/plain": [
       "<Figure size 640x480 with 2 Axes>"
      ]
     },
     "metadata": {},
     "output_type": "display_data"
    }
   ],
   "source": [
    "square_similarity = squareform(df_results['similarity'])\n",
    "\n",
    "# set the diagonal elements to 1\n",
    "np.fill_diagonal(square_similarity, 1)\n",
    "\n",
    "sns.heatmap(square_similarity, cmap='viridis')\n",
    "plt.xlabel('User ID')\n",
    "plt.ylabel('User ID')\n",
    "plt.title('Cosine Similarity')\n",
    "plt.show()"
   ]
  },
  {
   "cell_type": "code",
   "execution_count": 506,
   "metadata": {},
   "outputs": [
    {
     "data": {
      "image/png": "[encoded data removed]",
      "text/plain": [
       "<Figure size 640x480 with 2 Axes>"
      ]
     },
     "metadata": {},
     "output_type": "display_data"
    }
   ],
   "source": [
    "square_similarity = squareform(df_results['similarity'])\n",
    "\n",
    "# set the diagonal elements to 1\n",
    "np.fill_diagonal(square_similarity, 1)\n",
    "\n",
    "sns.heatmap(square_similarity, cmap='viridis')\n",
    "plt.xlabel('User ID')\n",
    "plt.ylabel('User ID')\n",
    "plt.title('Cosine Similarity')\n",
    "plt.show()"
   ]
  },
  {
   "cell_type": "markdown",
   "metadata": {},
   "source": [
    "## Using ``scipy.spatial.distance.pdist``"
   ]
  },
  {
   "cell_type": "code",
   "execution_count": 507,
   "metadata": {},
   "outputs": [
    {
     "data": {
      "text/plain": [
       "array([4.00000000e-01, 2.22044605e-16, 1.05572809e-01, 2.69703257e-01,\n",
       "       6.00000000e-01, 3.23876596e-01, 6.61938298e-01, 5.25658351e-01,\n",
       "       6.34851628e-01, 7.76393202e-01, 6.00000000e-01, 5.52786405e-01,\n",
       "       7.76393202e-01, 5.52786405e-01, 4.92907447e-01, 4.92907447e-01,\n",
       "       6.00000000e-01, 4.52277442e-01, 4.92907447e-01, 4.00000000e-01,\n",
       "       3.29179607e-01, 2.69703257e-01, 8.00000000e-01, 6.61938298e-01,\n",
       "       6.61938298e-01, 3.67544468e-01, 4.52277442e-01, 7.76393202e-01,\n",
       "       8.00000000e-01, 7.76393202e-01, 7.76393202e-01, 7.76393202e-01,\n",
       "       4.92907447e-01, 3.23876596e-01, 6.00000000e-01, 4.52277442e-01,\n",
       "       3.23876596e-01, 1.05572809e-01, 2.69703257e-01, 6.00000000e-01,\n",
       "       3.23876596e-01, 6.61938298e-01, 5.25658351e-01, 6.34851628e-01,\n",
       "       7.76393202e-01, 6.00000000e-01, 5.52786405e-01, 7.76393202e-01,\n",
       "       5.52786405e-01, 4.92907447e-01, 4.92907447e-01, 6.00000000e-01,\n",
       "       4.52277442e-01, 4.92907447e-01, 3.87627564e-01, 7.76393202e-01,\n",
       "       4.33053290e-01, 8.11017763e-01, 4.69669914e-01, 5.91751710e-01,\n",
       "       7.50000000e-01, 5.52786405e-01, 5.00000000e-01, 7.50000000e-01,\n",
       "       5.00000000e-01, 6.22035527e-01, 6.22035527e-01, 7.76393202e-01,\n",
       "       5.91751710e-01, 6.22035527e-01, 6.34851628e-01, 3.82786600e-01,\n",
       "       5.37089950e-01, 4.22649731e-01, 5.00000000e-01, 7.95875855e-01,\n",
       "       6.34851628e-01, 5.91751710e-01, 7.95875855e-01, 5.91751710e-01,\n",
       "       5.37089950e-01, 2.28483250e-01, 6.34851628e-01, 3.33333333e-01,\n",
       "       2.28483250e-01, 3.23876596e-01, 1.54845745e-01, 3.67544468e-01,\n",
       "       2.69703257e-01, 1.05572809e-01, 4.00000000e-01, 3.29179607e-01,\n",
       "       1.05572809e-01, 3.29179607e-01, 3.23876596e-01, 4.92907447e-01,\n",
       "       4.00000000e-01, 6.34851628e-01, 4.92907447e-01, 2.85714286e-01,\n",
       "       3.31846895e-01, 5.37089950e-01, 4.33053290e-01, 1.54845745e-01,\n",
       "       4.33053290e-01, 4.33053290e-01, 2.44071054e-01, 2.85714286e-01,\n",
       "       4.28571429e-01, 4.92907447e-01, 3.82786600e-01, 2.85714286e-01,\n",
       "       1.98216274e-01, 2.28483250e-01, 2.44071054e-01, 3.23876596e-01,\n",
       "       4.33053290e-01, 2.44071054e-01, 4.33053290e-01, 1.42857143e-01,\n",
       "       2.85714286e-01, 1.54845745e-01, 3.82786600e-01, 2.85714286e-01,\n",
       "       1.33974596e-01, 2.92893219e-01, 2.09430585e-01, 2.92893219e-01,\n",
       "       2.92893219e-01, 4.69669914e-01, 1.98216274e-01, 3.31846895e-01,\n",
       "       3.67544468e-01, 2.78312164e-01, 3.31846895e-01, 1.83503419e-01,\n",
       "       4.52277442e-01, 1.83503419e-01, 1.83503419e-01, 3.87627564e-01,\n",
       "       3.82786600e-01, 3.82786600e-01, 4.52277442e-01, 5.00000000e-01,\n",
       "       5.37089950e-01, 3.29179607e-01, 2.50000000e-01, 0.00000000e+00,\n",
       "       2.50000000e-01, 4.33053290e-01, 6.22035527e-01, 5.52786405e-01,\n",
       "       7.95875855e-01, 6.22035527e-01, 3.29179607e-01, 3.29179607e-01,\n",
       "       3.29179607e-01, 3.23876596e-01, 6.61938298e-01, 6.00000000e-01,\n",
       "       4.52277442e-01, 4.92907447e-01, 2.50000000e-01, 2.50000000e-01,\n",
       "       6.22035527e-01, 6.22035527e-01, 7.76393202e-01, 5.91751710e-01,\n",
       "       8.11017763e-01, 2.50000000e-01, 4.33053290e-01, 6.22035527e-01,\n",
       "       5.52786405e-01, 7.95875855e-01, 6.22035527e-01, 6.22035527e-01,\n",
       "       6.22035527e-01, 7.76393202e-01, 7.95875855e-01, 6.22035527e-01,\n",
       "       4.28571429e-01, 1.54845745e-01, 2.28483250e-01, 2.85714286e-01,\n",
       "       3.23876596e-01, 3.82786600e-01, 1.42857143e-01, 4.52277442e-01,\n",
       "       3.23876596e-01, 3.82786600e-01])"
      ]
     },
     "execution_count": 507,
     "metadata": {},
     "output_type": "execute_result"
    }
   ],
   "source": [
    "from scipy.spatial.distance import pdist, squareform\n",
    "\n",
    "pdist(df.values[0:2,1:], metric='cosine')\n",
    "\n",
    "# similarity matrix of all pairs\n",
    "similarity_matrix = pdist(df.values[:,1:], metric='cosine')\n",
    "similarity_matrix"
   ]
  },
  {
   "cell_type": "code",
   "execution_count": 508,
   "metadata": {},
   "outputs": [
    {
     "data": {
      "image/png": "[encoded data removed]",
      "text/plain": [
       "<Figure size 640x480 with 1 Axes>"
      ]
     },
     "metadata": {},
     "output_type": "display_data"
    }
   ],
   "source": [
    "sns.histplot(similarity_matrix, bins=20)\n",
    "plt.xlabel('Pdist')\n",
    "plt.grid(axis='y')\n",
    "plt.show()"
   ]
  },
  {
   "cell_type": "code",
   "execution_count": 509,
   "metadata": {},
   "outputs": [
    {
     "data": {
      "text/plain": [
       "array([4.00000000e-01, 2.22044605e-16, 1.05572809e-01, 2.69703257e-01,\n",
       "       6.00000000e-01, 3.23876596e-01, 6.61938298e-01, 5.25658351e-01,\n",
       "       6.34851628e-01, 7.76393202e-01, 6.00000000e-01, 5.52786405e-01,\n",
       "       7.76393202e-01, 5.52786405e-01, 4.92907447e-01, 4.92907447e-01,\n",
       "       6.00000000e-01, 4.52277442e-01, 4.92907447e-01, 4.00000000e-01,\n",
       "       3.29179607e-01, 2.69703257e-01, 8.00000000e-01, 6.61938298e-01,\n",
       "       6.61938298e-01, 3.67544468e-01, 4.52277442e-01, 7.76393202e-01,\n",
       "       8.00000000e-01, 7.76393202e-01, 7.76393202e-01, 7.76393202e-01,\n",
       "       4.92907447e-01, 3.23876596e-01, 6.00000000e-01, 4.52277442e-01,\n",
       "       3.23876596e-01, 1.05572809e-01, 2.69703257e-01, 6.00000000e-01,\n",
       "       3.23876596e-01, 6.61938298e-01, 5.25658351e-01, 6.34851628e-01,\n",
       "       7.76393202e-01, 6.00000000e-01, 5.52786405e-01, 7.76393202e-01,\n",
       "       5.52786405e-01, 4.92907447e-01, 4.92907447e-01, 6.00000000e-01,\n",
       "       4.52277442e-01, 4.92907447e-01, 3.87627564e-01, 7.76393202e-01,\n",
       "       4.33053290e-01, 8.11017763e-01, 4.69669914e-01, 5.91751710e-01,\n",
       "       7.50000000e-01, 5.52786405e-01, 5.00000000e-01, 7.50000000e-01,\n",
       "       5.00000000e-01, 6.22035527e-01, 6.22035527e-01, 7.76393202e-01,\n",
       "       5.91751710e-01, 6.22035527e-01, 6.34851628e-01, 3.82786600e-01,\n",
       "       5.37089950e-01, 4.22649731e-01, 5.00000000e-01, 7.95875855e-01,\n",
       "       6.34851628e-01, 5.91751710e-01, 7.95875855e-01, 5.91751710e-01,\n",
       "       5.37089950e-01, 2.28483250e-01, 6.34851628e-01, 3.33333333e-01,\n",
       "       2.28483250e-01, 3.23876596e-01, 1.54845745e-01, 3.67544468e-01,\n",
       "       2.69703257e-01, 1.05572809e-01, 4.00000000e-01, 3.29179607e-01,\n",
       "       1.05572809e-01, 3.29179607e-01, 3.23876596e-01, 4.92907447e-01,\n",
       "       4.00000000e-01, 6.34851628e-01, 4.92907447e-01, 2.85714286e-01,\n",
       "       3.31846895e-01, 5.37089950e-01, 4.33053290e-01, 1.54845745e-01,\n",
       "       4.33053290e-01, 4.33053290e-01, 2.44071054e-01, 2.85714286e-01,\n",
       "       4.28571429e-01, 4.92907447e-01, 3.82786600e-01, 2.85714286e-01,\n",
       "       1.98216274e-01, 2.28483250e-01, 2.44071054e-01, 3.23876596e-01,\n",
       "       4.33053290e-01, 2.44071054e-01, 4.33053290e-01, 1.42857143e-01,\n",
       "       2.85714286e-01, 1.54845745e-01, 3.82786600e-01, 2.85714286e-01,\n",
       "       1.33974596e-01, 2.92893219e-01, 2.09430585e-01, 2.92893219e-01,\n",
       "       2.92893219e-01, 4.69669914e-01, 1.98216274e-01, 3.31846895e-01,\n",
       "       3.67544468e-01, 2.78312164e-01, 3.31846895e-01, 1.83503419e-01,\n",
       "       4.52277442e-01, 1.83503419e-01, 1.83503419e-01, 3.87627564e-01,\n",
       "       3.82786600e-01, 3.82786600e-01, 4.52277442e-01, 5.00000000e-01,\n",
       "       5.37089950e-01, 3.29179607e-01, 2.50000000e-01, 0.00000000e+00,\n",
       "       2.50000000e-01, 4.33053290e-01, 6.22035527e-01, 5.52786405e-01,\n",
       "       7.95875855e-01, 6.22035527e-01, 3.29179607e-01, 3.29179607e-01,\n",
       "       3.29179607e-01, 3.23876596e-01, 6.61938298e-01, 6.00000000e-01,\n",
       "       4.52277442e-01, 4.92907447e-01, 2.50000000e-01, 2.50000000e-01,\n",
       "       6.22035527e-01, 6.22035527e-01, 7.76393202e-01, 5.91751710e-01,\n",
       "       8.11017763e-01, 2.50000000e-01, 4.33053290e-01, 6.22035527e-01,\n",
       "       5.52786405e-01, 7.95875855e-01, 6.22035527e-01, 6.22035527e-01,\n",
       "       6.22035527e-01, 7.76393202e-01, 7.95875855e-01, 6.22035527e-01,\n",
       "       4.28571429e-01, 1.54845745e-01, 2.28483250e-01, 2.85714286e-01,\n",
       "       3.23876596e-01, 3.82786600e-01, 1.42857143e-01, 4.52277442e-01,\n",
       "       3.23876596e-01, 3.82786600e-01])"
      ]
     },
     "execution_count": 509,
     "metadata": {},
     "output_type": "execute_result"
    }
   ],
   "source": [
    "similarity_matrix"
   ]
  },
  {
   "cell_type": "code",
   "execution_count": 510,
   "metadata": {},
   "outputs": [
    {
     "data": {
      "image/png": "[encoded data removed]",
      "text/plain": [
       "<Figure size 640x480 with 2 Axes>"
      ]
     },
     "metadata": {},
     "output_type": "display_data"
    }
   ],
   "source": [
    "sns.heatmap(squareform(similarity_matrix), cmap='viridis')\n",
    "plt.show()\n"
   ]
  },
  {
   "cell_type": "markdown",
   "metadata": {},
   "source": [
    "# Recommendation"
   ]
  },
  {
   "cell_type": "markdown",
   "metadata": {},
   "source": [
    "## User Based Collaborative Filtering\n",
    "\n",
    "- Calculate User Similarities\n",
    "- Find similar users\n",
    "- Identify Unrated Items\n",
    "- Recommend Items\n",
    "- Sort and Return Top-N Items"
   ]
  },
  {
   "cell_type": "code",
   "execution_count": 511,
   "metadata": {},
   "outputs": [
    {
     "data": {
      "text/html": [
       "<div>\n",
       "<style scoped>\n",
       "    .dataframe tbody tr th:only-of-type {\n",
       "        vertical-align: middle;\n",
       "    }\n",
       "\n",
       "    .dataframe tbody tr th {\n",
       "        vertical-align: top;\n",
       "    }\n",
       "\n",
       "    .dataframe thead th {\n",
       "        text-align: right;\n",
       "    }\n",
       "</style>\n",
       "<table border=\"1\" class=\"dataframe\">\n",
       "  <thead>\n",
       "    <tr style=\"text-align: right;\">\n",
       "      <th></th>\n",
       "      <th>User_ID</th>\n",
       "      <th>Item_1</th>\n",
       "      <th>Item_2</th>\n",
       "      <th>Item_3</th>\n",
       "      <th>Item_4</th>\n",
       "      <th>Item_5</th>\n",
       "      <th>Item_6</th>\n",
       "      <th>Item_7</th>\n",
       "      <th>Item_8</th>\n",
       "      <th>Item_9</th>\n",
       "      <th>Item_10</th>\n",
       "    </tr>\n",
       "  </thead>\n",
       "  <tbody>\n",
       "    <tr>\n",
       "      <th>0</th>\n",
       "      <td>User_1</td>\n",
       "      <td>1</td>\n",
       "      <td>1</td>\n",
       "      <td>1</td>\n",
       "      <td>1</td>\n",
       "      <td>0</td>\n",
       "      <td>0</td>\n",
       "      <td>0</td>\n",
       "      <td>1</td>\n",
       "      <td>0</td>\n",
       "      <td>0</td>\n",
       "    </tr>\n",
       "    <tr>\n",
       "      <th>1</th>\n",
       "      <td>User_2</td>\n",
       "      <td>1</td>\n",
       "      <td>1</td>\n",
       "      <td>1</td>\n",
       "      <td>0</td>\n",
       "      <td>0</td>\n",
       "      <td>0</td>\n",
       "      <td>0</td>\n",
       "      <td>0</td>\n",
       "      <td>1</td>\n",
       "      <td>1</td>\n",
       "    </tr>\n",
       "  </tbody>\n",
       "</table>\n",
       "</div>"
      ],
      "text/plain": [
       "  User_ID  Item_1  Item_2  Item_3  Item_4  Item_5  Item_6  Item_7  Item_8  \\\n",
       "0  User_1       1       1       1       1       0       0       0       1   \n",
       "1  User_2       1       1       1       0       0       0       0       0   \n",
       "\n",
       "   Item_9  Item_10  \n",
       "0       0        0  \n",
       "1       1        1  "
      ]
     },
     "execution_count": 511,
     "metadata": {},
     "output_type": "execute_result"
    }
   ],
   "source": [
    "df.head(2)"
   ]
  },
  {
   "cell_type": "code",
   "execution_count": 512,
   "metadata": {},
   "outputs": [
    {
     "data": {
      "text/html": [
       "<div>\n",
       "<style scoped>\n",
       "    .dataframe tbody tr th:only-of-type {\n",
       "        vertical-align: middle;\n",
       "    }\n",
       "\n",
       "    .dataframe tbody tr th {\n",
       "        vertical-align: top;\n",
       "    }\n",
       "\n",
       "    .dataframe thead th {\n",
       "        text-align: right;\n",
       "    }\n",
       "</style>\n",
       "<table border=\"1\" class=\"dataframe\">\n",
       "  <thead>\n",
       "    <tr style=\"text-align: right;\">\n",
       "      <th></th>\n",
       "      <th>Item_1</th>\n",
       "      <th>Item_2</th>\n",
       "      <th>Item_3</th>\n",
       "      <th>Item_4</th>\n",
       "      <th>Item_5</th>\n",
       "      <th>Item_6</th>\n",
       "      <th>Item_7</th>\n",
       "      <th>Item_8</th>\n",
       "      <th>Item_9</th>\n",
       "      <th>Item_10</th>\n",
       "    </tr>\n",
       "    <tr>\n",
       "      <th>User_ID</th>\n",
       "      <th></th>\n",
       "      <th></th>\n",
       "      <th></th>\n",
       "      <th></th>\n",
       "      <th></th>\n",
       "      <th></th>\n",
       "      <th></th>\n",
       "      <th></th>\n",
       "      <th></th>\n",
       "      <th></th>\n",
       "    </tr>\n",
       "  </thead>\n",
       "  <tbody>\n",
       "    <tr>\n",
       "      <th>User_1</th>\n",
       "      <td>1</td>\n",
       "      <td>1</td>\n",
       "      <td>1</td>\n",
       "      <td>1</td>\n",
       "      <td>0</td>\n",
       "      <td>0</td>\n",
       "      <td>0</td>\n",
       "      <td>1</td>\n",
       "      <td>0</td>\n",
       "      <td>0</td>\n",
       "    </tr>\n",
       "    <tr>\n",
       "      <th>User_2</th>\n",
       "      <td>1</td>\n",
       "      <td>1</td>\n",
       "      <td>1</td>\n",
       "      <td>0</td>\n",
       "      <td>0</td>\n",
       "      <td>0</td>\n",
       "      <td>0</td>\n",
       "      <td>0</td>\n",
       "      <td>1</td>\n",
       "      <td>1</td>\n",
       "    </tr>\n",
       "  </tbody>\n",
       "</table>\n",
       "</div>"
      ],
      "text/plain": [
       "         Item_1  Item_2  Item_3  Item_4  Item_5  Item_6  Item_7  Item_8  \\\n",
       "User_ID                                                                   \n",
       "User_1        1       1       1       1       0       0       0       1   \n",
       "User_2        1       1       1       0       0       0       0       0   \n",
       "\n",
       "         Item_9  Item_10  \n",
       "User_ID                   \n",
       "User_1        0        0  \n",
       "User_2        1        1  "
      ]
     },
     "execution_count": 512,
     "metadata": {},
     "output_type": "execute_result"
    }
   ],
   "source": [
    "df.set_index('User_ID', inplace=True)\n",
    "df.head(2)"
   ]
  },
  {
   "cell_type": "code",
   "execution_count": 513,
   "metadata": {},
   "outputs": [],
   "source": [
    "def user_based_collaborative_filtering(user_item_matrix: np.ndarray, target_user: int, num_recommendations: int = 5) -> list[int]:\n",
    "    \"\"\"Function that implements user-based collaborative filtering.\n",
    "\n",
    "    Args:\n",
    "        user_item_matrix (numpy.ndarray): numpy.ndarray with user-item interactions\n",
    "        target_user (int): Target user ID - row index of the user-item matrix\n",
    "        num_recommendations (int, optional): Number of recommendations - Defaults to 5.\n",
    "\n",
    "    Returns:\n",
    "        list[int]: List of recommended item IDs - column indices of the user-item matrix\n",
    "    \"\"\"\n",
    "    \n",
    "    user_similarities = np.dot(user_item_matrix, user_item_matrix[target_user]) / (np.linalg.norm(user_item_matrix, axis=1) * np.linalg.norm(user_item_matrix[target_user]))\n",
    "    \n",
    "    print(f'Similarities of User_{target_user + 1}: {user_similarities}\\n')\n",
    "    \n",
    "    # finding similar users (need to exclude the target user)\n",
    "    similar_users = np.argsort(user_similarities)[::-1][1:]\n",
    "    # TODO: test behaviour because there might be users with same similarity\n",
    "    # excluding the first might exclude the wrong one instead of the target user\n",
    "    # should I remove when similarity is 1?\n",
    "    \n",
    "    # finding out unrated items for the target user\n",
    "    unrated_items = np.where(user_item_matrix[target_user] == 0)[0]\n",
    "    \n",
    "    print(f'Unrated items of User_{target_user + 1}: {unrated_items}\\n')\n",
    "    \n",
    "    # return immediately if there are no unrated items\n",
    "    if unrated_items.size == 0:\n",
    "        return []\n",
    "    \n",
    "    # recommendations for target user\n",
    "    recommendations = np.zeros(user_item_matrix.shape[1])\n",
    "    \n",
    "    \n",
    "    \"\"\" \n",
    "    for user in similar_users:\n",
    "        user_ratings = user_item_matrix[user]\n",
    "        recommendations += user_similarities[user] * user_ratings\n",
    "    \"\"\" \n",
    "    \n",
    "    # recommendations only for items that are unrated by the target user\n",
    "    for user in similar_users:\n",
    "        \n",
    "        unrated_user_ratings = user_item_matrix[user] * (user_item_matrix[target_user] == 0)\n",
    "        \n",
    "        recommendations += user_similarities[user] * unrated_user_ratings\n",
    "    \n",
    "    print(f'Recommendations for User_{target_user + 1}: {recommendations}\\n')\n",
    "    \n",
    "    # sorting\n",
    "    sorted_recommendations = np.argsort(recommendations)[::-1]\n",
    "    \n",
    "    # top-n recommendations\n",
    "    return sorted_recommendations[:num_recommendations]"
   ]
  },
  {
   "cell_type": "code",
   "execution_count": 514,
   "metadata": {},
   "outputs": [
    {
     "name": "stdout",
     "output_type": "stream",
     "text": [
      "Help on function user_based_collaborative_filtering in module __main__:\n",
      "\n",
      "user_based_collaborative_filtering(user_item_matrix: numpy.ndarray, target_user: int, num_recommendations: int = 5) -> list[int]\n",
      "    Function that implements user-based collaborative filtering.\n",
      "    \n",
      "    Args:\n",
      "        user_item_matrix (numpy.ndarray): numpy.ndarray with user-item interactions\n",
      "        target_user (int): Target user ID - row index of the user-item matrix\n",
      "        num_recommendations (int, optional): Number of recommendations - Defaults to 5.\n",
      "    \n",
      "    Returns:\n",
      "        list[int]: List of recommended item IDs - column indices of the user-item matrix\n",
      "\n"
     ]
    }
   ],
   "source": [
    "help(user_based_collaborative_filtering)"
   ]
  },
  {
   "cell_type": "code",
   "execution_count": 515,
   "metadata": {},
   "outputs": [
    {
     "name": "stdout",
     "output_type": "stream",
     "text": [
      "Similarities of User_1: [1.         0.6        1.         0.89442719 0.73029674 0.4\n",
      " 0.6761234  0.3380617  0.47434165 0.36514837 0.2236068  0.4\n",
      " 0.4472136  0.2236068  0.4472136  0.50709255 0.50709255 0.4\n",
      " 0.54772256 0.50709255]\n",
      "\n",
      "Unrated items of User_1: [4 5 6 8 9]\n",
      "\n",
      "Recommendations for User_1: [0.         0.         0.         0.         5.73979776 5.05013102\n",
      " 4.35752697 0.         4.97684868 4.54604298]\n",
      "\n",
      "Recommendations: [4 5 8]\n",
      "\n",
      "Recommended items for User_1:\n",
      "- Item: Item_5\n",
      "- Item: Item_6\n",
      "- Item: Item_9\n"
     ]
    }
   ],
   "source": [
    "target_user = 0\n",
    "num_recommendations = 3\n",
    "\n",
    "recommendations = user_based_collaborative_filtering(df.values,\n",
    "                                                     target_user,\n",
    "                                                     num_recommendations)\n",
    "\n",
    "print(f'Recommendations: {recommendations}\\n')\n",
    "\n",
    "print(f\"Recommended items for {df.index[target_user]}:\")\n",
    "for item in recommendations:\n",
    "    print(f'- Item: {df.columns[item]}')\n",
    "    "
   ]
  },
  {
   "cell_type": "code",
   "execution_count": 516,
   "metadata": {},
   "outputs": [],
   "source": [
    "def calculate_pearson_correlation(v1:np.ndarray, v2: np.ndarray, verbose: bool = False) -> float:\n",
    "    \"\"\"Calculates the Pearson correlation coefficient between two vectors.\n",
    "\n",
    "    Args:\n",
    "        v1 (numpy.ndarray): Vector 1\n",
    "        v2 (numpy.ndarray): Vector 2\n",
    "        verbose (bool, optional): Print intermediate results. Defaults to False.\n",
    "\n",
    "    Returns:\n",
    "        float: Pearson correlation coefficient\n",
    "    \"\"\"\n",
    "    \n",
    "    # Pearson's correlation coefficient - to resolve data sparsiness problem\n",
    "    common_indices = np.logical_and(v1 > 0, v2 > 0)\n",
    "    \n",
    "    # means of items rated (not zeros)\n",
    "    v1_mean = sum(v1) / np.count_nonzero(v1)\n",
    "    v2_mean = sum(v2) / np.count_nonzero(v2)  \n",
    "    \n",
    "    # numerator of person correlation\n",
    "    numerator = np.sum((v1[common_indices] - v1_mean) * (v2[common_indices] - v2_mean))\n",
    "    \n",
    "    # denominator\n",
    "    denominator = np.sqrt(np.sum((v1[common_indices] - v1_mean)**2)) * np.sqrt(np.sum((v2[common_indices] - v2_mean)**2))\n",
    "    \n",
    "    if verbose:\n",
    "        print(f'Common indices: {common_indices}')\n",
    "        print(f'Means: {v1_mean}, {v2_mean}')\n",
    "        print(f'Numerator: {numerator}')\n",
    "        print(f'Denominator: {denominator}')\n",
    "    \n",
    "    # zero division\n",
    "    if denominator == 0:\n",
    "        return 0\n",
    "    \n",
    "    return numerator / denominator"
   ]
  },
  {
   "cell_type": "code",
   "execution_count": 517,
   "metadata": {},
   "outputs": [],
   "source": [
    "from scipy.stats import pearsonr\n",
    "\n",
    "def calculate_similarity(user1_ratings, user2_ratings, similarity='cosine'):\n",
    "    \n",
    "    if similarity == 'cosine':\n",
    "        # Cosine similarity\n",
    "        \n",
    "        magnitudes = (np.linalg.norm(user1_ratings) * np.linalg.norm(user2_ratings))\n",
    "        \n",
    "        # avoiding zero division\n",
    "        if magnitudes == 0:\n",
    "            \n",
    "            magnitudes += 1e-6\n",
    "            \n",
    "        return np.dot(user1_ratings, user2_ratings) / magnitudes\n",
    "    \n",
    "    elif similarity == 'pearson':\n",
    "        \n",
    "        # Pearson's correlation coefficient - to resolve data sparsiness problem\n",
    "        return calculate_pearson_correlation(user1_ratings, user2_ratings)\n",
    "    \n",
    "    else:\n",
    "        raise ValueError('Invalid similarity!')"
   ]
  },
  {
   "cell_type": "code",
   "execution_count": 518,
   "metadata": {},
   "outputs": [
    {
     "data": {
      "text/html": [
       "<div>\n",
       "<style scoped>\n",
       "    .dataframe tbody tr th:only-of-type {\n",
       "        vertical-align: middle;\n",
       "    }\n",
       "\n",
       "    .dataframe tbody tr th {\n",
       "        vertical-align: top;\n",
       "    }\n",
       "\n",
       "    .dataframe thead th {\n",
       "        text-align: right;\n",
       "    }\n",
       "</style>\n",
       "<table border=\"1\" class=\"dataframe\">\n",
       "  <thead>\n",
       "    <tr style=\"text-align: right;\">\n",
       "      <th></th>\n",
       "      <th>User_ID</th>\n",
       "      <th>Item_1</th>\n",
       "      <th>Item_2</th>\n",
       "      <th>Item_3</th>\n",
       "      <th>Item_4</th>\n",
       "      <th>Item_5</th>\n",
       "      <th>Item_6</th>\n",
       "      <th>Item_7</th>\n",
       "      <th>Item_8</th>\n",
       "      <th>Item_9</th>\n",
       "      <th>Item_10</th>\n",
       "    </tr>\n",
       "  </thead>\n",
       "  <tbody>\n",
       "    <tr>\n",
       "      <th>0</th>\n",
       "      <td>User_1</td>\n",
       "      <td>9.0</td>\n",
       "      <td>10.0</td>\n",
       "      <td>9.0</td>\n",
       "      <td>1.0</td>\n",
       "      <td>0.0</td>\n",
       "      <td>0.0</td>\n",
       "      <td>0.0</td>\n",
       "      <td>1.0</td>\n",
       "      <td>0.0</td>\n",
       "      <td>0.0</td>\n",
       "    </tr>\n",
       "    <tr>\n",
       "      <th>1</th>\n",
       "      <td>User_2</td>\n",
       "      <td>8.0</td>\n",
       "      <td>8.0</td>\n",
       "      <td>9.0</td>\n",
       "      <td>0.0</td>\n",
       "      <td>0.0</td>\n",
       "      <td>0.0</td>\n",
       "      <td>0.0</td>\n",
       "      <td>0.0</td>\n",
       "      <td>1.0</td>\n",
       "      <td>1.0</td>\n",
       "    </tr>\n",
       "  </tbody>\n",
       "</table>\n",
       "</div>"
      ],
      "text/plain": [
       "  User_ID  Item_1  Item_2  Item_3  Item_4  Item_5  Item_6  Item_7  Item_8  \\\n",
       "0  User_1     9.0    10.0     9.0     1.0     0.0     0.0     0.0     1.0   \n",
       "1  User_2     8.0     8.0     9.0     0.0     0.0     0.0     0.0     0.0   \n",
       "\n",
       "   Item_9  Item_10  \n",
       "0     0.0      0.0  \n",
       "1     1.0      1.0  "
      ]
     },
     "execution_count": 518,
     "metadata": {},
     "output_type": "execute_result"
    }
   ],
   "source": [
    "explicit_matrix.head(2)"
   ]
  },
  {
   "cell_type": "code",
   "execution_count": 519,
   "metadata": {},
   "outputs": [
    {
     "name": "stdout",
     "output_type": "stream",
     "text": [
      "<class 'pandas.core.frame.DataFrame'>\n",
      "RangeIndex: 20 entries, 0 to 19\n",
      "Data columns (total 11 columns):\n",
      " #   Column   Non-Null Count  Dtype  \n",
      "---  ------   --------------  -----  \n",
      " 0   User_ID  20 non-null     object \n",
      " 1   Item_1   20 non-null     float64\n",
      " 2   Item_2   20 non-null     float64\n",
      " 3   Item_3   20 non-null     float64\n",
      " 4   Item_4   20 non-null     float64\n",
      " 5   Item_5   20 non-null     float64\n",
      " 6   Item_6   20 non-null     float64\n",
      " 7   Item_7   20 non-null     float64\n",
      " 8   Item_8   20 non-null     float64\n",
      " 9   Item_9   20 non-null     float64\n",
      " 10  Item_10  20 non-null     float64\n",
      "dtypes: float64(10), object(1)\n",
      "memory usage: 1.8+ KB\n"
     ]
    }
   ],
   "source": [
    "explicit_matrix.info()"
   ]
  },
  {
   "cell_type": "markdown",
   "metadata": {},
   "source": [
    "Using ``Pearson's correlation``"
   ]
  },
  {
   "cell_type": "code",
   "execution_count": 520,
   "metadata": {},
   "outputs": [
    {
     "data": {
      "text/plain": [
       "array([9.0, 10.0, 9.0, 1.0, 0.0, 0.0, 0.0, 1.0, 0.0, 0.0], dtype=object)"
      ]
     },
     "execution_count": 520,
     "metadata": {},
     "output_type": "execute_result"
    }
   ],
   "source": [
    "explicit_matrix.values[0][1:]"
   ]
  },
  {
   "cell_type": "code",
   "execution_count": 521,
   "metadata": {},
   "outputs": [
    {
     "data": {
      "text/plain": [
       "array([0.0, 0.0, 1.0, 10.0, 9.0, 9.0, 0.0, 0.0, 1.0, 1.0], dtype=object)"
      ]
     },
     "execution_count": 521,
     "metadata": {},
     "output_type": "execute_result"
    }
   ],
   "source": [
    "explicit_matrix.values[9][1:]"
   ]
  },
  {
   "cell_type": "code",
   "execution_count": 522,
   "metadata": {},
   "outputs": [
    {
     "name": "stdout",
     "output_type": "stream",
     "text": [
      "Common indices: [False False  True  True False False False False False False]\n",
      "Means: 6.0, 5.166666666666667\n",
      "Numerator: -36.666666666666664\n",
      "Denominator: 37.20961643924264\n"
     ]
    },
    {
     "data": {
      "text/plain": [
       "-0.985408348041896"
      ]
     },
     "execution_count": 522,
     "metadata": {},
     "output_type": "execute_result"
    }
   ],
   "source": [
    "calculate_pearson_correlation(explicit_matrix.values[0][1:], explicit_matrix.values[9][1:], verbose=True)"
   ]
  },
  {
   "cell_type": "code",
   "execution_count": 523,
   "metadata": {},
   "outputs": [
    {
     "data": {
      "text/plain": [
       "-0.985408348041896"
      ]
     },
     "execution_count": 523,
     "metadata": {},
     "output_type": "execute_result"
    }
   ],
   "source": [
    "calculate_similarity(explicit_matrix.values[0][1:], explicit_matrix.values[9][1:], similarity='pearson')"
   ]
  },
  {
   "cell_type": "code",
   "execution_count": 524,
   "metadata": {},
   "outputs": [
    {
     "data": {
      "text/plain": [
       "array([10.0, 9.0, 1.0, 0.0, 0.0, 0.0, 1.0, 0.0, 0.0], dtype=object)"
      ]
     },
     "execution_count": 524,
     "metadata": {},
     "output_type": "execute_result"
    }
   ],
   "source": [
    "explicit_matrix.values[0][2:]"
   ]
  },
  {
   "cell_type": "code",
   "execution_count": 525,
   "metadata": {},
   "outputs": [
    {
     "data": {
      "text/plain": [
       "'-0.679542852931416'"
      ]
     },
     "execution_count": 525,
     "metadata": {},
     "output_type": "execute_result"
    }
   ],
   "source": [
    "f\"{calculate_similarity(explicit_matrix.values[2][1:], explicit_matrix.values[12][1:], similarity='pearson')}\""
   ]
  },
  {
   "cell_type": "markdown",
   "metadata": {},
   "source": [
    "Calculating the similarity matrix using Pearson's correlation"
   ]
  },
  {
   "cell_type": "code",
   "execution_count": 526,
   "metadata": {},
   "outputs": [],
   "source": [
    "def calculate_similarity_matrix(user_item_matrix: np.ndarray, similarity: str = 'cosine'):\n",
    "    \"\"\"Calculates the similarity matrix for all users.\n",
    "\n",
    "    Args:\n",
    "        user_item_matrix (numpy.ndarray): numpy.ndarray with user-item interactions\n",
    "        similarity (str, optional): Similarity measure. Defaults to 'cosine'.\n",
    "\n",
    "    Returns:\n",
    "        numpy.ndarray: Similarity matrix\n",
    "    \"\"\"\n",
    "    \n",
    "    num_users = user_item_matrix.shape[0]\n",
    "    \n",
    "    similarity_matrix = np.zeros((num_users, num_users))\n",
    "    \n",
    "    # Calculates full matrix and sets diagonal to 1\n",
    "    for i in range(num_users):\n",
    "        for j in range(i+1, num_users):\n",
    "            similarity_matrix[i, j] = calculate_similarity(user_item_matrix[i], user_item_matrix[j], similarity)\n",
    "            similarity_matrix[j, i] = similarity_matrix[i, j]\n",
    "    \n",
    "    for i in range(num_users):\n",
    "        similarity_matrix[i, i] = 1\n",
    "            \n",
    "    return similarity_matrix"
   ]
  },
  {
   "cell_type": "code",
   "execution_count": 527,
   "metadata": {},
   "outputs": [
    {
     "data": {
      "text/plain": [
       "array([[9.0, 10.0, 9.0, 1.0, 0.0, 0.0, 0.0, 1.0, 0.0, 0.0],\n",
       "       [8.0, 8.0, 9.0, 0.0, 0.0, 0.0, 0.0, 0.0, 1.0, 1.0],\n",
       "       [8.0, 10.0, 8.0, 1.0, 0.0, 0.0, 0.0, 1.0, 0.0, 0.0],\n",
       "       [10.0, 8.0, 10.0, 1.0, 0.0, 0.0, 0.0, 0.0, 0.0, 0.0],\n",
       "       [8.0, 9.0, 8.0, 0.0, 1.0, 0.0, 0.0, 1.0, 1.0, 0.0],\n",
       "       [0.0, 0.0, 0.0, 8.0, 8.0, 8.0, 0.0, 1.0, 0.0, 1.0],\n",
       "       [1.0, 1.0, 0.0, 9.0, 9.0, 8.0, 1.0, 1.0, 0.0, 0.0],\n",
       "       [0.0, 0.0, 0.0, 8.0, 8.0, 8.0, 1.0, 1.0, 1.0, 1.0],\n",
       "       [0.0, 1.0, 1.0, 10.0, 8.0, 10.0, 1.0, 0.0, 1.0, 1.0],\n",
       "       [0.0, 0.0, 1.0, 10.0, 9.0, 9.0, 0.0, 0.0, 1.0, 1.0],\n",
       "       [0.0, 0.0, 0.0, 10.0, 8.0, 10.0, 0.0, 0.0, 0.0, 1.0],\n",
       "       [0.0, 1.0, 0.0, 8.0, 9.0, 10.0, 1.0, 0.0, 0.0, 0.0],\n",
       "       [0.0, 0.0, 1.0, 8.0, 9.0, 8.0, 0.0, 0.0, 0.0, 0.0],\n",
       "       [0.0, 0.0, 0.0, 8.0, 9.0, 10.0, 0.0, 0.0, 0.0, 1.0],\n",
       "       [1.0, 0.0, 0.0, 10.0, 10.0, 8.0, 0.0, 0.0, 0.0, 0.0],\n",
       "       [0.0, 1.0, 0.0, 1.0, 0.0, 1.0, 9.0, 10.0, 10.0, 1.0],\n",
       "       [1.0, 0.0, 1.0, 0.0, 1.0, 0.0, 8.0, 10.0, 8.0, 1.0],\n",
       "       [0.0, 0.0, 0.0, 1.0, 0.0, 0.0, 8.0, 9.0, 8.0, 1.0],\n",
       "       [0.0, 1.0, 1.0, 0.0, 0.0, 1.0, 8.0, 9.0, 8.0, 0.0],\n",
       "       [1.0, 1.0, 0.0, 0.0, 1.0, 0.0, 9.0, 10.0, 8.0, 1.0]], dtype=object)"
      ]
     },
     "execution_count": 527,
     "metadata": {},
     "output_type": "execute_result"
    }
   ],
   "source": [
    "explicit_matrix.values[:,1:]"
   ]
  },
  {
   "cell_type": "code",
   "execution_count": 528,
   "metadata": {},
   "outputs": [
    {
     "data": {
      "text/plain": [
       "array([[ 1.        ,  0.96649486,  0.99471672,  0.89293116,  0.98218303,\n",
       "         0.19611614, -0.47098684, -0.14142136, -0.9858789 , -0.98540835,\n",
       "        -1.        , -0.89324096, -0.72198821, -1.        , -0.81627121,\n",
       "        -0.37519832, -0.99978124,  0.09950372, -0.99056375, -0.99293803],\n",
       "       [ 0.96649486,  1.        ,  0.92042467,  0.93221855,  0.96215472,\n",
       "         1.        , -1.        ,  1.        ,  0.17005455,  0.41762017,\n",
       "         1.        , -1.        , -1.        ,  1.        , -1.        ,\n",
       "        -0.329749  , -0.42842033,  0.24904104, -0.97051561, -0.36851058],\n",
       "       [ 0.99471672,  0.92042467,  1.        ,  0.84773064,  0.9756651 ,\n",
       "         0.19611614, -0.4764405 , -0.14142136, -0.96525112, -0.97353587,\n",
       "        -1.        , -0.92945833, -0.67954285, -1.        , -0.78045557,\n",
       "        -0.40276107, -0.99889374,  0.09950372, -0.97594979, -0.97407232],\n",
       "       [ 0.89293116,  0.93221855,  0.84773064,  1.        ,  0.8510395 ,\n",
       "        -1.        , -0.90089447, -1.        , -0.94367204, -0.95623272,\n",
       "        -1.        , -0.52199754, -0.62938296, -1.        , -0.73726542,\n",
       "         0.61782155, -1.        ,  1.        , -0.86824314, -0.86824314],\n",
       "       [ 0.98218303,  0.96215472,  0.9756651 ,  0.8510395 ,  1.        ,\n",
       "         0.19611614, -0.54644613,  0.19802951, -0.53246917, -0.29230337,\n",
       "        -1.        , -0.99348007, -0.91856814, -1.        , -0.91370996,\n",
       "        -0.97252284, -0.6326523 , -0.98724112, -0.99021526, -0.63397674],\n",
       "       [ 0.19611614,  1.        ,  0.19611614, -1.        ,  0.19611614,\n",
       "         1.        ,  0.94920469,  0.94387981,  0.91527873,  0.97730067,\n",
       "         0.92161241,  0.96895578,  0.968496  ,  0.9258201 ,  0.91105065,\n",
       "        -0.46098428, -0.40112793, -0.18980488, -0.99348007, -0.38350597],\n",
       "       [-0.47098684, -1.        , -0.4764405 , -0.90089447, -0.54644613,\n",
       "         0.94920469,  1.        ,  0.99581606,  0.97124921,  0.9939714 ,\n",
       "         0.88376694,  0.91531827,  0.97625865,  0.88548715,  0.80105293,\n",
       "        -0.6526665 , -0.58521517, -0.99356776, -0.52261707, -0.3569623 ],\n",
       "       [-0.14142136,  1.        , -0.14142136, -1.        ,  0.19802951,\n",
       "         0.94387981,  0.99581606,  1.        ,  0.98292097,  0.98708423,\n",
       "         0.78315652,  0.93655894,  0.968496  ,  0.78673208,  0.91105065,\n",
       "        -0.71208121, -0.6547829 , -0.52896294, -0.98515319, -0.65812826],\n",
       "       [-0.9858789 ,  0.17005455, -0.96525112, -0.94367204, -0.53246917,\n",
       "         0.91527873,  0.97124921,  0.98292097,  1.        ,  0.96172501,\n",
       "         0.76394432,  0.88550875,  0.71752614,  0.73005343,  0.85976123,\n",
       "        -0.48061306, -0.27058904, -0.49101934, -0.28681267, -0.28343759],\n",
       "       [-0.98540835,  0.41762017, -0.97353587, -0.95623272, -0.29230337,\n",
       "         0.97730067,  0.9939714 ,  0.98708423,  0.96172501,  1.        ,\n",
       "         0.85140653,  0.93874303,  0.84864497,  0.82759461,  0.92845035,\n",
       "        -0.54536735, -0.01243336, -0.26785071, -0.29230337, -0.32452199],\n",
       "       [-1.        ,  1.        , -1.        , -1.        , -1.        ,\n",
       "         0.92161241,  0.88376694,  0.78315652,  0.76394432,  0.85140653,\n",
       "         1.        ,  0.88276779,  0.77967558,  0.95563697,  0.74501992,\n",
       "         0.05882353,  0.61782155,  0.36244626, -1.        ,  0.61782155],\n",
       "       [-0.89324096, -1.        , -0.92945833, -0.52199754, -0.99348007,\n",
       "         0.96895578,  0.91531827,  0.93655894,  0.88550875,  0.93874303,\n",
       "         0.88276779,  1.        ,  0.9384298 ,  0.99052444,  0.79449101,\n",
       "        -0.41424477, -0.99073267, -0.82117702, -0.2804461 , -0.32907259],\n",
       "       [-0.72198821, -1.        , -0.67954285, -0.62938296, -0.91856814,\n",
       "         0.968496  ,  0.97625865,  0.968496  ,  0.71752614,  0.84864497,\n",
       "         0.77967558,  0.9384298 ,  1.        ,  0.89665306,  0.93368557,\n",
       "        -1.        ,  0.35112344, -1.        ,  0.49613894, -1.        ],\n",
       "       [-1.        ,  1.        , -1.        , -1.        , -1.        ,\n",
       "         0.9258201 ,  0.88548715,  0.78673208,  0.73005343,  0.82759461,\n",
       "         0.95563697,  0.99052444,  0.89665306,  1.        ,  0.70851396,\n",
       "         0.17025131,  0.4472136 ,  0.58123819, -1.        ,  0.4472136 ],\n",
       "       [-0.81627121, -1.        , -0.78045557, -0.73726542, -0.91370996,\n",
       "         0.91105065,  0.80105293,  0.91105065,  0.85976123,  0.92845035,\n",
       "         0.74501992,  0.79449101,  0.93368557,  0.70851396,  1.        ,\n",
       "        -0.86824314,  0.36244626, -1.        , -1.        ,  0.36244626],\n",
       "       [-0.37519832, -0.329749  , -0.40276107,  0.61782155, -0.97252284,\n",
       "        -0.46098428, -0.6526665 , -0.71208121, -0.48061306, -0.54536735,\n",
       "         0.05882353, -0.41424477, -1.        ,  0.17025131, -0.86824314,\n",
       "         1.        ,  0.9857602 ,  0.94005386,  0.98676651,  0.98535645],\n",
       "       [-0.99978124, -0.42842033, -0.99889374, -1.        , -0.6326523 ,\n",
       "        -0.40112793, -0.58521517, -0.6547829 , -0.27058904, -0.01243336,\n",
       "         0.61782155, -0.99073267,  0.35112344,  0.4472136 ,  0.36244626,\n",
       "         0.9857602 ,  1.        ,  0.95228335,  0.99003027,  0.99637663],\n",
       "       [ 0.09950372,  0.24904104,  0.09950372,  1.        , -0.98724112,\n",
       "        -0.18980488, -0.99356776, -0.52896294, -0.49101934, -0.26785071,\n",
       "         0.36244626, -0.82117702, -1.        ,  0.58123819, -1.        ,\n",
       "         0.94005386,  0.95228335,  1.        ,  0.99950454,  0.95128452],\n",
       "       [-0.99056375, -0.97051561, -0.97594979, -0.86824314, -0.99021526,\n",
       "        -0.99348007, -0.52261707, -0.98515319, -0.28681267, -0.29230337,\n",
       "        -1.        , -0.2804461 ,  0.49613894, -1.        , -1.        ,\n",
       "         0.98676651,  0.99003027,  0.99950454,  1.        ,  0.98979864],\n",
       "       [-0.99293803, -0.36851058, -0.97407232, -0.86824314, -0.63397674,\n",
       "        -0.38350597, -0.3569623 , -0.65812826, -0.28343759, -0.32452199,\n",
       "         0.61782155, -0.32907259, -1.        ,  0.4472136 ,  0.36244626,\n",
       "         0.98535645,  0.99637663,  0.95128452,  0.98979864,  1.        ]])"
      ]
     },
     "execution_count": 528,
     "metadata": {},
     "output_type": "execute_result"
    }
   ],
   "source": [
    "calculate_similarity_matrix(explicit_matrix.values[:,1:], similarity='pearson')"
   ]
  },
  {
   "cell_type": "code",
   "execution_count": 529,
   "metadata": {},
   "outputs": [
    {
     "data": {
      "text/plain": [
       "<Axes: >"
      ]
     },
     "execution_count": 529,
     "metadata": {},
     "output_type": "execute_result"
    },
    {
     "data": {
      "image/png": "[encoded data removed]",
      "text/plain": [
       "<Figure size 640x480 with 2 Axes>"
      ]
     },
     "metadata": {},
     "output_type": "display_data"
    }
   ],
   "source": [
    "sns.heatmap(calculate_similarity_matrix(explicit_matrix.values[:,1:], similarity='pearson'), cmap='viridis')"
   ]
  },
  {
   "cell_type": "code",
   "execution_count": 530,
   "metadata": {},
   "outputs": [
    {
     "data": {
      "text/plain": [
       "array([[ 1.        ,  0.96649486,  0.99471672,  0.89293116,  0.98218303,\n",
       "         0.19611614, -0.47098684, -0.14142136, -0.9858789 , -0.98540835,\n",
       "        -1.        , -0.89324096, -0.72198821, -1.        , -0.81627121,\n",
       "        -0.37519832, -0.99978124,  0.09950372, -0.99056375, -0.99293803],\n",
       "       [ 0.96649486,  1.        ,  0.92042467,  0.93221855,  0.96215472,\n",
       "         1.        , -1.        ,  1.        ,  0.17005455,  0.41762017,\n",
       "         1.        , -1.        , -1.        ,  1.        , -1.        ,\n",
       "        -0.329749  , -0.42842033,  0.24904104, -0.97051561, -0.36851058],\n",
       "       [ 0.99471672,  0.92042467,  1.        ,  0.84773064,  0.9756651 ,\n",
       "         0.19611614, -0.4764405 , -0.14142136, -0.96525112, -0.97353587,\n",
       "        -1.        , -0.92945833, -0.67954285, -1.        , -0.78045557,\n",
       "        -0.40276107, -0.99889374,  0.09950372, -0.97594979, -0.97407232],\n",
       "       [ 0.89293116,  0.93221855,  0.84773064,  1.        ,  0.8510395 ,\n",
       "        -1.        , -0.90089447, -1.        , -0.94367204, -0.95623272,\n",
       "        -1.        , -0.52199754, -0.62938296, -1.        , -0.73726542,\n",
       "         0.61782155, -1.        ,  1.        , -0.86824314, -0.86824314],\n",
       "       [ 0.98218303,  0.96215472,  0.9756651 ,  0.8510395 ,  1.        ,\n",
       "         0.19611614, -0.54644613,  0.19802951, -0.53246917, -0.29230337,\n",
       "        -1.        , -0.99348007, -0.91856814, -1.        , -0.91370996,\n",
       "        -0.97252284, -0.6326523 , -0.98724112, -0.99021526, -0.63397674],\n",
       "       [ 0.19611614,  1.        ,  0.19611614, -1.        ,  0.19611614,\n",
       "         1.        ,  0.94920469,  0.94387981,  0.91527873,  0.97730067,\n",
       "         0.92161241,  0.96895578,  0.968496  ,  0.9258201 ,  0.91105065,\n",
       "        -0.46098428, -0.40112793, -0.18980488, -0.99348007, -0.38350597],\n",
       "       [-0.47098684, -1.        , -0.4764405 , -0.90089447, -0.54644613,\n",
       "         0.94920469,  1.        ,  0.99581606,  0.97124921,  0.9939714 ,\n",
       "         0.88376694,  0.91531827,  0.97625865,  0.88548715,  0.80105293,\n",
       "        -0.6526665 , -0.58521517, -0.99356776, -0.52261707, -0.3569623 ],\n",
       "       [-0.14142136,  1.        , -0.14142136, -1.        ,  0.19802951,\n",
       "         0.94387981,  0.99581606,  1.        ,  0.98292097,  0.98708423,\n",
       "         0.78315652,  0.93655894,  0.968496  ,  0.78673208,  0.91105065,\n",
       "        -0.71208121, -0.6547829 , -0.52896294, -0.98515319, -0.65812826],\n",
       "       [-0.9858789 ,  0.17005455, -0.96525112, -0.94367204, -0.53246917,\n",
       "         0.91527873,  0.97124921,  0.98292097,  1.        ,  0.96172501,\n",
       "         0.76394432,  0.88550875,  0.71752614,  0.73005343,  0.85976123,\n",
       "        -0.48061306, -0.27058904, -0.49101934, -0.28681267, -0.28343759],\n",
       "       [-0.98540835,  0.41762017, -0.97353587, -0.95623272, -0.29230337,\n",
       "         0.97730067,  0.9939714 ,  0.98708423,  0.96172501,  1.        ,\n",
       "         0.85140653,  0.93874303,  0.84864497,  0.82759461,  0.92845035,\n",
       "        -0.54536735, -0.01243336, -0.26785071, -0.29230337, -0.32452199],\n",
       "       [-1.        ,  1.        , -1.        , -1.        , -1.        ,\n",
       "         0.92161241,  0.88376694,  0.78315652,  0.76394432,  0.85140653,\n",
       "         1.        ,  0.88276779,  0.77967558,  0.95563697,  0.74501992,\n",
       "         0.05882353,  0.61782155,  0.36244626, -1.        ,  0.61782155],\n",
       "       [-0.89324096, -1.        , -0.92945833, -0.52199754, -0.99348007,\n",
       "         0.96895578,  0.91531827,  0.93655894,  0.88550875,  0.93874303,\n",
       "         0.88276779,  1.        ,  0.9384298 ,  0.99052444,  0.79449101,\n",
       "        -0.41424477, -0.99073267, -0.82117702, -0.2804461 , -0.32907259],\n",
       "       [-0.72198821, -1.        , -0.67954285, -0.62938296, -0.91856814,\n",
       "         0.968496  ,  0.97625865,  0.968496  ,  0.71752614,  0.84864497,\n",
       "         0.77967558,  0.9384298 ,  1.        ,  0.89665306,  0.93368557,\n",
       "        -1.        ,  0.35112344, -1.        ,  0.49613894, -1.        ],\n",
       "       [-1.        ,  1.        , -1.        , -1.        , -1.        ,\n",
       "         0.9258201 ,  0.88548715,  0.78673208,  0.73005343,  0.82759461,\n",
       "         0.95563697,  0.99052444,  0.89665306,  1.        ,  0.70851396,\n",
       "         0.17025131,  0.4472136 ,  0.58123819, -1.        ,  0.4472136 ],\n",
       "       [-0.81627121, -1.        , -0.78045557, -0.73726542, -0.91370996,\n",
       "         0.91105065,  0.80105293,  0.91105065,  0.85976123,  0.92845035,\n",
       "         0.74501992,  0.79449101,  0.93368557,  0.70851396,  1.        ,\n",
       "        -0.86824314,  0.36244626, -1.        , -1.        ,  0.36244626],\n",
       "       [-0.37519832, -0.329749  , -0.40276107,  0.61782155, -0.97252284,\n",
       "        -0.46098428, -0.6526665 , -0.71208121, -0.48061306, -0.54536735,\n",
       "         0.05882353, -0.41424477, -1.        ,  0.17025131, -0.86824314,\n",
       "         1.        ,  0.9857602 ,  0.94005386,  0.98676651,  0.98535645],\n",
       "       [-0.99978124, -0.42842033, -0.99889374, -1.        , -0.6326523 ,\n",
       "        -0.40112793, -0.58521517, -0.6547829 , -0.27058904, -0.01243336,\n",
       "         0.61782155, -0.99073267,  0.35112344,  0.4472136 ,  0.36244626,\n",
       "         0.9857602 ,  1.        ,  0.95228335,  0.99003027,  0.99637663],\n",
       "       [ 0.09950372,  0.24904104,  0.09950372,  1.        , -0.98724112,\n",
       "        -0.18980488, -0.99356776, -0.52896294, -0.49101934, -0.26785071,\n",
       "         0.36244626, -0.82117702, -1.        ,  0.58123819, -1.        ,\n",
       "         0.94005386,  0.95228335,  1.        ,  0.99950454,  0.95128452],\n",
       "       [-0.99056375, -0.97051561, -0.97594979, -0.86824314, -0.99021526,\n",
       "        -0.99348007, -0.52261707, -0.98515319, -0.28681267, -0.29230337,\n",
       "        -1.        , -0.2804461 ,  0.49613894, -1.        , -1.        ,\n",
       "         0.98676651,  0.99003027,  0.99950454,  1.        ,  0.98979864],\n",
       "       [-0.99293803, -0.36851058, -0.97407232, -0.86824314, -0.63397674,\n",
       "        -0.38350597, -0.3569623 , -0.65812826, -0.28343759, -0.32452199,\n",
       "         0.61782155, -0.32907259, -1.        ,  0.4472136 ,  0.36244626,\n",
       "         0.98535645,  0.99637663,  0.95128452,  0.98979864,  1.        ]])"
      ]
     },
     "execution_count": 530,
     "metadata": {},
     "output_type": "execute_result"
    }
   ],
   "source": [
    "calculate_similarity_matrix(explicit_matrix.values[:,1:], similarity='pearson')"
   ]
  },
  {
   "cell_type": "code",
   "execution_count": 531,
   "metadata": {},
   "outputs": [
    {
     "data": {
      "image/png": "[encoded data removed]",
      "text/plain": [
       "<Figure size 640x480 with 2 Axes>"
      ]
     },
     "metadata": {},
     "output_type": "display_data"
    }
   ],
   "source": [
    "sns.heatmap(calculate_similarity_matrix(explicit_matrix.values[:,1:], similarity='pearson'), cmap='viridis');"
   ]
  },
  {
   "cell_type": "markdown",
   "metadata": {},
   "source": [
    "Calculate similarity for a **single user**"
   ]
  },
  {
   "cell_type": "code",
   "execution_count": 532,
   "metadata": {},
   "outputs": [],
   "source": [
    "def calculate_similarity_target_user(user_item_matrix: np.ndarray, target_user: int, similarity: str = 'cosine'):\n",
    "    \"\"\"Calculates the similarity matrix for a single user.\n",
    "\n",
    "    Args:\n",
    "        user_item_matrix (numpy.ndarray): numpy.ndarray with user-item interactions\n",
    "        target_user (int): Target user ID - row index of the user-item matrix\n",
    "        similarity (str, optional): Similarity measure. Defaults to 'cosine'.\n",
    "\n",
    "    Returns:\n",
    "        numpy.ndarray: Similarity matrix\n",
    "    \"\"\"\n",
    "    \n",
    "    num_users = user_item_matrix.shape[0]\n",
    "    \n",
    "    similarity_matrix = np.zeros(num_users)\n",
    "    \n",
    "    # Calculates full matrix and sets diagonal to 1\n",
    "    for i in range(num_users):\n",
    "        if i != target_user:\n",
    "            similarity_matrix[i] = calculate_similarity(user_item_matrix[target_user], user_item_matrix[i], similarity)\n",
    "            \n",
    "    \n",
    "    similarity_matrix[target_user] = 1\n",
    "    \n",
    "    return similarity_matrix"
   ]
  },
  {
   "cell_type": "code",
   "execution_count": 533,
   "metadata": {},
   "outputs": [
    {
     "data": {
      "text/plain": [
       "array([ 1.        ,  0.96649486,  0.99471672,  0.89293116,  0.98218303,\n",
       "        0.19611614, -0.47098684, -0.14142136, -0.9858789 , -0.98540835,\n",
       "       -1.        , -0.89324096, -0.72198821, -1.        , -0.81627121,\n",
       "       -0.37519832, -0.99978124,  0.09950372, -0.99056375, -0.99293803])"
      ]
     },
     "execution_count": 533,
     "metadata": {},
     "output_type": "execute_result"
    }
   ],
   "source": [
    "calculate_similarity_target_user(explicit_matrix.values[:,1:], 0, similarity='pearson')"
   ]
  },
  {
   "cell_type": "markdown",
   "metadata": {},
   "source": [
    "Converts the similarity metric to distance"
   ]
  },
  {
   "cell_type": "code",
   "execution_count": 534,
   "metadata": {},
   "outputs": [],
   "source": [
    "def similarity_to_distance(similarity_matrix: np.ndarray, user_1: int, user_2: int, similarity: str = 'cosine') -> float:\n",
    "    \"\"\"Converts the similarity to distance between two users.\n",
    "    - Cosine similarity: 1 - similarity\n",
    "    - Pearson correlation coefficient: (1 - similarity) / 2\n",
    "    \n",
    "    The closer the distance to 0, the more similar the users are.\n",
    "\n",
    "    Args:\n",
    "        similarity_matrix (np.ndarray): similarity matrix or vector\n",
    "        user_1 (int): target user 1\n",
    "        user_2 (int): target user 2\n",
    "        similarity (str, optional): similarity type. Defaults to 'cosine'.\n",
    "\n",
    "    Raises:\n",
    "        ValueError: Inavlid similarity type\n",
    "\n",
    "    Returns:\n",
    "        float: the distance between the two users\n",
    "    \"\"\"\n",
    "    \n",
    "    if len(similarity_matrix.shape) == 2: # full similarity matrix\n",
    "    \n",
    "        if similarity == 'cosine':\n",
    "            return 1 - similarity_matrix[user_1][user_2]\n",
    "        elif similarity == 'pearson':\n",
    "            return (1 - similarity_matrix[user_1][user_2]) / 2\n",
    "\n",
    "    if len(similarity_matrix.shape) == 1: # similarity vector\n",
    "    \n",
    "        if similarity == 'cosine':\n",
    "            return 1 - similarity_matrix[user_2]\n",
    "        elif similarity == 'pearson':\n",
    "            return (1 - similarity_matrix[user_2]) / 2\n",
    "\n",
    "    raise ValueError('Invalid similarity!')"
   ]
  },
  {
   "cell_type": "code",
   "execution_count": 535,
   "metadata": {},
   "outputs": [
    {
     "name": "stdout",
     "output_type": "stream",
     "text": [
      "Similarity vector for User_1:\n",
      "\n",
      "[ 1.          0.96649486  0.99471672  0.89293116  0.98218303  0.19611614\n",
      " -0.47098684 -0.14142136 -0.9858789  -0.98540835 -1.         -0.89324096\n",
      " -0.72198821 -1.         -0.81627121 -0.37519832 -0.99978124  0.09950372\n",
      " -0.99056375 -0.99293803]\n",
      "\n",
      "Distance between User 1 and 1 = 0.0\n",
      "Distance between User 1 and 11 = 1.0\n"
     ]
    }
   ],
   "source": [
    "user_1, user_2 = [0, 0] # expected minimum distance (0) since similarity is (1)\n",
    "\n",
    "similarity_vector = calculate_similarity_target_user(explicit_matrix.values[:,1:], user_1, similarity='pearson')\n",
    "\n",
    "print(f\"Similarity vector for User_{user_1 + 1}:\\n\\n{similarity_vector}\", end='\\n\\n')\n",
    "\n",
    "print(f\"Distance between User {user_1 + 1} and {user_2 + 1} = {similarity_to_distance(similarity_vector, user_1, user_2, similarity='pearson')}\")\n",
    "\n",
    "user_1, user_2 = [0, 10] # expected max distance (1) since we have max dissimilarity (-1)\n",
    "print(f\"Distance between User {user_1 + 1} and {user_2 + 1} = {similarity_to_distance(similarity_vector, user_1, user_2, similarity='pearson')}\")"
   ]
  },
  {
   "cell_type": "markdown",
   "metadata": {},
   "source": [
    "User based collaborative filtering"
   ]
  },
  {
   "cell_type": "code",
   "execution_count": 536,
   "metadata": {},
   "outputs": [],
   "source": [
    "def user_based_collaborative_filtering(user_item_matrix: np.ndarray, target_user: int, num_recommendations: int = 5, similarity: str = 'cosine', verbose: bool = False) -> list[int]:\n",
    "    \"\"\"Function that implements user-based collaborative filtering.\n",
    "\n",
    "    Args:\n",
    "        user_item_matrix (numpy.ndarray): numpy.ndarray with user-item interactions\n",
    "        target_user (int): Target user ID - row index of the user-item matrix\n",
    "        num_recommendations (int, optional): Number of recommendations - Defaults to 5.\n",
    "        similarity (str, optional): Similarity measure. Defaults to 'cosine'.\n",
    "\n",
    "    Returns:\n",
    "        list[int]: List of recommended item IDs - column indices of the user-item matrix\n",
    "    \"\"\"\n",
    "    \n",
    "    # similarity vector\n",
    "    similarity_vector = calculate_similarity_target_user(user_item_matrix, target_user, similarity)\n",
    "    \n",
    "    # similarity to distance - so I can use the same function to different similarity types\n",
    "    distance_vector = np.zeros(similarity_vector.shape)\n",
    "    for user in range(similarity_vector.shape[0]):\n",
    "        distance_vector[user] = similarity_to_distance(similarity_vector, target_user, user, similarity)\n",
    "    \n",
    "    # finding similar users (need to exclude the target user)\n",
    "    similar_users = np.argsort(similarity_vector)[::-1][1:]\n",
    "    \n",
    "    # finding out unrated items for the target user\n",
    "    unrated_items = np.where(user_item_matrix[target_user] == 0)[0]\n",
    "    \n",
    "    # no unrated items\n",
    "    if unrated_items.size == 0:\n",
    "        return []\n",
    "    \n",
    "    # recommendations for target user\n",
    "    recommendations = np.zeros(user_item_matrix.shape[1])\n",
    "    \n",
    "    # recommendations only for items that are unrated by the target user\n",
    "    for user in similar_users:\n",
    "        unrated_user_ratings = user_item_matrix[user].astype(float) * (user_item_matrix[target_user] == 0) # distance metric\n",
    "        recommendations += (1 - distance_vector[user]) * unrated_user_ratings # distance metric: [1 - distance] so the closest user (distance near 0) has the highest weight\n",
    "    \n",
    "    if verbose:\n",
    "        print(f'Similarity vector of User_{target_user + 1}: {similarity_vector}\\n')\n",
    "        print(f'Distance vector of User_{target_user + 1}: {distance_vector}\\n')\n",
    "        print(f'Similar users: {similar_users}\\n')\n",
    "        print(f'Unrated items of User_{target_user + 1}: {unrated_items}\\n')\n",
    "        print(f'Recommendations for User_{target_user + 1}: {recommendations}\\n')\n",
    "        #print(f\"(user_item_matrix[target_user] == 0): {user_item_matrix[target_user] == 0}\")\n",
    "        #print(f\"Data types - similarity_vector: {similarity_vector.dtype}, unrated_user_ratings: {unrated_user_ratings.dtype}, recommendations: {recommendations.dtype}\")\n",
    "    \n",
    "    # sorting\n",
    "    sorted_recommendations = np.argsort(recommendations)[::-1]\n",
    "    \n",
    "    # top-n recommendations\n",
    "    return sorted_recommendations[:num_recommendations]"
   ]
  },
  {
   "cell_type": "markdown",
   "metadata": {},
   "source": [
    "Recommendations using **Cosine Similarity**"
   ]
  },
  {
   "cell_type": "code",
   "execution_count": 537,
   "metadata": {},
   "outputs": [
    {
     "name": "stdout",
     "output_type": "stream",
     "text": [
      "Similarity vector of User_1: [1.         0.98721724 0.99831874 0.98676925 0.9933401  0.03976854\n",
      " 0.11768798 0.03956512 0.1088228  0.07183378 0.03780725 0.07048912\n",
      " 0.07220002 0.03139211 0.07183378 0.07655876 0.11313893 0.04236984\n",
      " 0.11835542 0.11310879]\n",
      "\n",
      "Distance vector of User_1: [0.         0.01278276 0.00168126 0.01323075 0.0066599  0.96023146\n",
      " 0.88231202 0.96043488 0.8911772  0.92816622 0.96219275 0.92951088\n",
      " 0.92779998 0.96860789 0.92816622 0.92344124 0.88686107 0.95763016\n",
      " 0.88164458 0.88689121]\n",
      "\n",
      "Similar users: [ 2  4  1  3 18  6 16 19  8 15 12 14  9 11 17  5  7 10 13]\n",
      "\n",
      "Unrated items of User_1: [4 5 6 8 9]\n",
      "\n",
      "Recommendations for User_1: [0.         0.         0.         0.         7.01806233 6.05497445\n",
      " 4.23448649 0.         6.06215048 1.66158316]\n",
      "\n",
      "Recommended items for User_1:\n",
      "- Item: Item_5\n",
      "- Item: Item_9\n",
      "- Item: Item_6\n"
     ]
    }
   ],
   "source": [
    "target_user = 0\n",
    "num_recommendations = 3\n",
    "similarity = 'cosine'\n",
    "\n",
    "recommendations = user_based_collaborative_filtering(explicit_matrix.values[:,1:],\n",
    "                                                     target_user=target_user,\n",
    "                                                     num_recommendations=num_recommendations,\n",
    "                                                     similarity=similarity,\n",
    "                                                     verbose=True)\n",
    "\n",
    "\n",
    "\n",
    "print(f\"Recommended items for {df.index[target_user]}:\")\n",
    "for item in recommendations:\n",
    "    print(f'- Item: {df.columns[item]}')"
   ]
  },
  {
   "cell_type": "markdown",
   "metadata": {},
   "source": [
    "Recommendations using **Pearson's Correlation**"
   ]
  },
  {
   "cell_type": "code",
   "execution_count": 538,
   "metadata": {},
   "outputs": [
    {
     "name": "stdout",
     "output_type": "stream",
     "text": [
      "Similarity vector of User_1: [ 1.          0.96649486  0.99471672  0.89293116  0.98218303  0.19611614\n",
      " -0.47098684 -0.14142136 -0.9858789  -0.98540835 -1.         -0.89324096\n",
      " -0.72198821 -1.         -0.81627121 -0.37519832 -0.99978124  0.09950372\n",
      " -0.99056375 -0.99293803]\n",
      "\n",
      "Distance vector of User_1: [0.         0.01675257 0.00264164 0.05353442 0.00890849 0.40194193\n",
      " 0.73549342 0.57071068 0.99293945 0.99270417 1.         0.94662048\n",
      " 0.8609941  1.         0.90813561 0.68759916 0.99989062 0.45024814\n",
      " 0.99528188 0.99646901]\n",
      "\n",
      "Similar users: [ 2  4  1  3  5 17  7 15  6 12 14 11  9  8 18 19 16 10 13]\n",
      "\n",
      "Unrated items of User_1: [4 5 6 8 9]\n",
      "\n",
      "Recommendations for User_1: [ 0.          0.          0.          0.         14.36632975 13.16897618\n",
      "  8.03425731  0.         10.00687583  2.89074426]\n",
      "\n",
      "Recommended items for User_1:\n",
      "- Item: Item_5\n",
      "- Item: Item_6\n",
      "- Item: Item_9\n"
     ]
    }
   ],
   "source": [
    "target_user = 0\n",
    "num_recommendations = 3\n",
    "similarity = 'pearson'\n",
    "\n",
    "recommendations = user_based_collaborative_filtering(explicit_matrix.values[:,1:],\n",
    "                                                     target_user=target_user,\n",
    "                                                     num_recommendations=num_recommendations,\n",
    "                                                     similarity=similarity,\n",
    "                                                     verbose=True)\n",
    "\n",
    "\n",
    "\n",
    "print(f\"Recommended items for {df.index[target_user]}:\")\n",
    "for item in recommendations:\n",
    "    print(f'- Item: {df.columns[item]}')"
   ]
  },
  {
   "cell_type": "markdown",
   "metadata": {},
   "source": [
    "# Research `Hierarchical Clustering` for different **linkage** methods:\n",
    "- SINGLE\n",
    "- WARD\n",
    "- AVERAGE\n",
    "\n",
    "Distance metrics:\n",
    "- Euclidean: is the square root of the sum of the squared differences between the coordinates of the points (distance between two points)\n",
    "\n",
    "- Manhattan: is the sum of the absolute differences between the coordinates of the points\n",
    "\n",
    "- Cosine: is the dot product of the two vectors divided by the product of the two vectors' lengths (or magnitudes)\n",
    "\n",
    "Efficiency of the algorithms:\n",
    "- SINGLE: O(n^2)\n",
    "- WARD: O(n^2)\n",
    "- AVERAGE: O(n^2)"
   ]
  },
  {
   "cell_type": "markdown",
   "metadata": {},
   "source": [
    "Using ``scipy.cluster.hierarchy``"
   ]
  },
  {
   "cell_type": "code",
   "execution_count": 539,
   "metadata": {},
   "outputs": [],
   "source": [
    "from scipy.cluster.hierarchy import linkage, dendrogram\n",
    "import plotly.figure_factory as ff\n",
    "\n",
    "explicit_matrix.set_index('User_ID', inplace=True) # handle the labels better"
   ]
  },
  {
   "cell_type": "markdown",
   "metadata": {},
   "source": [
    "BASIC EXAMPLE from scipy documentation"
   ]
  },
  {
   "cell_type": "code",
   "execution_count": 540,
   "metadata": {},
   "outputs": [
    {
     "name": "stdout",
     "output_type": "stream",
     "text": [
      "[[2], [8], [0], [4], [1], [9], [9], [0]]\n"
     ]
    },
    {
     "data": {
      "image/png": "[encoded data removed]",
      "text/plain": [
       "<Figure size 2500x1000 with 1 Axes>"
      ]
     },
     "metadata": {},
     "output_type": "display_data"
    },
    {
     "data": {
      "image/png": "[encoded data removed]",
      "text/plain": [
       "<Figure size 2500x1000 with 1 Axes>"
      ]
     },
     "metadata": {},
     "output_type": "display_data"
    }
   ],
   "source": [
    "X = [[i] for i in [2, 8, 0, 4, 1, 9, 9, 0]]\n",
    "print(X)\n",
    "X = np.array(X)\n",
    "Z = linkage(X, 'ward')\n",
    "fig = plt.figure(figsize=(25, 10))\n",
    "dn = dendrogram(Z)\n",
    "Z = linkage(X, 'single')\n",
    "fig = plt.figure(figsize=(25, 10))\n",
    "dn = dendrogram(Z)\n",
    "plt.show()"
   ]
  },
  {
   "cell_type": "markdown",
   "metadata": {},
   "source": [
    "`SINGLE` linkage method\n",
    "- shortest distance between any two points in the two clusters"
   ]
  },
  {
   "cell_type": "code",
   "execution_count": 541,
   "metadata": {},
   "outputs": [
    {
     "data": {
      "image/png": "[encoded data removed]",
      "text/plain": [
       "<Figure size 2000x1000 with 1 Axes>"
      ]
     },
     "metadata": {},
     "output_type": "display_data"
    },
    {
     "data": {
      "application/vnd.plotly.v1+json": {
       "config": {
        "plotlyServerURL": "https://plot.ly"
       },
       "data": [
        {
         "hoverinfo": "text",
         "marker": {
          "color": "rgb(61,153,112)"
         },
         "mode": "lines",
         "type": "scatter",
         "x": [
          35,
          35,
          45,
          45
         ],
         "xaxis": "x",
         "y": [
          0,
          1.4142135623730951,
          1.4142135623730951,
          0
         ],
         "yaxis": "y"
        },
        {
         "hoverinfo": "text",
         "marker": {
          "color": "rgb(61,153,112)"
         },
         "mode": "lines",
         "type": "scatter",
         "x": [
          25,
          25,
          40,
          40
         ],
         "xaxis": "x",
         "y": [
          0,
          2,
          2,
          1.4142135623730951
         ],
         "yaxis": "y"
        },
        {
         "hoverinfo": "text",
         "marker": {
          "color": "rgb(61,153,112)"
         },
         "mode": "lines",
         "type": "scatter",
         "x": [
          15,
          15,
          32.5,
          32.5
         ],
         "xaxis": "x",
         "y": [
          0,
          2.23606797749979,
          2.23606797749979,
          2
         ],
         "yaxis": "y"
        },
        {
         "hoverinfo": "text",
         "marker": {
          "color": "rgb(61,153,112)"
         },
         "mode": "lines",
         "type": "scatter",
         "x": [
          5,
          5,
          23.75,
          23.75
         ],
         "xaxis": "x",
         "y": [
          0,
          2.6457513110645907,
          2.6457513110645907,
          2.23606797749979
         ],
         "yaxis": "y"
        },
        {
         "hoverinfo": "text",
         "marker": {
          "color": "rgb(255,65,54)"
         },
         "mode": "lines",
         "type": "scatter",
         "x": [
          55,
          55,
          65,
          65
         ],
         "xaxis": "x",
         "y": [
          0,
          1.7320508075688772,
          1.7320508075688772,
          0
         ],
         "yaxis": "y"
        },
        {
         "hoverinfo": "text",
         "marker": {
          "color": "rgb(255,65,54)"
         },
         "mode": "lines",
         "type": "scatter",
         "x": [
          85,
          85,
          95,
          95
         ],
         "xaxis": "x",
         "y": [
          0,
          2,
          2,
          0
         ],
         "yaxis": "y"
        },
        {
         "hoverinfo": "text",
         "marker": {
          "color": "rgb(255,65,54)"
         },
         "mode": "lines",
         "type": "scatter",
         "x": [
          75,
          75,
          90,
          90
         ],
         "xaxis": "x",
         "y": [
          0,
          2,
          2,
          2
         ],
         "yaxis": "y"
        },
        {
         "hoverinfo": "text",
         "marker": {
          "color": "rgb(255,65,54)"
         },
         "mode": "lines",
         "type": "scatter",
         "x": [
          60,
          60,
          82.5,
          82.5
         ],
         "xaxis": "x",
         "y": [
          1.7320508075688772,
          2.23606797749979,
          2.23606797749979,
          2
         ],
         "yaxis": "y"
        },
        {
         "hoverinfo": "text",
         "marker": {
          "color": "rgb(255,65,54)"
         },
         "mode": "lines",
         "type": "scatter",
         "x": [
          115,
          115,
          125,
          125
         ],
         "xaxis": "x",
         "y": [
          0,
          1.4142135623730951,
          1.4142135623730951,
          0
         ],
         "yaxis": "y"
        },
        {
         "hoverinfo": "text",
         "marker": {
          "color": "rgb(255,65,54)"
         },
         "mode": "lines",
         "type": "scatter",
         "x": [
          105,
          105,
          120,
          120
         ],
         "xaxis": "x",
         "y": [
          0,
          2,
          2,
          1.4142135623730951
         ],
         "yaxis": "y"
        },
        {
         "hoverinfo": "text",
         "marker": {
          "color": "rgb(255,65,54)"
         },
         "mode": "lines",
         "type": "scatter",
         "x": [
          135,
          135,
          145,
          145
         ],
         "xaxis": "x",
         "y": [
          0,
          2.23606797749979,
          2.23606797749979,
          0
         ],
         "yaxis": "y"
        },
        {
         "hoverinfo": "text",
         "marker": {
          "color": "rgb(255,65,54)"
         },
         "mode": "lines",
         "type": "scatter",
         "x": [
          112.5,
          112.5,
          140,
          140
         ],
         "xaxis": "x",
         "y": [
          2,
          2.449489742783178,
          2.449489742783178,
          2.23606797749979
         ],
         "yaxis": "y"
        },
        {
         "hoverinfo": "text",
         "marker": {
          "color": "rgb(255,65,54)"
         },
         "mode": "lines",
         "type": "scatter",
         "x": [
          71.25,
          71.25,
          126.25,
          126.25
         ],
         "xaxis": "x",
         "y": [
          2.23606797749979,
          2.449489742783178,
          2.449489742783178,
          2.449489742783178
         ],
         "yaxis": "y"
        },
        {
         "hoverinfo": "text",
         "marker": {
          "color": "rgb(35,205,205)"
         },
         "mode": "lines",
         "type": "scatter",
         "x": [
          165,
          165,
          175,
          175
         ],
         "xaxis": "x",
         "y": [
          0,
          1.7320508075688772,
          1.7320508075688772,
          0
         ],
         "yaxis": "y"
        },
        {
         "hoverinfo": "text",
         "marker": {
          "color": "rgb(35,205,205)"
         },
         "mode": "lines",
         "type": "scatter",
         "x": [
          185,
          185,
          195,
          195
         ],
         "xaxis": "x",
         "y": [
          0,
          2.23606797749979,
          2.23606797749979,
          0
         ],
         "yaxis": "y"
        },
        {
         "hoverinfo": "text",
         "marker": {
          "color": "rgb(35,205,205)"
         },
         "mode": "lines",
         "type": "scatter",
         "x": [
          170,
          170,
          190,
          190
         ],
         "xaxis": "x",
         "y": [
          1.7320508075688772,
          2.23606797749979,
          2.23606797749979,
          2.23606797749979
         ],
         "yaxis": "y"
        },
        {
         "hoverinfo": "text",
         "marker": {
          "color": "rgb(35,205,205)"
         },
         "mode": "lines",
         "type": "scatter",
         "x": [
          155,
          155,
          180,
          180
         ],
         "xaxis": "x",
         "y": [
          0,
          2.8284271247461903,
          2.8284271247461903,
          2.23606797749979
         ],
         "yaxis": "y"
        },
        {
         "hoverinfo": "text",
         "marker": {
          "color": "rgb(0,116,217)"
         },
         "mode": "lines",
         "type": "scatter",
         "x": [
          98.75,
          98.75,
          167.5,
          167.5
         ],
         "xaxis": "x",
         "y": [
          2.449489742783178,
          18.411952639521967,
          18.411952639521967,
          2.8284271247461903
         ],
         "yaxis": "y"
        },
        {
         "hoverinfo": "text",
         "marker": {
          "color": "rgb(0,116,217)"
         },
         "mode": "lines",
         "type": "scatter",
         "x": [
          14.375,
          14.375,
          133.125,
          133.125
         ],
         "xaxis": "x",
         "y": [
          2.6457513110645907,
          18.867962264113206,
          18.867962264113206,
          18.411952639521967
         ],
         "yaxis": "y"
        }
       ],
       "layout": {
        "autosize": false,
        "height": 500,
        "hovermode": "closest",
        "showlegend": false,
        "template": {
         "data": {
          "bar": [
           {
            "error_x": {
             "color": "#2a3f5f"
            },
            "error_y": {
             "color": "#2a3f5f"
            },
            "marker": {
             "line": {
              "color": "#E5ECF6",
              "width": 0.5
             },
             "pattern": {
              "fillmode": "overlay",
              "size": 10,
              "solidity": 0.2
             }
            },
            "type": "bar"
           }
          ],
          "barpolar": [
           {
            "marker": {
             "line": {
              "color": "#E5ECF6",
              "width": 0.5
             },
             "pattern": {
              "fillmode": "overlay",
              "size": 10,
              "solidity": 0.2
             }
            },
            "type": "barpolar"
           }
          ],
          "carpet": [
           {
            "aaxis": {
             "endlinecolor": "#2a3f5f",
             "gridcolor": "white",
             "linecolor": "white",
             "minorgridcolor": "white",
             "startlinecolor": "#2a3f5f"
            },
            "baxis": {
             "endlinecolor": "#2a3f5f",
             "gridcolor": "white",
             "linecolor": "white",
             "minorgridcolor": "white",
             "startlinecolor": "#2a3f5f"
            },
            "type": "carpet"
           }
          ],
          "choropleth": [
           {
            "colorbar": {
             "outlinewidth": 0,
             "ticks": ""
            },
            "type": "choropleth"
           }
          ],
          "contour": [
           {
            "colorbar": {
             "outlinewidth": 0,
             "ticks": ""
            },
            "colorscale": [
             [
              0,
              "#0d0887"
             ],
             [
              0.1111111111111111,
              "#46039f"
             ],
             [
              0.2222222222222222,
              "#7201a8"
             ],
             [
              0.3333333333333333,
              "#9c179e"
             ],
             [
              0.4444444444444444,
              "#bd3786"
             ],
             [
              0.5555555555555556,
              "#d8576b"
             ],
             [
              0.6666666666666666,
              "#ed7953"
             ],
             [
              0.7777777777777778,
              "#fb9f3a"
             ],
             [
              0.8888888888888888,
              "#fdca26"
             ],
             [
              1,
              "#f0f921"
             ]
            ],
            "type": "contour"
           }
          ],
          "contourcarpet": [
           {
            "colorbar": {
             "outlinewidth": 0,
             "ticks": ""
            },
            "type": "contourcarpet"
           }
          ],
          "heatmap": [
           {
            "colorbar": {
             "outlinewidth": 0,
             "ticks": ""
            },
            "colorscale": [
             [
              0,
              "#0d0887"
             ],
             [
              0.1111111111111111,
              "#46039f"
             ],
             [
              0.2222222222222222,
              "#7201a8"
             ],
             [
              0.3333333333333333,
              "#9c179e"
             ],
             [
              0.4444444444444444,
              "#bd3786"
             ],
             [
              0.5555555555555556,
              "#d8576b"
             ],
             [
              0.6666666666666666,
              "#ed7953"
             ],
             [
              0.7777777777777778,
              "#fb9f3a"
             ],
             [
              0.8888888888888888,
              "#fdca26"
             ],
             [
              1,
              "#f0f921"
             ]
            ],
            "type": "heatmap"
           }
          ],
          "heatmapgl": [
           {
            "colorbar": {
             "outlinewidth": 0,
             "ticks": ""
            },
            "colorscale": [
             [
              0,
              "#0d0887"
             ],
             [
              0.1111111111111111,
              "#46039f"
             ],
             [
              0.2222222222222222,
              "#7201a8"
             ],
             [
              0.3333333333333333,
              "#9c179e"
             ],
             [
              0.4444444444444444,
              "#bd3786"
             ],
             [
              0.5555555555555556,
              "#d8576b"
             ],
             [
              0.6666666666666666,
              "#ed7953"
             ],
             [
              0.7777777777777778,
              "#fb9f3a"
             ],
             [
              0.8888888888888888,
              "#fdca26"
             ],
             [
              1,
              "#f0f921"
             ]
            ],
            "type": "heatmapgl"
           }
          ],
          "histogram": [
           {
            "marker": {
             "pattern": {
              "fillmode": "overlay",
              "size": 10,
              "solidity": 0.2
             }
            },
            "type": "histogram"
           }
          ],
          "histogram2d": [
           {
            "colorbar": {
             "outlinewidth": 0,
             "ticks": ""
            },
            "colorscale": [
             [
              0,
              "#0d0887"
             ],
             [
              0.1111111111111111,
              "#46039f"
             ],
             [
              0.2222222222222222,
              "#7201a8"
             ],
             [
              0.3333333333333333,
              "#9c179e"
             ],
             [
              0.4444444444444444,
              "#bd3786"
             ],
             [
              0.5555555555555556,
              "#d8576b"
             ],
             [
              0.6666666666666666,
              "#ed7953"
             ],
             [
              0.7777777777777778,
              "#fb9f3a"
             ],
             [
              0.8888888888888888,
              "#fdca26"
             ],
             [
              1,
              "#f0f921"
             ]
            ],
            "type": "histogram2d"
           }
          ],
          "histogram2dcontour": [
           {
            "colorbar": {
             "outlinewidth": 0,
             "ticks": ""
            },
            "colorscale": [
             [
              0,
              "#0d0887"
             ],
             [
              0.1111111111111111,
              "#46039f"
             ],
             [
              0.2222222222222222,
              "#7201a8"
             ],
             [
              0.3333333333333333,
              "#9c179e"
             ],
             [
              0.4444444444444444,
              "#bd3786"
             ],
             [
              0.5555555555555556,
              "#d8576b"
             ],
             [
              0.6666666666666666,
              "#ed7953"
             ],
             [
              0.7777777777777778,
              "#fb9f3a"
             ],
             [
              0.8888888888888888,
              "#fdca26"
             ],
             [
              1,
              "#f0f921"
             ]
            ],
            "type": "histogram2dcontour"
           }
          ],
          "mesh3d": [
           {
            "colorbar": {
             "outlinewidth": 0,
             "ticks": ""
            },
            "type": "mesh3d"
           }
          ],
          "parcoords": [
           {
            "line": {
             "colorbar": {
              "outlinewidth": 0,
              "ticks": ""
             }
            },
            "type": "parcoords"
           }
          ],
          "pie": [
           {
            "automargin": true,
            "type": "pie"
           }
          ],
          "scatter": [
           {
            "fillpattern": {
             "fillmode": "overlay",
             "size": 10,
             "solidity": 0.2
            },
            "type": "scatter"
           }
          ],
          "scatter3d": [
           {
            "line": {
             "colorbar": {
              "outlinewidth": 0,
              "ticks": ""
             }
            },
            "marker": {
             "colorbar": {
              "outlinewidth": 0,
              "ticks": ""
             }
            },
            "type": "scatter3d"
           }
          ],
          "scattercarpet": [
           {
            "marker": {
             "colorbar": {
              "outlinewidth": 0,
              "ticks": ""
             }
            },
            "type": "scattercarpet"
           }
          ],
          "scattergeo": [
           {
            "marker": {
             "colorbar": {
              "outlinewidth": 0,
              "ticks": ""
             }
            },
            "type": "scattergeo"
           }
          ],
          "scattergl": [
           {
            "marker": {
             "colorbar": {
              "outlinewidth": 0,
              "ticks": ""
             }
            },
            "type": "scattergl"
           }
          ],
          "scattermapbox": [
           {
            "marker": {
             "colorbar": {
              "outlinewidth": 0,
              "ticks": ""
             }
            },
            "type": "scattermapbox"
           }
          ],
          "scatterpolar": [
           {
            "marker": {
             "colorbar": {
              "outlinewidth": 0,
              "ticks": ""
             }
            },
            "type": "scatterpolar"
           }
          ],
          "scatterpolargl": [
           {
            "marker": {
             "colorbar": {
              "outlinewidth": 0,
              "ticks": ""
             }
            },
            "type": "scatterpolargl"
           }
          ],
          "scatterternary": [
           {
            "marker": {
             "colorbar": {
              "outlinewidth": 0,
              "ticks": ""
             }
            },
            "type": "scatterternary"
           }
          ],
          "surface": [
           {
            "colorbar": {
             "outlinewidth": 0,
             "ticks": ""
            },
            "colorscale": [
             [
              0,
              "#0d0887"
             ],
             [
              0.1111111111111111,
              "#46039f"
             ],
             [
              0.2222222222222222,
              "#7201a8"
             ],
             [
              0.3333333333333333,
              "#9c179e"
             ],
             [
              0.4444444444444444,
              "#bd3786"
             ],
             [
              0.5555555555555556,
              "#d8576b"
             ],
             [
              0.6666666666666666,
              "#ed7953"
             ],
             [
              0.7777777777777778,
              "#fb9f3a"
             ],
             [
              0.8888888888888888,
              "#fdca26"
             ],
             [
              1,
              "#f0f921"
             ]
            ],
            "type": "surface"
           }
          ],
          "table": [
           {
            "cells": {
             "fill": {
              "color": "#EBF0F8"
             },
             "line": {
              "color": "white"
             }
            },
            "header": {
             "fill": {
              "color": "#C8D4E3"
             },
             "line": {
              "color": "white"
             }
            },
            "type": "table"
           }
          ]
         },
         "layout": {
          "annotationdefaults": {
           "arrowcolor": "#2a3f5f",
           "arrowhead": 0,
           "arrowwidth": 1
          },
          "autotypenumbers": "strict",
          "coloraxis": {
           "colorbar": {
            "outlinewidth": 0,
            "ticks": ""
           }
          },
          "colorscale": {
           "diverging": [
            [
             0,
             "#8e0152"
            ],
            [
             0.1,
             "#c51b7d"
            ],
            [
             0.2,
             "#de77ae"
            ],
            [
             0.3,
             "#f1b6da"
            ],
            [
             0.4,
             "#fde0ef"
            ],
            [
             0.5,
             "#f7f7f7"
            ],
            [
             0.6,
             "#e6f5d0"
            ],
            [
             0.7,
             "#b8e186"
            ],
            [
             0.8,
             "#7fbc41"
            ],
            [
             0.9,
             "#4d9221"
            ],
            [
             1,
             "#276419"
            ]
           ],
           "sequential": [
            [
             0,
             "#0d0887"
            ],
            [
             0.1111111111111111,
             "#46039f"
            ],
            [
             0.2222222222222222,
             "#7201a8"
            ],
            [
             0.3333333333333333,
             "#9c179e"
            ],
            [
             0.4444444444444444,
             "#bd3786"
            ],
            [
             0.5555555555555556,
             "#d8576b"
            ],
            [
             0.6666666666666666,
             "#ed7953"
            ],
            [
             0.7777777777777778,
             "#fb9f3a"
            ],
            [
             0.8888888888888888,
             "#fdca26"
            ],
            [
             1,
             "#f0f921"
            ]
           ],
           "sequentialminus": [
            [
             0,
             "#0d0887"
            ],
            [
             0.1111111111111111,
             "#46039f"
            ],
            [
             0.2222222222222222,
             "#7201a8"
            ],
            [
             0.3333333333333333,
             "#9c179e"
            ],
            [
             0.4444444444444444,
             "#bd3786"
            ],
            [
             0.5555555555555556,
             "#d8576b"
            ],
            [
             0.6666666666666666,
             "#ed7953"
            ],
            [
             0.7777777777777778,
             "#fb9f3a"
            ],
            [
             0.8888888888888888,
             "#fdca26"
            ],
            [
             1,
             "#f0f921"
            ]
           ]
          },
          "colorway": [
           "#636efa",
           "#EF553B",
           "#00cc96",
           "#ab63fa",
           "#FFA15A",
           "#19d3f3",
           "#FF6692",
           "#B6E880",
           "#FF97FF",
           "#FECB52"
          ],
          "font": {
           "color": "#2a3f5f"
          },
          "geo": {
           "bgcolor": "white",
           "lakecolor": "white",
           "landcolor": "#E5ECF6",
           "showlakes": true,
           "showland": true,
           "subunitcolor": "white"
          },
          "hoverlabel": {
           "align": "left"
          },
          "hovermode": "closest",
          "mapbox": {
           "style": "light"
          },
          "paper_bgcolor": "white",
          "plot_bgcolor": "#E5ECF6",
          "polar": {
           "angularaxis": {
            "gridcolor": "white",
            "linecolor": "white",
            "ticks": ""
           },
           "bgcolor": "#E5ECF6",
           "radialaxis": {
            "gridcolor": "white",
            "linecolor": "white",
            "ticks": ""
           }
          },
          "scene": {
           "xaxis": {
            "backgroundcolor": "#E5ECF6",
            "gridcolor": "white",
            "gridwidth": 2,
            "linecolor": "white",
            "showbackground": true,
            "ticks": "",
            "zerolinecolor": "white"
           },
           "yaxis": {
            "backgroundcolor": "#E5ECF6",
            "gridcolor": "white",
            "gridwidth": 2,
            "linecolor": "white",
            "showbackground": true,
            "ticks": "",
            "zerolinecolor": "white"
           },
           "zaxis": {
            "backgroundcolor": "#E5ECF6",
            "gridcolor": "white",
            "gridwidth": 2,
            "linecolor": "white",
            "showbackground": true,
            "ticks": "",
            "zerolinecolor": "white"
           }
          },
          "shapedefaults": {
           "line": {
            "color": "#2a3f5f"
           }
          },
          "ternary": {
           "aaxis": {
            "gridcolor": "white",
            "linecolor": "white",
            "ticks": ""
           },
           "baxis": {
            "gridcolor": "white",
            "linecolor": "white",
            "ticks": ""
           },
           "bgcolor": "#E5ECF6",
           "caxis": {
            "gridcolor": "white",
            "linecolor": "white",
            "ticks": ""
           }
          },
          "title": {
           "x": 0.05
          },
          "xaxis": {
           "automargin": true,
           "gridcolor": "white",
           "linecolor": "white",
           "ticks": "",
           "title": {
            "standoff": 15
           },
           "zerolinecolor": "white",
           "zerolinewidth": 2
          },
          "yaxis": {
           "automargin": true,
           "gridcolor": "white",
           "linecolor": "white",
           "ticks": "",
           "title": {
            "standoff": 15
           },
           "zerolinecolor": "white",
           "zerolinewidth": 2
          }
         }
        },
        "title": {
         "text": "Hierarchical Clustering Dendrogram"
        },
        "width": 800,
        "xaxis": {
         "mirror": "allticks",
         "rangemode": "tozero",
         "showgrid": false,
         "showline": true,
         "showticklabels": true,
         "tickmode": "array",
         "ticks": "outside",
         "ticktext": [
          "User_4",
          "User_2",
          "User_5",
          "User_1",
          "User_3",
          "User_12",
          "User_14",
          "User_11",
          "User_9",
          "User_10",
          "User_13",
          "User_6",
          "User_8",
          "User_7",
          "User_15",
          "User_16",
          "User_17",
          "User_20",
          "User_18",
          "User_19"
         ],
         "tickvals": [
          5,
          15,
          25,
          35,
          45,
          55,
          65,
          75,
          85,
          95,
          105,
          115,
          125,
          135,
          145,
          155,
          165,
          175,
          185,
          195
         ],
         "type": "linear",
         "zeroline": false
        },
        "yaxis": {
         "mirror": "allticks",
         "rangemode": "tozero",
         "showgrid": false,
         "showline": true,
         "showticklabels": true,
         "ticks": "outside",
         "type": "linear",
         "zeroline": false
        }
       }
      }
     },
     "metadata": {},
     "output_type": "display_data"
    }
   ],
   "source": [
    "# Hierarchical clustering - SINGLE\n",
    "linkage_matrix = linkage(explicit_matrix, method='single', metric='euclidean')\n",
    "\n",
    "# Dendrogram\n",
    "plt.figure(figsize=(20, 10))\n",
    "dendrogram(linkage_matrix, labels=explicit_matrix.index, orientation='top', distance_sort='ascending', show_leaf_counts=True)\n",
    "plt.title('Hierarchical Clustering Dendrogram')\n",
    "plt.xlabel('Users')\n",
    "plt.ylabel('Distance')\n",
    "plt.show()\n",
    "\n",
    "fig = ff.create_dendrogram(explicit_matrix.values, orientation='bottom', labels=explicit_matrix.index, linkagefun=lambda x: linkage_matrix)\n",
    "fig.update_layout(width=800, height=500, title='Hierarchical Clustering Dendrogram')\n",
    "fig.show()\n"
   ]
  },
  {
   "cell_type": "markdown",
   "metadata": {},
   "source": [
    "`WARD` linkage method\n",
    "- minimizes the variance of the clusters being merged"
   ]
  },
  {
   "cell_type": "code",
   "execution_count": 542,
   "metadata": {},
   "outputs": [
    {
     "data": {
      "image/png": "[encoded data removed]",
      "text/plain": [
       "<Figure size 2000x1000 with 1 Axes>"
      ]
     },
     "metadata": {},
     "output_type": "display_data"
    },
    {
     "data": {
      "application/vnd.plotly.v1+json": {
       "config": {
        "plotlyServerURL": "https://plot.ly"
       },
       "data": [
        {
         "hoverinfo": "text",
         "marker": {
          "color": "rgb(61,153,112)"
         },
         "mode": "lines",
         "type": "scatter",
         "x": [
          15,
          15,
          25,
          25
         ],
         "xaxis": "x",
         "y": [
          0,
          2,
          2,
          0
         ],
         "yaxis": "y"
        },
        {
         "hoverinfo": "text",
         "marker": {
          "color": "rgb(61,153,112)"
         },
         "mode": "lines",
         "type": "scatter",
         "x": [
          5,
          5,
          20,
          20
         ],
         "xaxis": "x",
         "y": [
          0,
          2,
          2,
          2
         ],
         "yaxis": "y"
        },
        {
         "hoverinfo": "text",
         "marker": {
          "color": "rgb(61,153,112)"
         },
         "mode": "lines",
         "type": "scatter",
         "x": [
          35,
          35,
          45,
          45
         ],
         "xaxis": "x",
         "y": [
          0,
          2.23606797749979,
          2.23606797749979,
          0
         ],
         "yaxis": "y"
        },
        {
         "hoverinfo": "text",
         "marker": {
          "color": "rgb(61,153,112)"
         },
         "mode": "lines",
         "type": "scatter",
         "x": [
          55,
          55,
          65,
          65
         ],
         "xaxis": "x",
         "y": [
          0,
          1.7320508075688772,
          1.7320508075688772,
          0
         ],
         "yaxis": "y"
        },
        {
         "hoverinfo": "text",
         "marker": {
          "color": "rgb(61,153,112)"
         },
         "mode": "lines",
         "type": "scatter",
         "x": [
          85,
          85,
          95,
          95
         ],
         "xaxis": "x",
         "y": [
          0,
          1.4142135623730951,
          1.4142135623730951,
          0
         ],
         "yaxis": "y"
        },
        {
         "hoverinfo": "text",
         "marker": {
          "color": "rgb(61,153,112)"
         },
         "mode": "lines",
         "type": "scatter",
         "x": [
          75,
          75,
          90,
          90
         ],
         "xaxis": "x",
         "y": [
          0,
          2.449489742783178,
          2.449489742783178,
          1.4142135623730951
         ],
         "yaxis": "y"
        },
        {
         "hoverinfo": "text",
         "marker": {
          "color": "rgb(61,153,112)"
         },
         "mode": "lines",
         "type": "scatter",
         "x": [
          60,
          60,
          82.5,
          82.5
         ],
         "xaxis": "x",
         "y": [
          1.7320508075688772,
          3.605551275463989,
          3.605551275463989,
          2.449489742783178
         ],
         "yaxis": "y"
        },
        {
         "hoverinfo": "text",
         "marker": {
          "color": "rgb(61,153,112)"
         },
         "mode": "lines",
         "type": "scatter",
         "x": [
          40,
          40,
          71.25,
          71.25
         ],
         "xaxis": "x",
         "y": [
          2.23606797749979,
          3.8729833462074166,
          3.8729833462074166,
          3.605551275463989
         ],
         "yaxis": "y"
        },
        {
         "hoverinfo": "text",
         "marker": {
          "color": "rgb(61,153,112)"
         },
         "mode": "lines",
         "type": "scatter",
         "x": [
          12.5,
          12.5,
          55.625,
          55.625
         ],
         "xaxis": "x",
         "y": [
          2,
          4.626013402488152,
          4.626013402488152,
          3.8729833462074166
         ],
         "yaxis": "y"
        },
        {
         "hoverinfo": "text",
         "marker": {
          "color": "rgb(255,65,54)"
         },
         "mode": "lines",
         "type": "scatter",
         "x": [
          115,
          115,
          125,
          125
         ],
         "xaxis": "x",
         "y": [
          0,
          1.7320508075688772,
          1.7320508075688772,
          0
         ],
         "yaxis": "y"
        },
        {
         "hoverinfo": "text",
         "marker": {
          "color": "rgb(255,65,54)"
         },
         "mode": "lines",
         "type": "scatter",
         "x": [
          135,
          135,
          145,
          145
         ],
         "xaxis": "x",
         "y": [
          0,
          2.23606797749979,
          2.23606797749979,
          0
         ],
         "yaxis": "y"
        },
        {
         "hoverinfo": "text",
         "marker": {
          "color": "rgb(255,65,54)"
         },
         "mode": "lines",
         "type": "scatter",
         "x": [
          120,
          120,
          140,
          140
         ],
         "xaxis": "x",
         "y": [
          1.7320508075688772,
          2.8284271247461894,
          2.8284271247461894,
          2.23606797749979
         ],
         "yaxis": "y"
        },
        {
         "hoverinfo": "text",
         "marker": {
          "color": "rgb(255,65,54)"
         },
         "mode": "lines",
         "type": "scatter",
         "x": [
          105,
          105,
          130,
          130
         ],
         "xaxis": "x",
         "y": [
          0,
          3.3466401061363027,
          3.3466401061363027,
          2.8284271247461894
         ],
         "yaxis": "y"
        },
        {
         "hoverinfo": "text",
         "marker": {
          "color": "rgb(35,205,205)"
         },
         "mode": "lines",
         "type": "scatter",
         "x": [
          165,
          165,
          175,
          175
         ],
         "xaxis": "x",
         "y": [
          0,
          1.4142135623730951,
          1.4142135623730951,
          0
         ],
         "yaxis": "y"
        },
        {
         "hoverinfo": "text",
         "marker": {
          "color": "rgb(35,205,205)"
         },
         "mode": "lines",
         "type": "scatter",
         "x": [
          185,
          185,
          195,
          195
         ],
         "xaxis": "x",
         "y": [
          0,
          2.23606797749979,
          2.23606797749979,
          0
         ],
         "yaxis": "y"
        },
        {
         "hoverinfo": "text",
         "marker": {
          "color": "rgb(35,205,205)"
         },
         "mode": "lines",
         "type": "scatter",
         "x": [
          170,
          170,
          190,
          190
         ],
         "xaxis": "x",
         "y": [
          1.4142135623730951,
          3.24037034920393,
          3.24037034920393,
          2.23606797749979
         ],
         "yaxis": "y"
        },
        {
         "hoverinfo": "text",
         "marker": {
          "color": "rgb(35,205,205)"
         },
         "mode": "lines",
         "type": "scatter",
         "x": [
          155,
          155,
          180,
          180
         ],
         "xaxis": "x",
         "y": [
          0,
          3.591656999213595,
          3.591656999213595,
          3.24037034920393
         ],
         "yaxis": "y"
        },
        {
         "hoverinfo": "text",
         "marker": {
          "color": "rgb(0,116,217)"
         },
         "mode": "lines",
         "type": "scatter",
         "x": [
          117.5,
          117.5,
          167.5,
          167.5
         ],
         "xaxis": "x",
         "y": [
          3.3466401061363027,
          46.07168327725827,
          46.07168327725827,
          3.591656999213595
         ],
         "yaxis": "y"
        },
        {
         "hoverinfo": "text",
         "marker": {
          "color": "rgb(0,116,217)"
         },
         "mode": "lines",
         "type": "scatter",
         "x": [
          34.0625,
          34.0625,
          142.5,
          142.5
         ],
         "xaxis": "x",
         "y": [
          4.626013402488152,
          57.30095985234454,
          57.30095985234454,
          46.07168327725827
         ],
         "yaxis": "y"
        }
       ],
       "layout": {
        "autosize": false,
        "height": 500,
        "hovermode": "closest",
        "showlegend": false,
        "template": {
         "data": {
          "bar": [
           {
            "error_x": {
             "color": "#2a3f5f"
            },
            "error_y": {
             "color": "#2a3f5f"
            },
            "marker": {
             "line": {
              "color": "#E5ECF6",
              "width": 0.5
             },
             "pattern": {
              "fillmode": "overlay",
              "size": 10,
              "solidity": 0.2
             }
            },
            "type": "bar"
           }
          ],
          "barpolar": [
           {
            "marker": {
             "line": {
              "color": "#E5ECF6",
              "width": 0.5
             },
             "pattern": {
              "fillmode": "overlay",
              "size": 10,
              "solidity": 0.2
             }
            },
            "type": "barpolar"
           }
          ],
          "carpet": [
           {
            "aaxis": {
             "endlinecolor": "#2a3f5f",
             "gridcolor": "white",
             "linecolor": "white",
             "minorgridcolor": "white",
             "startlinecolor": "#2a3f5f"
            },
            "baxis": {
             "endlinecolor": "#2a3f5f",
             "gridcolor": "white",
             "linecolor": "white",
             "minorgridcolor": "white",
             "startlinecolor": "#2a3f5f"
            },
            "type": "carpet"
           }
          ],
          "choropleth": [
           {
            "colorbar": {
             "outlinewidth": 0,
             "ticks": ""
            },
            "type": "choropleth"
           }
          ],
          "contour": [
           {
            "colorbar": {
             "outlinewidth": 0,
             "ticks": ""
            },
            "colorscale": [
             [
              0,
              "#0d0887"
             ],
             [
              0.1111111111111111,
              "#46039f"
             ],
             [
              0.2222222222222222,
              "#7201a8"
             ],
             [
              0.3333333333333333,
              "#9c179e"
             ],
             [
              0.4444444444444444,
              "#bd3786"
             ],
             [
              0.5555555555555556,
              "#d8576b"
             ],
             [
              0.6666666666666666,
              "#ed7953"
             ],
             [
              0.7777777777777778,
              "#fb9f3a"
             ],
             [
              0.8888888888888888,
              "#fdca26"
             ],
             [
              1,
              "#f0f921"
             ]
            ],
            "type": "contour"
           }
          ],
          "contourcarpet": [
           {
            "colorbar": {
             "outlinewidth": 0,
             "ticks": ""
            },
            "type": "contourcarpet"
           }
          ],
          "heatmap": [
           {
            "colorbar": {
             "outlinewidth": 0,
             "ticks": ""
            },
            "colorscale": [
             [
              0,
              "#0d0887"
             ],
             [
              0.1111111111111111,
              "#46039f"
             ],
             [
              0.2222222222222222,
              "#7201a8"
             ],
             [
              0.3333333333333333,
              "#9c179e"
             ],
             [
              0.4444444444444444,
              "#bd3786"
             ],
             [
              0.5555555555555556,
              "#d8576b"
             ],
             [
              0.6666666666666666,
              "#ed7953"
             ],
             [
              0.7777777777777778,
              "#fb9f3a"
             ],
             [
              0.8888888888888888,
              "#fdca26"
             ],
             [
              1,
              "#f0f921"
             ]
            ],
            "type": "heatmap"
           }
          ],
          "heatmapgl": [
           {
            "colorbar": {
             "outlinewidth": 0,
             "ticks": ""
            },
            "colorscale": [
             [
              0,
              "#0d0887"
             ],
             [
              0.1111111111111111,
              "#46039f"
             ],
             [
              0.2222222222222222,
              "#7201a8"
             ],
             [
              0.3333333333333333,
              "#9c179e"
             ],
             [
              0.4444444444444444,
              "#bd3786"
             ],
             [
              0.5555555555555556,
              "#d8576b"
             ],
             [
              0.6666666666666666,
              "#ed7953"
             ],
             [
              0.7777777777777778,
              "#fb9f3a"
             ],
             [
              0.8888888888888888,
              "#fdca26"
             ],
             [
              1,
              "#f0f921"
             ]
            ],
            "type": "heatmapgl"
           }
          ],
          "histogram": [
           {
            "marker": {
             "pattern": {
              "fillmode": "overlay",
              "size": 10,
              "solidity": 0.2
             }
            },
            "type": "histogram"
           }
          ],
          "histogram2d": [
           {
            "colorbar": {
             "outlinewidth": 0,
             "ticks": ""
            },
            "colorscale": [
             [
              0,
              "#0d0887"
             ],
             [
              0.1111111111111111,
              "#46039f"
             ],
             [
              0.2222222222222222,
              "#7201a8"
             ],
             [
              0.3333333333333333,
              "#9c179e"
             ],
             [
              0.4444444444444444,
              "#bd3786"
             ],
             [
              0.5555555555555556,
              "#d8576b"
             ],
             [
              0.6666666666666666,
              "#ed7953"
             ],
             [
              0.7777777777777778,
              "#fb9f3a"
             ],
             [
              0.8888888888888888,
              "#fdca26"
             ],
             [
              1,
              "#f0f921"
             ]
            ],
            "type": "histogram2d"
           }
          ],
          "histogram2dcontour": [
           {
            "colorbar": {
             "outlinewidth": 0,
             "ticks": ""
            },
            "colorscale": [
             [
              0,
              "#0d0887"
             ],
             [
              0.1111111111111111,
              "#46039f"
             ],
             [
              0.2222222222222222,
              "#7201a8"
             ],
             [
              0.3333333333333333,
              "#9c179e"
             ],
             [
              0.4444444444444444,
              "#bd3786"
             ],
             [
              0.5555555555555556,
              "#d8576b"
             ],
             [
              0.6666666666666666,
              "#ed7953"
             ],
             [
              0.7777777777777778,
              "#fb9f3a"
             ],
             [
              0.8888888888888888,
              "#fdca26"
             ],
             [
              1,
              "#f0f921"
             ]
            ],
            "type": "histogram2dcontour"
           }
          ],
          "mesh3d": [
           {
            "colorbar": {
             "outlinewidth": 0,
             "ticks": ""
            },
            "type": "mesh3d"
           }
          ],
          "parcoords": [
           {
            "line": {
             "colorbar": {
              "outlinewidth": 0,
              "ticks": ""
             }
            },
            "type": "parcoords"
           }
          ],
          "pie": [
           {
            "automargin": true,
            "type": "pie"
           }
          ],
          "scatter": [
           {
            "fillpattern": {
             "fillmode": "overlay",
             "size": 10,
             "solidity": 0.2
            },
            "type": "scatter"
           }
          ],
          "scatter3d": [
           {
            "line": {
             "colorbar": {
              "outlinewidth": 0,
              "ticks": ""
             }
            },
            "marker": {
             "colorbar": {
              "outlinewidth": 0,
              "ticks": ""
             }
            },
            "type": "scatter3d"
           }
          ],
          "scattercarpet": [
           {
            "marker": {
             "colorbar": {
              "outlinewidth": 0,
              "ticks": ""
             }
            },
            "type": "scattercarpet"
           }
          ],
          "scattergeo": [
           {
            "marker": {
             "colorbar": {
              "outlinewidth": 0,
              "ticks": ""
             }
            },
            "type": "scattergeo"
           }
          ],
          "scattergl": [
           {
            "marker": {
             "colorbar": {
              "outlinewidth": 0,
              "ticks": ""
             }
            },
            "type": "scattergl"
           }
          ],
          "scattermapbox": [
           {
            "marker": {
             "colorbar": {
              "outlinewidth": 0,
              "ticks": ""
             }
            },
            "type": "scattermapbox"
           }
          ],
          "scatterpolar": [
           {
            "marker": {
             "colorbar": {
              "outlinewidth": 0,
              "ticks": ""
             }
            },
            "type": "scatterpolar"
           }
          ],
          "scatterpolargl": [
           {
            "marker": {
             "colorbar": {
              "outlinewidth": 0,
              "ticks": ""
             }
            },
            "type": "scatterpolargl"
           }
          ],
          "scatterternary": [
           {
            "marker": {
             "colorbar": {
              "outlinewidth": 0,
              "ticks": ""
             }
            },
            "type": "scatterternary"
           }
          ],
          "surface": [
           {
            "colorbar": {
             "outlinewidth": 0,
             "ticks": ""
            },
            "colorscale": [
             [
              0,
              "#0d0887"
             ],
             [
              0.1111111111111111,
              "#46039f"
             ],
             [
              0.2222222222222222,
              "#7201a8"
             ],
             [
              0.3333333333333333,
              "#9c179e"
             ],
             [
              0.4444444444444444,
              "#bd3786"
             ],
             [
              0.5555555555555556,
              "#d8576b"
             ],
             [
              0.6666666666666666,
              "#ed7953"
             ],
             [
              0.7777777777777778,
              "#fb9f3a"
             ],
             [
              0.8888888888888888,
              "#fdca26"
             ],
             [
              1,
              "#f0f921"
             ]
            ],
            "type": "surface"
           }
          ],
          "table": [
           {
            "cells": {
             "fill": {
              "color": "#EBF0F8"
             },
             "line": {
              "color": "white"
             }
            },
            "header": {
             "fill": {
              "color": "#C8D4E3"
             },
             "line": {
              "color": "white"
             }
            },
            "type": "table"
           }
          ]
         },
         "layout": {
          "annotationdefaults": {
           "arrowcolor": "#2a3f5f",
           "arrowhead": 0,
           "arrowwidth": 1
          },
          "autotypenumbers": "strict",
          "coloraxis": {
           "colorbar": {
            "outlinewidth": 0,
            "ticks": ""
           }
          },
          "colorscale": {
           "diverging": [
            [
             0,
             "#8e0152"
            ],
            [
             0.1,
             "#c51b7d"
            ],
            [
             0.2,
             "#de77ae"
            ],
            [
             0.3,
             "#f1b6da"
            ],
            [
             0.4,
             "#fde0ef"
            ],
            [
             0.5,
             "#f7f7f7"
            ],
            [
             0.6,
             "#e6f5d0"
            ],
            [
             0.7,
             "#b8e186"
            ],
            [
             0.8,
             "#7fbc41"
            ],
            [
             0.9,
             "#4d9221"
            ],
            [
             1,
             "#276419"
            ]
           ],
           "sequential": [
            [
             0,
             "#0d0887"
            ],
            [
             0.1111111111111111,
             "#46039f"
            ],
            [
             0.2222222222222222,
             "#7201a8"
            ],
            [
             0.3333333333333333,
             "#9c179e"
            ],
            [
             0.4444444444444444,
             "#bd3786"
            ],
            [
             0.5555555555555556,
             "#d8576b"
            ],
            [
             0.6666666666666666,
             "#ed7953"
            ],
            [
             0.7777777777777778,
             "#fb9f3a"
            ],
            [
             0.8888888888888888,
             "#fdca26"
            ],
            [
             1,
             "#f0f921"
            ]
           ],
           "sequentialminus": [
            [
             0,
             "#0d0887"
            ],
            [
             0.1111111111111111,
             "#46039f"
            ],
            [
             0.2222222222222222,
             "#7201a8"
            ],
            [
             0.3333333333333333,
             "#9c179e"
            ],
            [
             0.4444444444444444,
             "#bd3786"
            ],
            [
             0.5555555555555556,
             "#d8576b"
            ],
            [
             0.6666666666666666,
             "#ed7953"
            ],
            [
             0.7777777777777778,
             "#fb9f3a"
            ],
            [
             0.8888888888888888,
             "#fdca26"
            ],
            [
             1,
             "#f0f921"
            ]
           ]
          },
          "colorway": [
           "#636efa",
           "#EF553B",
           "#00cc96",
           "#ab63fa",
           "#FFA15A",
           "#19d3f3",
           "#FF6692",
           "#B6E880",
           "#FF97FF",
           "#FECB52"
          ],
          "font": {
           "color": "#2a3f5f"
          },
          "geo": {
           "bgcolor": "white",
           "lakecolor": "white",
           "landcolor": "#E5ECF6",
           "showlakes": true,
           "showland": true,
           "subunitcolor": "white"
          },
          "hoverlabel": {
           "align": "left"
          },
          "hovermode": "closest",
          "mapbox": {
           "style": "light"
          },
          "paper_bgcolor": "white",
          "plot_bgcolor": "#E5ECF6",
          "polar": {
           "angularaxis": {
            "gridcolor": "white",
            "linecolor": "white",
            "ticks": ""
           },
           "bgcolor": "#E5ECF6",
           "radialaxis": {
            "gridcolor": "white",
            "linecolor": "white",
            "ticks": ""
           }
          },
          "scene": {
           "xaxis": {
            "backgroundcolor": "#E5ECF6",
            "gridcolor": "white",
            "gridwidth": 2,
            "linecolor": "white",
            "showbackground": true,
            "ticks": "",
            "zerolinecolor": "white"
           },
           "yaxis": {
            "backgroundcolor": "#E5ECF6",
            "gridcolor": "white",
            "gridwidth": 2,
            "linecolor": "white",
            "showbackground": true,
            "ticks": "",
            "zerolinecolor": "white"
           },
           "zaxis": {
            "backgroundcolor": "#E5ECF6",
            "gridcolor": "white",
            "gridwidth": 2,
            "linecolor": "white",
            "showbackground": true,
            "ticks": "",
            "zerolinecolor": "white"
           }
          },
          "shapedefaults": {
           "line": {
            "color": "#2a3f5f"
           }
          },
          "ternary": {
           "aaxis": {
            "gridcolor": "white",
            "linecolor": "white",
            "ticks": ""
           },
           "baxis": {
            "gridcolor": "white",
            "linecolor": "white",
            "ticks": ""
           },
           "bgcolor": "#E5ECF6",
           "caxis": {
            "gridcolor": "white",
            "linecolor": "white",
            "ticks": ""
           }
          },
          "title": {
           "x": 0.05
          },
          "xaxis": {
           "automargin": true,
           "gridcolor": "white",
           "linecolor": "white",
           "ticks": "",
           "title": {
            "standoff": 15
           },
           "zerolinecolor": "white",
           "zerolinewidth": 2
          },
          "yaxis": {
           "automargin": true,
           "gridcolor": "white",
           "linecolor": "white",
           "ticks": "",
           "title": {
            "standoff": 15
           },
           "zerolinecolor": "white",
           "zerolinewidth": 2
          }
         }
        },
        "title": {
         "text": "Hierarchical Clustering Dendrogram"
        },
        "width": 800,
        "xaxis": {
         "mirror": "allticks",
         "rangemode": "tozero",
         "showgrid": false,
         "showline": true,
         "showticklabels": true,
         "tickmode": "array",
         "ticks": "outside",
         "ticktext": [
          "User_11",
          "User_9",
          "User_10",
          "User_7",
          "User_15",
          "User_12",
          "User_14",
          "User_13",
          "User_6",
          "User_8",
          "User_16",
          "User_17",
          "User_20",
          "User_18",
          "User_19",
          "User_4",
          "User_1",
          "User_3",
          "User_2",
          "User_5"
         ],
         "tickvals": [
          5,
          15,
          25,
          35,
          45,
          55,
          65,
          75,
          85,
          95,
          105,
          115,
          125,
          135,
          145,
          155,
          165,
          175,
          185,
          195
         ],
         "type": "linear",
         "zeroline": false
        },
        "yaxis": {
         "mirror": "allticks",
         "rangemode": "tozero",
         "showgrid": false,
         "showline": true,
         "showticklabels": true,
         "ticks": "outside",
         "type": "linear",
         "zeroline": false
        }
       }
      }
     },
     "metadata": {},
     "output_type": "display_data"
    }
   ],
   "source": [
    "# Hierarchical clustering - ward\n",
    "linkage_matrix = linkage(explicit_matrix, method='ward', metric='euclidean')\n",
    "\n",
    "# Dendrogram\n",
    "plt.figure(figsize=(20, 10))\n",
    "dendrogram(linkage_matrix, labels=explicit_matrix.index, orientation='top', distance_sort='ascending', show_leaf_counts=True)\n",
    "plt.title('Hierarchical Clustering Dendrogram')\n",
    "plt.xlabel('Users')\n",
    "plt.ylabel('Distance')\n",
    "plt.show()\n",
    "\n",
    "fig = ff.create_dendrogram(explicit_matrix.values, orientation='bottom', labels=explicit_matrix.index, linkagefun=lambda x: linkage_matrix)\n",
    "fig.update_layout(width=800, height=500, title='Hierarchical Clustering Dendrogram')\n",
    "fig.show()"
   ]
  },
  {
   "cell_type": "markdown",
   "metadata": {},
   "source": [
    "`AVERAGE` linkage method\n",
    "- average distance between all pairs of points in the two clusters"
   ]
  },
  {
   "cell_type": "code",
   "execution_count": 543,
   "metadata": {},
   "outputs": [
    {
     "data": {
      "image/png": "[encoded data removed]",
      "text/plain": [
       "<Figure size 2000x1000 with 1 Axes>"
      ]
     },
     "metadata": {},
     "output_type": "display_data"
    },
    {
     "data": {
      "application/vnd.plotly.v1+json": {
       "config": {
        "plotlyServerURL": "https://plot.ly"
       },
       "data": [
        {
         "hoverinfo": "text",
         "marker": {
          "color": "rgb(61,153,112)"
         },
         "mode": "lines",
         "type": "scatter",
         "x": [
          15,
          15,
          25,
          25
         ],
         "xaxis": "x",
         "y": [
          0,
          2,
          2,
          0
         ],
         "yaxis": "y"
        },
        {
         "hoverinfo": "text",
         "marker": {
          "color": "rgb(61,153,112)"
         },
         "mode": "lines",
         "type": "scatter",
         "x": [
          5,
          5,
          20,
          20
         ],
         "xaxis": "x",
         "y": [
          0,
          2,
          2,
          2
         ],
         "yaxis": "y"
        },
        {
         "hoverinfo": "text",
         "marker": {
          "color": "rgb(61,153,112)"
         },
         "mode": "lines",
         "type": "scatter",
         "x": [
          35,
          35,
          45,
          45
         ],
         "xaxis": "x",
         "y": [
          0,
          2.23606797749979,
          2.23606797749979,
          0
         ],
         "yaxis": "y"
        },
        {
         "hoverinfo": "text",
         "marker": {
          "color": "rgb(61,153,112)"
         },
         "mode": "lines",
         "type": "scatter",
         "x": [
          55,
          55,
          65,
          65
         ],
         "xaxis": "x",
         "y": [
          0,
          1.7320508075688772,
          1.7320508075688772,
          0
         ],
         "yaxis": "y"
        },
        {
         "hoverinfo": "text",
         "marker": {
          "color": "rgb(61,153,112)"
         },
         "mode": "lines",
         "type": "scatter",
         "x": [
          85,
          85,
          95,
          95
         ],
         "xaxis": "x",
         "y": [
          0,
          1.4142135623730951,
          1.4142135623730951,
          0
         ],
         "yaxis": "y"
        },
        {
         "hoverinfo": "text",
         "marker": {
          "color": "rgb(61,153,112)"
         },
         "mode": "lines",
         "type": "scatter",
         "x": [
          75,
          75,
          90,
          90
         ],
         "xaxis": "x",
         "y": [
          0,
          2.224744871391589,
          2.224744871391589,
          1.4142135623730951
         ],
         "yaxis": "y"
        },
        {
         "hoverinfo": "text",
         "marker": {
          "color": "rgb(61,153,112)"
         },
         "mode": "lines",
         "type": "scatter",
         "x": [
          60,
          60,
          82.5,
          82.5
         ],
         "xaxis": "x",
         "y": [
          1.7320508075688772,
          2.728859653562856,
          2.728859653562856,
          2.224744871391589
         ],
         "yaxis": "y"
        },
        {
         "hoverinfo": "text",
         "marker": {
          "color": "rgb(61,153,112)"
         },
         "mode": "lines",
         "type": "scatter",
         "x": [
          40,
          40,
          71.25,
          71.25
         ],
         "xaxis": "x",
         "y": [
          2.23606797749979,
          2.9505151981959634,
          2.9505151981959634,
          2.728859653562856
         ],
         "yaxis": "y"
        },
        {
         "hoverinfo": "text",
         "marker": {
          "color": "rgb(61,153,112)"
         },
         "mode": "lines",
         "type": "scatter",
         "x": [
          12.5,
          12.5,
          55.625,
          55.625
         ],
         "xaxis": "x",
         "y": [
          2,
          3.071159704843819,
          3.071159704843819,
          2.9505151981959634
         ],
         "yaxis": "y"
        },
        {
         "hoverinfo": "text",
         "marker": {
          "color": "rgb(255,65,54)"
         },
         "mode": "lines",
         "type": "scatter",
         "x": [
          115,
          115,
          125,
          125
         ],
         "xaxis": "x",
         "y": [
          0,
          1.7320508075688772,
          1.7320508075688772,
          0
         ],
         "yaxis": "y"
        },
        {
         "hoverinfo": "text",
         "marker": {
          "color": "rgb(255,65,54)"
         },
         "mode": "lines",
         "type": "scatter",
         "x": [
          135,
          135,
          145,
          145
         ],
         "xaxis": "x",
         "y": [
          0,
          2.23606797749979,
          2.23606797749979,
          0
         ],
         "yaxis": "y"
        },
        {
         "hoverinfo": "text",
         "marker": {
          "color": "rgb(255,65,54)"
         },
         "mode": "lines",
         "type": "scatter",
         "x": [
          120,
          120,
          140,
          140
         ],
         "xaxis": "x",
         "y": [
          1.7320508075688772,
          2.4451996935326843,
          2.4451996935326843,
          2.23606797749979
         ],
         "yaxis": "y"
        },
        {
         "hoverinfo": "text",
         "marker": {
          "color": "rgb(255,65,54)"
         },
         "mode": "lines",
         "type": "scatter",
         "x": [
          105,
          105,
          130,
          130
         ],
         "xaxis": "x",
         "y": [
          0,
          2.993369759961945,
          2.993369759961945,
          2.4451996935326843
         ],
         "yaxis": "y"
        },
        {
         "hoverinfo": "text",
         "marker": {
          "color": "rgb(35,205,205)"
         },
         "mode": "lines",
         "type": "scatter",
         "x": [
          185,
          185,
          195,
          195
         ],
         "xaxis": "x",
         "y": [
          0,
          1.4142135623730951,
          1.4142135623730951,
          0
         ],
         "yaxis": "y"
        },
        {
         "hoverinfo": "text",
         "marker": {
          "color": "rgb(35,205,205)"
         },
         "mode": "lines",
         "type": "scatter",
         "x": [
          175,
          175,
          190,
          190
         ],
         "xaxis": "x",
         "y": [
          0,
          2.224744871391589,
          2.224744871391589,
          1.4142135623730951
         ],
         "yaxis": "y"
        },
        {
         "hoverinfo": "text",
         "marker": {
          "color": "rgb(35,205,205)"
         },
         "mode": "lines",
         "type": "scatter",
         "x": [
          165,
          165,
          182.5,
          182.5
         ],
         "xaxis": "x",
         "y": [
          0,
          2.74535599249993,
          2.74535599249993,
          2.224744871391589
         ],
         "yaxis": "y"
        },
        {
         "hoverinfo": "text",
         "marker": {
          "color": "rgb(35,205,205)"
         },
         "mode": "lines",
         "type": "scatter",
         "x": [
          155,
          155,
          173.75,
          173.75
         ],
         "xaxis": "x",
         "y": [
          0,
          3.1713202466846897,
          3.1713202466846897,
          2.74535599249993
         ],
         "yaxis": "y"
        },
        {
         "hoverinfo": "text",
         "marker": {
          "color": "rgb(0,116,217)"
         },
         "mode": "lines",
         "type": "scatter",
         "x": [
          117.5,
          117.5,
          164.375,
          164.375
         ],
         "xaxis": "x",
         "y": [
          2.993369759961945,
          20.71788885859175,
          20.71788885859175,
          3.1713202466846897
         ],
         "yaxis": "y"
        },
        {
         "hoverinfo": "text",
         "marker": {
          "color": "rgb(0,116,217)"
         },
         "mode": "lines",
         "type": "scatter",
         "x": [
          34.0625,
          34.0625,
          140.9375,
          140.9375
         ],
         "xaxis": "x",
         "y": [
          3.071159704843819,
          20.980154392166728,
          20.980154392166728,
          20.71788885859175
         ],
         "yaxis": "y"
        }
       ],
       "layout": {
        "autosize": false,
        "height": 500,
        "hovermode": "closest",
        "showlegend": false,
        "template": {
         "data": {
          "bar": [
           {
            "error_x": {
             "color": "#2a3f5f"
            },
            "error_y": {
             "color": "#2a3f5f"
            },
            "marker": {
             "line": {
              "color": "#E5ECF6",
              "width": 0.5
             },
             "pattern": {
              "fillmode": "overlay",
              "size": 10,
              "solidity": 0.2
             }
            },
            "type": "bar"
           }
          ],
          "barpolar": [
           {
            "marker": {
             "line": {
              "color": "#E5ECF6",
              "width": 0.5
             },
             "pattern": {
              "fillmode": "overlay",
              "size": 10,
              "solidity": 0.2
             }
            },
            "type": "barpolar"
           }
          ],
          "carpet": [
           {
            "aaxis": {
             "endlinecolor": "#2a3f5f",
             "gridcolor": "white",
             "linecolor": "white",
             "minorgridcolor": "white",
             "startlinecolor": "#2a3f5f"
            },
            "baxis": {
             "endlinecolor": "#2a3f5f",
             "gridcolor": "white",
             "linecolor": "white",
             "minorgridcolor": "white",
             "startlinecolor": "#2a3f5f"
            },
            "type": "carpet"
           }
          ],
          "choropleth": [
           {
            "colorbar": {
             "outlinewidth": 0,
             "ticks": ""
            },
            "type": "choropleth"
           }
          ],
          "contour": [
           {
            "colorbar": {
             "outlinewidth": 0,
             "ticks": ""
            },
            "colorscale": [
             [
              0,
              "#0d0887"
             ],
             [
              0.1111111111111111,
              "#46039f"
             ],
             [
              0.2222222222222222,
              "#7201a8"
             ],
             [
              0.3333333333333333,
              "#9c179e"
             ],
             [
              0.4444444444444444,
              "#bd3786"
             ],
             [
              0.5555555555555556,
              "#d8576b"
             ],
             [
              0.6666666666666666,
              "#ed7953"
             ],
             [
              0.7777777777777778,
              "#fb9f3a"
             ],
             [
              0.8888888888888888,
              "#fdca26"
             ],
             [
              1,
              "#f0f921"
             ]
            ],
            "type": "contour"
           }
          ],
          "contourcarpet": [
           {
            "colorbar": {
             "outlinewidth": 0,
             "ticks": ""
            },
            "type": "contourcarpet"
           }
          ],
          "heatmap": [
           {
            "colorbar": {
             "outlinewidth": 0,
             "ticks": ""
            },
            "colorscale": [
             [
              0,
              "#0d0887"
             ],
             [
              0.1111111111111111,
              "#46039f"
             ],
             [
              0.2222222222222222,
              "#7201a8"
             ],
             [
              0.3333333333333333,
              "#9c179e"
             ],
             [
              0.4444444444444444,
              "#bd3786"
             ],
             [
              0.5555555555555556,
              "#d8576b"
             ],
             [
              0.6666666666666666,
              "#ed7953"
             ],
             [
              0.7777777777777778,
              "#fb9f3a"
             ],
             [
              0.8888888888888888,
              "#fdca26"
             ],
             [
              1,
              "#f0f921"
             ]
            ],
            "type": "heatmap"
           }
          ],
          "heatmapgl": [
           {
            "colorbar": {
             "outlinewidth": 0,
             "ticks": ""
            },
            "colorscale": [
             [
              0,
              "#0d0887"
             ],
             [
              0.1111111111111111,
              "#46039f"
             ],
             [
              0.2222222222222222,
              "#7201a8"
             ],
             [
              0.3333333333333333,
              "#9c179e"
             ],
             [
              0.4444444444444444,
              "#bd3786"
             ],
             [
              0.5555555555555556,
              "#d8576b"
             ],
             [
              0.6666666666666666,
              "#ed7953"
             ],
             [
              0.7777777777777778,
              "#fb9f3a"
             ],
             [
              0.8888888888888888,
              "#fdca26"
             ],
             [
              1,
              "#f0f921"
             ]
            ],
            "type": "heatmapgl"
           }
          ],
          "histogram": [
           {
            "marker": {
             "pattern": {
              "fillmode": "overlay",
              "size": 10,
              "solidity": 0.2
             }
            },
            "type": "histogram"
           }
          ],
          "histogram2d": [
           {
            "colorbar": {
             "outlinewidth": 0,
             "ticks": ""
            },
            "colorscale": [
             [
              0,
              "#0d0887"
             ],
             [
              0.1111111111111111,
              "#46039f"
             ],
             [
              0.2222222222222222,
              "#7201a8"
             ],
             [
              0.3333333333333333,
              "#9c179e"
             ],
             [
              0.4444444444444444,
              "#bd3786"
             ],
             [
              0.5555555555555556,
              "#d8576b"
             ],
             [
              0.6666666666666666,
              "#ed7953"
             ],
             [
              0.7777777777777778,
              "#fb9f3a"
             ],
             [
              0.8888888888888888,
              "#fdca26"
             ],
             [
              1,
              "#f0f921"
             ]
            ],
            "type": "histogram2d"
           }
          ],
          "histogram2dcontour": [
           {
            "colorbar": {
             "outlinewidth": 0,
             "ticks": ""
            },
            "colorscale": [
             [
              0,
              "#0d0887"
             ],
             [
              0.1111111111111111,
              "#46039f"
             ],
             [
              0.2222222222222222,
              "#7201a8"
             ],
             [
              0.3333333333333333,
              "#9c179e"
             ],
             [
              0.4444444444444444,
              "#bd3786"
             ],
             [
              0.5555555555555556,
              "#d8576b"
             ],
             [
              0.6666666666666666,
              "#ed7953"
             ],
             [
              0.7777777777777778,
              "#fb9f3a"
             ],
             [
              0.8888888888888888,
              "#fdca26"
             ],
             [
              1,
              "#f0f921"
             ]
            ],
            "type": "histogram2dcontour"
           }
          ],
          "mesh3d": [
           {
            "colorbar": {
             "outlinewidth": 0,
             "ticks": ""
            },
            "type": "mesh3d"
           }
          ],
          "parcoords": [
           {
            "line": {
             "colorbar": {
              "outlinewidth": 0,
              "ticks": ""
             }
            },
            "type": "parcoords"
           }
          ],
          "pie": [
           {
            "automargin": true,
            "type": "pie"
           }
          ],
          "scatter": [
           {
            "fillpattern": {
             "fillmode": "overlay",
             "size": 10,
             "solidity": 0.2
            },
            "type": "scatter"
           }
          ],
          "scatter3d": [
           {
            "line": {
             "colorbar": {
              "outlinewidth": 0,
              "ticks": ""
             }
            },
            "marker": {
             "colorbar": {
              "outlinewidth": 0,
              "ticks": ""
             }
            },
            "type": "scatter3d"
           }
          ],
          "scattercarpet": [
           {
            "marker": {
             "colorbar": {
              "outlinewidth": 0,
              "ticks": ""
             }
            },
            "type": "scattercarpet"
           }
          ],
          "scattergeo": [
           {
            "marker": {
             "colorbar": {
              "outlinewidth": 0,
              "ticks": ""
             }
            },
            "type": "scattergeo"
           }
          ],
          "scattergl": [
           {
            "marker": {
             "colorbar": {
              "outlinewidth": 0,
              "ticks": ""
             }
            },
            "type": "scattergl"
           }
          ],
          "scattermapbox": [
           {
            "marker": {
             "colorbar": {
              "outlinewidth": 0,
              "ticks": ""
             }
            },
            "type": "scattermapbox"
           }
          ],
          "scatterpolar": [
           {
            "marker": {
             "colorbar": {
              "outlinewidth": 0,
              "ticks": ""
             }
            },
            "type": "scatterpolar"
           }
          ],
          "scatterpolargl": [
           {
            "marker": {
             "colorbar": {
              "outlinewidth": 0,
              "ticks": ""
             }
            },
            "type": "scatterpolargl"
           }
          ],
          "scatterternary": [
           {
            "marker": {
             "colorbar": {
              "outlinewidth": 0,
              "ticks": ""
             }
            },
            "type": "scatterternary"
           }
          ],
          "surface": [
           {
            "colorbar": {
             "outlinewidth": 0,
             "ticks": ""
            },
            "colorscale": [
             [
              0,
              "#0d0887"
             ],
             [
              0.1111111111111111,
              "#46039f"
             ],
             [
              0.2222222222222222,
              "#7201a8"
             ],
             [
              0.3333333333333333,
              "#9c179e"
             ],
             [
              0.4444444444444444,
              "#bd3786"
             ],
             [
              0.5555555555555556,
              "#d8576b"
             ],
             [
              0.6666666666666666,
              "#ed7953"
             ],
             [
              0.7777777777777778,
              "#fb9f3a"
             ],
             [
              0.8888888888888888,
              "#fdca26"
             ],
             [
              1,
              "#f0f921"
             ]
            ],
            "type": "surface"
           }
          ],
          "table": [
           {
            "cells": {
             "fill": {
              "color": "#EBF0F8"
             },
             "line": {
              "color": "white"
             }
            },
            "header": {
             "fill": {
              "color": "#C8D4E3"
             },
             "line": {
              "color": "white"
             }
            },
            "type": "table"
           }
          ]
         },
         "layout": {
          "annotationdefaults": {
           "arrowcolor": "#2a3f5f",
           "arrowhead": 0,
           "arrowwidth": 1
          },
          "autotypenumbers": "strict",
          "coloraxis": {
           "colorbar": {
            "outlinewidth": 0,
            "ticks": ""
           }
          },
          "colorscale": {
           "diverging": [
            [
             0,
             "#8e0152"
            ],
            [
             0.1,
             "#c51b7d"
            ],
            [
             0.2,
             "#de77ae"
            ],
            [
             0.3,
             "#f1b6da"
            ],
            [
             0.4,
             "#fde0ef"
            ],
            [
             0.5,
             "#f7f7f7"
            ],
            [
             0.6,
             "#e6f5d0"
            ],
            [
             0.7,
             "#b8e186"
            ],
            [
             0.8,
             "#7fbc41"
            ],
            [
             0.9,
             "#4d9221"
            ],
            [
             1,
             "#276419"
            ]
           ],
           "sequential": [
            [
             0,
             "#0d0887"
            ],
            [
             0.1111111111111111,
             "#46039f"
            ],
            [
             0.2222222222222222,
             "#7201a8"
            ],
            [
             0.3333333333333333,
             "#9c179e"
            ],
            [
             0.4444444444444444,
             "#bd3786"
            ],
            [
             0.5555555555555556,
             "#d8576b"
            ],
            [
             0.6666666666666666,
             "#ed7953"
            ],
            [
             0.7777777777777778,
             "#fb9f3a"
            ],
            [
             0.8888888888888888,
             "#fdca26"
            ],
            [
             1,
             "#f0f921"
            ]
           ],
           "sequentialminus": [
            [
             0,
             "#0d0887"
            ],
            [
             0.1111111111111111,
             "#46039f"
            ],
            [
             0.2222222222222222,
             "#7201a8"
            ],
            [
             0.3333333333333333,
             "#9c179e"
            ],
            [
             0.4444444444444444,
             "#bd3786"
            ],
            [
             0.5555555555555556,
             "#d8576b"
            ],
            [
             0.6666666666666666,
             "#ed7953"
            ],
            [
             0.7777777777777778,
             "#fb9f3a"
            ],
            [
             0.8888888888888888,
             "#fdca26"
            ],
            [
             1,
             "#f0f921"
            ]
           ]
          },
          "colorway": [
           "#636efa",
           "#EF553B",
           "#00cc96",
           "#ab63fa",
           "#FFA15A",
           "#19d3f3",
           "#FF6692",
           "#B6E880",
           "#FF97FF",
           "#FECB52"
          ],
          "font": {
           "color": "#2a3f5f"
          },
          "geo": {
           "bgcolor": "white",
           "lakecolor": "white",
           "landcolor": "#E5ECF6",
           "showlakes": true,
           "showland": true,
           "subunitcolor": "white"
          },
          "hoverlabel": {
           "align": "left"
          },
          "hovermode": "closest",
          "mapbox": {
           "style": "light"
          },
          "paper_bgcolor": "white",
          "plot_bgcolor": "#E5ECF6",
          "polar": {
           "angularaxis": {
            "gridcolor": "white",
            "linecolor": "white",
            "ticks": ""
           },
           "bgcolor": "#E5ECF6",
           "radialaxis": {
            "gridcolor": "white",
            "linecolor": "white",
            "ticks": ""
           }
          },
          "scene": {
           "xaxis": {
            "backgroundcolor": "#E5ECF6",
            "gridcolor": "white",
            "gridwidth": 2,
            "linecolor": "white",
            "showbackground": true,
            "ticks": "",
            "zerolinecolor": "white"
           },
           "yaxis": {
            "backgroundcolor": "#E5ECF6",
            "gridcolor": "white",
            "gridwidth": 2,
            "linecolor": "white",
            "showbackground": true,
            "ticks": "",
            "zerolinecolor": "white"
           },
           "zaxis": {
            "backgroundcolor": "#E5ECF6",
            "gridcolor": "white",
            "gridwidth": 2,
            "linecolor": "white",
            "showbackground": true,
            "ticks": "",
            "zerolinecolor": "white"
           }
          },
          "shapedefaults": {
           "line": {
            "color": "#2a3f5f"
           }
          },
          "ternary": {
           "aaxis": {
            "gridcolor": "white",
            "linecolor": "white",
            "ticks": ""
           },
           "baxis": {
            "gridcolor": "white",
            "linecolor": "white",
            "ticks": ""
           },
           "bgcolor": "#E5ECF6",
           "caxis": {
            "gridcolor": "white",
            "linecolor": "white",
            "ticks": ""
           }
          },
          "title": {
           "x": 0.05
          },
          "xaxis": {
           "automargin": true,
           "gridcolor": "white",
           "linecolor": "white",
           "ticks": "",
           "title": {
            "standoff": 15
           },
           "zerolinecolor": "white",
           "zerolinewidth": 2
          },
          "yaxis": {
           "automargin": true,
           "gridcolor": "white",
           "linecolor": "white",
           "ticks": "",
           "title": {
            "standoff": 15
           },
           "zerolinecolor": "white",
           "zerolinewidth": 2
          }
         }
        },
        "title": {
         "text": "Hierarchical Clustering Dendrogram"
        },
        "width": 800,
        "xaxis": {
         "mirror": "allticks",
         "rangemode": "tozero",
         "showgrid": false,
         "showline": true,
         "showticklabels": true,
         "tickmode": "array",
         "ticks": "outside",
         "ticktext": [
          "User_10",
          "User_9",
          "User_11",
          "User_7",
          "User_15",
          "User_12",
          "User_14",
          "User_13",
          "User_6",
          "User_8",
          "User_16",
          "User_17",
          "User_20",
          "User_18",
          "User_19",
          "User_4",
          "User_2",
          "User_5",
          "User_1",
          "User_3"
         ],
         "tickvals": [
          5,
          15,
          25,
          35,
          45,
          55,
          65,
          75,
          85,
          95,
          105,
          115,
          125,
          135,
          145,
          155,
          165,
          175,
          185,
          195
         ],
         "type": "linear",
         "zeroline": false
        },
        "yaxis": {
         "mirror": "allticks",
         "rangemode": "tozero",
         "showgrid": false,
         "showline": true,
         "showticklabels": true,
         "ticks": "outside",
         "type": "linear",
         "zeroline": false
        }
       }
      }
     },
     "metadata": {},
     "output_type": "display_data"
    }
   ],
   "source": [
    "# Hierarchical clustering - AVERAGE\n",
    "linkage_matrix = linkage(explicit_matrix, method='average', metric='euclidean')\n",
    "\n",
    "# Dendrogram\n",
    "plt.figure(figsize=(20, 10))\n",
    "dendrogram(linkage_matrix, labels=explicit_matrix.index, orientation='top', distance_sort='ascending', show_leaf_counts=True)\n",
    "plt.title('Hierarchical Clustering Dendrogram')\n",
    "plt.xlabel('Users')\n",
    "plt.ylabel('Distance')\n",
    "plt.show()\n",
    "\n",
    "fig = ff.create_dendrogram(df.values, orientation='bottom', labels=df.index, linkagefun=lambda x: linkage_matrix)\n",
    "fig.update_layout(width=800, height=500, title='Hierarchical Clustering Dendrogram')\n",
    "fig.show()"
   ]
  },
  {
   "cell_type": "code",
   "execution_count": 544,
   "metadata": {},
   "outputs": [
    {
     "data": {
      "image/png": "[encoded data removed]",
      "text/plain": [
       "<Figure size 2400x1200 with 4 Axes>"
      ]
     },
     "metadata": {},
     "output_type": "display_data"
    }
   ],
   "source": [
    "# Hierarchical clustering with different linkage methods\n",
    "linkage_methods = ['single', 'complete', 'average', 'ward']\n",
    "\n",
    "plt.figure(figsize=(24, 12))\n",
    "for i, method in enumerate(linkage_methods):\n",
    "    plt.subplot(2, 2, i + 1)\n",
    "    Z = linkage(df, method=method, metric='euclidean')\n",
    "    dendrogram(Z, labels=df.index)\n",
    "    plt.title(f'Hierarchical Clustering Dendrogram ({method.capitalize()} Linkage)')\n",
    "    plt.xlabel('Users')\n",
    "    plt.ylabel('Distance')\n",
    "plt.tight_layout()\n",
    "plt.show()"
   ]
  },
  {
   "cell_type": "code",
   "execution_count": null,
   "metadata": {},
   "outputs": [],
   "source": []
  }
 ],
 "metadata": {
  "kernelspec": {
   "display_name": "base",
   "language": "python",
   "name": "python3"
  },
  "language_info": {
   "codemirror_mode": {
    "name": "ipython",
    "version": 3
   },
   "file_extension": ".py",
   "mimetype": "text/x-python",
   "name": "python",
   "nbconvert_exporter": "python",
   "pygments_lexer": "ipython3",
   "version": "3.11.4"
  }
 },
 "nbformat": 4,
 "nbformat_minor": 2
}
