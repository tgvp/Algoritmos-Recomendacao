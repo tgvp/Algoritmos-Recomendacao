{
 "cells": [
  {
   "cell_type": "markdown",
   "metadata": {},
   "source": [
    "# EDA"
   ]
  },
  {
   "cell_type": "code",
   "execution_count": 1,
   "metadata": {},
   "outputs": [],
   "source": [
    "import pandas as pd\n",
    "import numpy as np\n",
    "\n",
    "import matplotlib.pyplot as plt\n",
    "import plotly.express as px\n",
    "import seaborn as sns\n",
    "\n",
    "# pandas show all columns\n",
    "pd.set_option('display.max_columns', None)\n",
    "\n",
    "from scipy.spatial.distance import pdist, squareform"
   ]
  },
  {
   "cell_type": "code",
   "execution_count": 2,
   "metadata": {},
   "outputs": [
    {
     "data": {
      "text/html": [
       "<div>\n",
       "<style scoped>\n",
       "    .dataframe tbody tr th:only-of-type {\n",
       "        vertical-align: middle;\n",
       "    }\n",
       "\n",
       "    .dataframe tbody tr th {\n",
       "        vertical-align: top;\n",
       "    }\n",
       "\n",
       "    .dataframe thead th {\n",
       "        text-align: right;\n",
       "    }\n",
       "</style>\n",
       "<table border=\"1\" class=\"dataframe\">\n",
       "  <thead>\n",
       "    <tr style=\"text-align: right;\">\n",
       "      <th></th>\n",
       "      <th>User_ID</th>\n",
       "      <th>Item_1</th>\n",
       "      <th>Item_2</th>\n",
       "      <th>Item_3</th>\n",
       "      <th>Item_4</th>\n",
       "      <th>Item_5</th>\n",
       "      <th>Item_6</th>\n",
       "      <th>Item_7</th>\n",
       "      <th>Item_8</th>\n",
       "      <th>Item_9</th>\n",
       "      <th>Item_10</th>\n",
       "    </tr>\n",
       "  </thead>\n",
       "  <tbody>\n",
       "    <tr>\n",
       "      <th>0</th>\n",
       "      <td>User_1</td>\n",
       "      <td>9.0</td>\n",
       "      <td>10.0</td>\n",
       "      <td>9.0</td>\n",
       "      <td>1.0</td>\n",
       "      <td>0.0</td>\n",
       "      <td>0.0</td>\n",
       "      <td>0.0</td>\n",
       "      <td>1.0</td>\n",
       "      <td>0.0</td>\n",
       "      <td>0.0</td>\n",
       "    </tr>\n",
       "    <tr>\n",
       "      <th>1</th>\n",
       "      <td>User_2</td>\n",
       "      <td>8.0</td>\n",
       "      <td>8.0</td>\n",
       "      <td>9.0</td>\n",
       "      <td>0.0</td>\n",
       "      <td>0.0</td>\n",
       "      <td>0.0</td>\n",
       "      <td>0.0</td>\n",
       "      <td>0.0</td>\n",
       "      <td>1.0</td>\n",
       "      <td>1.0</td>\n",
       "    </tr>\n",
       "    <tr>\n",
       "      <th>2</th>\n",
       "      <td>User_3</td>\n",
       "      <td>8.0</td>\n",
       "      <td>10.0</td>\n",
       "      <td>8.0</td>\n",
       "      <td>1.0</td>\n",
       "      <td>0.0</td>\n",
       "      <td>0.0</td>\n",
       "      <td>0.0</td>\n",
       "      <td>1.0</td>\n",
       "      <td>0.0</td>\n",
       "      <td>0.0</td>\n",
       "    </tr>\n",
       "    <tr>\n",
       "      <th>3</th>\n",
       "      <td>User_4</td>\n",
       "      <td>10.0</td>\n",
       "      <td>8.0</td>\n",
       "      <td>10.0</td>\n",
       "      <td>1.0</td>\n",
       "      <td>0.0</td>\n",
       "      <td>0.0</td>\n",
       "      <td>0.0</td>\n",
       "      <td>0.0</td>\n",
       "      <td>0.0</td>\n",
       "      <td>0.0</td>\n",
       "    </tr>\n",
       "    <tr>\n",
       "      <th>4</th>\n",
       "      <td>User_5</td>\n",
       "      <td>8.0</td>\n",
       "      <td>9.0</td>\n",
       "      <td>8.0</td>\n",
       "      <td>0.0</td>\n",
       "      <td>1.0</td>\n",
       "      <td>0.0</td>\n",
       "      <td>0.0</td>\n",
       "      <td>1.0</td>\n",
       "      <td>1.0</td>\n",
       "      <td>0.0</td>\n",
       "    </tr>\n",
       "  </tbody>\n",
       "</table>\n",
       "</div>"
      ],
      "text/plain": [
       "  User_ID  Item_1  Item_2  Item_3  Item_4  Item_5  Item_6  Item_7  Item_8  \\\n",
       "0  User_1     9.0    10.0     9.0     1.0     0.0     0.0     0.0     1.0   \n",
       "1  User_2     8.0     8.0     9.0     0.0     0.0     0.0     0.0     0.0   \n",
       "2  User_3     8.0    10.0     8.0     1.0     0.0     0.0     0.0     1.0   \n",
       "3  User_4    10.0     8.0    10.0     1.0     0.0     0.0     0.0     0.0   \n",
       "4  User_5     8.0     9.0     8.0     0.0     1.0     0.0     0.0     1.0   \n",
       "\n",
       "   Item_9  Item_10  \n",
       "0     0.0      0.0  \n",
       "1     1.0      1.0  \n",
       "2     0.0      0.0  \n",
       "3     0.0      0.0  \n",
       "4     1.0      0.0  "
      ]
     },
     "execution_count": 2,
     "metadata": {},
     "output_type": "execute_result"
    }
   ],
   "source": [
    "df = pd.read_csv('../raw/ratings_matrix.csv')\n",
    "df.head()"
   ]
  },
  {
   "cell_type": "code",
   "execution_count": 3,
   "metadata": {},
   "outputs": [
    {
     "name": "stdout",
     "output_type": "stream",
     "text": [
      "<class 'pandas.core.frame.DataFrame'>\n",
      "RangeIndex: 20 entries, 0 to 19\n",
      "Data columns (total 11 columns):\n",
      " #   Column   Non-Null Count  Dtype  \n",
      "---  ------   --------------  -----  \n",
      " 0   User_ID  20 non-null     object \n",
      " 1   Item_1   20 non-null     float64\n",
      " 2   Item_2   20 non-null     float64\n",
      " 3   Item_3   20 non-null     float64\n",
      " 4   Item_4   20 non-null     float64\n",
      " 5   Item_5   20 non-null     float64\n",
      " 6   Item_6   20 non-null     float64\n",
      " 7   Item_7   20 non-null     float64\n",
      " 8   Item_8   20 non-null     float64\n",
      " 9   Item_9   20 non-null     float64\n",
      " 10  Item_10  20 non-null     float64\n",
      "dtypes: float64(10), object(1)\n",
      "memory usage: 1.8+ KB\n"
     ]
    }
   ],
   "source": [
    "df.info()"
   ]
  },
  {
   "cell_type": "code",
   "execution_count": 4,
   "metadata": {},
   "outputs": [
    {
     "data": {
      "text/html": [
       "<div>\n",
       "<style scoped>\n",
       "    .dataframe tbody tr th:only-of-type {\n",
       "        vertical-align: middle;\n",
       "    }\n",
       "\n",
       "    .dataframe tbody tr th {\n",
       "        vertical-align: top;\n",
       "    }\n",
       "\n",
       "    .dataframe thead th {\n",
       "        text-align: right;\n",
       "    }\n",
       "</style>\n",
       "<table border=\"1\" class=\"dataframe\">\n",
       "  <thead>\n",
       "    <tr style=\"text-align: right;\">\n",
       "      <th></th>\n",
       "      <th>Item_1</th>\n",
       "      <th>Item_2</th>\n",
       "      <th>Item_3</th>\n",
       "      <th>Item_4</th>\n",
       "      <th>Item_5</th>\n",
       "      <th>Item_6</th>\n",
       "      <th>Item_7</th>\n",
       "      <th>Item_8</th>\n",
       "      <th>Item_9</th>\n",
       "      <th>Item_10</th>\n",
       "    </tr>\n",
       "  </thead>\n",
       "  <tbody>\n",
       "    <tr>\n",
       "      <th>count</th>\n",
       "      <td>20.000000</td>\n",
       "      <td>20.000000</td>\n",
       "      <td>20.000000</td>\n",
       "      <td>20.000000</td>\n",
       "      <td>20.000000</td>\n",
       "      <td>20.000000</td>\n",
       "      <td>20.000000</td>\n",
       "      <td>20.000000</td>\n",
       "      <td>20.000000</td>\n",
       "      <td>20.000000</td>\n",
       "    </tr>\n",
       "    <tr>\n",
       "      <th>mean</th>\n",
       "      <td>2.350000</td>\n",
       "      <td>2.550000</td>\n",
       "      <td>2.450000</td>\n",
       "      <td>4.700000</td>\n",
       "      <td>4.500000</td>\n",
       "      <td>4.550000</td>\n",
       "      <td>2.300000</td>\n",
       "      <td>2.700000</td>\n",
       "      <td>2.350000</td>\n",
       "      <td>0.550000</td>\n",
       "    </tr>\n",
       "    <tr>\n",
       "      <th>std</th>\n",
       "      <td>3.745524</td>\n",
       "      <td>3.872644</td>\n",
       "      <td>3.804084</td>\n",
       "      <td>4.378176</td>\n",
       "      <td>4.346808</td>\n",
       "      <td>4.524495</td>\n",
       "      <td>3.643307</td>\n",
       "      <td>4.117996</td>\n",
       "      <td>3.631369</td>\n",
       "      <td>0.510418</td>\n",
       "    </tr>\n",
       "    <tr>\n",
       "      <th>min</th>\n",
       "      <td>0.000000</td>\n",
       "      <td>0.000000</td>\n",
       "      <td>0.000000</td>\n",
       "      <td>0.000000</td>\n",
       "      <td>0.000000</td>\n",
       "      <td>0.000000</td>\n",
       "      <td>0.000000</td>\n",
       "      <td>0.000000</td>\n",
       "      <td>0.000000</td>\n",
       "      <td>0.000000</td>\n",
       "    </tr>\n",
       "    <tr>\n",
       "      <th>25%</th>\n",
       "      <td>0.000000</td>\n",
       "      <td>0.000000</td>\n",
       "      <td>0.000000</td>\n",
       "      <td>0.750000</td>\n",
       "      <td>0.000000</td>\n",
       "      <td>0.000000</td>\n",
       "      <td>0.000000</td>\n",
       "      <td>0.000000</td>\n",
       "      <td>0.000000</td>\n",
       "      <td>0.000000</td>\n",
       "    </tr>\n",
       "    <tr>\n",
       "      <th>50%</th>\n",
       "      <td>0.000000</td>\n",
       "      <td>1.000000</td>\n",
       "      <td>0.500000</td>\n",
       "      <td>4.500000</td>\n",
       "      <td>4.500000</td>\n",
       "      <td>4.500000</td>\n",
       "      <td>0.000000</td>\n",
       "      <td>1.000000</td>\n",
       "      <td>0.500000</td>\n",
       "      <td>1.000000</td>\n",
       "    </tr>\n",
       "    <tr>\n",
       "      <th>75%</th>\n",
       "      <td>2.750000</td>\n",
       "      <td>2.750000</td>\n",
       "      <td>2.750000</td>\n",
       "      <td>8.250000</td>\n",
       "      <td>9.000000</td>\n",
       "      <td>8.250000</td>\n",
       "      <td>2.750000</td>\n",
       "      <td>3.000000</td>\n",
       "      <td>2.750000</td>\n",
       "      <td>1.000000</td>\n",
       "    </tr>\n",
       "    <tr>\n",
       "      <th>max</th>\n",
       "      <td>10.000000</td>\n",
       "      <td>10.000000</td>\n",
       "      <td>10.000000</td>\n",
       "      <td>10.000000</td>\n",
       "      <td>10.000000</td>\n",
       "      <td>10.000000</td>\n",
       "      <td>9.000000</td>\n",
       "      <td>10.000000</td>\n",
       "      <td>10.000000</td>\n",
       "      <td>1.000000</td>\n",
       "    </tr>\n",
       "  </tbody>\n",
       "</table>\n",
       "</div>"
      ],
      "text/plain": [
       "          Item_1     Item_2     Item_3     Item_4     Item_5     Item_6  \\\n",
       "count  20.000000  20.000000  20.000000  20.000000  20.000000  20.000000   \n",
       "mean    2.350000   2.550000   2.450000   4.700000   4.500000   4.550000   \n",
       "std     3.745524   3.872644   3.804084   4.378176   4.346808   4.524495   \n",
       "min     0.000000   0.000000   0.000000   0.000000   0.000000   0.000000   \n",
       "25%     0.000000   0.000000   0.000000   0.750000   0.000000   0.000000   \n",
       "50%     0.000000   1.000000   0.500000   4.500000   4.500000   4.500000   \n",
       "75%     2.750000   2.750000   2.750000   8.250000   9.000000   8.250000   \n",
       "max    10.000000  10.000000  10.000000  10.000000  10.000000  10.000000   \n",
       "\n",
       "          Item_7     Item_8     Item_9    Item_10  \n",
       "count  20.000000  20.000000  20.000000  20.000000  \n",
       "mean    2.300000   2.700000   2.350000   0.550000  \n",
       "std     3.643307   4.117996   3.631369   0.510418  \n",
       "min     0.000000   0.000000   0.000000   0.000000  \n",
       "25%     0.000000   0.000000   0.000000   0.000000  \n",
       "50%     0.000000   1.000000   0.500000   1.000000  \n",
       "75%     2.750000   3.000000   2.750000   1.000000  \n",
       "max     9.000000  10.000000  10.000000   1.000000  "
      ]
     },
     "execution_count": 4,
     "metadata": {},
     "output_type": "execute_result"
    }
   ],
   "source": [
    "df.describe()"
   ]
  },
  {
   "cell_type": "code",
   "execution_count": 5,
   "metadata": {},
   "outputs": [
    {
     "data": {
      "text/plain": [
       "array([['User_1', 9.0, 10.0, 9.0, 1.0, 0.0, 0.0, 0.0, 1.0, 0.0, 0.0],\n",
       "       ['User_2', 8.0, 8.0, 9.0, 0.0, 0.0, 0.0, 0.0, 0.0, 1.0, 1.0],\n",
       "       ['User_3', 8.0, 10.0, 8.0, 1.0, 0.0, 0.0, 0.0, 1.0, 0.0, 0.0],\n",
       "       ['User_4', 10.0, 8.0, 10.0, 1.0, 0.0, 0.0, 0.0, 0.0, 0.0, 0.0],\n",
       "       ['User_5', 8.0, 9.0, 8.0, 0.0, 1.0, 0.0, 0.0, 1.0, 1.0, 0.0],\n",
       "       ['User_6', 0.0, 0.0, 0.0, 8.0, 8.0, 8.0, 0.0, 1.0, 0.0, 1.0],\n",
       "       ['User_7', 1.0, 1.0, 0.0, 9.0, 9.0, 8.0, 1.0, 1.0, 0.0, 0.0],\n",
       "       ['User_8', 0.0, 0.0, 0.0, 8.0, 8.0, 8.0, 1.0, 1.0, 1.0, 1.0],\n",
       "       ['User_9', 0.0, 1.0, 1.0, 10.0, 8.0, 10.0, 1.0, 0.0, 1.0, 1.0],\n",
       "       ['User_10', 0.0, 0.0, 1.0, 10.0, 9.0, 9.0, 0.0, 0.0, 1.0, 1.0],\n",
       "       ['User_11', 0.0, 0.0, 0.0, 10.0, 8.0, 10.0, 0.0, 0.0, 0.0, 1.0],\n",
       "       ['User_12', 0.0, 1.0, 0.0, 8.0, 9.0, 10.0, 1.0, 0.0, 0.0, 0.0],\n",
       "       ['User_13', 0.0, 0.0, 1.0, 8.0, 9.0, 8.0, 0.0, 0.0, 0.0, 0.0],\n",
       "       ['User_14', 0.0, 0.0, 0.0, 8.0, 9.0, 10.0, 0.0, 0.0, 0.0, 1.0],\n",
       "       ['User_15', 1.0, 0.0, 0.0, 10.0, 10.0, 8.0, 0.0, 0.0, 0.0, 0.0],\n",
       "       ['User_16', 0.0, 1.0, 0.0, 1.0, 0.0, 1.0, 9.0, 10.0, 10.0, 1.0],\n",
       "       ['User_17', 1.0, 0.0, 1.0, 0.0, 1.0, 0.0, 8.0, 10.0, 8.0, 1.0],\n",
       "       ['User_18', 0.0, 0.0, 0.0, 1.0, 0.0, 0.0, 8.0, 9.0, 8.0, 1.0],\n",
       "       ['User_19', 0.0, 1.0, 1.0, 0.0, 0.0, 1.0, 8.0, 9.0, 8.0, 0.0],\n",
       "       ['User_20', 1.0, 1.0, 0.0, 0.0, 1.0, 0.0, 9.0, 10.0, 8.0, 1.0]],\n",
       "      dtype=object)"
      ]
     },
     "execution_count": 5,
     "metadata": {},
     "output_type": "execute_result"
    }
   ],
   "source": [
    "df.values"
   ]
  },
  {
   "cell_type": "markdown",
   "metadata": {},
   "source": [
    "# Preparing the data\n",
    "\n",
    "1. Use Pandas do to load the CSV file ratings_matrix.csv\n",
    "2. Work out how to get the numpy matrix that contains all the values without column headers and row indexes\n",
    "3. Notice this matrix is an *explicit* user x item matrix: \n",
    "    - 0: no rating\n",
    "    - 1: bad\n",
    "    - 10: excelent\n",
    "4. Make a copy of the matrix that represents the *implicit* data in the original matrix. That is, all non-zero values become one, and zeros stay unchanged.\n",
    "5. Visualise the implicit and explicit matrices using matplotlib\n",
    "6. Can you formulate any preliminary hypoteses about the relationships between groups of users and groups of items?"
   ]
  },
  {
   "cell_type": "code",
   "execution_count": 6,
   "metadata": {},
   "outputs": [],
   "source": [
    "original = df.copy()"
   ]
  },
  {
   "cell_type": "code",
   "execution_count": 7,
   "metadata": {},
   "outputs": [
    {
     "data": {
      "text/plain": [
       "Index(['Item_1', 'Item_2', 'Item_3', 'Item_4', 'Item_5', 'Item_6', 'Item_7',\n",
       "       'Item_8', 'Item_9', 'Item_10'],\n",
       "      dtype='object')"
      ]
     },
     "execution_count": 7,
     "metadata": {},
     "output_type": "execute_result"
    }
   ],
   "source": [
    "df.columns[1:]"
   ]
  },
  {
   "cell_type": "code",
   "execution_count": 8,
   "metadata": {},
   "outputs": [
    {
     "data": {
      "text/html": [
       "<div>\n",
       "<style scoped>\n",
       "    .dataframe tbody tr th:only-of-type {\n",
       "        vertical-align: middle;\n",
       "    }\n",
       "\n",
       "    .dataframe tbody tr th {\n",
       "        vertical-align: top;\n",
       "    }\n",
       "\n",
       "    .dataframe thead th {\n",
       "        text-align: right;\n",
       "    }\n",
       "</style>\n",
       "<table border=\"1\" class=\"dataframe\">\n",
       "  <thead>\n",
       "    <tr style=\"text-align: right;\">\n",
       "      <th></th>\n",
       "      <th>User_ID</th>\n",
       "      <th>Item_1</th>\n",
       "      <th>Item_2</th>\n",
       "      <th>Item_3</th>\n",
       "      <th>Item_4</th>\n",
       "      <th>Item_5</th>\n",
       "      <th>Item_6</th>\n",
       "      <th>Item_7</th>\n",
       "      <th>Item_8</th>\n",
       "      <th>Item_9</th>\n",
       "      <th>Item_10</th>\n",
       "    </tr>\n",
       "  </thead>\n",
       "  <tbody>\n",
       "    <tr>\n",
       "      <th>0</th>\n",
       "      <td>User_1</td>\n",
       "      <td>1</td>\n",
       "      <td>1</td>\n",
       "      <td>1</td>\n",
       "      <td>1</td>\n",
       "      <td>0</td>\n",
       "      <td>0</td>\n",
       "      <td>0</td>\n",
       "      <td>1</td>\n",
       "      <td>0</td>\n",
       "      <td>0</td>\n",
       "    </tr>\n",
       "    <tr>\n",
       "      <th>1</th>\n",
       "      <td>User_2</td>\n",
       "      <td>1</td>\n",
       "      <td>1</td>\n",
       "      <td>1</td>\n",
       "      <td>0</td>\n",
       "      <td>0</td>\n",
       "      <td>0</td>\n",
       "      <td>0</td>\n",
       "      <td>0</td>\n",
       "      <td>1</td>\n",
       "      <td>1</td>\n",
       "    </tr>\n",
       "    <tr>\n",
       "      <th>2</th>\n",
       "      <td>User_3</td>\n",
       "      <td>1</td>\n",
       "      <td>1</td>\n",
       "      <td>1</td>\n",
       "      <td>1</td>\n",
       "      <td>0</td>\n",
       "      <td>0</td>\n",
       "      <td>0</td>\n",
       "      <td>1</td>\n",
       "      <td>0</td>\n",
       "      <td>0</td>\n",
       "    </tr>\n",
       "    <tr>\n",
       "      <th>3</th>\n",
       "      <td>User_4</td>\n",
       "      <td>1</td>\n",
       "      <td>1</td>\n",
       "      <td>1</td>\n",
       "      <td>1</td>\n",
       "      <td>0</td>\n",
       "      <td>0</td>\n",
       "      <td>0</td>\n",
       "      <td>0</td>\n",
       "      <td>0</td>\n",
       "      <td>0</td>\n",
       "    </tr>\n",
       "    <tr>\n",
       "      <th>4</th>\n",
       "      <td>User_5</td>\n",
       "      <td>1</td>\n",
       "      <td>1</td>\n",
       "      <td>1</td>\n",
       "      <td>0</td>\n",
       "      <td>1</td>\n",
       "      <td>0</td>\n",
       "      <td>0</td>\n",
       "      <td>1</td>\n",
       "      <td>1</td>\n",
       "      <td>0</td>\n",
       "    </tr>\n",
       "    <tr>\n",
       "      <th>5</th>\n",
       "      <td>User_6</td>\n",
       "      <td>0</td>\n",
       "      <td>0</td>\n",
       "      <td>0</td>\n",
       "      <td>1</td>\n",
       "      <td>1</td>\n",
       "      <td>1</td>\n",
       "      <td>0</td>\n",
       "      <td>1</td>\n",
       "      <td>0</td>\n",
       "      <td>1</td>\n",
       "    </tr>\n",
       "    <tr>\n",
       "      <th>6</th>\n",
       "      <td>User_7</td>\n",
       "      <td>1</td>\n",
       "      <td>1</td>\n",
       "      <td>0</td>\n",
       "      <td>1</td>\n",
       "      <td>1</td>\n",
       "      <td>1</td>\n",
       "      <td>1</td>\n",
       "      <td>1</td>\n",
       "      <td>0</td>\n",
       "      <td>0</td>\n",
       "    </tr>\n",
       "    <tr>\n",
       "      <th>7</th>\n",
       "      <td>User_8</td>\n",
       "      <td>0</td>\n",
       "      <td>0</td>\n",
       "      <td>0</td>\n",
       "      <td>1</td>\n",
       "      <td>1</td>\n",
       "      <td>1</td>\n",
       "      <td>1</td>\n",
       "      <td>1</td>\n",
       "      <td>1</td>\n",
       "      <td>1</td>\n",
       "    </tr>\n",
       "    <tr>\n",
       "      <th>8</th>\n",
       "      <td>User_9</td>\n",
       "      <td>0</td>\n",
       "      <td>1</td>\n",
       "      <td>1</td>\n",
       "      <td>1</td>\n",
       "      <td>1</td>\n",
       "      <td>1</td>\n",
       "      <td>1</td>\n",
       "      <td>0</td>\n",
       "      <td>1</td>\n",
       "      <td>1</td>\n",
       "    </tr>\n",
       "    <tr>\n",
       "      <th>9</th>\n",
       "      <td>User_10</td>\n",
       "      <td>0</td>\n",
       "      <td>0</td>\n",
       "      <td>1</td>\n",
       "      <td>1</td>\n",
       "      <td>1</td>\n",
       "      <td>1</td>\n",
       "      <td>0</td>\n",
       "      <td>0</td>\n",
       "      <td>1</td>\n",
       "      <td>1</td>\n",
       "    </tr>\n",
       "    <tr>\n",
       "      <th>10</th>\n",
       "      <td>User_11</td>\n",
       "      <td>0</td>\n",
       "      <td>0</td>\n",
       "      <td>0</td>\n",
       "      <td>1</td>\n",
       "      <td>1</td>\n",
       "      <td>1</td>\n",
       "      <td>0</td>\n",
       "      <td>0</td>\n",
       "      <td>0</td>\n",
       "      <td>1</td>\n",
       "    </tr>\n",
       "    <tr>\n",
       "      <th>11</th>\n",
       "      <td>User_12</td>\n",
       "      <td>0</td>\n",
       "      <td>1</td>\n",
       "      <td>0</td>\n",
       "      <td>1</td>\n",
       "      <td>1</td>\n",
       "      <td>1</td>\n",
       "      <td>1</td>\n",
       "      <td>0</td>\n",
       "      <td>0</td>\n",
       "      <td>0</td>\n",
       "    </tr>\n",
       "    <tr>\n",
       "      <th>12</th>\n",
       "      <td>User_13</td>\n",
       "      <td>0</td>\n",
       "      <td>0</td>\n",
       "      <td>1</td>\n",
       "      <td>1</td>\n",
       "      <td>1</td>\n",
       "      <td>1</td>\n",
       "      <td>0</td>\n",
       "      <td>0</td>\n",
       "      <td>0</td>\n",
       "      <td>0</td>\n",
       "    </tr>\n",
       "    <tr>\n",
       "      <th>13</th>\n",
       "      <td>User_14</td>\n",
       "      <td>0</td>\n",
       "      <td>0</td>\n",
       "      <td>0</td>\n",
       "      <td>1</td>\n",
       "      <td>1</td>\n",
       "      <td>1</td>\n",
       "      <td>0</td>\n",
       "      <td>0</td>\n",
       "      <td>0</td>\n",
       "      <td>1</td>\n",
       "    </tr>\n",
       "    <tr>\n",
       "      <th>14</th>\n",
       "      <td>User_15</td>\n",
       "      <td>1</td>\n",
       "      <td>0</td>\n",
       "      <td>0</td>\n",
       "      <td>1</td>\n",
       "      <td>1</td>\n",
       "      <td>1</td>\n",
       "      <td>0</td>\n",
       "      <td>0</td>\n",
       "      <td>0</td>\n",
       "      <td>0</td>\n",
       "    </tr>\n",
       "    <tr>\n",
       "      <th>15</th>\n",
       "      <td>User_16</td>\n",
       "      <td>0</td>\n",
       "      <td>1</td>\n",
       "      <td>0</td>\n",
       "      <td>1</td>\n",
       "      <td>0</td>\n",
       "      <td>1</td>\n",
       "      <td>1</td>\n",
       "      <td>1</td>\n",
       "      <td>1</td>\n",
       "      <td>1</td>\n",
       "    </tr>\n",
       "    <tr>\n",
       "      <th>16</th>\n",
       "      <td>User_17</td>\n",
       "      <td>1</td>\n",
       "      <td>0</td>\n",
       "      <td>1</td>\n",
       "      <td>0</td>\n",
       "      <td>1</td>\n",
       "      <td>0</td>\n",
       "      <td>1</td>\n",
       "      <td>1</td>\n",
       "      <td>1</td>\n",
       "      <td>1</td>\n",
       "    </tr>\n",
       "    <tr>\n",
       "      <th>17</th>\n",
       "      <td>User_18</td>\n",
       "      <td>0</td>\n",
       "      <td>0</td>\n",
       "      <td>0</td>\n",
       "      <td>1</td>\n",
       "      <td>0</td>\n",
       "      <td>0</td>\n",
       "      <td>1</td>\n",
       "      <td>1</td>\n",
       "      <td>1</td>\n",
       "      <td>1</td>\n",
       "    </tr>\n",
       "    <tr>\n",
       "      <th>18</th>\n",
       "      <td>User_19</td>\n",
       "      <td>0</td>\n",
       "      <td>1</td>\n",
       "      <td>1</td>\n",
       "      <td>0</td>\n",
       "      <td>0</td>\n",
       "      <td>1</td>\n",
       "      <td>1</td>\n",
       "      <td>1</td>\n",
       "      <td>1</td>\n",
       "      <td>0</td>\n",
       "    </tr>\n",
       "    <tr>\n",
       "      <th>19</th>\n",
       "      <td>User_20</td>\n",
       "      <td>1</td>\n",
       "      <td>1</td>\n",
       "      <td>0</td>\n",
       "      <td>0</td>\n",
       "      <td>1</td>\n",
       "      <td>0</td>\n",
       "      <td>1</td>\n",
       "      <td>1</td>\n",
       "      <td>1</td>\n",
       "      <td>1</td>\n",
       "    </tr>\n",
       "  </tbody>\n",
       "</table>\n",
       "</div>"
      ],
      "text/plain": [
       "    User_ID  Item_1  Item_2  Item_3  Item_4  Item_5  Item_6  Item_7  Item_8  \\\n",
       "0    User_1       1       1       1       1       0       0       0       1   \n",
       "1    User_2       1       1       1       0       0       0       0       0   \n",
       "2    User_3       1       1       1       1       0       0       0       1   \n",
       "3    User_4       1       1       1       1       0       0       0       0   \n",
       "4    User_5       1       1       1       0       1       0       0       1   \n",
       "5    User_6       0       0       0       1       1       1       0       1   \n",
       "6    User_7       1       1       0       1       1       1       1       1   \n",
       "7    User_8       0       0       0       1       1       1       1       1   \n",
       "8    User_9       0       1       1       1       1       1       1       0   \n",
       "9   User_10       0       0       1       1       1       1       0       0   \n",
       "10  User_11       0       0       0       1       1       1       0       0   \n",
       "11  User_12       0       1       0       1       1       1       1       0   \n",
       "12  User_13       0       0       1       1       1       1       0       0   \n",
       "13  User_14       0       0       0       1       1       1       0       0   \n",
       "14  User_15       1       0       0       1       1       1       0       0   \n",
       "15  User_16       0       1       0       1       0       1       1       1   \n",
       "16  User_17       1       0       1       0       1       0       1       1   \n",
       "17  User_18       0       0       0       1       0       0       1       1   \n",
       "18  User_19       0       1       1       0       0       1       1       1   \n",
       "19  User_20       1       1       0       0       1       0       1       1   \n",
       "\n",
       "    Item_9  Item_10  \n",
       "0        0        0  \n",
       "1        1        1  \n",
       "2        0        0  \n",
       "3        0        0  \n",
       "4        1        0  \n",
       "5        0        1  \n",
       "6        0        0  \n",
       "7        1        1  \n",
       "8        1        1  \n",
       "9        1        1  \n",
       "10       0        1  \n",
       "11       0        0  \n",
       "12       0        0  \n",
       "13       0        1  \n",
       "14       0        0  \n",
       "15       1        1  \n",
       "16       1        1  \n",
       "17       1        1  \n",
       "18       1        0  \n",
       "19       1        1  "
      ]
     },
     "execution_count": 8,
     "metadata": {},
     "output_type": "execute_result"
    }
   ],
   "source": [
    "df[df.columns[1:]] = np.where(df[df.columns[1:]] > 0, 1, 0)\n",
    "df"
   ]
  },
  {
   "cell_type": "code",
   "execution_count": 9,
   "metadata": {},
   "outputs": [
    {
     "data": {
      "text/html": [
       "<div>\n",
       "<style scoped>\n",
       "    .dataframe tbody tr th:only-of-type {\n",
       "        vertical-align: middle;\n",
       "    }\n",
       "\n",
       "    .dataframe tbody tr th {\n",
       "        vertical-align: top;\n",
       "    }\n",
       "\n",
       "    .dataframe thead th {\n",
       "        text-align: right;\n",
       "    }\n",
       "</style>\n",
       "<table border=\"1\" class=\"dataframe\">\n",
       "  <thead>\n",
       "    <tr style=\"text-align: right;\">\n",
       "      <th></th>\n",
       "      <th>Item_1</th>\n",
       "      <th>Item_2</th>\n",
       "      <th>Item_3</th>\n",
       "      <th>Item_4</th>\n",
       "      <th>Item_5</th>\n",
       "      <th>Item_6</th>\n",
       "      <th>Item_7</th>\n",
       "      <th>Item_8</th>\n",
       "      <th>Item_9</th>\n",
       "      <th>Item_10</th>\n",
       "    </tr>\n",
       "  </thead>\n",
       "  <tbody>\n",
       "    <tr>\n",
       "      <th>count</th>\n",
       "      <td>20.000000</td>\n",
       "      <td>20.000000</td>\n",
       "      <td>20.000000</td>\n",
       "      <td>20.000000</td>\n",
       "      <td>20.00000</td>\n",
       "      <td>20.000000</td>\n",
       "      <td>20.000000</td>\n",
       "      <td>20.000000</td>\n",
       "      <td>20.000000</td>\n",
       "      <td>20.000000</td>\n",
       "    </tr>\n",
       "    <tr>\n",
       "      <th>mean</th>\n",
       "      <td>0.450000</td>\n",
       "      <td>0.550000</td>\n",
       "      <td>0.500000</td>\n",
       "      <td>0.750000</td>\n",
       "      <td>0.65000</td>\n",
       "      <td>0.600000</td>\n",
       "      <td>0.450000</td>\n",
       "      <td>0.550000</td>\n",
       "      <td>0.500000</td>\n",
       "      <td>0.550000</td>\n",
       "    </tr>\n",
       "    <tr>\n",
       "      <th>std</th>\n",
       "      <td>0.510418</td>\n",
       "      <td>0.510418</td>\n",
       "      <td>0.512989</td>\n",
       "      <td>0.444262</td>\n",
       "      <td>0.48936</td>\n",
       "      <td>0.502625</td>\n",
       "      <td>0.510418</td>\n",
       "      <td>0.510418</td>\n",
       "      <td>0.512989</td>\n",
       "      <td>0.510418</td>\n",
       "    </tr>\n",
       "    <tr>\n",
       "      <th>min</th>\n",
       "      <td>0.000000</td>\n",
       "      <td>0.000000</td>\n",
       "      <td>0.000000</td>\n",
       "      <td>0.000000</td>\n",
       "      <td>0.00000</td>\n",
       "      <td>0.000000</td>\n",
       "      <td>0.000000</td>\n",
       "      <td>0.000000</td>\n",
       "      <td>0.000000</td>\n",
       "      <td>0.000000</td>\n",
       "    </tr>\n",
       "    <tr>\n",
       "      <th>25%</th>\n",
       "      <td>0.000000</td>\n",
       "      <td>0.000000</td>\n",
       "      <td>0.000000</td>\n",
       "      <td>0.750000</td>\n",
       "      <td>0.00000</td>\n",
       "      <td>0.000000</td>\n",
       "      <td>0.000000</td>\n",
       "      <td>0.000000</td>\n",
       "      <td>0.000000</td>\n",
       "      <td>0.000000</td>\n",
       "    </tr>\n",
       "    <tr>\n",
       "      <th>50%</th>\n",
       "      <td>0.000000</td>\n",
       "      <td>1.000000</td>\n",
       "      <td>0.500000</td>\n",
       "      <td>1.000000</td>\n",
       "      <td>1.00000</td>\n",
       "      <td>1.000000</td>\n",
       "      <td>0.000000</td>\n",
       "      <td>1.000000</td>\n",
       "      <td>0.500000</td>\n",
       "      <td>1.000000</td>\n",
       "    </tr>\n",
       "    <tr>\n",
       "      <th>75%</th>\n",
       "      <td>1.000000</td>\n",
       "      <td>1.000000</td>\n",
       "      <td>1.000000</td>\n",
       "      <td>1.000000</td>\n",
       "      <td>1.00000</td>\n",
       "      <td>1.000000</td>\n",
       "      <td>1.000000</td>\n",
       "      <td>1.000000</td>\n",
       "      <td>1.000000</td>\n",
       "      <td>1.000000</td>\n",
       "    </tr>\n",
       "    <tr>\n",
       "      <th>max</th>\n",
       "      <td>1.000000</td>\n",
       "      <td>1.000000</td>\n",
       "      <td>1.000000</td>\n",
       "      <td>1.000000</td>\n",
       "      <td>1.00000</td>\n",
       "      <td>1.000000</td>\n",
       "      <td>1.000000</td>\n",
       "      <td>1.000000</td>\n",
       "      <td>1.000000</td>\n",
       "      <td>1.000000</td>\n",
       "    </tr>\n",
       "  </tbody>\n",
       "</table>\n",
       "</div>"
      ],
      "text/plain": [
       "          Item_1     Item_2     Item_3     Item_4    Item_5     Item_6  \\\n",
       "count  20.000000  20.000000  20.000000  20.000000  20.00000  20.000000   \n",
       "mean    0.450000   0.550000   0.500000   0.750000   0.65000   0.600000   \n",
       "std     0.510418   0.510418   0.512989   0.444262   0.48936   0.502625   \n",
       "min     0.000000   0.000000   0.000000   0.000000   0.00000   0.000000   \n",
       "25%     0.000000   0.000000   0.000000   0.750000   0.00000   0.000000   \n",
       "50%     0.000000   1.000000   0.500000   1.000000   1.00000   1.000000   \n",
       "75%     1.000000   1.000000   1.000000   1.000000   1.00000   1.000000   \n",
       "max     1.000000   1.000000   1.000000   1.000000   1.00000   1.000000   \n",
       "\n",
       "          Item_7     Item_8     Item_9    Item_10  \n",
       "count  20.000000  20.000000  20.000000  20.000000  \n",
       "mean    0.450000   0.550000   0.500000   0.550000  \n",
       "std     0.510418   0.510418   0.512989   0.510418  \n",
       "min     0.000000   0.000000   0.000000   0.000000  \n",
       "25%     0.000000   0.000000   0.000000   0.000000  \n",
       "50%     0.000000   1.000000   0.500000   1.000000  \n",
       "75%     1.000000   1.000000   1.000000   1.000000  \n",
       "max     1.000000   1.000000   1.000000   1.000000  "
      ]
     },
     "execution_count": 9,
     "metadata": {},
     "output_type": "execute_result"
    }
   ],
   "source": [
    "df.describe()"
   ]
  },
  {
   "cell_type": "markdown",
   "metadata": {},
   "source": [
    "- ``Item 4`` is better rated than the rest\n",
    "- ``Item 3`` and ``Item 9`` receive more ratings than the rest\n",
    "- ``Item 1`` and ``Item 7`` receive less ratings than the rest but their ratings are relatively balanced."
   ]
  },
  {
   "cell_type": "markdown",
   "metadata": {},
   "source": [
    "### Density to find out how sparse the data is"
   ]
  },
  {
   "cell_type": "code",
   "execution_count": 10,
   "metadata": {},
   "outputs": [
    {
     "name": "stdout",
     "output_type": "stream",
     "text": [
      "Sparsity: 44.50%\n"
     ]
    }
   ],
   "source": [
    "matrix = df[df.columns[1:]].values\n",
    "\n",
    "sparsity = (1 - (np.count_nonzero(matrix) / matrix.size)) * 100\n",
    "\n",
    "print(f\"Sparsity: {sparsity:.2f}%\")"
   ]
  },
  {
   "cell_type": "markdown",
   "metadata": {},
   "source": [
    "### Class Distribution\n",
    "- Will help understanding the distribution of the ratings"
   ]
  },
  {
   "cell_type": "code",
   "execution_count": 11,
   "metadata": {},
   "outputs": [
    {
     "data": {
      "text/html": [
       "<div>\n",
       "<style scoped>\n",
       "    .dataframe tbody tr th:only-of-type {\n",
       "        vertical-align: middle;\n",
       "    }\n",
       "\n",
       "    .dataframe tbody tr th {\n",
       "        vertical-align: top;\n",
       "    }\n",
       "\n",
       "    .dataframe thead th {\n",
       "        text-align: right;\n",
       "    }\n",
       "</style>\n",
       "<table border=\"1\" class=\"dataframe\">\n",
       "  <thead>\n",
       "    <tr style=\"text-align: right;\">\n",
       "      <th></th>\n",
       "      <th>Item_1</th>\n",
       "      <th>Item_2</th>\n",
       "      <th>Item_3</th>\n",
       "      <th>Item_4</th>\n",
       "      <th>Item_5</th>\n",
       "      <th>Item_6</th>\n",
       "      <th>Item_7</th>\n",
       "      <th>Item_8</th>\n",
       "      <th>Item_9</th>\n",
       "      <th>Item_10</th>\n",
       "    </tr>\n",
       "  </thead>\n",
       "  <tbody>\n",
       "    <tr>\n",
       "      <th>0</th>\n",
       "      <td>11</td>\n",
       "      <td>9</td>\n",
       "      <td>10</td>\n",
       "      <td>5</td>\n",
       "      <td>7</td>\n",
       "      <td>8</td>\n",
       "      <td>11</td>\n",
       "      <td>9</td>\n",
       "      <td>10</td>\n",
       "      <td>9</td>\n",
       "    </tr>\n",
       "    <tr>\n",
       "      <th>1</th>\n",
       "      <td>9</td>\n",
       "      <td>11</td>\n",
       "      <td>10</td>\n",
       "      <td>15</td>\n",
       "      <td>13</td>\n",
       "      <td>12</td>\n",
       "      <td>9</td>\n",
       "      <td>11</td>\n",
       "      <td>10</td>\n",
       "      <td>11</td>\n",
       "    </tr>\n",
       "  </tbody>\n",
       "</table>\n",
       "</div>"
      ],
      "text/plain": [
       "   Item_1  Item_2  Item_3  Item_4  Item_5  Item_6  Item_7  Item_8  Item_9  \\\n",
       "0      11       9      10       5       7       8      11       9      10   \n",
       "1       9      11      10      15      13      12       9      11      10   \n",
       "\n",
       "   Item_10  \n",
       "0        9  \n",
       "1       11  "
      ]
     },
     "execution_count": 11,
     "metadata": {},
     "output_type": "execute_result"
    }
   ],
   "source": [
    "class_distribution = df.iloc[:, 1:].apply(pd.Series.value_counts)\n",
    "class_distribution"
   ]
  },
  {
   "cell_type": "code",
   "execution_count": 68,
   "metadata": {},
   "outputs": [
    {
     "data": {
      "image/png": "[encoded data removed]",
      "text/plain": [
       "<Figure size 640x480 with 1 Axes>"
      ]
     },
     "metadata": {},
     "output_type": "display_data"
    }
   ],
   "source": [
    "ax = class_distribution.T.plot(kind='barh', stacked=True)\n",
    "ax.set_ylabel('Features')\n",
    "ax.set_xlabel('Count')\n",
    "ax.set_title('Class Distribution for Rated and Non-Rated Items')\n",
    "plt.legend(title='Class', labels=['Non-Rated (0)', 'Rated (1)'])\n",
    "plt.show()"
   ]
  },
  {
   "cell_type": "code",
   "execution_count": 59,
   "metadata": {},
   "outputs": [
    {
     "data": {
      "application/vnd.plotly.v1+json": {
       "config": {
        "plotlyServerURL": "https://plot.ly"
       },
       "data": [
        {
         "alignmentgroup": "True",
         "hovertemplate": "variable=Item_1<br>Class (0 or 1)=%{x}<br>Count=%{y}<extra></extra>",
         "legendgroup": "Item_1",
         "marker": {
          "color": "#636efa",
          "pattern": {
           "shape": ""
          }
         },
         "name": "Item_1",
         "offsetgroup": "Item_1",
         "orientation": "v",
         "showlegend": true,
         "textposition": "auto",
         "type": "bar",
         "x": [
          0,
          1
         ],
         "xaxis": "x",
         "y": [
          11,
          9
         ],
         "yaxis": "y"
        },
        {
         "alignmentgroup": "True",
         "hovertemplate": "variable=Item_2<br>Class (0 or 1)=%{x}<br>Count=%{y}<extra></extra>",
         "legendgroup": "Item_2",
         "marker": {
          "color": "#EF553B",
          "pattern": {
           "shape": ""
          }
         },
         "name": "Item_2",
         "offsetgroup": "Item_2",
         "orientation": "v",
         "showlegend": true,
         "textposition": "auto",
         "type": "bar",
         "x": [
          0,
          1
         ],
         "xaxis": "x",
         "y": [
          9,
          11
         ],
         "yaxis": "y"
        },
        {
         "alignmentgroup": "True",
         "hovertemplate": "variable=Item_3<br>Class (0 or 1)=%{x}<br>Count=%{y}<extra></extra>",
         "legendgroup": "Item_3",
         "marker": {
          "color": "#00cc96",
          "pattern": {
           "shape": ""
          }
         },
         "name": "Item_3",
         "offsetgroup": "Item_3",
         "orientation": "v",
         "showlegend": true,
         "textposition": "auto",
         "type": "bar",
         "x": [
          0,
          1
         ],
         "xaxis": "x",
         "y": [
          10,
          10
         ],
         "yaxis": "y"
        },
        {
         "alignmentgroup": "True",
         "hovertemplate": "variable=Item_4<br>Class (0 or 1)=%{x}<br>Count=%{y}<extra></extra>",
         "legendgroup": "Item_4",
         "marker": {
          "color": "#ab63fa",
          "pattern": {
           "shape": ""
          }
         },
         "name": "Item_4",
         "offsetgroup": "Item_4",
         "orientation": "v",
         "showlegend": true,
         "textposition": "auto",
         "type": "bar",
         "x": [
          0,
          1
         ],
         "xaxis": "x",
         "y": [
          5,
          15
         ],
         "yaxis": "y"
        },
        {
         "alignmentgroup": "True",
         "hovertemplate": "variable=Item_5<br>Class (0 or 1)=%{x}<br>Count=%{y}<extra></extra>",
         "legendgroup": "Item_5",
         "marker": {
          "color": "#FFA15A",
          "pattern": {
           "shape": ""
          }
         },
         "name": "Item_5",
         "offsetgroup": "Item_5",
         "orientation": "v",
         "showlegend": true,
         "textposition": "auto",
         "type": "bar",
         "x": [
          0,
          1
         ],
         "xaxis": "x",
         "y": [
          7,
          13
         ],
         "yaxis": "y"
        },
        {
         "alignmentgroup": "True",
         "hovertemplate": "variable=Item_6<br>Class (0 or 1)=%{x}<br>Count=%{y}<extra></extra>",
         "legendgroup": "Item_6",
         "marker": {
          "color": "#19d3f3",
          "pattern": {
           "shape": ""
          }
         },
         "name": "Item_6",
         "offsetgroup": "Item_6",
         "orientation": "v",
         "showlegend": true,
         "textposition": "auto",
         "type": "bar",
         "x": [
          0,
          1
         ],
         "xaxis": "x",
         "y": [
          8,
          12
         ],
         "yaxis": "y"
        },
        {
         "alignmentgroup": "True",
         "hovertemplate": "variable=Item_7<br>Class (0 or 1)=%{x}<br>Count=%{y}<extra></extra>",
         "legendgroup": "Item_7",
         "marker": {
          "color": "#FF6692",
          "pattern": {
           "shape": ""
          }
         },
         "name": "Item_7",
         "offsetgroup": "Item_7",
         "orientation": "v",
         "showlegend": true,
         "textposition": "auto",
         "type": "bar",
         "x": [
          0,
          1
         ],
         "xaxis": "x",
         "y": [
          11,
          9
         ],
         "yaxis": "y"
        },
        {
         "alignmentgroup": "True",
         "hovertemplate": "variable=Item_8<br>Class (0 or 1)=%{x}<br>Count=%{y}<extra></extra>",
         "legendgroup": "Item_8",
         "marker": {
          "color": "#B6E880",
          "pattern": {
           "shape": ""
          }
         },
         "name": "Item_8",
         "offsetgroup": "Item_8",
         "orientation": "v",
         "showlegend": true,
         "textposition": "auto",
         "type": "bar",
         "x": [
          0,
          1
         ],
         "xaxis": "x",
         "y": [
          9,
          11
         ],
         "yaxis": "y"
        },
        {
         "alignmentgroup": "True",
         "hovertemplate": "variable=Item_9<br>Class (0 or 1)=%{x}<br>Count=%{y}<extra></extra>",
         "legendgroup": "Item_9",
         "marker": {
          "color": "#FF97FF",
          "pattern": {
           "shape": ""
          }
         },
         "name": "Item_9",
         "offsetgroup": "Item_9",
         "orientation": "v",
         "showlegend": true,
         "textposition": "auto",
         "type": "bar",
         "x": [
          0,
          1
         ],
         "xaxis": "x",
         "y": [
          10,
          10
         ],
         "yaxis": "y"
        },
        {
         "alignmentgroup": "True",
         "hovertemplate": "variable=Item_10<br>Class (0 or 1)=%{x}<br>Count=%{y}<extra></extra>",
         "legendgroup": "Item_10",
         "marker": {
          "color": "#FECB52",
          "pattern": {
           "shape": ""
          }
         },
         "name": "Item_10",
         "offsetgroup": "Item_10",
         "orientation": "v",
         "showlegend": true,
         "textposition": "auto",
         "type": "bar",
         "x": [
          0,
          1
         ],
         "xaxis": "x",
         "y": [
          9,
          11
         ],
         "yaxis": "y"
        }
       ],
       "layout": {
        "barmode": "relative",
        "legend": {
         "title": {
          "text": "Items"
         },
         "tracegroupgap": 0
        },
        "template": {
         "data": {
          "bar": [
           {
            "error_x": {
             "color": "#2a3f5f"
            },
            "error_y": {
             "color": "#2a3f5f"
            },
            "marker": {
             "line": {
              "color": "#E5ECF6",
              "width": 0.5
             },
             "pattern": {
              "fillmode": "overlay",
              "size": 10,
              "solidity": 0.2
             }
            },
            "type": "bar"
           }
          ],
          "barpolar": [
           {
            "marker": {
             "line": {
              "color": "#E5ECF6",
              "width": 0.5
             },
             "pattern": {
              "fillmode": "overlay",
              "size": 10,
              "solidity": 0.2
             }
            },
            "type": "barpolar"
           }
          ],
          "carpet": [
           {
            "aaxis": {
             "endlinecolor": "#2a3f5f",
             "gridcolor": "white",
             "linecolor": "white",
             "minorgridcolor": "white",
             "startlinecolor": "#2a3f5f"
            },
            "baxis": {
             "endlinecolor": "#2a3f5f",
             "gridcolor": "white",
             "linecolor": "white",
             "minorgridcolor": "white",
             "startlinecolor": "#2a3f5f"
            },
            "type": "carpet"
           }
          ],
          "choropleth": [
           {
            "colorbar": {
             "outlinewidth": 0,
             "ticks": ""
            },
            "type": "choropleth"
           }
          ],
          "contour": [
           {
            "colorbar": {
             "outlinewidth": 0,
             "ticks": ""
            },
            "colorscale": [
             [
              0,
              "#0d0887"
             ],
             [
              0.1111111111111111,
              "#46039f"
             ],
             [
              0.2222222222222222,
              "#7201a8"
             ],
             [
              0.3333333333333333,
              "#9c179e"
             ],
             [
              0.4444444444444444,
              "#bd3786"
             ],
             [
              0.5555555555555556,
              "#d8576b"
             ],
             [
              0.6666666666666666,
              "#ed7953"
             ],
             [
              0.7777777777777778,
              "#fb9f3a"
             ],
             [
              0.8888888888888888,
              "#fdca26"
             ],
             [
              1,
              "#f0f921"
             ]
            ],
            "type": "contour"
           }
          ],
          "contourcarpet": [
           {
            "colorbar": {
             "outlinewidth": 0,
             "ticks": ""
            },
            "type": "contourcarpet"
           }
          ],
          "heatmap": [
           {
            "colorbar": {
             "outlinewidth": 0,
             "ticks": ""
            },
            "colorscale": [
             [
              0,
              "#0d0887"
             ],
             [
              0.1111111111111111,
              "#46039f"
             ],
             [
              0.2222222222222222,
              "#7201a8"
             ],
             [
              0.3333333333333333,
              "#9c179e"
             ],
             [
              0.4444444444444444,
              "#bd3786"
             ],
             [
              0.5555555555555556,
              "#d8576b"
             ],
             [
              0.6666666666666666,
              "#ed7953"
             ],
             [
              0.7777777777777778,
              "#fb9f3a"
             ],
             [
              0.8888888888888888,
              "#fdca26"
             ],
             [
              1,
              "#f0f921"
             ]
            ],
            "type": "heatmap"
           }
          ],
          "heatmapgl": [
           {
            "colorbar": {
             "outlinewidth": 0,
             "ticks": ""
            },
            "colorscale": [
             [
              0,
              "#0d0887"
             ],
             [
              0.1111111111111111,
              "#46039f"
             ],
             [
              0.2222222222222222,
              "#7201a8"
             ],
             [
              0.3333333333333333,
              "#9c179e"
             ],
             [
              0.4444444444444444,
              "#bd3786"
             ],
             [
              0.5555555555555556,
              "#d8576b"
             ],
             [
              0.6666666666666666,
              "#ed7953"
             ],
             [
              0.7777777777777778,
              "#fb9f3a"
             ],
             [
              0.8888888888888888,
              "#fdca26"
             ],
             [
              1,
              "#f0f921"
             ]
            ],
            "type": "heatmapgl"
           }
          ],
          "histogram": [
           {
            "marker": {
             "pattern": {
              "fillmode": "overlay",
              "size": 10,
              "solidity": 0.2
             }
            },
            "type": "histogram"
           }
          ],
          "histogram2d": [
           {
            "colorbar": {
             "outlinewidth": 0,
             "ticks": ""
            },
            "colorscale": [
             [
              0,
              "#0d0887"
             ],
             [
              0.1111111111111111,
              "#46039f"
             ],
             [
              0.2222222222222222,
              "#7201a8"
             ],
             [
              0.3333333333333333,
              "#9c179e"
             ],
             [
              0.4444444444444444,
              "#bd3786"
             ],
             [
              0.5555555555555556,
              "#d8576b"
             ],
             [
              0.6666666666666666,
              "#ed7953"
             ],
             [
              0.7777777777777778,
              "#fb9f3a"
             ],
             [
              0.8888888888888888,
              "#fdca26"
             ],
             [
              1,
              "#f0f921"
             ]
            ],
            "type": "histogram2d"
           }
          ],
          "histogram2dcontour": [
           {
            "colorbar": {
             "outlinewidth": 0,
             "ticks": ""
            },
            "colorscale": [
             [
              0,
              "#0d0887"
             ],
             [
              0.1111111111111111,
              "#46039f"
             ],
             [
              0.2222222222222222,
              "#7201a8"
             ],
             [
              0.3333333333333333,
              "#9c179e"
             ],
             [
              0.4444444444444444,
              "#bd3786"
             ],
             [
              0.5555555555555556,
              "#d8576b"
             ],
             [
              0.6666666666666666,
              "#ed7953"
             ],
             [
              0.7777777777777778,
              "#fb9f3a"
             ],
             [
              0.8888888888888888,
              "#fdca26"
             ],
             [
              1,
              "#f0f921"
             ]
            ],
            "type": "histogram2dcontour"
           }
          ],
          "mesh3d": [
           {
            "colorbar": {
             "outlinewidth": 0,
             "ticks": ""
            },
            "type": "mesh3d"
           }
          ],
          "parcoords": [
           {
            "line": {
             "colorbar": {
              "outlinewidth": 0,
              "ticks": ""
             }
            },
            "type": "parcoords"
           }
          ],
          "pie": [
           {
            "automargin": true,
            "type": "pie"
           }
          ],
          "scatter": [
           {
            "fillpattern": {
             "fillmode": "overlay",
             "size": 10,
             "solidity": 0.2
            },
            "type": "scatter"
           }
          ],
          "scatter3d": [
           {
            "line": {
             "colorbar": {
              "outlinewidth": 0,
              "ticks": ""
             }
            },
            "marker": {
             "colorbar": {
              "outlinewidth": 0,
              "ticks": ""
             }
            },
            "type": "scatter3d"
           }
          ],
          "scattercarpet": [
           {
            "marker": {
             "colorbar": {
              "outlinewidth": 0,
              "ticks": ""
             }
            },
            "type": "scattercarpet"
           }
          ],
          "scattergeo": [
           {
            "marker": {
             "colorbar": {
              "outlinewidth": 0,
              "ticks": ""
             }
            },
            "type": "scattergeo"
           }
          ],
          "scattergl": [
           {
            "marker": {
             "colorbar": {
              "outlinewidth": 0,
              "ticks": ""
             }
            },
            "type": "scattergl"
           }
          ],
          "scattermapbox": [
           {
            "marker": {
             "colorbar": {
              "outlinewidth": 0,
              "ticks": ""
             }
            },
            "type": "scattermapbox"
           }
          ],
          "scatterpolar": [
           {
            "marker": {
             "colorbar": {
              "outlinewidth": 0,
              "ticks": ""
             }
            },
            "type": "scatterpolar"
           }
          ],
          "scatterpolargl": [
           {
            "marker": {
             "colorbar": {
              "outlinewidth": 0,
              "ticks": ""
             }
            },
            "type": "scatterpolargl"
           }
          ],
          "scatterternary": [
           {
            "marker": {
             "colorbar": {
              "outlinewidth": 0,
              "ticks": ""
             }
            },
            "type": "scatterternary"
           }
          ],
          "surface": [
           {
            "colorbar": {
             "outlinewidth": 0,
             "ticks": ""
            },
            "colorscale": [
             [
              0,
              "#0d0887"
             ],
             [
              0.1111111111111111,
              "#46039f"
             ],
             [
              0.2222222222222222,
              "#7201a8"
             ],
             [
              0.3333333333333333,
              "#9c179e"
             ],
             [
              0.4444444444444444,
              "#bd3786"
             ],
             [
              0.5555555555555556,
              "#d8576b"
             ],
             [
              0.6666666666666666,
              "#ed7953"
             ],
             [
              0.7777777777777778,
              "#fb9f3a"
             ],
             [
              0.8888888888888888,
              "#fdca26"
             ],
             [
              1,
              "#f0f921"
             ]
            ],
            "type": "surface"
           }
          ],
          "table": [
           {
            "cells": {
             "fill": {
              "color": "#EBF0F8"
             },
             "line": {
              "color": "white"
             }
            },
            "header": {
             "fill": {
              "color": "#C8D4E3"
             },
             "line": {
              "color": "white"
             }
            },
            "type": "table"
           }
          ]
         },
         "layout": {
          "annotationdefaults": {
           "arrowcolor": "#2a3f5f",
           "arrowhead": 0,
           "arrowwidth": 1
          },
          "autotypenumbers": "strict",
          "coloraxis": {
           "colorbar": {
            "outlinewidth": 0,
            "ticks": ""
           }
          },
          "colorscale": {
           "diverging": [
            [
             0,
             "#8e0152"
            ],
            [
             0.1,
             "#c51b7d"
            ],
            [
             0.2,
             "#de77ae"
            ],
            [
             0.3,
             "#f1b6da"
            ],
            [
             0.4,
             "#fde0ef"
            ],
            [
             0.5,
             "#f7f7f7"
            ],
            [
             0.6,
             "#e6f5d0"
            ],
            [
             0.7,
             "#b8e186"
            ],
            [
             0.8,
             "#7fbc41"
            ],
            [
             0.9,
             "#4d9221"
            ],
            [
             1,
             "#276419"
            ]
           ],
           "sequential": [
            [
             0,
             "#0d0887"
            ],
            [
             0.1111111111111111,
             "#46039f"
            ],
            [
             0.2222222222222222,
             "#7201a8"
            ],
            [
             0.3333333333333333,
             "#9c179e"
            ],
            [
             0.4444444444444444,
             "#bd3786"
            ],
            [
             0.5555555555555556,
             "#d8576b"
            ],
            [
             0.6666666666666666,
             "#ed7953"
            ],
            [
             0.7777777777777778,
             "#fb9f3a"
            ],
            [
             0.8888888888888888,
             "#fdca26"
            ],
            [
             1,
             "#f0f921"
            ]
           ],
           "sequentialminus": [
            [
             0,
             "#0d0887"
            ],
            [
             0.1111111111111111,
             "#46039f"
            ],
            [
             0.2222222222222222,
             "#7201a8"
            ],
            [
             0.3333333333333333,
             "#9c179e"
            ],
            [
             0.4444444444444444,
             "#bd3786"
            ],
            [
             0.5555555555555556,
             "#d8576b"
            ],
            [
             0.6666666666666666,
             "#ed7953"
            ],
            [
             0.7777777777777778,
             "#fb9f3a"
            ],
            [
             0.8888888888888888,
             "#fdca26"
            ],
            [
             1,
             "#f0f921"
            ]
           ]
          },
          "colorway": [
           "#636efa",
           "#EF553B",
           "#00cc96",
           "#ab63fa",
           "#FFA15A",
           "#19d3f3",
           "#FF6692",
           "#B6E880",
           "#FF97FF",
           "#FECB52"
          ],
          "font": {
           "color": "#2a3f5f"
          },
          "geo": {
           "bgcolor": "white",
           "lakecolor": "white",
           "landcolor": "#E5ECF6",
           "showlakes": true,
           "showland": true,
           "subunitcolor": "white"
          },
          "hoverlabel": {
           "align": "left"
          },
          "hovermode": "closest",
          "mapbox": {
           "style": "light"
          },
          "paper_bgcolor": "white",
          "plot_bgcolor": "#E5ECF6",
          "polar": {
           "angularaxis": {
            "gridcolor": "white",
            "linecolor": "white",
            "ticks": ""
           },
           "bgcolor": "#E5ECF6",
           "radialaxis": {
            "gridcolor": "white",
            "linecolor": "white",
            "ticks": ""
           }
          },
          "scene": {
           "xaxis": {
            "backgroundcolor": "#E5ECF6",
            "gridcolor": "white",
            "gridwidth": 2,
            "linecolor": "white",
            "showbackground": true,
            "ticks": "",
            "zerolinecolor": "white"
           },
           "yaxis": {
            "backgroundcolor": "#E5ECF6",
            "gridcolor": "white",
            "gridwidth": 2,
            "linecolor": "white",
            "showbackground": true,
            "ticks": "",
            "zerolinecolor": "white"
           },
           "zaxis": {
            "backgroundcolor": "#E5ECF6",
            "gridcolor": "white",
            "gridwidth": 2,
            "linecolor": "white",
            "showbackground": true,
            "ticks": "",
            "zerolinecolor": "white"
           }
          },
          "shapedefaults": {
           "line": {
            "color": "#2a3f5f"
           }
          },
          "ternary": {
           "aaxis": {
            "gridcolor": "white",
            "linecolor": "white",
            "ticks": ""
           },
           "baxis": {
            "gridcolor": "white",
            "linecolor": "white",
            "ticks": ""
           },
           "bgcolor": "#E5ECF6",
           "caxis": {
            "gridcolor": "white",
            "linecolor": "white",
            "ticks": ""
           }
          },
          "title": {
           "x": 0.05
          },
          "xaxis": {
           "automargin": true,
           "gridcolor": "white",
           "linecolor": "white",
           "ticks": "",
           "title": {
            "standoff": 15
           },
           "zerolinecolor": "white",
           "zerolinewidth": 2
          },
          "yaxis": {
           "automargin": true,
           "gridcolor": "white",
           "linecolor": "white",
           "ticks": "",
           "title": {
            "standoff": 15
           },
           "zerolinecolor": "white",
           "zerolinewidth": 2
          }
         }
        },
        "title": {
         "text": "Class Distribution for Rated and Non-Rated Items",
         "x": 0.5
        },
        "xaxis": {
         "anchor": "y",
         "domain": [
          0,
          1
         ],
         "tickvals": [
          0,
          1
         ],
         "title": {
          "text": "Class (0 or 1)"
         }
        },
        "yaxis": {
         "anchor": "x",
         "domain": [
          0,
          1
         ],
         "title": {
          "text": "Count"
         }
        }
       }
      }
     },
     "metadata": {},
     "output_type": "display_data"
    }
   ],
   "source": [
    "fig = px.bar(class_distribution, x=class_distribution.index, y=df.columns[1:], \n",
    "             labels={'index': 'Class (0 or 1)', 'value': 'Count'},\n",
    "             title='Class Distribution for Rated and Non-Rated Items')\n",
    "fig.update_layout(title_x=0.5, legend_title_text='Items')\n",
    "fig.update_xaxes(tickvals=[0, 1])\n",
    "fig.show()"
   ]
  },
  {
   "cell_type": "markdown",
   "metadata": {},
   "source": [
    "# Analytic computations: towards collaborative filtering\n",
    "\n",
    "The cosine similarity between two vectots $\\mathbf{v}_1$ and $\\mathbf{v}_2$ is given by the formula\n",
    "\n",
    "$$\n",
    "cos(v1,v2) = \\frac{\\mathbf{v}_1 \\cdot \\mathbf{v}_2}{\\|\\mathbf{v}_1\\| \\|\\mathbf{v}_2\\|}\n",
    "$$\n",
    "\n",
    "Where the dot product is given by\n",
    "\n",
    "$$\n",
    "\\mathbf{v}_1 \\cdot \\mathbf{v}_2 = \\sum_{i=1}^{n} v_{1i} v_{2i}\n",
    "$$\n",
    "\n",
    "and the L2 norm \n",
    "\n",
    "$$\n",
    "\\| \\mathbf{v} \\| = \\sqrt{\\sum_{i=1}^{n} v_i^2}\n",
    "$$\n",
    "\n",
    "1. Write a Python function that computes the cosine similarity between two vectors from scratch.\n",
    "2. Explore the cosine similarity between various pairs of users, and analyse the answers\n",
    "3. Explore the use of `scipy.spatial.distance.pdist` to get a similarity matrix of all pairs of users in the implicit matrix first, then on the explicit ratings. Analyse and discuss your results"
   ]
  },
  {
   "cell_type": "code",
   "execution_count": 14,
   "metadata": {},
   "outputs": [
    {
     "name": "stdout",
     "output_type": "stream",
     "text": [
      "User_1 User_2 -> 0.5999999999999999\n",
      "User_1 User_3 -> 0.9999999999999998\n",
      "User_1 User_4 -> 0.8944271909999159\n",
      "User_1 User_5 -> 0.7302967433402214\n",
      "User_1 User_6 -> 0.3999999999999999\n",
      "User_1 User_7 -> 0.6761234037828131\n",
      "User_1 User_8 -> 0.33806170189140655\n",
      "User_1 User_9 -> 0.4743416490252569\n",
      "User_1 User_10 -> 0.3651483716701107\n",
      "User_1 User_11 -> 0.22360679774997896\n",
      "User_1 User_12 -> 0.3999999999999999\n",
      "User_1 User_13 -> 0.4472135954999579\n",
      "User_1 User_14 -> 0.22360679774997896\n",
      "User_1 User_15 -> 0.4472135954999579\n",
      "User_1 User_16 -> 0.5070925528371099\n",
      "User_1 User_17 -> 0.5070925528371099\n",
      "User_1 User_18 -> 0.3999999999999999\n",
      "User_1 User_19 -> 0.5477225575051661\n",
      "User_1 User_20 -> 0.5070925528371099\n",
      "User_2 User_3 -> 0.5999999999999999\n",
      "User_2 User_4 -> 0.6708203932499369\n",
      "User_2 User_5 -> 0.7302967433402214\n",
      "User_2 User_6 -> 0.19999999999999996\n",
      "User_2 User_7 -> 0.33806170189140655\n",
      "User_2 User_8 -> 0.33806170189140655\n",
      "User_2 User_9 -> 0.6324555320336759\n",
      "User_2 User_10 -> 0.5477225575051661\n",
      "User_2 User_11 -> 0.22360679774997896\n",
      "User_2 User_12 -> 0.19999999999999996\n",
      "User_2 User_13 -> 0.22360679774997896\n",
      "User_2 User_14 -> 0.22360679774997896\n",
      "User_2 User_15 -> 0.22360679774997896\n",
      "User_2 User_16 -> 0.5070925528371099\n",
      "User_2 User_17 -> 0.6761234037828131\n",
      "User_2 User_18 -> 0.3999999999999999\n",
      "User_2 User_19 -> 0.5477225575051661\n",
      "User_2 User_20 -> 0.6761234037828131\n",
      "User_3 User_4 -> 0.8944271909999159\n",
      "User_3 User_5 -> 0.7302967433402214\n",
      "User_3 User_6 -> 0.3999999999999999\n",
      "User_3 User_7 -> 0.6761234037828131\n",
      "User_3 User_8 -> 0.33806170189140655\n",
      "User_3 User_9 -> 0.4743416490252569\n",
      "User_3 User_10 -> 0.3651483716701107\n",
      "User_3 User_11 -> 0.22360679774997896\n",
      "User_3 User_12 -> 0.3999999999999999\n",
      "User_3 User_13 -> 0.4472135954999579\n",
      "User_3 User_14 -> 0.22360679774997896\n",
      "User_3 User_15 -> 0.4472135954999579\n",
      "User_3 User_16 -> 0.5070925528371099\n",
      "User_3 User_17 -> 0.5070925528371099\n",
      "User_3 User_18 -> 0.3999999999999999\n",
      "User_3 User_19 -> 0.5477225575051661\n",
      "User_3 User_20 -> 0.5070925528371099\n",
      "User_4 User_5 -> 0.6123724356957946\n",
      "User_4 User_6 -> 0.22360679774997896\n",
      "User_4 User_7 -> 0.5669467095138409\n",
      "User_4 User_8 -> 0.1889822365046136\n",
      "User_4 User_9 -> 0.5303300858899106\n",
      "User_4 User_10 -> 0.4082482904638631\n",
      "User_4 User_11 -> 0.25\n",
      "User_4 User_12 -> 0.4472135954999579\n",
      "User_4 User_13 -> 0.5\n",
      "User_4 User_14 -> 0.25\n",
      "User_4 User_15 -> 0.5\n",
      "User_4 User_16 -> 0.3779644730092272\n",
      "User_4 User_17 -> 0.3779644730092272\n",
      "User_4 User_18 -> 0.22360679774997896\n",
      "User_4 User_19 -> 0.4082482904638631\n",
      "User_4 User_20 -> 0.3779644730092272\n",
      "User_5 User_6 -> 0.3651483716701107\n",
      "User_5 User_7 -> 0.6172133998483676\n",
      "User_5 User_8 -> 0.4629100498862757\n",
      "User_5 User_9 -> 0.5773502691896258\n",
      "User_5 User_10 -> 0.5000000000000001\n",
      "User_5 User_11 -> 0.20412414523193154\n",
      "User_5 User_12 -> 0.3651483716701107\n",
      "User_5 User_13 -> 0.4082482904638631\n",
      "User_5 User_14 -> 0.20412414523193154\n",
      "User_5 User_15 -> 0.4082482904638631\n",
      "User_5 User_16 -> 0.4629100498862757\n",
      "User_5 User_17 -> 0.7715167498104595\n",
      "User_5 User_18 -> 0.3651483716701107\n",
      "User_5 User_19 -> 0.6666666666666667\n",
      "User_5 User_20 -> 0.7715167498104595\n",
      "User_6 User_7 -> 0.6761234037828131\n",
      "User_6 User_8 -> 0.8451542547285165\n",
      "User_6 User_9 -> 0.6324555320336759\n",
      "User_6 User_10 -> 0.7302967433402214\n",
      "User_6 User_11 -> 0.8944271909999159\n",
      "User_6 User_12 -> 0.5999999999999999\n",
      "User_6 User_13 -> 0.6708203932499369\n",
      "User_6 User_14 -> 0.8944271909999159\n",
      "User_6 User_15 -> 0.6708203932499369\n",
      "User_6 User_16 -> 0.6761234037828131\n",
      "User_6 User_17 -> 0.5070925528371099\n",
      "User_6 User_18 -> 0.5999999999999999\n",
      "User_6 User_19 -> 0.3651483716701107\n",
      "User_6 User_20 -> 0.5070925528371099\n",
      "User_7 User_8 -> 0.7142857142857142\n",
      "User_7 User_9 -> 0.6681531047810609\n",
      "User_7 User_10 -> 0.4629100498862757\n",
      "User_7 User_11 -> 0.5669467095138409\n",
      "User_7 User_12 -> 0.8451542547285165\n",
      "User_7 User_13 -> 0.5669467095138409\n",
      "User_7 User_14 -> 0.5669467095138409\n",
      "User_7 User_15 -> 0.7559289460184544\n",
      "User_7 User_16 -> 0.7142857142857142\n",
      "User_7 User_17 -> 0.5714285714285714\n",
      "User_7 User_18 -> 0.5070925528371099\n",
      "User_7 User_19 -> 0.6172133998483676\n",
      "User_7 User_20 -> 0.7142857142857142\n",
      "User_8 User_9 -> 0.8017837257372731\n",
      "User_8 User_10 -> 0.7715167498104595\n",
      "User_8 User_11 -> 0.7559289460184544\n",
      "User_8 User_12 -> 0.6761234037828131\n",
      "User_8 User_13 -> 0.5669467095138409\n",
      "User_8 User_14 -> 0.7559289460184544\n",
      "User_8 User_15 -> 0.5669467095138409\n",
      "User_8 User_16 -> 0.857142857142857\n",
      "User_8 User_17 -> 0.7142857142857142\n",
      "User_8 User_18 -> 0.8451542547285165\n",
      "User_8 User_19 -> 0.6172133998483676\n",
      "User_8 User_20 -> 0.7142857142857142\n",
      "User_9 User_10 -> 0.8660254037844387\n",
      "User_9 User_11 -> 0.7071067811865475\n",
      "User_9 User_12 -> 0.7905694150420948\n",
      "User_9 User_13 -> 0.7071067811865475\n",
      "User_9 User_14 -> 0.7071067811865475\n",
      "User_9 User_15 -> 0.5303300858899106\n",
      "User_9 User_16 -> 0.8017837257372731\n",
      "User_9 User_17 -> 0.6681531047810609\n",
      "User_9 User_18 -> 0.6324555320336759\n",
      "User_9 User_19 -> 0.7216878364870323\n",
      "User_9 User_20 -> 0.6681531047810609\n",
      "User_10 User_11 -> 0.8164965809277261\n",
      "User_10 User_12 -> 0.5477225575051661\n",
      "User_10 User_13 -> 0.8164965809277261\n",
      "User_10 User_14 -> 0.8164965809277261\n",
      "User_10 User_15 -> 0.6123724356957946\n",
      "User_10 User_16 -> 0.6172133998483676\n",
      "User_10 User_17 -> 0.6172133998483676\n",
      "User_10 User_18 -> 0.5477225575051661\n",
      "User_10 User_19 -> 0.5000000000000001\n",
      "User_10 User_20 -> 0.4629100498862757\n",
      "User_11 User_12 -> 0.6708203932499369\n",
      "User_11 User_13 -> 0.75\n",
      "User_11 User_14 -> 1.0\n",
      "User_11 User_15 -> 0.75\n",
      "User_11 User_16 -> 0.5669467095138409\n",
      "User_11 User_17 -> 0.3779644730092272\n",
      "User_11 User_18 -> 0.4472135954999579\n",
      "User_11 User_19 -> 0.20412414523193154\n",
      "User_11 User_20 -> 0.3779644730092272\n",
      "User_12 User_13 -> 0.6708203932499369\n",
      "User_12 User_14 -> 0.6708203932499369\n",
      "User_12 User_15 -> 0.6708203932499369\n",
      "User_12 User_16 -> 0.6761234037828131\n",
      "User_12 User_17 -> 0.33806170189140655\n",
      "User_12 User_18 -> 0.3999999999999999\n",
      "User_12 User_19 -> 0.5477225575051661\n",
      "User_12 User_20 -> 0.5070925528371099\n",
      "User_13 User_14 -> 0.75\n",
      "User_13 User_15 -> 0.75\n",
      "User_13 User_16 -> 0.3779644730092272\n",
      "User_13 User_17 -> 0.3779644730092272\n",
      "User_13 User_18 -> 0.22360679774997896\n",
      "User_13 User_19 -> 0.4082482904638631\n",
      "User_13 User_20 -> 0.1889822365046136\n",
      "User_14 User_15 -> 0.75\n",
      "User_14 User_16 -> 0.5669467095138409\n",
      "User_14 User_17 -> 0.3779644730092272\n",
      "User_14 User_18 -> 0.4472135954999579\n",
      "User_14 User_19 -> 0.20412414523193154\n",
      "User_14 User_20 -> 0.3779644730092272\n",
      "User_15 User_16 -> 0.3779644730092272\n",
      "User_15 User_17 -> 0.3779644730092272\n",
      "User_15 User_18 -> 0.22360679774997896\n",
      "User_15 User_19 -> 0.20412414523193154\n",
      "User_15 User_20 -> 0.3779644730092272\n",
      "User_16 User_17 -> 0.5714285714285714\n",
      "User_16 User_18 -> 0.8451542547285165\n",
      "User_16 User_19 -> 0.7715167498104595\n",
      "User_16 User_20 -> 0.7142857142857142\n",
      "User_17 User_18 -> 0.6761234037828131\n",
      "User_17 User_19 -> 0.6172133998483676\n",
      "User_17 User_20 -> 0.857142857142857\n",
      "User_18 User_19 -> 0.5477225575051661\n",
      "User_18 User_20 -> 0.6761234037828131\n",
      "User_19 User_20 -> 0.6172133998483676\n"
     ]
    }
   ],
   "source": [
    "def cosine_similarity(v1, v2):\n",
    "    return np.dot(v1, v2) / (np.sqrt(np.dot(v1, v1)) * np.sqrt(np.dot(v2, v2)))\n",
    "\n",
    "results = []\n",
    "\n",
    "for i in range(0, 20):\n",
    "    for j in range(i+1, 20): # only upper triangle 20*19/12 == 190\n",
    "        #df_results = df_results.append({'user1': df.values[i,0:1], 'user2': df.values[j,0:1], 'similarity': cosine_similarity(df.values[i,1:], df.values[j,1:])}, ignore_index=True)\n",
    "        similarity = cosine_similarity(df.values[i,1:], df.values[j,1:])\n",
    "        results.append((df.values[i,0], df.values[j,0], similarity))\n",
    "        print(f'{df.values[i,0]} {df.values[j,0]} -> {similarity}')"
   ]
  },
  {
   "cell_type": "markdown",
   "metadata": {},
   "source": [
    "Without ``numpy``"
   ]
  },
  {
   "cell_type": "code",
   "execution_count": 15,
   "metadata": {},
   "outputs": [],
   "source": [
    "import math\n",
    "\n",
    "def cosine_similarity_scratch(v1, v2):\n",
    "    \n",
    "    dot_product = sum(x * y for x, y in zip(v1, v2))\n",
    "    \n",
    "    module_v1 = math.sqrt(sum(x**2 for x in v1))\n",
    "    module_v2 = math.sqrt(sum(x**2 for x in v2))\n",
    "    \n",
    "    # zero division\n",
    "    if module_v1 == 0 or module_v2 == 0:\n",
    "        return 0\n",
    "    \n",
    "    return dot_product / (module_v1 * module_v2)"
   ]
  },
  {
   "cell_type": "code",
   "execution_count": 16,
   "metadata": {},
   "outputs": [
    {
     "data": {
      "text/html": [
       "<div>\n",
       "<style scoped>\n",
       "    .dataframe tbody tr th:only-of-type {\n",
       "        vertical-align: middle;\n",
       "    }\n",
       "\n",
       "    .dataframe tbody tr th {\n",
       "        vertical-align: top;\n",
       "    }\n",
       "\n",
       "    .dataframe thead th {\n",
       "        text-align: right;\n",
       "    }\n",
       "</style>\n",
       "<table border=\"1\" class=\"dataframe\">\n",
       "  <thead>\n",
       "    <tr style=\"text-align: right;\">\n",
       "      <th></th>\n",
       "      <th>user_1</th>\n",
       "      <th>user_2</th>\n",
       "      <th>similarity</th>\n",
       "    </tr>\n",
       "  </thead>\n",
       "  <tbody>\n",
       "    <tr>\n",
       "      <th>0</th>\n",
       "      <td>User_1</td>\n",
       "      <td>User_2</td>\n",
       "      <td>0.600000</td>\n",
       "    </tr>\n",
       "    <tr>\n",
       "      <th>1</th>\n",
       "      <td>User_1</td>\n",
       "      <td>User_3</td>\n",
       "      <td>1.000000</td>\n",
       "    </tr>\n",
       "    <tr>\n",
       "      <th>2</th>\n",
       "      <td>User_1</td>\n",
       "      <td>User_4</td>\n",
       "      <td>0.894427</td>\n",
       "    </tr>\n",
       "    <tr>\n",
       "      <th>3</th>\n",
       "      <td>User_1</td>\n",
       "      <td>User_5</td>\n",
       "      <td>0.730297</td>\n",
       "    </tr>\n",
       "    <tr>\n",
       "      <th>4</th>\n",
       "      <td>User_1</td>\n",
       "      <td>User_6</td>\n",
       "      <td>0.400000</td>\n",
       "    </tr>\n",
       "  </tbody>\n",
       "</table>\n",
       "</div>"
      ],
      "text/plain": [
       "   user_1  user_2  similarity\n",
       "0  User_1  User_2    0.600000\n",
       "1  User_1  User_3    1.000000\n",
       "2  User_1  User_4    0.894427\n",
       "3  User_1  User_5    0.730297\n",
       "4  User_1  User_6    0.400000"
      ]
     },
     "execution_count": 16,
     "metadata": {},
     "output_type": "execute_result"
    }
   ],
   "source": [
    "df_results = pd.DataFrame(results, columns=['user_1', 'user_2', 'similarity'])\n",
    "df_results.head()"
   ]
  },
  {
   "cell_type": "code",
   "execution_count": 17,
   "metadata": {},
   "outputs": [
    {
     "name": "stdout",
     "output_type": "stream",
     "text": [
      "<class 'pandas.core.frame.DataFrame'>\n",
      "RangeIndex: 190 entries, 0 to 189\n",
      "Data columns (total 3 columns):\n",
      " #   Column      Non-Null Count  Dtype  \n",
      "---  ------      --------------  -----  \n",
      " 0   user_1      190 non-null    object \n",
      " 1   user_2      190 non-null    object \n",
      " 2   similarity  190 non-null    float64\n",
      "dtypes: float64(1), object(2)\n",
      "memory usage: 4.6+ KB\n"
     ]
    }
   ],
   "source": [
    "df_results.info()"
   ]
  },
  {
   "cell_type": "markdown",
   "metadata": {},
   "source": [
    "### Top most similar users\n",
    "- The pairs (``User_11``, ``User_14``) and (``User_1``, ``User_3``) are the most similar users with a similarity of ``1``.\n"
   ]
  },
  {
   "cell_type": "code",
   "execution_count": 18,
   "metadata": {},
   "outputs": [
    {
     "data": {
      "text/html": [
       "<div>\n",
       "<style scoped>\n",
       "    .dataframe tbody tr th:only-of-type {\n",
       "        vertical-align: middle;\n",
       "    }\n",
       "\n",
       "    .dataframe tbody tr th {\n",
       "        vertical-align: top;\n",
       "    }\n",
       "\n",
       "    .dataframe thead th {\n",
       "        text-align: right;\n",
       "    }\n",
       "</style>\n",
       "<table border=\"1\" class=\"dataframe\">\n",
       "  <thead>\n",
       "    <tr style=\"text-align: right;\">\n",
       "      <th></th>\n",
       "      <th>user_1</th>\n",
       "      <th>user_2</th>\n",
       "      <th>similarity</th>\n",
       "    </tr>\n",
       "  </thead>\n",
       "  <tbody>\n",
       "    <tr>\n",
       "      <th>147</th>\n",
       "      <td>User_11</td>\n",
       "      <td>User_14</td>\n",
       "      <td>1.000000</td>\n",
       "    </tr>\n",
       "    <tr>\n",
       "      <th>1</th>\n",
       "      <td>User_1</td>\n",
       "      <td>User_3</td>\n",
       "      <td>1.000000</td>\n",
       "    </tr>\n",
       "    <tr>\n",
       "      <th>37</th>\n",
       "      <td>User_3</td>\n",
       "      <td>User_4</td>\n",
       "      <td>0.894427</td>\n",
       "    </tr>\n",
       "    <tr>\n",
       "      <th>92</th>\n",
       "      <td>User_6</td>\n",
       "      <td>User_14</td>\n",
       "      <td>0.894427</td>\n",
       "    </tr>\n",
       "    <tr>\n",
       "      <th>2</th>\n",
       "      <td>User_1</td>\n",
       "      <td>User_4</td>\n",
       "      <td>0.894427</td>\n",
       "    </tr>\n",
       "    <tr>\n",
       "      <th>89</th>\n",
       "      <td>User_6</td>\n",
       "      <td>User_11</td>\n",
       "      <td>0.894427</td>\n",
       "    </tr>\n",
       "    <tr>\n",
       "      <th>124</th>\n",
       "      <td>User_9</td>\n",
       "      <td>User_10</td>\n",
       "      <td>0.866025</td>\n",
       "    </tr>\n",
       "    <tr>\n",
       "      <th>186</th>\n",
       "      <td>User_17</td>\n",
       "      <td>User_20</td>\n",
       "      <td>0.857143</td>\n",
       "    </tr>\n",
       "    <tr>\n",
       "      <th>119</th>\n",
       "      <td>User_8</td>\n",
       "      <td>User_16</td>\n",
       "      <td>0.857143</td>\n",
       "    </tr>\n",
       "    <tr>\n",
       "      <th>181</th>\n",
       "      <td>User_16</td>\n",
       "      <td>User_18</td>\n",
       "      <td>0.845154</td>\n",
       "    </tr>\n",
       "  </tbody>\n",
       "</table>\n",
       "</div>"
      ],
      "text/plain": [
       "      user_1   user_2  similarity\n",
       "147  User_11  User_14    1.000000\n",
       "1     User_1   User_3    1.000000\n",
       "37    User_3   User_4    0.894427\n",
       "92    User_6  User_14    0.894427\n",
       "2     User_1   User_4    0.894427\n",
       "89    User_6  User_11    0.894427\n",
       "124   User_9  User_10    0.866025\n",
       "186  User_17  User_20    0.857143\n",
       "119   User_8  User_16    0.857143\n",
       "181  User_16  User_18    0.845154"
      ]
     },
     "execution_count": 18,
     "metadata": {},
     "output_type": "execute_result"
    }
   ],
   "source": [
    "# ignore df_results where user_1 == user_2\n",
    "df_results = df_results[df_results['user_1'] != df_results['user_2']]\n",
    "df_results.sort_values(by='similarity', ascending=False).head(10)"
   ]
  },
  {
   "cell_type": "code",
   "execution_count": 19,
   "metadata": {},
   "outputs": [
    {
     "name": "stdout",
     "output_type": "stream",
     "text": [
      "<class 'pandas.core.frame.DataFrame'>\n",
      "Int64Index: 190 entries, 0 to 189\n",
      "Data columns (total 3 columns):\n",
      " #   Column      Non-Null Count  Dtype  \n",
      "---  ------      --------------  -----  \n",
      " 0   user_1      190 non-null    object \n",
      " 1   user_2      190 non-null    object \n",
      " 2   similarity  190 non-null    float64\n",
      "dtypes: float64(1), object(2)\n",
      "memory usage: 5.9+ KB\n"
     ]
    }
   ],
   "source": [
    "df_results.info()"
   ]
  },
  {
   "cell_type": "code",
   "execution_count": 20,
   "metadata": {},
   "outputs": [
    {
     "data": {
      "image/png": "[encoded data removed]",
      "text/plain": [
       "<Figure size 640x480 with 1 Axes>"
      ]
     },
     "metadata": {},
     "output_type": "display_data"
    }
   ],
   "source": [
    "sns.histplot(df_results.values, bins=20)\n",
    "plt.xlabel('Cosine Similarity')\n",
    "plt.yticks(range(0, 20, 5))\n",
    "plt.grid(axis='y')\n",
    "plt.legend(['Cosine Similarity'])\n",
    "plt.show()"
   ]
  },
  {
   "cell_type": "markdown",
   "metadata": {},
   "source": [
    "### Least Similar Users\n",
    "- The pairs (``User_4``, ``User_8``) and (``User_13``, ``User_20``) are the least similar users with a similarity of ``0.188982``.\n"
   ]
  },
  {
   "cell_type": "code",
   "execution_count": 21,
   "metadata": {},
   "outputs": [
    {
     "data": {
      "text/html": [
       "<div>\n",
       "<style scoped>\n",
       "    .dataframe tbody tr th:only-of-type {\n",
       "        vertical-align: middle;\n",
       "    }\n",
       "\n",
       "    .dataframe tbody tr th {\n",
       "        vertical-align: top;\n",
       "    }\n",
       "\n",
       "    .dataframe thead th {\n",
       "        text-align: right;\n",
       "    }\n",
       "</style>\n",
       "<table border=\"1\" class=\"dataframe\">\n",
       "  <thead>\n",
       "    <tr style=\"text-align: right;\">\n",
       "      <th></th>\n",
       "      <th>user_1</th>\n",
       "      <th>user_2</th>\n",
       "      <th>similarity</th>\n",
       "    </tr>\n",
       "  </thead>\n",
       "  <tbody>\n",
       "    <tr>\n",
       "      <th>57</th>\n",
       "      <td>User_4</td>\n",
       "      <td>User_8</td>\n",
       "      <td>0.188982</td>\n",
       "    </tr>\n",
       "    <tr>\n",
       "      <th>168</th>\n",
       "      <td>User_13</td>\n",
       "      <td>User_20</td>\n",
       "      <td>0.188982</td>\n",
       "    </tr>\n",
       "    <tr>\n",
       "      <th>22</th>\n",
       "      <td>User_2</td>\n",
       "      <td>User_6</td>\n",
       "      <td>0.200000</td>\n",
       "    </tr>\n",
       "    <tr>\n",
       "      <th>28</th>\n",
       "      <td>User_2</td>\n",
       "      <td>User_12</td>\n",
       "      <td>0.200000</td>\n",
       "    </tr>\n",
       "    <tr>\n",
       "      <th>173</th>\n",
       "      <td>User_14</td>\n",
       "      <td>User_19</td>\n",
       "      <td>0.204124</td>\n",
       "    </tr>\n",
       "    <tr>\n",
       "      <th>78</th>\n",
       "      <td>User_5</td>\n",
       "      <td>User_14</td>\n",
       "      <td>0.204124</td>\n",
       "    </tr>\n",
       "    <tr>\n",
       "      <th>75</th>\n",
       "      <td>User_5</td>\n",
       "      <td>User_11</td>\n",
       "      <td>0.204124</td>\n",
       "    </tr>\n",
       "    <tr>\n",
       "      <th>178</th>\n",
       "      <td>User_15</td>\n",
       "      <td>User_19</td>\n",
       "      <td>0.204124</td>\n",
       "    </tr>\n",
       "    <tr>\n",
       "      <th>152</th>\n",
       "      <td>User_11</td>\n",
       "      <td>User_19</td>\n",
       "      <td>0.204124</td>\n",
       "    </tr>\n",
       "    <tr>\n",
       "      <th>31</th>\n",
       "      <td>User_2</td>\n",
       "      <td>User_15</td>\n",
       "      <td>0.223607</td>\n",
       "    </tr>\n",
       "  </tbody>\n",
       "</table>\n",
       "</div>"
      ],
      "text/plain": [
       "      user_1   user_2  similarity\n",
       "57    User_4   User_8    0.188982\n",
       "168  User_13  User_20    0.188982\n",
       "22    User_2   User_6    0.200000\n",
       "28    User_2  User_12    0.200000\n",
       "173  User_14  User_19    0.204124\n",
       "78    User_5  User_14    0.204124\n",
       "75    User_5  User_11    0.204124\n",
       "178  User_15  User_19    0.204124\n",
       "152  User_11  User_19    0.204124\n",
       "31    User_2  User_15    0.223607"
      ]
     },
     "execution_count": 21,
     "metadata": {},
     "output_type": "execute_result"
    }
   ],
   "source": [
    "df_results.sort_values(by='similarity', ascending=True).head(10)"
   ]
  },
  {
   "cell_type": "code",
   "execution_count": 22,
   "metadata": {},
   "outputs": [
    {
     "data": {
      "text/html": [
       "<div>\n",
       "<style scoped>\n",
       "    .dataframe tbody tr th:only-of-type {\n",
       "        vertical-align: middle;\n",
       "    }\n",
       "\n",
       "    .dataframe tbody tr th {\n",
       "        vertical-align: top;\n",
       "    }\n",
       "\n",
       "    .dataframe thead th {\n",
       "        text-align: right;\n",
       "    }\n",
       "</style>\n",
       "<table border=\"1\" class=\"dataframe\">\n",
       "  <thead>\n",
       "    <tr style=\"text-align: right;\">\n",
       "      <th>user_2</th>\n",
       "      <th>User_2</th>\n",
       "      <th>User_3</th>\n",
       "      <th>User_4</th>\n",
       "      <th>User_5</th>\n",
       "      <th>User_6</th>\n",
       "      <th>User_7</th>\n",
       "      <th>User_8</th>\n",
       "      <th>User_9</th>\n",
       "      <th>User_10</th>\n",
       "      <th>User_11</th>\n",
       "      <th>User_12</th>\n",
       "      <th>User_13</th>\n",
       "      <th>User_14</th>\n",
       "      <th>User_15</th>\n",
       "      <th>User_16</th>\n",
       "      <th>User_17</th>\n",
       "      <th>User_18</th>\n",
       "      <th>User_19</th>\n",
       "      <th>User_20</th>\n",
       "    </tr>\n",
       "    <tr>\n",
       "      <th>user_1</th>\n",
       "      <th></th>\n",
       "      <th></th>\n",
       "      <th></th>\n",
       "      <th></th>\n",
       "      <th></th>\n",
       "      <th></th>\n",
       "      <th></th>\n",
       "      <th></th>\n",
       "      <th></th>\n",
       "      <th></th>\n",
       "      <th></th>\n",
       "      <th></th>\n",
       "      <th></th>\n",
       "      <th></th>\n",
       "      <th></th>\n",
       "      <th></th>\n",
       "      <th></th>\n",
       "      <th></th>\n",
       "      <th></th>\n",
       "    </tr>\n",
       "  </thead>\n",
       "  <tbody>\n",
       "    <tr>\n",
       "      <th>User_1</th>\n",
       "      <td>0.6</td>\n",
       "      <td>1.0</td>\n",
       "      <td>0.894427</td>\n",
       "      <td>0.730297</td>\n",
       "      <td>0.400000</td>\n",
       "      <td>0.676123</td>\n",
       "      <td>0.338062</td>\n",
       "      <td>0.474342</td>\n",
       "      <td>0.365148</td>\n",
       "      <td>0.223607</td>\n",
       "      <td>0.400000</td>\n",
       "      <td>0.447214</td>\n",
       "      <td>0.223607</td>\n",
       "      <td>0.447214</td>\n",
       "      <td>0.507093</td>\n",
       "      <td>0.507093</td>\n",
       "      <td>0.400000</td>\n",
       "      <td>0.547723</td>\n",
       "      <td>0.507093</td>\n",
       "    </tr>\n",
       "    <tr>\n",
       "      <th>User_2</th>\n",
       "      <td>NaN</td>\n",
       "      <td>0.6</td>\n",
       "      <td>0.670820</td>\n",
       "      <td>0.730297</td>\n",
       "      <td>0.200000</td>\n",
       "      <td>0.338062</td>\n",
       "      <td>0.338062</td>\n",
       "      <td>0.632456</td>\n",
       "      <td>0.547723</td>\n",
       "      <td>0.223607</td>\n",
       "      <td>0.200000</td>\n",
       "      <td>0.223607</td>\n",
       "      <td>0.223607</td>\n",
       "      <td>0.223607</td>\n",
       "      <td>0.507093</td>\n",
       "      <td>0.676123</td>\n",
       "      <td>0.400000</td>\n",
       "      <td>0.547723</td>\n",
       "      <td>0.676123</td>\n",
       "    </tr>\n",
       "    <tr>\n",
       "      <th>User_3</th>\n",
       "      <td>NaN</td>\n",
       "      <td>NaN</td>\n",
       "      <td>0.894427</td>\n",
       "      <td>0.730297</td>\n",
       "      <td>0.400000</td>\n",
       "      <td>0.676123</td>\n",
       "      <td>0.338062</td>\n",
       "      <td>0.474342</td>\n",
       "      <td>0.365148</td>\n",
       "      <td>0.223607</td>\n",
       "      <td>0.400000</td>\n",
       "      <td>0.447214</td>\n",
       "      <td>0.223607</td>\n",
       "      <td>0.447214</td>\n",
       "      <td>0.507093</td>\n",
       "      <td>0.507093</td>\n",
       "      <td>0.400000</td>\n",
       "      <td>0.547723</td>\n",
       "      <td>0.507093</td>\n",
       "    </tr>\n",
       "    <tr>\n",
       "      <th>User_4</th>\n",
       "      <td>NaN</td>\n",
       "      <td>NaN</td>\n",
       "      <td>NaN</td>\n",
       "      <td>0.612372</td>\n",
       "      <td>0.223607</td>\n",
       "      <td>0.566947</td>\n",
       "      <td>0.188982</td>\n",
       "      <td>0.530330</td>\n",
       "      <td>0.408248</td>\n",
       "      <td>0.250000</td>\n",
       "      <td>0.447214</td>\n",
       "      <td>0.500000</td>\n",
       "      <td>0.250000</td>\n",
       "      <td>0.500000</td>\n",
       "      <td>0.377964</td>\n",
       "      <td>0.377964</td>\n",
       "      <td>0.223607</td>\n",
       "      <td>0.408248</td>\n",
       "      <td>0.377964</td>\n",
       "    </tr>\n",
       "    <tr>\n",
       "      <th>User_5</th>\n",
       "      <td>NaN</td>\n",
       "      <td>NaN</td>\n",
       "      <td>NaN</td>\n",
       "      <td>NaN</td>\n",
       "      <td>0.365148</td>\n",
       "      <td>0.617213</td>\n",
       "      <td>0.462910</td>\n",
       "      <td>0.577350</td>\n",
       "      <td>0.500000</td>\n",
       "      <td>0.204124</td>\n",
       "      <td>0.365148</td>\n",
       "      <td>0.408248</td>\n",
       "      <td>0.204124</td>\n",
       "      <td>0.408248</td>\n",
       "      <td>0.462910</td>\n",
       "      <td>0.771517</td>\n",
       "      <td>0.365148</td>\n",
       "      <td>0.666667</td>\n",
       "      <td>0.771517</td>\n",
       "    </tr>\n",
       "    <tr>\n",
       "      <th>User_6</th>\n",
       "      <td>NaN</td>\n",
       "      <td>NaN</td>\n",
       "      <td>NaN</td>\n",
       "      <td>NaN</td>\n",
       "      <td>NaN</td>\n",
       "      <td>0.676123</td>\n",
       "      <td>0.845154</td>\n",
       "      <td>0.632456</td>\n",
       "      <td>0.730297</td>\n",
       "      <td>0.894427</td>\n",
       "      <td>0.600000</td>\n",
       "      <td>0.670820</td>\n",
       "      <td>0.894427</td>\n",
       "      <td>0.670820</td>\n",
       "      <td>0.676123</td>\n",
       "      <td>0.507093</td>\n",
       "      <td>0.600000</td>\n",
       "      <td>0.365148</td>\n",
       "      <td>0.507093</td>\n",
       "    </tr>\n",
       "    <tr>\n",
       "      <th>User_7</th>\n",
       "      <td>NaN</td>\n",
       "      <td>NaN</td>\n",
       "      <td>NaN</td>\n",
       "      <td>NaN</td>\n",
       "      <td>NaN</td>\n",
       "      <td>NaN</td>\n",
       "      <td>0.714286</td>\n",
       "      <td>0.668153</td>\n",
       "      <td>0.462910</td>\n",
       "      <td>0.566947</td>\n",
       "      <td>0.845154</td>\n",
       "      <td>0.566947</td>\n",
       "      <td>0.566947</td>\n",
       "      <td>0.755929</td>\n",
       "      <td>0.714286</td>\n",
       "      <td>0.571429</td>\n",
       "      <td>0.507093</td>\n",
       "      <td>0.617213</td>\n",
       "      <td>0.714286</td>\n",
       "    </tr>\n",
       "    <tr>\n",
       "      <th>User_8</th>\n",
       "      <td>NaN</td>\n",
       "      <td>NaN</td>\n",
       "      <td>NaN</td>\n",
       "      <td>NaN</td>\n",
       "      <td>NaN</td>\n",
       "      <td>NaN</td>\n",
       "      <td>NaN</td>\n",
       "      <td>0.801784</td>\n",
       "      <td>0.771517</td>\n",
       "      <td>0.755929</td>\n",
       "      <td>0.676123</td>\n",
       "      <td>0.566947</td>\n",
       "      <td>0.755929</td>\n",
       "      <td>0.566947</td>\n",
       "      <td>0.857143</td>\n",
       "      <td>0.714286</td>\n",
       "      <td>0.845154</td>\n",
       "      <td>0.617213</td>\n",
       "      <td>0.714286</td>\n",
       "    </tr>\n",
       "    <tr>\n",
       "      <th>User_9</th>\n",
       "      <td>NaN</td>\n",
       "      <td>NaN</td>\n",
       "      <td>NaN</td>\n",
       "      <td>NaN</td>\n",
       "      <td>NaN</td>\n",
       "      <td>NaN</td>\n",
       "      <td>NaN</td>\n",
       "      <td>NaN</td>\n",
       "      <td>0.866025</td>\n",
       "      <td>0.707107</td>\n",
       "      <td>0.790569</td>\n",
       "      <td>0.707107</td>\n",
       "      <td>0.707107</td>\n",
       "      <td>0.530330</td>\n",
       "      <td>0.801784</td>\n",
       "      <td>0.668153</td>\n",
       "      <td>0.632456</td>\n",
       "      <td>0.721688</td>\n",
       "      <td>0.668153</td>\n",
       "    </tr>\n",
       "    <tr>\n",
       "      <th>User_10</th>\n",
       "      <td>NaN</td>\n",
       "      <td>NaN</td>\n",
       "      <td>NaN</td>\n",
       "      <td>NaN</td>\n",
       "      <td>NaN</td>\n",
       "      <td>NaN</td>\n",
       "      <td>NaN</td>\n",
       "      <td>NaN</td>\n",
       "      <td>NaN</td>\n",
       "      <td>0.816497</td>\n",
       "      <td>0.547723</td>\n",
       "      <td>0.816497</td>\n",
       "      <td>0.816497</td>\n",
       "      <td>0.612372</td>\n",
       "      <td>0.617213</td>\n",
       "      <td>0.617213</td>\n",
       "      <td>0.547723</td>\n",
       "      <td>0.500000</td>\n",
       "      <td>0.462910</td>\n",
       "    </tr>\n",
       "    <tr>\n",
       "      <th>User_11</th>\n",
       "      <td>NaN</td>\n",
       "      <td>NaN</td>\n",
       "      <td>NaN</td>\n",
       "      <td>NaN</td>\n",
       "      <td>NaN</td>\n",
       "      <td>NaN</td>\n",
       "      <td>NaN</td>\n",
       "      <td>NaN</td>\n",
       "      <td>NaN</td>\n",
       "      <td>NaN</td>\n",
       "      <td>0.670820</td>\n",
       "      <td>0.750000</td>\n",
       "      <td>1.000000</td>\n",
       "      <td>0.750000</td>\n",
       "      <td>0.566947</td>\n",
       "      <td>0.377964</td>\n",
       "      <td>0.447214</td>\n",
       "      <td>0.204124</td>\n",
       "      <td>0.377964</td>\n",
       "    </tr>\n",
       "    <tr>\n",
       "      <th>User_12</th>\n",
       "      <td>NaN</td>\n",
       "      <td>NaN</td>\n",
       "      <td>NaN</td>\n",
       "      <td>NaN</td>\n",
       "      <td>NaN</td>\n",
       "      <td>NaN</td>\n",
       "      <td>NaN</td>\n",
       "      <td>NaN</td>\n",
       "      <td>NaN</td>\n",
       "      <td>NaN</td>\n",
       "      <td>NaN</td>\n",
       "      <td>0.670820</td>\n",
       "      <td>0.670820</td>\n",
       "      <td>0.670820</td>\n",
       "      <td>0.676123</td>\n",
       "      <td>0.338062</td>\n",
       "      <td>0.400000</td>\n",
       "      <td>0.547723</td>\n",
       "      <td>0.507093</td>\n",
       "    </tr>\n",
       "    <tr>\n",
       "      <th>User_13</th>\n",
       "      <td>NaN</td>\n",
       "      <td>NaN</td>\n",
       "      <td>NaN</td>\n",
       "      <td>NaN</td>\n",
       "      <td>NaN</td>\n",
       "      <td>NaN</td>\n",
       "      <td>NaN</td>\n",
       "      <td>NaN</td>\n",
       "      <td>NaN</td>\n",
       "      <td>NaN</td>\n",
       "      <td>NaN</td>\n",
       "      <td>NaN</td>\n",
       "      <td>0.750000</td>\n",
       "      <td>0.750000</td>\n",
       "      <td>0.377964</td>\n",
       "      <td>0.377964</td>\n",
       "      <td>0.223607</td>\n",
       "      <td>0.408248</td>\n",
       "      <td>0.188982</td>\n",
       "    </tr>\n",
       "    <tr>\n",
       "      <th>User_14</th>\n",
       "      <td>NaN</td>\n",
       "      <td>NaN</td>\n",
       "      <td>NaN</td>\n",
       "      <td>NaN</td>\n",
       "      <td>NaN</td>\n",
       "      <td>NaN</td>\n",
       "      <td>NaN</td>\n",
       "      <td>NaN</td>\n",
       "      <td>NaN</td>\n",
       "      <td>NaN</td>\n",
       "      <td>NaN</td>\n",
       "      <td>NaN</td>\n",
       "      <td>NaN</td>\n",
       "      <td>0.750000</td>\n",
       "      <td>0.566947</td>\n",
       "      <td>0.377964</td>\n",
       "      <td>0.447214</td>\n",
       "      <td>0.204124</td>\n",
       "      <td>0.377964</td>\n",
       "    </tr>\n",
       "    <tr>\n",
       "      <th>User_15</th>\n",
       "      <td>NaN</td>\n",
       "      <td>NaN</td>\n",
       "      <td>NaN</td>\n",
       "      <td>NaN</td>\n",
       "      <td>NaN</td>\n",
       "      <td>NaN</td>\n",
       "      <td>NaN</td>\n",
       "      <td>NaN</td>\n",
       "      <td>NaN</td>\n",
       "      <td>NaN</td>\n",
       "      <td>NaN</td>\n",
       "      <td>NaN</td>\n",
       "      <td>NaN</td>\n",
       "      <td>NaN</td>\n",
       "      <td>0.377964</td>\n",
       "      <td>0.377964</td>\n",
       "      <td>0.223607</td>\n",
       "      <td>0.204124</td>\n",
       "      <td>0.377964</td>\n",
       "    </tr>\n",
       "    <tr>\n",
       "      <th>User_16</th>\n",
       "      <td>NaN</td>\n",
       "      <td>NaN</td>\n",
       "      <td>NaN</td>\n",
       "      <td>NaN</td>\n",
       "      <td>NaN</td>\n",
       "      <td>NaN</td>\n",
       "      <td>NaN</td>\n",
       "      <td>NaN</td>\n",
       "      <td>NaN</td>\n",
       "      <td>NaN</td>\n",
       "      <td>NaN</td>\n",
       "      <td>NaN</td>\n",
       "      <td>NaN</td>\n",
       "      <td>NaN</td>\n",
       "      <td>NaN</td>\n",
       "      <td>0.571429</td>\n",
       "      <td>0.845154</td>\n",
       "      <td>0.771517</td>\n",
       "      <td>0.714286</td>\n",
       "    </tr>\n",
       "    <tr>\n",
       "      <th>User_17</th>\n",
       "      <td>NaN</td>\n",
       "      <td>NaN</td>\n",
       "      <td>NaN</td>\n",
       "      <td>NaN</td>\n",
       "      <td>NaN</td>\n",
       "      <td>NaN</td>\n",
       "      <td>NaN</td>\n",
       "      <td>NaN</td>\n",
       "      <td>NaN</td>\n",
       "      <td>NaN</td>\n",
       "      <td>NaN</td>\n",
       "      <td>NaN</td>\n",
       "      <td>NaN</td>\n",
       "      <td>NaN</td>\n",
       "      <td>NaN</td>\n",
       "      <td>NaN</td>\n",
       "      <td>0.676123</td>\n",
       "      <td>0.617213</td>\n",
       "      <td>0.857143</td>\n",
       "    </tr>\n",
       "    <tr>\n",
       "      <th>User_18</th>\n",
       "      <td>NaN</td>\n",
       "      <td>NaN</td>\n",
       "      <td>NaN</td>\n",
       "      <td>NaN</td>\n",
       "      <td>NaN</td>\n",
       "      <td>NaN</td>\n",
       "      <td>NaN</td>\n",
       "      <td>NaN</td>\n",
       "      <td>NaN</td>\n",
       "      <td>NaN</td>\n",
       "      <td>NaN</td>\n",
       "      <td>NaN</td>\n",
       "      <td>NaN</td>\n",
       "      <td>NaN</td>\n",
       "      <td>NaN</td>\n",
       "      <td>NaN</td>\n",
       "      <td>NaN</td>\n",
       "      <td>0.547723</td>\n",
       "      <td>0.676123</td>\n",
       "    </tr>\n",
       "    <tr>\n",
       "      <th>User_19</th>\n",
       "      <td>NaN</td>\n",
       "      <td>NaN</td>\n",
       "      <td>NaN</td>\n",
       "      <td>NaN</td>\n",
       "      <td>NaN</td>\n",
       "      <td>NaN</td>\n",
       "      <td>NaN</td>\n",
       "      <td>NaN</td>\n",
       "      <td>NaN</td>\n",
       "      <td>NaN</td>\n",
       "      <td>NaN</td>\n",
       "      <td>NaN</td>\n",
       "      <td>NaN</td>\n",
       "      <td>NaN</td>\n",
       "      <td>NaN</td>\n",
       "      <td>NaN</td>\n",
       "      <td>NaN</td>\n",
       "      <td>NaN</td>\n",
       "      <td>0.617213</td>\n",
       "    </tr>\n",
       "  </tbody>\n",
       "</table>\n",
       "</div>"
      ],
      "text/plain": [
       "user_2   User_2  User_3    User_4    User_5    User_6    User_7    User_8  \\\n",
       "user_1                                                                      \n",
       "User_1      0.6     1.0  0.894427  0.730297  0.400000  0.676123  0.338062   \n",
       "User_2      NaN     0.6  0.670820  0.730297  0.200000  0.338062  0.338062   \n",
       "User_3      NaN     NaN  0.894427  0.730297  0.400000  0.676123  0.338062   \n",
       "User_4      NaN     NaN       NaN  0.612372  0.223607  0.566947  0.188982   \n",
       "User_5      NaN     NaN       NaN       NaN  0.365148  0.617213  0.462910   \n",
       "User_6      NaN     NaN       NaN       NaN       NaN  0.676123  0.845154   \n",
       "User_7      NaN     NaN       NaN       NaN       NaN       NaN  0.714286   \n",
       "User_8      NaN     NaN       NaN       NaN       NaN       NaN       NaN   \n",
       "User_9      NaN     NaN       NaN       NaN       NaN       NaN       NaN   \n",
       "User_10     NaN     NaN       NaN       NaN       NaN       NaN       NaN   \n",
       "User_11     NaN     NaN       NaN       NaN       NaN       NaN       NaN   \n",
       "User_12     NaN     NaN       NaN       NaN       NaN       NaN       NaN   \n",
       "User_13     NaN     NaN       NaN       NaN       NaN       NaN       NaN   \n",
       "User_14     NaN     NaN       NaN       NaN       NaN       NaN       NaN   \n",
       "User_15     NaN     NaN       NaN       NaN       NaN       NaN       NaN   \n",
       "User_16     NaN     NaN       NaN       NaN       NaN       NaN       NaN   \n",
       "User_17     NaN     NaN       NaN       NaN       NaN       NaN       NaN   \n",
       "User_18     NaN     NaN       NaN       NaN       NaN       NaN       NaN   \n",
       "User_19     NaN     NaN       NaN       NaN       NaN       NaN       NaN   \n",
       "\n",
       "user_2     User_9   User_10   User_11   User_12   User_13   User_14   User_15  \\\n",
       "user_1                                                                          \n",
       "User_1   0.474342  0.365148  0.223607  0.400000  0.447214  0.223607  0.447214   \n",
       "User_2   0.632456  0.547723  0.223607  0.200000  0.223607  0.223607  0.223607   \n",
       "User_3   0.474342  0.365148  0.223607  0.400000  0.447214  0.223607  0.447214   \n",
       "User_4   0.530330  0.408248  0.250000  0.447214  0.500000  0.250000  0.500000   \n",
       "User_5   0.577350  0.500000  0.204124  0.365148  0.408248  0.204124  0.408248   \n",
       "User_6   0.632456  0.730297  0.894427  0.600000  0.670820  0.894427  0.670820   \n",
       "User_7   0.668153  0.462910  0.566947  0.845154  0.566947  0.566947  0.755929   \n",
       "User_8   0.801784  0.771517  0.755929  0.676123  0.566947  0.755929  0.566947   \n",
       "User_9        NaN  0.866025  0.707107  0.790569  0.707107  0.707107  0.530330   \n",
       "User_10       NaN       NaN  0.816497  0.547723  0.816497  0.816497  0.612372   \n",
       "User_11       NaN       NaN       NaN  0.670820  0.750000  1.000000  0.750000   \n",
       "User_12       NaN       NaN       NaN       NaN  0.670820  0.670820  0.670820   \n",
       "User_13       NaN       NaN       NaN       NaN       NaN  0.750000  0.750000   \n",
       "User_14       NaN       NaN       NaN       NaN       NaN       NaN  0.750000   \n",
       "User_15       NaN       NaN       NaN       NaN       NaN       NaN       NaN   \n",
       "User_16       NaN       NaN       NaN       NaN       NaN       NaN       NaN   \n",
       "User_17       NaN       NaN       NaN       NaN       NaN       NaN       NaN   \n",
       "User_18       NaN       NaN       NaN       NaN       NaN       NaN       NaN   \n",
       "User_19       NaN       NaN       NaN       NaN       NaN       NaN       NaN   \n",
       "\n",
       "user_2    User_16   User_17   User_18   User_19   User_20  \n",
       "user_1                                                     \n",
       "User_1   0.507093  0.507093  0.400000  0.547723  0.507093  \n",
       "User_2   0.507093  0.676123  0.400000  0.547723  0.676123  \n",
       "User_3   0.507093  0.507093  0.400000  0.547723  0.507093  \n",
       "User_4   0.377964  0.377964  0.223607  0.408248  0.377964  \n",
       "User_5   0.462910  0.771517  0.365148  0.666667  0.771517  \n",
       "User_6   0.676123  0.507093  0.600000  0.365148  0.507093  \n",
       "User_7   0.714286  0.571429  0.507093  0.617213  0.714286  \n",
       "User_8   0.857143  0.714286  0.845154  0.617213  0.714286  \n",
       "User_9   0.801784  0.668153  0.632456  0.721688  0.668153  \n",
       "User_10  0.617213  0.617213  0.547723  0.500000  0.462910  \n",
       "User_11  0.566947  0.377964  0.447214  0.204124  0.377964  \n",
       "User_12  0.676123  0.338062  0.400000  0.547723  0.507093  \n",
       "User_13  0.377964  0.377964  0.223607  0.408248  0.188982  \n",
       "User_14  0.566947  0.377964  0.447214  0.204124  0.377964  \n",
       "User_15  0.377964  0.377964  0.223607  0.204124  0.377964  \n",
       "User_16       NaN  0.571429  0.845154  0.771517  0.714286  \n",
       "User_17       NaN       NaN  0.676123  0.617213  0.857143  \n",
       "User_18       NaN       NaN       NaN  0.547723  0.676123  \n",
       "User_19       NaN       NaN       NaN       NaN  0.617213  "
      ]
     },
     "execution_count": 22,
     "metadata": {},
     "output_type": "execute_result"
    }
   ],
   "source": [
    "df_results_pivot = df_results.pivot(index='user_1', columns='user_2', values='similarity')\n",
    "# sorting df by user_id\n",
    "df_results_pivot.sort_index(axis=0, key=lambda x: x.str[5:].astype(int), inplace=True)\n",
    "df_results_pivot.sort_index(axis=1, key=lambda x: x.str[5:].astype(int), inplace=True)\n",
    "df_results_pivot"
   ]
  },
  {
   "cell_type": "code",
   "execution_count": 23,
   "metadata": {},
   "outputs": [
    {
     "data": {
      "application/vnd.plotly.v1+json": {
       "config": {
        "plotlyServerURL": "https://plot.ly"
       },
       "data": [
        {
         "coloraxis": "coloraxis",
         "hovertemplate": "user_2: %{x}<br>user_1: %{y}<br>color: %{z}<extra></extra>",
         "name": "0",
         "type": "heatmap",
         "x": [
          "User_2",
          "User_3",
          "User_4",
          "User_5",
          "User_6",
          "User_7",
          "User_8",
          "User_9",
          "User_10",
          "User_11",
          "User_12",
          "User_13",
          "User_14",
          "User_15",
          "User_16",
          "User_17",
          "User_18",
          "User_19",
          "User_20"
         ],
         "xaxis": "x",
         "y": [
          "User_1",
          "User_2",
          "User_3",
          "User_4",
          "User_5",
          "User_6",
          "User_7",
          "User_8",
          "User_9",
          "User_10",
          "User_11",
          "User_12",
          "User_13",
          "User_14",
          "User_15",
          "User_16",
          "User_17",
          "User_18",
          "User_19"
         ],
         "yaxis": "y",
         "z": [
          [
           0.5999999999999999,
           0.9999999999999998,
           0.8944271909999159,
           0.7302967433402214,
           0.3999999999999999,
           0.6761234037828131,
           0.33806170189140655,
           0.4743416490252569,
           0.3651483716701107,
           0.22360679774997896,
           0.3999999999999999,
           0.4472135954999579,
           0.22360679774997896,
           0.4472135954999579,
           0.5070925528371099,
           0.5070925528371099,
           0.3999999999999999,
           0.5477225575051661,
           0.5070925528371099
          ],
          [
           null,
           0.5999999999999999,
           0.6708203932499369,
           0.7302967433402214,
           0.19999999999999996,
           0.33806170189140655,
           0.33806170189140655,
           0.6324555320336759,
           0.5477225575051661,
           0.22360679774997896,
           0.19999999999999996,
           0.22360679774997896,
           0.22360679774997896,
           0.22360679774997896,
           0.5070925528371099,
           0.6761234037828131,
           0.3999999999999999,
           0.5477225575051661,
           0.6761234037828131
          ],
          [
           null,
           null,
           0.8944271909999159,
           0.7302967433402214,
           0.3999999999999999,
           0.6761234037828131,
           0.33806170189140655,
           0.4743416490252569,
           0.3651483716701107,
           0.22360679774997896,
           0.3999999999999999,
           0.4472135954999579,
           0.22360679774997896,
           0.4472135954999579,
           0.5070925528371099,
           0.5070925528371099,
           0.3999999999999999,
           0.5477225575051661,
           0.5070925528371099
          ],
          [
           null,
           null,
           null,
           0.6123724356957946,
           0.22360679774997896,
           0.5669467095138409,
           0.1889822365046136,
           0.5303300858899106,
           0.4082482904638631,
           0.25,
           0.4472135954999579,
           0.5,
           0.25,
           0.5,
           0.3779644730092272,
           0.3779644730092272,
           0.22360679774997896,
           0.4082482904638631,
           0.3779644730092272
          ],
          [
           null,
           null,
           null,
           null,
           0.3651483716701107,
           0.6172133998483676,
           0.4629100498862757,
           0.5773502691896258,
           0.5000000000000001,
           0.20412414523193154,
           0.3651483716701107,
           0.4082482904638631,
           0.20412414523193154,
           0.4082482904638631,
           0.4629100498862757,
           0.7715167498104595,
           0.3651483716701107,
           0.6666666666666667,
           0.7715167498104595
          ],
          [
           null,
           null,
           null,
           null,
           null,
           0.6761234037828131,
           0.8451542547285165,
           0.6324555320336759,
           0.7302967433402214,
           0.8944271909999159,
           0.5999999999999999,
           0.6708203932499369,
           0.8944271909999159,
           0.6708203932499369,
           0.6761234037828131,
           0.5070925528371099,
           0.5999999999999999,
           0.3651483716701107,
           0.5070925528371099
          ],
          [
           null,
           null,
           null,
           null,
           null,
           null,
           0.7142857142857142,
           0.6681531047810609,
           0.4629100498862757,
           0.5669467095138409,
           0.8451542547285165,
           0.5669467095138409,
           0.5669467095138409,
           0.7559289460184544,
           0.7142857142857142,
           0.5714285714285714,
           0.5070925528371099,
           0.6172133998483676,
           0.7142857142857142
          ],
          [
           null,
           null,
           null,
           null,
           null,
           null,
           null,
           0.8017837257372731,
           0.7715167498104595,
           0.7559289460184544,
           0.6761234037828131,
           0.5669467095138409,
           0.7559289460184544,
           0.5669467095138409,
           0.857142857142857,
           0.7142857142857142,
           0.8451542547285165,
           0.6172133998483676,
           0.7142857142857142
          ],
          [
           null,
           null,
           null,
           null,
           null,
           null,
           null,
           null,
           0.8660254037844387,
           0.7071067811865475,
           0.7905694150420948,
           0.7071067811865475,
           0.7071067811865475,
           0.5303300858899106,
           0.8017837257372731,
           0.6681531047810609,
           0.6324555320336759,
           0.7216878364870323,
           0.6681531047810609
          ],
          [
           null,
           null,
           null,
           null,
           null,
           null,
           null,
           null,
           null,
           0.8164965809277261,
           0.5477225575051661,
           0.8164965809277261,
           0.8164965809277261,
           0.6123724356957946,
           0.6172133998483676,
           0.6172133998483676,
           0.5477225575051661,
           0.5000000000000001,
           0.4629100498862757
          ],
          [
           null,
           null,
           null,
           null,
           null,
           null,
           null,
           null,
           null,
           null,
           0.6708203932499369,
           0.75,
           1,
           0.75,
           0.5669467095138409,
           0.3779644730092272,
           0.4472135954999579,
           0.20412414523193154,
           0.3779644730092272
          ],
          [
           null,
           null,
           null,
           null,
           null,
           null,
           null,
           null,
           null,
           null,
           null,
           0.6708203932499369,
           0.6708203932499369,
           0.6708203932499369,
           0.6761234037828131,
           0.33806170189140655,
           0.3999999999999999,
           0.5477225575051661,
           0.5070925528371099
          ],
          [
           null,
           null,
           null,
           null,
           null,
           null,
           null,
           null,
           null,
           null,
           null,
           null,
           0.75,
           0.75,
           0.3779644730092272,
           0.3779644730092272,
           0.22360679774997896,
           0.4082482904638631,
           0.1889822365046136
          ],
          [
           null,
           null,
           null,
           null,
           null,
           null,
           null,
           null,
           null,
           null,
           null,
           null,
           null,
           0.75,
           0.5669467095138409,
           0.3779644730092272,
           0.4472135954999579,
           0.20412414523193154,
           0.3779644730092272
          ],
          [
           null,
           null,
           null,
           null,
           null,
           null,
           null,
           null,
           null,
           null,
           null,
           null,
           null,
           null,
           0.3779644730092272,
           0.3779644730092272,
           0.22360679774997896,
           0.20412414523193154,
           0.3779644730092272
          ],
          [
           null,
           null,
           null,
           null,
           null,
           null,
           null,
           null,
           null,
           null,
           null,
           null,
           null,
           null,
           null,
           0.5714285714285714,
           0.8451542547285165,
           0.7715167498104595,
           0.7142857142857142
          ],
          [
           null,
           null,
           null,
           null,
           null,
           null,
           null,
           null,
           null,
           null,
           null,
           null,
           null,
           null,
           null,
           null,
           0.6761234037828131,
           0.6172133998483676,
           0.857142857142857
          ],
          [
           null,
           null,
           null,
           null,
           null,
           null,
           null,
           null,
           null,
           null,
           null,
           null,
           null,
           null,
           null,
           null,
           null,
           0.5477225575051661,
           0.6761234037828131
          ],
          [
           null,
           null,
           null,
           null,
           null,
           null,
           null,
           null,
           null,
           null,
           null,
           null,
           null,
           null,
           null,
           null,
           null,
           null,
           0.6172133998483676
          ]
         ]
        }
       ],
       "layout": {
        "coloraxis": {
         "colorscale": [
          [
           0,
           "#0d0887"
          ],
          [
           0.1111111111111111,
           "#46039f"
          ],
          [
           0.2222222222222222,
           "#7201a8"
          ],
          [
           0.3333333333333333,
           "#9c179e"
          ],
          [
           0.4444444444444444,
           "#bd3786"
          ],
          [
           0.5555555555555556,
           "#d8576b"
          ],
          [
           0.6666666666666666,
           "#ed7953"
          ],
          [
           0.7777777777777778,
           "#fb9f3a"
          ],
          [
           0.8888888888888888,
           "#fdca26"
          ],
          [
           1,
           "#f0f921"
          ]
         ]
        },
        "margin": {
         "t": 60
        },
        "template": {
         "data": {
          "bar": [
           {
            "error_x": {
             "color": "#2a3f5f"
            },
            "error_y": {
             "color": "#2a3f5f"
            },
            "marker": {
             "line": {
              "color": "#E5ECF6",
              "width": 0.5
             },
             "pattern": {
              "fillmode": "overlay",
              "size": 10,
              "solidity": 0.2
             }
            },
            "type": "bar"
           }
          ],
          "barpolar": [
           {
            "marker": {
             "line": {
              "color": "#E5ECF6",
              "width": 0.5
             },
             "pattern": {
              "fillmode": "overlay",
              "size": 10,
              "solidity": 0.2
             }
            },
            "type": "barpolar"
           }
          ],
          "carpet": [
           {
            "aaxis": {
             "endlinecolor": "#2a3f5f",
             "gridcolor": "white",
             "linecolor": "white",
             "minorgridcolor": "white",
             "startlinecolor": "#2a3f5f"
            },
            "baxis": {
             "endlinecolor": "#2a3f5f",
             "gridcolor": "white",
             "linecolor": "white",
             "minorgridcolor": "white",
             "startlinecolor": "#2a3f5f"
            },
            "type": "carpet"
           }
          ],
          "choropleth": [
           {
            "colorbar": {
             "outlinewidth": 0,
             "ticks": ""
            },
            "type": "choropleth"
           }
          ],
          "contour": [
           {
            "colorbar": {
             "outlinewidth": 0,
             "ticks": ""
            },
            "colorscale": [
             [
              0,
              "#0d0887"
             ],
             [
              0.1111111111111111,
              "#46039f"
             ],
             [
              0.2222222222222222,
              "#7201a8"
             ],
             [
              0.3333333333333333,
              "#9c179e"
             ],
             [
              0.4444444444444444,
              "#bd3786"
             ],
             [
              0.5555555555555556,
              "#d8576b"
             ],
             [
              0.6666666666666666,
              "#ed7953"
             ],
             [
              0.7777777777777778,
              "#fb9f3a"
             ],
             [
              0.8888888888888888,
              "#fdca26"
             ],
             [
              1,
              "#f0f921"
             ]
            ],
            "type": "contour"
           }
          ],
          "contourcarpet": [
           {
            "colorbar": {
             "outlinewidth": 0,
             "ticks": ""
            },
            "type": "contourcarpet"
           }
          ],
          "heatmap": [
           {
            "colorbar": {
             "outlinewidth": 0,
             "ticks": ""
            },
            "colorscale": [
             [
              0,
              "#0d0887"
             ],
             [
              0.1111111111111111,
              "#46039f"
             ],
             [
              0.2222222222222222,
              "#7201a8"
             ],
             [
              0.3333333333333333,
              "#9c179e"
             ],
             [
              0.4444444444444444,
              "#bd3786"
             ],
             [
              0.5555555555555556,
              "#d8576b"
             ],
             [
              0.6666666666666666,
              "#ed7953"
             ],
             [
              0.7777777777777778,
              "#fb9f3a"
             ],
             [
              0.8888888888888888,
              "#fdca26"
             ],
             [
              1,
              "#f0f921"
             ]
            ],
            "type": "heatmap"
           }
          ],
          "heatmapgl": [
           {
            "colorbar": {
             "outlinewidth": 0,
             "ticks": ""
            },
            "colorscale": [
             [
              0,
              "#0d0887"
             ],
             [
              0.1111111111111111,
              "#46039f"
             ],
             [
              0.2222222222222222,
              "#7201a8"
             ],
             [
              0.3333333333333333,
              "#9c179e"
             ],
             [
              0.4444444444444444,
              "#bd3786"
             ],
             [
              0.5555555555555556,
              "#d8576b"
             ],
             [
              0.6666666666666666,
              "#ed7953"
             ],
             [
              0.7777777777777778,
              "#fb9f3a"
             ],
             [
              0.8888888888888888,
              "#fdca26"
             ],
             [
              1,
              "#f0f921"
             ]
            ],
            "type": "heatmapgl"
           }
          ],
          "histogram": [
           {
            "marker": {
             "pattern": {
              "fillmode": "overlay",
              "size": 10,
              "solidity": 0.2
             }
            },
            "type": "histogram"
           }
          ],
          "histogram2d": [
           {
            "colorbar": {
             "outlinewidth": 0,
             "ticks": ""
            },
            "colorscale": [
             [
              0,
              "#0d0887"
             ],
             [
              0.1111111111111111,
              "#46039f"
             ],
             [
              0.2222222222222222,
              "#7201a8"
             ],
             [
              0.3333333333333333,
              "#9c179e"
             ],
             [
              0.4444444444444444,
              "#bd3786"
             ],
             [
              0.5555555555555556,
              "#d8576b"
             ],
             [
              0.6666666666666666,
              "#ed7953"
             ],
             [
              0.7777777777777778,
              "#fb9f3a"
             ],
             [
              0.8888888888888888,
              "#fdca26"
             ],
             [
              1,
              "#f0f921"
             ]
            ],
            "type": "histogram2d"
           }
          ],
          "histogram2dcontour": [
           {
            "colorbar": {
             "outlinewidth": 0,
             "ticks": ""
            },
            "colorscale": [
             [
              0,
              "#0d0887"
             ],
             [
              0.1111111111111111,
              "#46039f"
             ],
             [
              0.2222222222222222,
              "#7201a8"
             ],
             [
              0.3333333333333333,
              "#9c179e"
             ],
             [
              0.4444444444444444,
              "#bd3786"
             ],
             [
              0.5555555555555556,
              "#d8576b"
             ],
             [
              0.6666666666666666,
              "#ed7953"
             ],
             [
              0.7777777777777778,
              "#fb9f3a"
             ],
             [
              0.8888888888888888,
              "#fdca26"
             ],
             [
              1,
              "#f0f921"
             ]
            ],
            "type": "histogram2dcontour"
           }
          ],
          "mesh3d": [
           {
            "colorbar": {
             "outlinewidth": 0,
             "ticks": ""
            },
            "type": "mesh3d"
           }
          ],
          "parcoords": [
           {
            "line": {
             "colorbar": {
              "outlinewidth": 0,
              "ticks": ""
             }
            },
            "type": "parcoords"
           }
          ],
          "pie": [
           {
            "automargin": true,
            "type": "pie"
           }
          ],
          "scatter": [
           {
            "fillpattern": {
             "fillmode": "overlay",
             "size": 10,
             "solidity": 0.2
            },
            "type": "scatter"
           }
          ],
          "scatter3d": [
           {
            "line": {
             "colorbar": {
              "outlinewidth": 0,
              "ticks": ""
             }
            },
            "marker": {
             "colorbar": {
              "outlinewidth": 0,
              "ticks": ""
             }
            },
            "type": "scatter3d"
           }
          ],
          "scattercarpet": [
           {
            "marker": {
             "colorbar": {
              "outlinewidth": 0,
              "ticks": ""
             }
            },
            "type": "scattercarpet"
           }
          ],
          "scattergeo": [
           {
            "marker": {
             "colorbar": {
              "outlinewidth": 0,
              "ticks": ""
             }
            },
            "type": "scattergeo"
           }
          ],
          "scattergl": [
           {
            "marker": {
             "colorbar": {
              "outlinewidth": 0,
              "ticks": ""
             }
            },
            "type": "scattergl"
           }
          ],
          "scattermapbox": [
           {
            "marker": {
             "colorbar": {
              "outlinewidth": 0,
              "ticks": ""
             }
            },
            "type": "scattermapbox"
           }
          ],
          "scatterpolar": [
           {
            "marker": {
             "colorbar": {
              "outlinewidth": 0,
              "ticks": ""
             }
            },
            "type": "scatterpolar"
           }
          ],
          "scatterpolargl": [
           {
            "marker": {
             "colorbar": {
              "outlinewidth": 0,
              "ticks": ""
             }
            },
            "type": "scatterpolargl"
           }
          ],
          "scatterternary": [
           {
            "marker": {
             "colorbar": {
              "outlinewidth": 0,
              "ticks": ""
             }
            },
            "type": "scatterternary"
           }
          ],
          "surface": [
           {
            "colorbar": {
             "outlinewidth": 0,
             "ticks": ""
            },
            "colorscale": [
             [
              0,
              "#0d0887"
             ],
             [
              0.1111111111111111,
              "#46039f"
             ],
             [
              0.2222222222222222,
              "#7201a8"
             ],
             [
              0.3333333333333333,
              "#9c179e"
             ],
             [
              0.4444444444444444,
              "#bd3786"
             ],
             [
              0.5555555555555556,
              "#d8576b"
             ],
             [
              0.6666666666666666,
              "#ed7953"
             ],
             [
              0.7777777777777778,
              "#fb9f3a"
             ],
             [
              0.8888888888888888,
              "#fdca26"
             ],
             [
              1,
              "#f0f921"
             ]
            ],
            "type": "surface"
           }
          ],
          "table": [
           {
            "cells": {
             "fill": {
              "color": "#EBF0F8"
             },
             "line": {
              "color": "white"
             }
            },
            "header": {
             "fill": {
              "color": "#C8D4E3"
             },
             "line": {
              "color": "white"
             }
            },
            "type": "table"
           }
          ]
         },
         "layout": {
          "annotationdefaults": {
           "arrowcolor": "#2a3f5f",
           "arrowhead": 0,
           "arrowwidth": 1
          },
          "autotypenumbers": "strict",
          "coloraxis": {
           "colorbar": {
            "outlinewidth": 0,
            "ticks": ""
           }
          },
          "colorscale": {
           "diverging": [
            [
             0,
             "#8e0152"
            ],
            [
             0.1,
             "#c51b7d"
            ],
            [
             0.2,
             "#de77ae"
            ],
            [
             0.3,
             "#f1b6da"
            ],
            [
             0.4,
             "#fde0ef"
            ],
            [
             0.5,
             "#f7f7f7"
            ],
            [
             0.6,
             "#e6f5d0"
            ],
            [
             0.7,
             "#b8e186"
            ],
            [
             0.8,
             "#7fbc41"
            ],
            [
             0.9,
             "#4d9221"
            ],
            [
             1,
             "#276419"
            ]
           ],
           "sequential": [
            [
             0,
             "#0d0887"
            ],
            [
             0.1111111111111111,
             "#46039f"
            ],
            [
             0.2222222222222222,
             "#7201a8"
            ],
            [
             0.3333333333333333,
             "#9c179e"
            ],
            [
             0.4444444444444444,
             "#bd3786"
            ],
            [
             0.5555555555555556,
             "#d8576b"
            ],
            [
             0.6666666666666666,
             "#ed7953"
            ],
            [
             0.7777777777777778,
             "#fb9f3a"
            ],
            [
             0.8888888888888888,
             "#fdca26"
            ],
            [
             1,
             "#f0f921"
            ]
           ],
           "sequentialminus": [
            [
             0,
             "#0d0887"
            ],
            [
             0.1111111111111111,
             "#46039f"
            ],
            [
             0.2222222222222222,
             "#7201a8"
            ],
            [
             0.3333333333333333,
             "#9c179e"
            ],
            [
             0.4444444444444444,
             "#bd3786"
            ],
            [
             0.5555555555555556,
             "#d8576b"
            ],
            [
             0.6666666666666666,
             "#ed7953"
            ],
            [
             0.7777777777777778,
             "#fb9f3a"
            ],
            [
             0.8888888888888888,
             "#fdca26"
            ],
            [
             1,
             "#f0f921"
            ]
           ]
          },
          "colorway": [
           "#636efa",
           "#EF553B",
           "#00cc96",
           "#ab63fa",
           "#FFA15A",
           "#19d3f3",
           "#FF6692",
           "#B6E880",
           "#FF97FF",
           "#FECB52"
          ],
          "font": {
           "color": "#2a3f5f"
          },
          "geo": {
           "bgcolor": "white",
           "lakecolor": "white",
           "landcolor": "#E5ECF6",
           "showlakes": true,
           "showland": true,
           "subunitcolor": "white"
          },
          "hoverlabel": {
           "align": "left"
          },
          "hovermode": "closest",
          "mapbox": {
           "style": "light"
          },
          "paper_bgcolor": "white",
          "plot_bgcolor": "#E5ECF6",
          "polar": {
           "angularaxis": {
            "gridcolor": "white",
            "linecolor": "white",
            "ticks": ""
           },
           "bgcolor": "#E5ECF6",
           "radialaxis": {
            "gridcolor": "white",
            "linecolor": "white",
            "ticks": ""
           }
          },
          "scene": {
           "xaxis": {
            "backgroundcolor": "#E5ECF6",
            "gridcolor": "white",
            "gridwidth": 2,
            "linecolor": "white",
            "showbackground": true,
            "ticks": "",
            "zerolinecolor": "white"
           },
           "yaxis": {
            "backgroundcolor": "#E5ECF6",
            "gridcolor": "white",
            "gridwidth": 2,
            "linecolor": "white",
            "showbackground": true,
            "ticks": "",
            "zerolinecolor": "white"
           },
           "zaxis": {
            "backgroundcolor": "#E5ECF6",
            "gridcolor": "white",
            "gridwidth": 2,
            "linecolor": "white",
            "showbackground": true,
            "ticks": "",
            "zerolinecolor": "white"
           }
          },
          "shapedefaults": {
           "line": {
            "color": "#2a3f5f"
           }
          },
          "ternary": {
           "aaxis": {
            "gridcolor": "white",
            "linecolor": "white",
            "ticks": ""
           },
           "baxis": {
            "gridcolor": "white",
            "linecolor": "white",
            "ticks": ""
           },
           "bgcolor": "#E5ECF6",
           "caxis": {
            "gridcolor": "white",
            "linecolor": "white",
            "ticks": ""
           }
          },
          "title": {
           "x": 0.05
          },
          "xaxis": {
           "automargin": true,
           "gridcolor": "white",
           "linecolor": "white",
           "ticks": "",
           "title": {
            "standoff": 15
           },
           "zerolinecolor": "white",
           "zerolinewidth": 2
          },
          "yaxis": {
           "automargin": true,
           "gridcolor": "white",
           "linecolor": "white",
           "ticks": "",
           "title": {
            "standoff": 15
           },
           "zerolinecolor": "white",
           "zerolinewidth": 2
          }
         }
        },
        "xaxis": {
         "anchor": "y",
         "constrain": "domain",
         "domain": [
          0,
          1
         ],
         "scaleanchor": "y",
         "title": {
          "text": "user_2"
         }
        },
        "yaxis": {
         "anchor": "x",
         "autorange": "reversed",
         "constrain": "domain",
         "domain": [
          0,
          1
         ],
         "title": {
          "text": "user_1"
         }
        }
       }
      }
     },
     "metadata": {},
     "output_type": "display_data"
    }
   ],
   "source": [
    "fig = px.imshow(df_results_pivot)\n",
    "fig.show()"
   ]
  },
  {
   "cell_type": "markdown",
   "metadata": {},
   "source": [
    "Using ``squareform`` to get the full matrix"
   ]
  },
  {
   "cell_type": "code",
   "execution_count": 24,
   "metadata": {},
   "outputs": [
    {
     "data": {
      "image/png": "[encoded data removed]",
      "text/plain": [
       "<Figure size 640x480 with 2 Axes>"
      ]
     },
     "metadata": {},
     "output_type": "display_data"
    }
   ],
   "source": [
    "square_similarity = squareform(df_results['similarity'])\n",
    "\n",
    "# set the diagonal elements to 1\n",
    "np.fill_diagonal(square_similarity, 1)\n",
    "\n",
    "sns.heatmap(square_similarity, cmap='viridis')\n",
    "plt.xlabel('User ID')\n",
    "plt.ylabel('User ID')\n",
    "plt.title('Cosine Similarity')\n",
    "plt.show()"
   ]
  },
  {
   "cell_type": "code",
   "execution_count": 25,
   "metadata": {},
   "outputs": [
    {
     "data": {
      "image/png": "[encoded data removed]",
      "text/plain": [
       "<Figure size 640x480 with 2 Axes>"
      ]
     },
     "metadata": {},
     "output_type": "display_data"
    }
   ],
   "source": [
    "square_similarity = squareform(df_results['similarity'])\n",
    "\n",
    "# set the diagonal elements to 1\n",
    "np.fill_diagonal(square_similarity, 1)\n",
    "\n",
    "sns.heatmap(square_similarity, cmap='viridis')\n",
    "plt.xlabel('User ID')\n",
    "plt.ylabel('User ID')\n",
    "plt.title('Cosine Similarity')\n",
    "plt.show()"
   ]
  },
  {
   "cell_type": "markdown",
   "metadata": {},
   "source": [
    "## Using ``scipy.spatial.distance.pdist``"
   ]
  },
  {
   "cell_type": "code",
   "execution_count": 26,
   "metadata": {},
   "outputs": [
    {
     "data": {
      "text/plain": [
       "array([4.00000000e-01, 2.22044605e-16, 1.05572809e-01, 2.69703257e-01,\n",
       "       6.00000000e-01, 3.23876596e-01, 6.61938298e-01, 5.25658351e-01,\n",
       "       6.34851628e-01, 7.76393202e-01, 6.00000000e-01, 5.52786405e-01,\n",
       "       7.76393202e-01, 5.52786405e-01, 4.92907447e-01, 4.92907447e-01,\n",
       "       6.00000000e-01, 4.52277442e-01, 4.92907447e-01, 4.00000000e-01,\n",
       "       3.29179607e-01, 2.69703257e-01, 8.00000000e-01, 6.61938298e-01,\n",
       "       6.61938298e-01, 3.67544468e-01, 4.52277442e-01, 7.76393202e-01,\n",
       "       8.00000000e-01, 7.76393202e-01, 7.76393202e-01, 7.76393202e-01,\n",
       "       4.92907447e-01, 3.23876596e-01, 6.00000000e-01, 4.52277442e-01,\n",
       "       3.23876596e-01, 1.05572809e-01, 2.69703257e-01, 6.00000000e-01,\n",
       "       3.23876596e-01, 6.61938298e-01, 5.25658351e-01, 6.34851628e-01,\n",
       "       7.76393202e-01, 6.00000000e-01, 5.52786405e-01, 7.76393202e-01,\n",
       "       5.52786405e-01, 4.92907447e-01, 4.92907447e-01, 6.00000000e-01,\n",
       "       4.52277442e-01, 4.92907447e-01, 3.87627564e-01, 7.76393202e-01,\n",
       "       4.33053290e-01, 8.11017763e-01, 4.69669914e-01, 5.91751710e-01,\n",
       "       7.50000000e-01, 5.52786405e-01, 5.00000000e-01, 7.50000000e-01,\n",
       "       5.00000000e-01, 6.22035527e-01, 6.22035527e-01, 7.76393202e-01,\n",
       "       5.91751710e-01, 6.22035527e-01, 6.34851628e-01, 3.82786600e-01,\n",
       "       5.37089950e-01, 4.22649731e-01, 5.00000000e-01, 7.95875855e-01,\n",
       "       6.34851628e-01, 5.91751710e-01, 7.95875855e-01, 5.91751710e-01,\n",
       "       5.37089950e-01, 2.28483250e-01, 6.34851628e-01, 3.33333333e-01,\n",
       "       2.28483250e-01, 3.23876596e-01, 1.54845745e-01, 3.67544468e-01,\n",
       "       2.69703257e-01, 1.05572809e-01, 4.00000000e-01, 3.29179607e-01,\n",
       "       1.05572809e-01, 3.29179607e-01, 3.23876596e-01, 4.92907447e-01,\n",
       "       4.00000000e-01, 6.34851628e-01, 4.92907447e-01, 2.85714286e-01,\n",
       "       3.31846895e-01, 5.37089950e-01, 4.33053290e-01, 1.54845745e-01,\n",
       "       4.33053290e-01, 4.33053290e-01, 2.44071054e-01, 2.85714286e-01,\n",
       "       4.28571429e-01, 4.92907447e-01, 3.82786600e-01, 2.85714286e-01,\n",
       "       1.98216274e-01, 2.28483250e-01, 2.44071054e-01, 3.23876596e-01,\n",
       "       4.33053290e-01, 2.44071054e-01, 4.33053290e-01, 1.42857143e-01,\n",
       "       2.85714286e-01, 1.54845745e-01, 3.82786600e-01, 2.85714286e-01,\n",
       "       1.33974596e-01, 2.92893219e-01, 2.09430585e-01, 2.92893219e-01,\n",
       "       2.92893219e-01, 4.69669914e-01, 1.98216274e-01, 3.31846895e-01,\n",
       "       3.67544468e-01, 2.78312164e-01, 3.31846895e-01, 1.83503419e-01,\n",
       "       4.52277442e-01, 1.83503419e-01, 1.83503419e-01, 3.87627564e-01,\n",
       "       3.82786600e-01, 3.82786600e-01, 4.52277442e-01, 5.00000000e-01,\n",
       "       5.37089950e-01, 3.29179607e-01, 2.50000000e-01, 0.00000000e+00,\n",
       "       2.50000000e-01, 4.33053290e-01, 6.22035527e-01, 5.52786405e-01,\n",
       "       7.95875855e-01, 6.22035527e-01, 3.29179607e-01, 3.29179607e-01,\n",
       "       3.29179607e-01, 3.23876596e-01, 6.61938298e-01, 6.00000000e-01,\n",
       "       4.52277442e-01, 4.92907447e-01, 2.50000000e-01, 2.50000000e-01,\n",
       "       6.22035527e-01, 6.22035527e-01, 7.76393202e-01, 5.91751710e-01,\n",
       "       8.11017763e-01, 2.50000000e-01, 4.33053290e-01, 6.22035527e-01,\n",
       "       5.52786405e-01, 7.95875855e-01, 6.22035527e-01, 6.22035527e-01,\n",
       "       6.22035527e-01, 7.76393202e-01, 7.95875855e-01, 6.22035527e-01,\n",
       "       4.28571429e-01, 1.54845745e-01, 2.28483250e-01, 2.85714286e-01,\n",
       "       3.23876596e-01, 3.82786600e-01, 1.42857143e-01, 4.52277442e-01,\n",
       "       3.23876596e-01, 3.82786600e-01])"
      ]
     },
     "execution_count": 26,
     "metadata": {},
     "output_type": "execute_result"
    }
   ],
   "source": [
    "from scipy.spatial.distance import pdist, squareform\n",
    "\n",
    "pdist(df.values[0:2,1:], metric='cosine')\n",
    "\n",
    "# similarity matrix of all pairs\n",
    "similarity_matrix = pdist(df.values[:,1:], metric='cosine')\n",
    "similarity_matrix"
   ]
  },
  {
   "cell_type": "code",
   "execution_count": 27,
   "metadata": {},
   "outputs": [
    {
     "data": {
      "image/png": "[encoded data removed]",
      "text/plain": [
       "<Figure size 640x480 with 1 Axes>"
      ]
     },
     "metadata": {},
     "output_type": "display_data"
    }
   ],
   "source": [
    "sns.histplot(similarity_matrix, bins=20)\n",
    "plt.xlabel('Pdist')\n",
    "plt.grid(axis='y')\n",
    "plt.show()"
   ]
  },
  {
   "cell_type": "code",
   "execution_count": 28,
   "metadata": {},
   "outputs": [
    {
     "data": {
      "text/plain": [
       "array([4.00000000e-01, 2.22044605e-16, 1.05572809e-01, 2.69703257e-01,\n",
       "       6.00000000e-01, 3.23876596e-01, 6.61938298e-01, 5.25658351e-01,\n",
       "       6.34851628e-01, 7.76393202e-01, 6.00000000e-01, 5.52786405e-01,\n",
       "       7.76393202e-01, 5.52786405e-01, 4.92907447e-01, 4.92907447e-01,\n",
       "       6.00000000e-01, 4.52277442e-01, 4.92907447e-01, 4.00000000e-01,\n",
       "       3.29179607e-01, 2.69703257e-01, 8.00000000e-01, 6.61938298e-01,\n",
       "       6.61938298e-01, 3.67544468e-01, 4.52277442e-01, 7.76393202e-01,\n",
       "       8.00000000e-01, 7.76393202e-01, 7.76393202e-01, 7.76393202e-01,\n",
       "       4.92907447e-01, 3.23876596e-01, 6.00000000e-01, 4.52277442e-01,\n",
       "       3.23876596e-01, 1.05572809e-01, 2.69703257e-01, 6.00000000e-01,\n",
       "       3.23876596e-01, 6.61938298e-01, 5.25658351e-01, 6.34851628e-01,\n",
       "       7.76393202e-01, 6.00000000e-01, 5.52786405e-01, 7.76393202e-01,\n",
       "       5.52786405e-01, 4.92907447e-01, 4.92907447e-01, 6.00000000e-01,\n",
       "       4.52277442e-01, 4.92907447e-01, 3.87627564e-01, 7.76393202e-01,\n",
       "       4.33053290e-01, 8.11017763e-01, 4.69669914e-01, 5.91751710e-01,\n",
       "       7.50000000e-01, 5.52786405e-01, 5.00000000e-01, 7.50000000e-01,\n",
       "       5.00000000e-01, 6.22035527e-01, 6.22035527e-01, 7.76393202e-01,\n",
       "       5.91751710e-01, 6.22035527e-01, 6.34851628e-01, 3.82786600e-01,\n",
       "       5.37089950e-01, 4.22649731e-01, 5.00000000e-01, 7.95875855e-01,\n",
       "       6.34851628e-01, 5.91751710e-01, 7.95875855e-01, 5.91751710e-01,\n",
       "       5.37089950e-01, 2.28483250e-01, 6.34851628e-01, 3.33333333e-01,\n",
       "       2.28483250e-01, 3.23876596e-01, 1.54845745e-01, 3.67544468e-01,\n",
       "       2.69703257e-01, 1.05572809e-01, 4.00000000e-01, 3.29179607e-01,\n",
       "       1.05572809e-01, 3.29179607e-01, 3.23876596e-01, 4.92907447e-01,\n",
       "       4.00000000e-01, 6.34851628e-01, 4.92907447e-01, 2.85714286e-01,\n",
       "       3.31846895e-01, 5.37089950e-01, 4.33053290e-01, 1.54845745e-01,\n",
       "       4.33053290e-01, 4.33053290e-01, 2.44071054e-01, 2.85714286e-01,\n",
       "       4.28571429e-01, 4.92907447e-01, 3.82786600e-01, 2.85714286e-01,\n",
       "       1.98216274e-01, 2.28483250e-01, 2.44071054e-01, 3.23876596e-01,\n",
       "       4.33053290e-01, 2.44071054e-01, 4.33053290e-01, 1.42857143e-01,\n",
       "       2.85714286e-01, 1.54845745e-01, 3.82786600e-01, 2.85714286e-01,\n",
       "       1.33974596e-01, 2.92893219e-01, 2.09430585e-01, 2.92893219e-01,\n",
       "       2.92893219e-01, 4.69669914e-01, 1.98216274e-01, 3.31846895e-01,\n",
       "       3.67544468e-01, 2.78312164e-01, 3.31846895e-01, 1.83503419e-01,\n",
       "       4.52277442e-01, 1.83503419e-01, 1.83503419e-01, 3.87627564e-01,\n",
       "       3.82786600e-01, 3.82786600e-01, 4.52277442e-01, 5.00000000e-01,\n",
       "       5.37089950e-01, 3.29179607e-01, 2.50000000e-01, 0.00000000e+00,\n",
       "       2.50000000e-01, 4.33053290e-01, 6.22035527e-01, 5.52786405e-01,\n",
       "       7.95875855e-01, 6.22035527e-01, 3.29179607e-01, 3.29179607e-01,\n",
       "       3.29179607e-01, 3.23876596e-01, 6.61938298e-01, 6.00000000e-01,\n",
       "       4.52277442e-01, 4.92907447e-01, 2.50000000e-01, 2.50000000e-01,\n",
       "       6.22035527e-01, 6.22035527e-01, 7.76393202e-01, 5.91751710e-01,\n",
       "       8.11017763e-01, 2.50000000e-01, 4.33053290e-01, 6.22035527e-01,\n",
       "       5.52786405e-01, 7.95875855e-01, 6.22035527e-01, 6.22035527e-01,\n",
       "       6.22035527e-01, 7.76393202e-01, 7.95875855e-01, 6.22035527e-01,\n",
       "       4.28571429e-01, 1.54845745e-01, 2.28483250e-01, 2.85714286e-01,\n",
       "       3.23876596e-01, 3.82786600e-01, 1.42857143e-01, 4.52277442e-01,\n",
       "       3.23876596e-01, 3.82786600e-01])"
      ]
     },
     "execution_count": 28,
     "metadata": {},
     "output_type": "execute_result"
    }
   ],
   "source": [
    "similarity_matrix"
   ]
  },
  {
   "cell_type": "code",
   "execution_count": 29,
   "metadata": {},
   "outputs": [
    {
     "data": {
      "image/png": "[encoded data removed]",
      "text/plain": [
       "<Figure size 640x480 with 2 Axes>"
      ]
     },
     "metadata": {},
     "output_type": "display_data"
    }
   ],
   "source": [
    "sns.heatmap(squareform(similarity_matrix), cmap='viridis')\n",
    "plt.show()\n"
   ]
  },
  {
   "cell_type": "markdown",
   "metadata": {},
   "source": []
  }
 ],
 "metadata": {
  "kernelspec": {
   "display_name": "base",
   "language": "python",
   "name": "python3"
  },
  "language_info": {
   "codemirror_mode": {
    "name": "ipython",
    "version": 3
   },
   "file_extension": ".py",
   "mimetype": "text/x-python",
   "name": "python",
   "nbconvert_exporter": "python",
   "pygments_lexer": "ipython3",
   "version": "3.11.4"
  }
 },
 "nbformat": 4,
 "nbformat_minor": 2
}
